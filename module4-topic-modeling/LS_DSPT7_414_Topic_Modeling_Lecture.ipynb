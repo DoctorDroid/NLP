{
 "cells": [
  {
   "cell_type": "markdown",
   "metadata": {
    "colab_type": "text",
    "id": "cOMBkFKn6uEK"
   },
   "source": [
    "# Topic Modeling (Prepare)\n",
    "\n",
    "On Monday we talked about summarizing your documents using just token counts. Today, we're going to learn about a much more sophisticated approach - learning 'topics' from documents. Topics are a latent structure. They are not directly observable in the data, but we know they're there by reading them.\n",
    "\n",
    "> **latent**: existing but not yet developed or manifest; hidden or concealed.\n",
    "\n",
    "## Use Cases\n",
    "Primary use case: what the hell are your documents about? Who might want to know that in industry - \n",
    "* Identifying common themes in customer reviews\n",
    "* Discovering the needle in a haystack \n",
    "* Monitoring communications (Email - State Department) \n",
    "\n",
    "## Learning Objectives\n",
    "*At the end of the lesson you should be able to:*\n",
    "* Part 0: Warm-Up\n",
    "* Part 1: Describe how an LDA Model works\n",
    "* Part 2: Estimate a LDA Model with Gensim\n",
    "* Part 3: Interpret LDA results & Select the appropriate number of topics"
   ]
  },
  {
   "cell_type": "markdown",
   "metadata": {
    "colab_type": "text",
    "id": "cxH0cRGX6uEL"
   },
   "source": [
    "# Part 0: Warm-Up\n",
    "How do we do a grid search? "
   ]
  },
  {
   "cell_type": "code",
   "execution_count": 56,
   "metadata": {
    "colab": {},
    "colab_type": "code",
    "id": "FFjplZ7r3Lyk"
   },
   "outputs": [],
   "source": [
    "import warnings\n",
    "warnings.filterwarnings(\"ignore\")"
   ]
  },
  {
   "cell_type": "code",
   "execution_count": 57,
   "metadata": {
    "colab": {},
    "colab_type": "code",
    "id": "rnyNg8sQ6uEL"
   },
   "outputs": [],
   "source": [
    "import pandas as pd\n",
    "from sklearn.datasets import fetch_20newsgroups\n",
    "from sklearn.ensemble import RandomForestClassifier\n",
    "from sklearn.model_selection import GridSearchCV\n",
    "from sklearn.feature_extraction.text import TfidfVectorizer"
   ]
  },
  {
   "cell_type": "code",
   "execution_count": 58,
   "metadata": {
    "colab": {},
    "colab_type": "code",
    "id": "boKWVkRz6uEO"
   },
   "outputs": [
    {
     "name": "stdout",
     "output_type": "stream",
     "text": [
      "Training Samples: 11314\n",
      "Testing Samples: 7532\n"
     ]
    }
   ],
   "source": [
    "# Load training data\n",
    "newsgroups_train = fetch_20newsgroups(subset='train', \n",
    "                                      remove=('headers', 'footers', 'quotes'))\n",
    "\n",
    "# Load testing data\n",
    "newsgroups_test = fetch_20newsgroups(subset='test', \n",
    "                                     remove=('headers', 'footers', 'quotes'))\n",
    "\n",
    "print(f'Training Samples: {len(newsgroups_train.data)}')\n",
    "print(f'Testing Samples: {len(newsgroups_test.data)}')"
   ]
  },
  {
   "cell_type": "code",
   "execution_count": 59,
   "metadata": {
    "colab": {},
    "colab_type": "code",
    "id": "hPpukADi7Ofv"
   },
   "outputs": [
    {
     "data": {
      "text/plain": [
       "dict_keys(['data', 'filenames', 'target_names', 'target', 'DESCR'])"
      ]
     },
     "execution_count": 59,
     "metadata": {},
     "output_type": "execute_result"
    }
   ],
   "source": [
    "newsgroups_train.keys()"
   ]
  },
  {
   "cell_type": "code",
   "execution_count": 60,
   "metadata": {
    "colab": {},
    "colab_type": "code",
    "id": "g9Jhb3j-7_e2"
   },
   "outputs": [
    {
     "data": {
      "text/plain": [
       "['alt.atheism',\n",
       " 'comp.graphics',\n",
       " 'comp.os.ms-windows.misc',\n",
       " 'comp.sys.ibm.pc.hardware',\n",
       " 'comp.sys.mac.hardware',\n",
       " 'comp.windows.x',\n",
       " 'misc.forsale',\n",
       " 'rec.autos',\n",
       " 'rec.motorcycles',\n",
       " 'rec.sport.baseball',\n",
       " 'rec.sport.hockey',\n",
       " 'sci.crypt',\n",
       " 'sci.electronics',\n",
       " 'sci.med',\n",
       " 'sci.space',\n",
       " 'soc.religion.christian',\n",
       " 'talk.politics.guns',\n",
       " 'talk.politics.mideast',\n",
       " 'talk.politics.misc',\n",
       " 'talk.religion.misc']"
      ]
     },
     "execution_count": 60,
     "metadata": {},
     "output_type": "execute_result"
    }
   ],
   "source": [
    "newsgroups_train['target_names']"
   ]
  },
  {
   "cell_type": "code",
   "execution_count": 61,
   "metadata": {
    "colab": {},
    "colab_type": "code",
    "id": "JbVoIoMm8HbR"
   },
   "outputs": [
    {
     "data": {
      "text/plain": [
       "\"Anybody seen mouse cursor distortion running the Diamond 1024x768x256 driver?\\nSorry, don't know the version of the driver (no indication in the menus) but it's a recently\\ndelivered Gateway system.  Am going to try the latest drivers from Diamond BBS but wondered\\nif anyone else had seen this.\\n\\npost or email\""
      ]
     },
     "execution_count": 61,
     "metadata": {},
     "output_type": "execute_result"
    }
   ],
   "source": [
    "newsgroups_train['data'][1000]"
   ]
  },
  {
   "cell_type": "markdown",
   "metadata": {
    "colab_type": "text",
    "id": "w-39zg9a6uEQ"
   },
   "source": [
    "### GridSearch on Just Classifier\n",
    "* Fit the vectorizer and prepare BEFORE it goes into the gridsearch"
   ]
  },
  {
   "cell_type": "code",
   "execution_count": 62,
   "metadata": {
    "colab": {},
    "colab_type": "code",
    "id": "2q3NmHEo6uEQ"
   },
   "outputs": [
    {
     "name": "stdout",
     "output_type": "stream",
     "text": [
      "(11314, 18101)\n"
     ]
    }
   ],
   "source": [
    "# Instantiate vectorizer\n",
    "vect = TfidfVectorizer(min_df=5)\n",
    "\n",
    "# Transform the training data\n",
    "X_train = vect.fit_transform(newsgroups_train['data'])\n",
    "print(X_train.shape)"
   ]
  },
  {
   "cell_type": "code",
   "execution_count": 63,
   "metadata": {
    "colab": {},
    "colab_type": "code",
    "id": "7OfA7KNQ6uEU"
   },
   "outputs": [
    {
     "name": "stdout",
     "output_type": "stream",
     "text": [
      "Fitting 5 folds for each of 4 candidates, totalling 20 fits\n"
     ]
    },
    {
     "name": "stderr",
     "output_type": "stream",
     "text": [
      "[Parallel(n_jobs=-1)]: Using backend LokyBackend with 12 concurrent workers.\n",
      "[Parallel(n_jobs=-1)]: Done  18 out of  20 | elapsed:   44.3s remaining:    4.8s\n",
      "[Parallel(n_jobs=-1)]: Done  20 out of  20 | elapsed:   46.4s finished\n"
     ]
    },
    {
     "data": {
      "text/plain": [
       "GridSearchCV(cv=5, error_score=nan,\n",
       "             estimator=RandomForestClassifier(bootstrap=True, ccp_alpha=0.0,\n",
       "                                              class_weight=None,\n",
       "                                              criterion='gini', max_depth=None,\n",
       "                                              max_features='auto',\n",
       "                                              max_leaf_nodes=None,\n",
       "                                              max_samples=None,\n",
       "                                              min_impurity_decrease=0.0,\n",
       "                                              min_impurity_split=None,\n",
       "                                              min_samples_leaf=1,\n",
       "                                              min_samples_split=2,\n",
       "                                              min_weight_fraction_leaf=0.0,\n",
       "                                              n_estimators=100, n_jobs=None,\n",
       "                                              oob_score=False,\n",
       "                                              random_state=None, verbose=0,\n",
       "                                              warm_start=False),\n",
       "             iid='deprecated', n_jobs=-1,\n",
       "             param_grid={'min_samples_leaf': [1, 2, 5, 10]},\n",
       "             pre_dispatch='2*n_jobs', refit=True, return_train_score=False,\n",
       "             scoring=None, verbose=1)"
      ]
     },
     "execution_count": 63,
     "metadata": {},
     "output_type": "execute_result"
    }
   ],
   "source": [
    "params_1 = {\n",
    "    'min_samples_leaf': [1, 2, 5, 10]\n",
    "}\n",
    "\n",
    "# Instantiate classifier\n",
    "clf = RandomForestClassifier()\n",
    "\n",
    "# GridSearch\n",
    "gs1 = GridSearchCV(clf, params_1, cv=5, n_jobs=-1, verbose=1)\n",
    "gs1.fit(X_train, newsgroups_train['target'])"
   ]
  },
  {
   "cell_type": "code",
   "execution_count": 64,
   "metadata": {},
   "outputs": [
    {
     "data": {
      "text/plain": [
       "0.6407992254595025"
      ]
     },
     "execution_count": 64,
     "metadata": {},
     "output_type": "execute_result"
    }
   ],
   "source": [
    "gs1.best_score_"
   ]
  },
  {
   "cell_type": "code",
   "execution_count": 65,
   "metadata": {},
   "outputs": [
    {
     "data": {
      "text/plain": [
       "{'min_samples_leaf': 2}"
      ]
     },
     "execution_count": 65,
     "metadata": {},
     "output_type": "execute_result"
    }
   ],
   "source": [
    "gs1.best_params_"
   ]
  },
  {
   "cell_type": "code",
   "execution_count": 66,
   "metadata": {
    "colab": {},
    "colab_type": "code",
    "id": "gDkMaXvG83Zt"
   },
   "outputs": [
    {
     "data": {
      "text/plain": [
       "(1, 18101)"
      ]
     },
     "execution_count": 66,
     "metadata": {},
     "output_type": "execute_result"
    }
   ],
   "source": [
    "test_sample = vect.transform([\"The new york yankees are the best team in the region.\"])\n",
    "test_sample.shape"
   ]
  },
  {
   "cell_type": "code",
   "execution_count": 67,
   "metadata": {
    "colab": {},
    "colab_type": "code",
    "id": "cMq_hw5W6uEX"
   },
   "outputs": [
    {
     "data": {
      "text/plain": [
       "9"
      ]
     },
     "execution_count": 67,
     "metadata": {},
     "output_type": "execute_result"
    }
   ],
   "source": [
    "gs1.predict(test_sample)[0]"
   ]
  },
  {
   "cell_type": "code",
   "execution_count": 68,
   "metadata": {},
   "outputs": [
    {
     "data": {
      "text/plain": [
       "'rec.sport.baseball'"
      ]
     },
     "execution_count": 68,
     "metadata": {},
     "output_type": "execute_result"
    }
   ],
   "source": [
    "newsgroups_train['target_names'][9]"
   ]
  },
  {
   "cell_type": "markdown",
   "metadata": {
    "colab_type": "text",
    "id": "WdVTuXKl6uEZ"
   },
   "source": [
    "### GridSearch with BOTH the Vectoizer & Classifier"
   ]
  },
  {
   "cell_type": "code",
   "execution_count": 69,
   "metadata": {
    "colab": {},
    "colab_type": "code",
    "id": "97TjUtoI6uEZ"
   },
   "outputs": [
    {
     "name": "stdout",
     "output_type": "stream",
     "text": [
      "Fitting 5 folds for each of 8 candidates, totalling 40 fits\n"
     ]
    },
    {
     "name": "stderr",
     "output_type": "stream",
     "text": [
      "[Parallel(n_jobs=-1)]: Using backend LokyBackend with 12 concurrent workers.\n",
      "[Parallel(n_jobs=-1)]: Done  40 out of  40 | elapsed:  2.1min finished\n"
     ]
    },
    {
     "data": {
      "text/plain": [
       "GridSearchCV(cv=5, error_score=nan,\n",
       "             estimator=Pipeline(memory=None,\n",
       "                                steps=[('vect',\n",
       "                                        TfidfVectorizer(analyzer='word',\n",
       "                                                        binary=False,\n",
       "                                                        decode_error='strict',\n",
       "                                                        dtype=<class 'numpy.float64'>,\n",
       "                                                        encoding='utf-8',\n",
       "                                                        input='content',\n",
       "                                                        lowercase=True,\n",
       "                                                        max_df=1.0,\n",
       "                                                        max_features=None,\n",
       "                                                        min_df=1,\n",
       "                                                        ngram_range=(1, 1),\n",
       "                                                        norm='l2',\n",
       "                                                        preprocessor=None,\n",
       "                                                        smooth_idf=True,\n",
       "                                                        stop_words=None,\n",
       "                                                        strip_acce...\n",
       "                                                               min_samples_split=2,\n",
       "                                                               min_weight_fraction_leaf=0.0,\n",
       "                                                               n_estimators=100,\n",
       "                                                               n_jobs=None,\n",
       "                                                               oob_score=False,\n",
       "                                                               random_state=42,\n",
       "                                                               verbose=0,\n",
       "                                                               warm_start=False))],\n",
       "                                verbose=False),\n",
       "             iid='deprecated', n_jobs=-1,\n",
       "             param_grid={'clf__max_depth': (10, None), 'vect__min_df': (2, 5),\n",
       "                         'vect__stop_words': (None, 'english')},\n",
       "             pre_dispatch='2*n_jobs', refit=True, return_train_score=False,\n",
       "             scoring=None, verbose=1)"
      ]
     },
     "execution_count": 69,
     "metadata": {},
     "output_type": "execute_result"
    }
   ],
   "source": [
    "from sklearn.pipeline import Pipeline\n",
    "\n",
    "# 1. Create a pipeline with a vectorize and a classifier\n",
    "# 2. Use Grid Search to optimize the entire pipeline\n",
    "pipe = Pipeline([\n",
    "    ('vect', TfidfVectorizer()),\n",
    "    ('clf', RandomForestClassifier(random_state=42))\n",
    "])\n",
    "\n",
    "params_2 = {\n",
    "    'vect__stop_words': (None, 'english'), \n",
    "    'vect__min_df': (2, 5),\n",
    "    'clf__max_depth': (10, None)\n",
    "}\n",
    "\n",
    "gs2 = GridSearchCV(pipe, params_2, cv=5, n_jobs=-1, verbose=1)\n",
    "gs2.fit(newsgroups_train['data'], newsgroups_train['target'])"
   ]
  },
  {
   "cell_type": "code",
   "execution_count": 70,
   "metadata": {},
   "outputs": [
    {
     "data": {
      "text/plain": [
       "0.6607746264533867"
      ]
     },
     "execution_count": 70,
     "metadata": {},
     "output_type": "execute_result"
    }
   ],
   "source": [
    "gs2.best_score_"
   ]
  },
  {
   "cell_type": "code",
   "execution_count": 71,
   "metadata": {},
   "outputs": [
    {
     "data": {
      "text/plain": [
       "{'clf__max_depth': None, 'vect__min_df': 2, 'vect__stop_words': 'english'}"
      ]
     },
     "execution_count": 71,
     "metadata": {},
     "output_type": "execute_result"
    }
   ],
   "source": [
    "gs2.best_params_"
   ]
  },
  {
   "cell_type": "code",
   "execution_count": 72,
   "metadata": {
    "colab": {},
    "colab_type": "code",
    "id": "IdIE67Us6uEc"
   },
   "outputs": [
    {
     "data": {
      "text/plain": [
       "array([9])"
      ]
     },
     "execution_count": 72,
     "metadata": {},
     "output_type": "execute_result"
    }
   ],
   "source": [
    "pred = gs2.predict([\"The new york yankees are the best team in the region.\"])\n",
    "pred"
   ]
  },
  {
   "cell_type": "code",
   "execution_count": 73,
   "metadata": {
    "colab": {},
    "colab_type": "code",
    "id": "xhcb5G0W-Dch"
   },
   "outputs": [
    {
     "data": {
      "text/plain": [
       "'rec.sport.baseball'"
      ]
     },
     "execution_count": 73,
     "metadata": {},
     "output_type": "execute_result"
    }
   ],
   "source": [
    "newsgroups_train['target_names'][pred[0]]"
   ]
  },
  {
   "cell_type": "markdown",
   "metadata": {
    "colab_type": "text",
    "id": "F2R2ACd36uEd"
   },
   "source": [
    "Advantages to using GS with the Pipe:\n",
    "* Allows us to make predictions on raw text increasing reproducibility. :)\n",
    "* Allows us to tune the parameters of the vectorizer along side the classifier. :D "
   ]
  },
  {
   "cell_type": "markdown",
   "metadata": {
    "colab_type": "text",
    "id": "xbZjG6U86uEe"
   },
   "source": [
    "# Part 1: Describe how an LDA Model works"
   ]
  },
  {
   "cell_type": "markdown",
   "metadata": {
    "colab_type": "text",
    "id": "dMzU-XOM3LzW"
   },
   "source": [
    "[Your Guide to Latent Dirichlet Allocation](https://medium.com/@lettier/how-does-lda-work-ill-explain-using-emoji-108abf40fa7d)\n",
    "\n",
    "[LDA Topic Modeling](https://lettier.com/projects/lda-topic-modeling/)\n",
    "\n",
    "[Topic Modeling with Gensim](https://www.machinelearningplus.com/nlp/topic-modeling-gensim-python/)"
   ]
  },
  {
   "cell_type": "code",
   "execution_count": 74,
   "metadata": {
    "colab": {},
    "colab_type": "code",
    "id": "yPIlE_IeF0cX"
   },
   "outputs": [
    {
     "name": "stdout",
     "output_type": "stream",
     "text": [
      "✔ Download and installation successful\n",
      "You can now load the model via spacy.load('en_core_web_lg')\n"
     ]
    }
   ],
   "source": [
    "# Download spacy model\n",
    "import spacy.cli\n",
    "spacy.cli.download(\"en_core_web_lg\")"
   ]
  },
  {
   "cell_type": "code",
   "execution_count": 75,
   "metadata": {
    "colab": {},
    "colab_type": "code",
    "id": "qapChu_UGBFc"
   },
   "outputs": [],
   "source": [
    "import re\n",
    "import numpy as np\n",
    "import pandas as pd\n",
    "from pprint import pprint\n",
    "\n",
    "import gensim\n",
    "import gensim.corpora as corpora\n",
    "from gensim.utils import simple_preprocess\n",
    "from gensim.models import CoherenceModel\n",
    "\n",
    "import spacy\n",
    "import pyLDAvis\n",
    "import pyLDAvis.gensim \n",
    "import matplotlib.pyplot as plt\n",
    "%matplotlib inline"
   ]
  },
  {
   "cell_type": "code",
   "execution_count": 76,
   "metadata": {
    "colab": {},
    "colab_type": "code",
    "id": "qaMsy1XAGLxc"
   },
   "outputs": [
    {
     "name": "stdout",
     "output_type": "stream",
     "text": [
      "(11314, 3)\n"
     ]
    }
   ],
   "source": [
    "df = pd.DataFrame({\n",
    "    'content': newsgroups_train['data'],\n",
    "    'target': newsgroups_train['target'],\n",
    "    'target_names': [newsgroups_train['target_names'][i] for i in newsgroups_train['target']]\n",
    "})\n",
    "print(df.shape)"
   ]
  },
  {
   "cell_type": "code",
   "execution_count": 77,
   "metadata": {},
   "outputs": [
    {
     "data": {
      "text/html": [
       "<div>\n",
       "<style scoped>\n",
       "    .dataframe tbody tr th:only-of-type {\n",
       "        vertical-align: middle;\n",
       "    }\n",
       "\n",
       "    .dataframe tbody tr th {\n",
       "        vertical-align: top;\n",
       "    }\n",
       "\n",
       "    .dataframe thead th {\n",
       "        text-align: right;\n",
       "    }\n",
       "</style>\n",
       "<table border=\"1\" class=\"dataframe\">\n",
       "  <thead>\n",
       "    <tr style=\"text-align: right;\">\n",
       "      <th></th>\n",
       "      <th>content</th>\n",
       "      <th>target</th>\n",
       "      <th>target_names</th>\n",
       "    </tr>\n",
       "  </thead>\n",
       "  <tbody>\n",
       "    <tr>\n",
       "      <th>1600</th>\n",
       "      <td>Kermit Tensmeyer quoted from a few sources and then wrote something.\\nI will attempt to construct a facsimile of what was previously said, and \\nthen address Kermit's offering.\\n\\nJohn Redelfs originally wrote...\\n\\n  jr&gt; I learned that a man cannot frustrate justice by repenting on his\\n  jr&gt; death bed because repentance is more than a feeling of remorse.  It\\n  jr&gt; requires faith in Christ proven by following him, by keeping his\\n  jr&gt; commandments.  Such cannot be accomplished on ones deathbed.\\n\\nTom Albrecht responded...\\n\\n  ta&gt; So Jesus must have lied to the thief on the cross.\\n\\nJohn Redelfs wrote back that...\\n\\n  jr&gt; Paradise and salvation are not the same thing.  Salvation is better.\\n  jr&gt; Refer to John 14:2.\\n\\nI responded to John that...\\n\\n  rw&gt;    I don't see the effort to equate salvation with paradise.\\n  rw&gt;\\n  rw&gt;    Rather, I see implied the fact that only those who are saved\\n  rw&gt; may enter paradise.\\n\\nTo which Kermit wrote...\\n\\nkt&gt; Incomplete reference:\\nkt&gt;\\nkt&gt; See also the discussion: Did Jesus go into Hell in the BibleStudy group\\nkt&gt; for the arguments that Paradise and Hell(sheol) are places after death\\nkt&gt; The discussion (no LDS were involved as far as I could see) argued using\\nkt&gt; standard Christian argument from the Bible that pretty much support the\\nkt&gt; LDS position.\\nkt&gt;\\nkt&gt;    Christ went to paridise after his death and burial.\\nkt&gt;\\nkt&gt;    He taught the prisoners and freed them from Darkness.\\nkt&gt;\\nkt&gt;    When he was resurrected, he had not yet ascended to his father.\\nkt&gt;\\nkt&gt; The arguement centered around what was or wasn't the proper biblical\\nkt&gt; terms for those places.\\n\\n     I respond.\\n\\n     The question that was raised was not if Jesus went to infernal Paradise\\n     before entering into heaven. No one has made a point for or against \\n     that issue, nor have they compared the LDS position against orthodox\\n     belief. The infernal paradise is held to be Abraham's bosom (Luke 16), \\n     the place of the righteous dead in sheol (equivalent to hades).\\n\\n     The point that was raised by John was that someone could not repent\\n     on their death bed. Tom Albrecht pointed to a Biblical example that was\\n     contradictory to what John's position put forward. The thief on the \\n     cross was promised by Christ to be with Him in Paradise, the abode of \\n     the righteous dead. John's position possibly needs to be reworked.\\n     Kermit needs to address the topic at hand.</td>\n",
       "      <td>19</td>\n",
       "      <td>talk.religion.misc</td>\n",
       "    </tr>\n",
       "    <tr>\n",
       "      <th>3463</th>\n",
       "      <td>\\nBryan Murray has done very little as GM...Yzerman, Fedorov, Cheveldae,\\nChaisson, the whole Russian strategy was a product of the previous\\nGM...Murray has made a couple of decent trades...that's about it...\\nthat would hardly rank him as the best GM.\\n\\nWasn't Primeau, Murray's first decision as GM...</td>\n",
       "      <td>10</td>\n",
       "      <td>rec.sport.hockey</td>\n",
       "    </tr>\n",
       "    <tr>\n",
       "      <th>2874</th>\n",
       "      <td>Hi everyone, \\n\\t   I'm a commited Christian that is battling with a problem.  I know\\nthat romans talks about how we are saved by our faith not our deeds, yet\\nhebrews and james say that faith without deeds is useless, saying' You fools,\\ndo you still think that just believing is enough?'\\n\\nNow if someone is fully believing but there life is totally lead by themselves\\nand not by God, according to Romans that person is still saved by there faith.\\nBut then there is the bit which says that God preferes someone who is cold to\\nhim (i.e. doesn't know him - condemned) so a lukewarm Christian someone who\\nknows and believes in God but doesn't make any attempt to live by the bible.\\n\\nNow I am of the opinion that you a saved through faith alone (not what you do)\\nas taught in Romans, but how can I square up in my mind the teachings of James\\nin conjunction with the lukewarm Christian being 'spat-out'\\n\\nCan anyone help me, this really bothers me.\\n\\nIn Christ,\\nWill\\n</td>\n",
       "      <td>15</td>\n",
       "      <td>soc.religion.christian</td>\n",
       "    </tr>\n",
       "  </tbody>\n",
       "</table>\n",
       "</div>"
      ],
      "text/plain": [
       "                                                                                                                                                                                                                                                                                                                                                                                                                                                                                                                                                                                                                                                                                                                                                                                                                                                                                                                                                                                                                                                                                                                                                                                                                                                                                                                                                                                                                                                                                                                                                                                                                                                                                                                                                                                                                                                                                                                                                                                                                                                                                                                                                                                                                                                                                                                                                                                                                                                                                                                                                                   content  \\\n",
       "1600  Kermit Tensmeyer quoted from a few sources and then wrote something.\\nI will attempt to construct a facsimile of what was previously said, and \\nthen address Kermit's offering.\\n\\nJohn Redelfs originally wrote...\\n\\n  jr> I learned that a man cannot frustrate justice by repenting on his\\n  jr> death bed because repentance is more than a feeling of remorse.  It\\n  jr> requires faith in Christ proven by following him, by keeping his\\n  jr> commandments.  Such cannot be accomplished on ones deathbed.\\n\\nTom Albrecht responded...\\n\\n  ta> So Jesus must have lied to the thief on the cross.\\n\\nJohn Redelfs wrote back that...\\n\\n  jr> Paradise and salvation are not the same thing.  Salvation is better.\\n  jr> Refer to John 14:2.\\n\\nI responded to John that...\\n\\n  rw>    I don't see the effort to equate salvation with paradise.\\n  rw>\\n  rw>    Rather, I see implied the fact that only those who are saved\\n  rw> may enter paradise.\\n\\nTo which Kermit wrote...\\n\\nkt> Incomplete reference:\\nkt>\\nkt> See also the discussion: Did Jesus go into Hell in the BibleStudy group\\nkt> for the arguments that Paradise and Hell(sheol) are places after death\\nkt> The discussion (no LDS were involved as far as I could see) argued using\\nkt> standard Christian argument from the Bible that pretty much support the\\nkt> LDS position.\\nkt>\\nkt>    Christ went to paridise after his death and burial.\\nkt>\\nkt>    He taught the prisoners and freed them from Darkness.\\nkt>\\nkt>    When he was resurrected, he had not yet ascended to his father.\\nkt>\\nkt> The arguement centered around what was or wasn't the proper biblical\\nkt> terms for those places.\\n\\n     I respond.\\n\\n     The question that was raised was not if Jesus went to infernal Paradise\\n     before entering into heaven. No one has made a point for or against \\n     that issue, nor have they compared the LDS position against orthodox\\n     belief. The infernal paradise is held to be Abraham's bosom (Luke 16), \\n     the place of the righteous dead in sheol (equivalent to hades).\\n\\n     The point that was raised by John was that someone could not repent\\n     on their death bed. Tom Albrecht pointed to a Biblical example that was\\n     contradictory to what John's position put forward. The thief on the \\n     cross was promised by Christ to be with Him in Paradise, the abode of \\n     the righteous dead. John's position possibly needs to be reworked.\\n     Kermit needs to address the topic at hand.   \n",
       "3463  \\nBryan Murray has done very little as GM...Yzerman, Fedorov, Cheveldae,\\nChaisson, the whole Russian strategy was a product of the previous\\nGM...Murray has made a couple of decent trades...that's about it...\\nthat would hardly rank him as the best GM.\\n\\nWasn't Primeau, Murray's first decision as GM...                                                                                                                                                                                                                                                                                                                                                                                                                                                                                                                                                                                                                                                                                                                                                                                                                                                                                                                                                                                                                                                                                                                                                                                                                                                                                                                                                                                                                                                                                                                                                                                                                                                                                                                                                                                                                                                                                                                                                                                                                                                                                                                                                                                                                                                      \n",
       "2874  Hi everyone, \\n\\t   I'm a commited Christian that is battling with a problem.  I know\\nthat romans talks about how we are saved by our faith not our deeds, yet\\nhebrews and james say that faith without deeds is useless, saying' You fools,\\ndo you still think that just believing is enough?'\\n\\nNow if someone is fully believing but there life is totally lead by themselves\\nand not by God, according to Romans that person is still saved by there faith.\\nBut then there is the bit which says that God preferes someone who is cold to\\nhim (i.e. doesn't know him - condemned) so a lukewarm Christian someone who\\nknows and believes in God but doesn't make any attempt to live by the bible.\\n\\nNow I am of the opinion that you a saved through faith alone (not what you do)\\nas taught in Romans, but how can I square up in my mind the teachings of James\\nin conjunction with the lukewarm Christian being 'spat-out'\\n\\nCan anyone help me, this really bothers me.\\n\\nIn Christ,\\nWill\\n                                                                                                                                                                                                                                                                                                                                                                                                                                                                                                                                                                                                                                                                                                                                                                                                                                                                                                                                                                                                                                                                                                                                                                                                                                                                                                                                                                                                                                                                                                                                                     \n",
       "\n",
       "      target            target_names  \n",
       "1600  19      talk.religion.misc      \n",
       "3463  10      rec.sport.hockey        \n",
       "2874  15      soc.religion.christian  "
      ]
     },
     "execution_count": 77,
     "metadata": {},
     "output_type": "execute_result"
    }
   ],
   "source": [
    "pd.set_option('display.max_colwidth', 0)\n",
    "df.sample(3)"
   ]
  },
  {
   "cell_type": "code",
   "execution_count": 78,
   "metadata": {},
   "outputs": [
    {
     "data": {
      "text/plain": [
       "'The apple has fallen from the tree.'"
      ]
     },
     "execution_count": 78,
     "metadata": {},
     "output_type": "execute_result"
    }
   ],
   "source": [
    "' '.join(\"  The apple has         fallen from the tree.  \".split())"
   ]
  },
  {
   "cell_type": "code",
   "execution_count": 79,
   "metadata": {
    "colab": {},
    "colab_type": "code",
    "id": "na2bkOcFGter"
   },
   "outputs": [],
   "source": [
    "# For reference on regex: https://docs.python.org/3/library/re.html\n",
    "# From 'content' column: \n",
    "\n",
    "# 1. Remove new line characters\n",
    "df['clean_text'] = df['content'].apply(lambda x: re.sub('\\s+', ' ', x))\n",
    "\n",
    "# 2. Remove Emails\n",
    "df['clean_text'] = df['clean_text'].apply(lambda x: re.sub('From: \\S+@\\S+', '', x))\n",
    "\n",
    "# 3. Remove non-alphanumeric characters\n",
    "df['clean_text'] = df['clean_text'].apply(lambda x: re.sub('[^a-zA-Z]', ' ', x))\n",
    "\n",
    "# 4. Remove extra whitespace \n",
    "df['clean_text'] = df['clean_text'].apply(lambda x: ' '.join(x.split()))"
   ]
  },
  {
   "cell_type": "code",
   "execution_count": 80,
   "metadata": {
    "colab": {},
    "colab_type": "code",
    "id": "2prKILFo3Lzg"
   },
   "outputs": [
    {
     "data": {
      "text/html": [
       "<div>\n",
       "<style scoped>\n",
       "    .dataframe tbody tr th:only-of-type {\n",
       "        vertical-align: middle;\n",
       "    }\n",
       "\n",
       "    .dataframe tbody tr th {\n",
       "        vertical-align: top;\n",
       "    }\n",
       "\n",
       "    .dataframe thead th {\n",
       "        text-align: right;\n",
       "    }\n",
       "</style>\n",
       "<table border=\"1\" class=\"dataframe\">\n",
       "  <thead>\n",
       "    <tr style=\"text-align: right;\">\n",
       "      <th></th>\n",
       "      <th>content</th>\n",
       "      <th>target</th>\n",
       "      <th>target_names</th>\n",
       "      <th>clean_text</th>\n",
       "    </tr>\n",
       "  </thead>\n",
       "  <tbody>\n",
       "    <tr>\n",
       "      <th>453</th>\n",
       "      <td>\\nOf course posting some hard evidence or facts is much more\\ndifficult.  You have not bothered to substantiate this in\\nany way.  Basil, do you know of any evidence that would support\\nthis?\\n\\nI can just imagine a news report from ancient times, if Hasan\\nhad been writing it.\\n\\nNewsflash:\\nCairo AP (Ancient Press).  Israel today denied Egypt acces to the Red\\nSea.  In a typical display of Israelite agressiveness, the leader of\\nthe Israelite slave revolt, former prince Moses, parted the Red Sea.\\nThe action is estimated to have caused irreparable damage to the environment.\\nEgyptian authorities have said that thousands of fisherman have been\\ndenied their livelihood by the parted waters.  Pharaoh's brave charioteers\\nwere successful in their glorious attempt to cause the waters of the\\nRed Sea to return to their normal state.  Unfortunately they suffered\\nheavy casualties while doing so.\\n\\n</td>\n",
       "      <td>17</td>\n",
       "      <td>talk.politics.mideast</td>\n",
       "      <td>Of course posting some hard evidence or facts is much more difficult You have not bothered to substantiate this in any way Basil do you know of any evidence that would support this I can just imagine a news report from ancient times if Hasan had been writing it Newsflash Cairo AP Ancient Press Israel today denied Egypt acces to the Red Sea In a typical display of Israelite agressiveness the leader of the Israelite slave revolt former prince Moses parted the Red Sea The action is estimated to have caused irreparable damage to the environment Egyptian authorities have said that thousands of fisherman have been denied their livelihood by the parted waters Pharaoh s brave charioteers were successful in their glorious attempt to cause the waters of the Red Sea to return to their normal state Unfortunately they suffered heavy casualties while doing so</td>\n",
       "    </tr>\n",
       "    <tr>\n",
       "      <th>4206</th>\n",
       "      <td>I wanted to let people know that this motorcycle has been sold.\\n\\nThanks for your inquiries.</td>\n",
       "      <td>8</td>\n",
       "      <td>rec.motorcycles</td>\n",
       "      <td>I wanted to let people know that this motorcycle has been sold Thanks for your inquiries</td>\n",
       "    </tr>\n",
       "    <tr>\n",
       "      <th>6503</th>\n",
       "      <td>I was on vacation all last week and didn't see any news at all. Could\\nsomebody fill me in on how St. Louis ended up with Mark Whiten in a \\ntrade? Who did we give up Arocha, Allen Watson, Dmitri Young, or did\\nDal make a decent deal?\\n\\n:\\n</td>\n",
       "      <td>9</td>\n",
       "      <td>rec.sport.baseball</td>\n",
       "      <td>I was on vacation all last week and didn t see any news at all Could somebody fill me in on how St Louis ended up with Mark Whiten in a trade Who did we give up Arocha Allen Watson Dmitri Young or did Dal make a decent deal</td>\n",
       "    </tr>\n",
       "  </tbody>\n",
       "</table>\n",
       "</div>"
      ],
      "text/plain": [
       "                                                                                                                                                                                                                                                                                                                                                                                                                                                                                                                                                                                                                                                                                                                                                                                                                                                                                                                                          content  \\\n",
       "453   \\nOf course posting some hard evidence or facts is much more\\ndifficult.  You have not bothered to substantiate this in\\nany way.  Basil, do you know of any evidence that would support\\nthis?\\n\\nI can just imagine a news report from ancient times, if Hasan\\nhad been writing it.\\n\\nNewsflash:\\nCairo AP (Ancient Press).  Israel today denied Egypt acces to the Red\\nSea.  In a typical display of Israelite agressiveness, the leader of\\nthe Israelite slave revolt, former prince Moses, parted the Red Sea.\\nThe action is estimated to have caused irreparable damage to the environment.\\nEgyptian authorities have said that thousands of fisherman have been\\ndenied their livelihood by the parted waters.  Pharaoh's brave charioteers\\nwere successful in their glorious attempt to cause the waters of the\\nRed Sea to return to their normal state.  Unfortunately they suffered\\nheavy casualties while doing so.\\n\\n   \n",
       "4206  I wanted to let people know that this motorcycle has been sold.\\n\\nThanks for your inquiries.                                                                                                                                                                                                                                                                                                                                                                                                                                                                                                                                                                                                                                                                                                                                                                                                                                                 \n",
       "6503  I was on vacation all last week and didn't see any news at all. Could\\nsomebody fill me in on how St. Louis ended up with Mark Whiten in a \\ntrade? Who did we give up Arocha, Allen Watson, Dmitri Young, or did\\nDal make a decent deal?\\n\\n:\\n                                                                                                                                                                                                                                                                                                                                                                                                                                                                                                                                                                                                                                                                                             \n",
       "\n",
       "      target           target_names  \\\n",
       "453   17      talk.politics.mideast   \n",
       "4206  8       rec.motorcycles         \n",
       "6503  9       rec.sport.baseball      \n",
       "\n",
       "                                                                                                                                                                                                                                                                                                                                                                                                                                                                                                                                                                                                                                                                                                                                                                                                                                                                                     clean_text  \n",
       "453   Of course posting some hard evidence or facts is much more difficult You have not bothered to substantiate this in any way Basil do you know of any evidence that would support this I can just imagine a news report from ancient times if Hasan had been writing it Newsflash Cairo AP Ancient Press Israel today denied Egypt acces to the Red Sea In a typical display of Israelite agressiveness the leader of the Israelite slave revolt former prince Moses parted the Red Sea The action is estimated to have caused irreparable damage to the environment Egyptian authorities have said that thousands of fisherman have been denied their livelihood by the parted waters Pharaoh s brave charioteers were successful in their glorious attempt to cause the waters of the Red Sea to return to their normal state Unfortunately they suffered heavy casualties while doing so  \n",
       "4206  I wanted to let people know that this motorcycle has been sold Thanks for your inquiries                                                                                                                                                                                                                                                                                                                                                                                                                                                                                                                                                                                                                                                                                                                                                                                                   \n",
       "6503  I was on vacation all last week and didn t see any news at all Could somebody fill me in on how St Louis ended up with Mark Whiten in a trade Who did we give up Arocha Allen Watson Dmitri Young or did Dal make a decent deal                                                                                                                                                                                                                                                                                                                                                                                                                                                                                                                                                                                                                                                            "
      ]
     },
     "execution_count": 80,
     "metadata": {},
     "output_type": "execute_result"
    }
   ],
   "source": [
    "df.sample(3)"
   ]
  },
  {
   "cell_type": "code",
   "execution_count": 81,
   "metadata": {
    "colab": {},
    "colab_type": "code",
    "id": "kSW10Cb33Lzk"
   },
   "outputs": [],
   "source": [
    "nlp = spacy.load(\"en_core_web_lg\")"
   ]
  },
  {
   "cell_type": "code",
   "execution_count": 82,
   "metadata": {
    "colab": {},
    "colab_type": "code",
    "id": "pkgfv9tc3Lzi"
   },
   "outputs": [],
   "source": [
    "# Leverage tqdm for progress_apply\n",
    "from tqdm import tqdm\n",
    "tqdm.pandas()\n",
    "\n",
    "# If you're on macOS, Linux, or python session executed from Windows Subsystem for Linux (WSL)\n",
    "# conda activate U4-S1-NLP\n",
    "# pip install pandarallel\n",
    "#\n",
    "# from pandarallel import pandarallel\n",
    "# pandarallel.initialize(progress_bar=True)\n",
    "#\n",
    "# df['lemmas'] = df['content'].parallel_apply(get_lemmas)\n",
    "#\n",
    "# Ref: https://github.com/nalepae/pandarallel"
   ]
  },
  {
   "cell_type": "code",
   "execution_count": 85,
   "metadata": {
    "colab": {},
    "colab_type": "code",
    "id": "6EBPQXqEKE9P"
   },
   "outputs": [
    {
     "name": "stderr",
     "output_type": "stream",
     "text": [
      "100%|███████████████████████████████████████████████| 11314/11314 [12:49<00:00, 14.71it/s]\n"
     ]
    }
   ],
   "source": [
    "# Create 'lemmas' column\n",
    "def get_lemmas(x):\n",
    "    lemmas = []\n",
    "    for token in nlp(x):\n",
    "        if (token.is_stop!=True) and (token.is_punct!=True):\n",
    "            lemmas.append(token.lemma_)\n",
    "    return lemmas\n",
    "\n",
    "df['lemmas'] = df['clean_text'].progress_apply(get_lemmas)"
   ]
  },
  {
   "cell_type": "code",
   "execution_count": 86,
   "metadata": {
    "colab": {},
    "colab_type": "code",
    "id": "-yvsyIpvKBlw"
   },
   "outputs": [
    {
     "data": {
      "text/html": [
       "<div>\n",
       "<style scoped>\n",
       "    .dataframe tbody tr th:only-of-type {\n",
       "        vertical-align: middle;\n",
       "    }\n",
       "\n",
       "    .dataframe tbody tr th {\n",
       "        vertical-align: top;\n",
       "    }\n",
       "\n",
       "    .dataframe thead th {\n",
       "        text-align: right;\n",
       "    }\n",
       "</style>\n",
       "<table border=\"1\" class=\"dataframe\">\n",
       "  <thead>\n",
       "    <tr style=\"text-align: right;\">\n",
       "      <th></th>\n",
       "      <th>content</th>\n",
       "      <th>target</th>\n",
       "      <th>target_names</th>\n",
       "      <th>clean_text</th>\n",
       "      <th>lemmas</th>\n",
       "    </tr>\n",
       "  </thead>\n",
       "  <tbody>\n",
       "    <tr>\n",
       "      <th>0</th>\n",
       "      <td>I was wondering if anyone out there could enlighten me on this car I saw\\nthe other day. It was a 2-door sports car, looked to be from the late 60s/\\nearly 70s. It was called a Bricklin. The doors were really small. In addition,\\nthe front bumper was separate from the rest of the body. This is \\nall I know. If anyone can tellme a model name, engine specs, years\\nof production, where this car is made, history, or whatever info you\\nhave on this funky looking car, please e-mail.</td>\n",
       "      <td>7</td>\n",
       "      <td>rec.autos</td>\n",
       "      <td>I was wondering if anyone out there could enlighten me on this car I saw the other day It was a door sports car looked to be from the late s early s It was called a Bricklin The doors were really small In addition the front bumper was separate from the rest of the body This is all I know If anyone can tellme a model name engine specs years of production where this car is made history or whatever info you have on this funky looking car please e mail</td>\n",
       "      <td>[wonder, enlighten, car, see, day, door, sport, car, look, late, s, early, s, call, Bricklin, door, small, addition, bumper, separate, rest, body, know, tellme, model, engine, spec, year, production, car, history, info, funky, look, car, e, mail]</td>\n",
       "    </tr>\n",
       "    <tr>\n",
       "      <th>1</th>\n",
       "      <td>A fair number of brave souls who upgraded their SI clock oscillator have\\nshared their experiences for this poll. Please send a brief message detailing\\nyour experiences with the procedure. Top speed attained, CPU rated speed,\\nadd on cards and adapters, heat sinks, hour of usage per day, floppy disk\\nfunctionality with 800 and 1.4 m floppies are especially requested.\\n\\nI will be summarizing in the next two days, so please add to the network\\nknowledge base if you have done the clock upgrade and haven't answered this\\npoll. Thanks.</td>\n",
       "      <td>4</td>\n",
       "      <td>comp.sys.mac.hardware</td>\n",
       "      <td>A fair number of brave souls who upgraded their SI clock oscillator have shared their experiences for this poll Please send a brief message detailing your experiences with the procedure Top speed attained CPU rated speed add on cards and adapters heat sinks hour of usage per day floppy disk functionality with and m floppies are especially requested I will be summarizing in the next two days so please add to the network knowledge base if you have done the clock upgrade and haven t answered this poll Thanks</td>\n",
       "      <td>[fair, number, brave, soul, upgrade, SI, clock, oscillator, share, experience, poll, send, brief, message, detail, experience, procedure, speed, attain, CPU, rate, speed, add, card, adapter, heat, sink, hour, usage, day, floppy, disk, functionality, m, floppy, especially, request, summarize, day, add, network, knowledge, base, clock, upgrade, haven, t, answer, poll, thank]</td>\n",
       "    </tr>\n",
       "    <tr>\n",
       "      <th>2</th>\n",
       "      <td>well folks, my mac plus finally gave up the ghost this weekend after\\nstarting life as a 512k way back in 1985.  sooo, i'm in the market for a\\nnew machine a bit sooner than i intended to be...\\n\\ni'm looking into picking up a powerbook 160 or maybe 180 and have a bunch\\nof questions that (hopefully) somebody can answer:\\n\\n* does anybody know any dirt on when the next round of powerbook\\nintroductions are expected?  i'd heard the 185c was supposed to make an\\nappearence \"this summer\" but haven't heard anymore on it - and since i\\ndon't have access to macleak, i was wondering if anybody out there had\\nmore info...\\n\\n* has anybody heard rumors about price drops to the powerbook line like the\\nones the duo's just went through recently?\\n\\n* what's the impression of the display on the 180?  i could probably swing\\na 180 if i got the 80Mb disk rather than the 120, but i don't really have\\na feel for how much \"better\" the display is (yea, it looks great in the\\nstore, but is that all \"wow\" or is it really that good?).  could i solicit\\nsome opinions of people who use the 160 and 180 day-to-day on if its worth\\ntaking the disk size and money hit to get the active display?  (i realize\\nthis is a real subjective question, but i've only played around with the\\nmachines in a computer store breifly and figured the opinions of somebody\\nwho actually uses the machine daily might prove helpful).\\n\\n* how well does hellcats perform?  ;)\\n\\nthanks a bunch in advance for any info - if you could email, i'll post a\\nsummary (news reading time is at a premium with finals just around the\\ncorner... :( )\\n--\\nTom Willis  \\  twillis@ecn.purdue.edu    \\    Purdue Electrical Engineering</td>\n",
       "      <td>4</td>\n",
       "      <td>comp.sys.mac.hardware</td>\n",
       "      <td>well folks my mac plus finally gave up the ghost this weekend after starting life as a k way back in sooo i m in the market for a new machine a bit sooner than i intended to be i m looking into picking up a powerbook or maybe and have a bunch of questions that hopefully somebody can answer does anybody know any dirt on when the next round of powerbook introductions are expected i d heard the c was supposed to make an appearence this summer but haven t heard anymore on it and since i don t have access to macleak i was wondering if anybody out there had more info has anybody heard rumors about price drops to the powerbook line like the ones the duo s just went through recently what s the impression of the display on the i could probably swing a if i got the Mb disk rather than the but i don t really have a feel for how much better the display is yea it looks great in the store but is that all wow or is it really that good could i solicit some opinions of people who use the and day to day on if its worth taking the disk size and money hit to get the active display i realize this is a real subjective question but i ve only played around with the machines in a computer store breifly and figured the opinions of somebody who actually uses the machine daily might prove helpful how well does hellcats perform thanks a bunch in advance for any info if you could email i ll post a summary news reading time is at a premium with finals just around the corner Tom Willis twillis ecn purdue edu Purdue Electrical Engineering</td>\n",
       "      <td>[folk, mac, plus, finally, give, ghost, weekend, start, life, k, way, sooo, m, market, new, machine, bit, sooner, intend, m, look, pick, powerbook, maybe, bunch, question, hopefully, somebody, answer, anybody, know, dirt, round, powerbook, introduction, expect, d, hear, c, suppose, appearence, summer, haven, t, hear, anymore, don, t, access, macleak, wonder, anybody, info, anybody, hear, rumor, price, drop, powerbook, line, like, one, duo, s, go, recently, s, impression, display, probably, swing, get, Mb, disk, don, t, feel, well, display, yea, look, great, store, wow, good, solicit, opinion, people, use, day, day, worth, take, disk, size, money, hit, active, display, realize, ...]</td>\n",
       "    </tr>\n",
       "    <tr>\n",
       "      <th>3</th>\n",
       "      <td>\\nDo you have Weitek's address/phone number?  I'd like to get some information\\nabout this chip.\\n</td>\n",
       "      <td>1</td>\n",
       "      <td>comp.graphics</td>\n",
       "      <td>Do you have Weitek s address phone number I d like to get some information about this chip</td>\n",
       "      <td>[Weitek, s, address, phone, number, d, like, information, chip]</td>\n",
       "    </tr>\n",
       "    <tr>\n",
       "      <th>4</th>\n",
       "      <td>From article &lt;C5owCB.n3p@world.std.com&gt;, by tombaker@world.std.com (Tom A Baker):\\n\\n\\nMy understanding is that the 'expected errors' are basically\\nknown bugs in the warning system software - things are checked\\nthat don't have the right values in yet because they aren't\\nset till after launch, and suchlike. Rather than fix the code\\nand possibly introduce new bugs, they just tell the crew\\n'ok, if you see a warning no. 213 before liftoff, ignore it'.</td>\n",
       "      <td>14</td>\n",
       "      <td>sci.space</td>\n",
       "      <td>From article C owCB n p world std com by tombaker world std com Tom A Baker My understanding is that the expected errors are basically known bugs in the warning system software things are checked that don t have the right values in yet because they aren t set till after launch and suchlike Rather than fix the code and possibly introduce new bugs they just tell the crew ok if you see a warning no before liftoff ignore it</td>\n",
       "      <td>[article, C, owCB, n, p, world, std, com, tombaker, world, std, com, Tom, Baker, understanding, expect, error, basically, know, bug, warning, system, software, thing, check, don, t, right, value, aren, t, set, till, launch, suchlike, fix, code, possibly, introduce, new, bug, tell, crew, ok, warning, liftoff, ignore]</td>\n",
       "    </tr>\n",
       "  </tbody>\n",
       "</table>\n",
       "</div>"
      ],
      "text/plain": [
       "                                                                                                                                                                                                                                                                                                                                                                                                                                                                                                                                                                                                                                                                                                                                                                                                                                                                                                                                                                                                                                                                                                                                                                                                                                                                                                                                                                                                                                                                                                                                                                                                                                                                                                                                                       content  \\\n",
       "0  I was wondering if anyone out there could enlighten me on this car I saw\\nthe other day. It was a 2-door sports car, looked to be from the late 60s/\\nearly 70s. It was called a Bricklin. The doors were really small. In addition,\\nthe front bumper was separate from the rest of the body. This is \\nall I know. If anyone can tellme a model name, engine specs, years\\nof production, where this car is made, history, or whatever info you\\nhave on this funky looking car, please e-mail.                                                                                                                                                                                                                                                                                                                                                                                                                                                                                                                                                                                                                                                                                                                                                                                                                                                                                                                                                                                                                                                                                                                                                                                                                                                             \n",
       "1  A fair number of brave souls who upgraded their SI clock oscillator have\\nshared their experiences for this poll. Please send a brief message detailing\\nyour experiences with the procedure. Top speed attained, CPU rated speed,\\nadd on cards and adapters, heat sinks, hour of usage per day, floppy disk\\nfunctionality with 800 and 1.4 m floppies are especially requested.\\n\\nI will be summarizing in the next two days, so please add to the network\\nknowledge base if you have done the clock upgrade and haven't answered this\\npoll. Thanks.                                                                                                                                                                                                                                                                                                                                                                                                                                                                                                                                                                                                                                                                                                                                                                                                                                                                                                                                                                                                                                                                                                                                                                                                    \n",
       "2  well folks, my mac plus finally gave up the ghost this weekend after\\nstarting life as a 512k way back in 1985.  sooo, i'm in the market for a\\nnew machine a bit sooner than i intended to be...\\n\\ni'm looking into picking up a powerbook 160 or maybe 180 and have a bunch\\nof questions that (hopefully) somebody can answer:\\n\\n* does anybody know any dirt on when the next round of powerbook\\nintroductions are expected?  i'd heard the 185c was supposed to make an\\nappearence \"this summer\" but haven't heard anymore on it - and since i\\ndon't have access to macleak, i was wondering if anybody out there had\\nmore info...\\n\\n* has anybody heard rumors about price drops to the powerbook line like the\\nones the duo's just went through recently?\\n\\n* what's the impression of the display on the 180?  i could probably swing\\na 180 if i got the 80Mb disk rather than the 120, but i don't really have\\na feel for how much \"better\" the display is (yea, it looks great in the\\nstore, but is that all \"wow\" or is it really that good?).  could i solicit\\nsome opinions of people who use the 160 and 180 day-to-day on if its worth\\ntaking the disk size and money hit to get the active display?  (i realize\\nthis is a real subjective question, but i've only played around with the\\nmachines in a computer store breifly and figured the opinions of somebody\\nwho actually uses the machine daily might prove helpful).\\n\\n* how well does hellcats perform?  ;)\\n\\nthanks a bunch in advance for any info - if you could email, i'll post a\\nsummary (news reading time is at a premium with finals just around the\\ncorner... :( )\\n--\\nTom Willis  \\  twillis@ecn.purdue.edu    \\    Purdue Electrical Engineering   \n",
       "3  \\nDo you have Weitek's address/phone number?  I'd like to get some information\\nabout this chip.\\n                                                                                                                                                                                                                                                                                                                                                                                                                                                                                                                                                                                                                                                                                                                                                                                                                                                                                                                                                                                                                                                                                                                                                                                                                                                                                                                                                                                                                                                                                                                                                                                                                                                            \n",
       "4  From article <C5owCB.n3p@world.std.com>, by tombaker@world.std.com (Tom A Baker):\\n\\n\\nMy understanding is that the 'expected errors' are basically\\nknown bugs in the warning system software - things are checked\\nthat don't have the right values in yet because they aren't\\nset till after launch, and suchlike. Rather than fix the code\\nand possibly introduce new bugs, they just tell the crew\\n'ok, if you see a warning no. 213 before liftoff, ignore it'.                                                                                                                                                                                                                                                                                                                                                                                                                                                                                                                                                                                                                                                                                                                                                                                                                                                                                                                                                                                                                                                                                                                                                                                                                                                                                      \n",
       "\n",
       "   target           target_names  \\\n",
       "0  7       rec.autos               \n",
       "1  4       comp.sys.mac.hardware   \n",
       "2  4       comp.sys.mac.hardware   \n",
       "3  1       comp.graphics           \n",
       "4  14      sci.space               \n",
       "\n",
       "                                                                                                                                                                                                                                                                                                                                                                                                                                                                                                                                                                                                                                                                                                                                                                                                                                                                                                                                                                                                                                                                                                                                                                                                                                                                                                                                                                                                                                                                                                                                                                                    clean_text  \\\n",
       "0  I was wondering if anyone out there could enlighten me on this car I saw the other day It was a door sports car looked to be from the late s early s It was called a Bricklin The doors were really small In addition the front bumper was separate from the rest of the body This is all I know If anyone can tellme a model name engine specs years of production where this car is made history or whatever info you have on this funky looking car please e mail                                                                                                                                                                                                                                                                                                                                                                                                                                                                                                                                                                                                                                                                                                                                                                                                                                                                                                                                                                                                                                                                                                                          \n",
       "1  A fair number of brave souls who upgraded their SI clock oscillator have shared their experiences for this poll Please send a brief message detailing your experiences with the procedure Top speed attained CPU rated speed add on cards and adapters heat sinks hour of usage per day floppy disk functionality with and m floppies are especially requested I will be summarizing in the next two days so please add to the network knowledge base if you have done the clock upgrade and haven t answered this poll Thanks                                                                                                                                                                                                                                                                                                                                                                                                                                                                                                                                                                                                                                                                                                                                                                                                                                                                                                                                                                                                                                                                \n",
       "2  well folks my mac plus finally gave up the ghost this weekend after starting life as a k way back in sooo i m in the market for a new machine a bit sooner than i intended to be i m looking into picking up a powerbook or maybe and have a bunch of questions that hopefully somebody can answer does anybody know any dirt on when the next round of powerbook introductions are expected i d heard the c was supposed to make an appearence this summer but haven t heard anymore on it and since i don t have access to macleak i was wondering if anybody out there had more info has anybody heard rumors about price drops to the powerbook line like the ones the duo s just went through recently what s the impression of the display on the i could probably swing a if i got the Mb disk rather than the but i don t really have a feel for how much better the display is yea it looks great in the store but is that all wow or is it really that good could i solicit some opinions of people who use the and day to day on if its worth taking the disk size and money hit to get the active display i realize this is a real subjective question but i ve only played around with the machines in a computer store breifly and figured the opinions of somebody who actually uses the machine daily might prove helpful how well does hellcats perform thanks a bunch in advance for any info if you could email i ll post a summary news reading time is at a premium with finals just around the corner Tom Willis twillis ecn purdue edu Purdue Electrical Engineering   \n",
       "3  Do you have Weitek s address phone number I d like to get some information about this chip                                                                                                                                                                                                                                                                                                                                                                                                                                                                                                                                                                                                                                                                                                                                                                                                                                                                                                                                                                                                                                                                                                                                                                                                                                                                                                                                                                                                                                                                                                    \n",
       "4  From article C owCB n p world std com by tombaker world std com Tom A Baker My understanding is that the expected errors are basically known bugs in the warning system software things are checked that don t have the right values in yet because they aren t set till after launch and suchlike Rather than fix the code and possibly introduce new bugs they just tell the crew ok if you see a warning no before liftoff ignore it                                                                                                                                                                                                                                                                                                                                                                                                                                                                                                                                                                                                                                                                                                                                                                                                                                                                                                                                                                                                                                                                                                                                                       \n",
       "\n",
       "                                                                                                                                                                                                                                                                                                                                                                                                                                                                                                                                                                                                                                                                                                               lemmas  \n",
       "0  [wonder, enlighten, car, see, day, door, sport, car, look, late, s, early, s, call, Bricklin, door, small, addition, bumper, separate, rest, body, know, tellme, model, engine, spec, year, production, car, history, info, funky, look, car, e, mail]                                                                                                                                                                                                                                                                                                                                                                                                                                                              \n",
       "1  [fair, number, brave, soul, upgrade, SI, clock, oscillator, share, experience, poll, send, brief, message, detail, experience, procedure, speed, attain, CPU, rate, speed, add, card, adapter, heat, sink, hour, usage, day, floppy, disk, functionality, m, floppy, especially, request, summarize, day, add, network, knowledge, base, clock, upgrade, haven, t, answer, poll, thank]                                                                                                                                                                                                                                                                                                                             \n",
       "2  [folk, mac, plus, finally, give, ghost, weekend, start, life, k, way, sooo, m, market, new, machine, bit, sooner, intend, m, look, pick, powerbook, maybe, bunch, question, hopefully, somebody, answer, anybody, know, dirt, round, powerbook, introduction, expect, d, hear, c, suppose, appearence, summer, haven, t, hear, anymore, don, t, access, macleak, wonder, anybody, info, anybody, hear, rumor, price, drop, powerbook, line, like, one, duo, s, go, recently, s, impression, display, probably, swing, get, Mb, disk, don, t, feel, well, display, yea, look, great, store, wow, good, solicit, opinion, people, use, day, day, worth, take, disk, size, money, hit, active, display, realize, ...]  \n",
       "3  [Weitek, s, address, phone, number, d, like, information, chip]                                                                                                                                                                                                                                                                                                                                                                                                                                                                                                                                                                                                                                                     \n",
       "4  [article, C, owCB, n, p, world, std, com, tombaker, world, std, com, Tom, Baker, understanding, expect, error, basically, know, bug, warning, system, software, thing, check, don, t, right, value, aren, t, set, till, launch, suchlike, fix, code, possibly, introduce, new, bug, tell, crew, ok, warning, liftoff, ignore]                                                                                                                                                                                                                                                                                                                                                                                       "
      ]
     },
     "execution_count": 86,
     "metadata": {},
     "output_type": "execute_result"
    }
   ],
   "source": [
    "df.head()"
   ]
  },
  {
   "cell_type": "markdown",
   "metadata": {
    "colab_type": "text",
    "id": "cPuCuK0z3Lzs"
   },
   "source": [
    "### The two main inputs to the LDA topic model are the dictionary (id2word) and the corpus."
   ]
  },
  {
   "cell_type": "code",
   "execution_count": 87,
   "metadata": {
    "colab": {},
    "colab_type": "code",
    "id": "1klqRpqtJxWc"
   },
   "outputs": [],
   "source": [
    "# Create Dictionary\n",
    "id2word = corpora.Dictionary(df['lemmas'])"
   ]
  },
  {
   "cell_type": "code",
   "execution_count": 88,
   "metadata": {},
   "outputs": [
    {
     "data": {
      "text/plain": [
       "78702"
      ]
     },
     "execution_count": 88,
     "metadata": {},
     "output_type": "execute_result"
    }
   ],
   "source": [
    "# How many words do we have?\n",
    "len(id2word.keys())"
   ]
  },
  {
   "cell_type": "code",
   "execution_count": 89,
   "metadata": {},
   "outputs": [],
   "source": [
    "# Let's remove extreme values from the dataset\n",
    "id2word.filter_extremes(no_below=3, no_above=0.75)"
   ]
  },
  {
   "cell_type": "code",
   "execution_count": 90,
   "metadata": {},
   "outputs": [
    {
     "data": {
      "text/plain": [
       "22810"
      ]
     },
     "execution_count": 90,
     "metadata": {},
     "output_type": "execute_result"
    }
   ],
   "source": [
    "# How many words do we have?\n",
    "len(id2word.keys())"
   ]
  },
  {
   "cell_type": "code",
   "execution_count": 91,
   "metadata": {},
   "outputs": [],
   "source": [
    "# Term Document Frequency\n",
    "corpus = [id2word.doc2bow(text) for text in df['lemmas']]"
   ]
  },
  {
   "cell_type": "code",
   "execution_count": 92,
   "metadata": {
    "colab": {},
    "colab_type": "code",
    "id": "ArZPxcP5LH1J"
   },
   "outputs": [
    {
     "data": {
      "text/plain": [
       "'hear'"
      ]
     },
     "execution_count": 92,
     "metadata": {},
     "output_type": "execute_result"
    }
   ],
   "source": [
    "id2word[109]"
   ]
  },
  {
   "cell_type": "code",
   "execution_count": 93,
   "metadata": {
    "colab": {},
    "colab_type": "code",
    "id": "_IIBnI2e3Lzw"
   },
   "outputs": [
    {
     "data": {
      "text/plain": [
       "'Of course The term must be rigidly defined in any bill I doubt she uses this term for that You are using a quote allegedly from her can you back it up I read the article as presenting first an argument about weapons of mass destruction as commonly understood and then switching to other topics The first point evidently was to show that not all weapons should be allowed and then the later analysis was given this understanding to consider another class'"
      ]
     },
     "execution_count": 93,
     "metadata": {},
     "output_type": "execute_result"
    }
   ],
   "source": [
    "df.iloc[5]['clean_text']"
   ]
  },
  {
   "cell_type": "code",
   "execution_count": 94,
   "metadata": {
    "colab": {},
    "colab_type": "code",
    "id": "bGFG9E2j3Lzz"
   },
   "outputs": [
    {
     "data": {
      "text/plain": [
       "[(105, 1),\n",
       " (162, 1),\n",
       " (179, 1),\n",
       " (205, 1),\n",
       " (209, 1),\n",
       " (210, 1),\n",
       " (211, 1),\n",
       " (212, 1),\n",
       " (213, 1),\n",
       " (214, 1),\n",
       " (215, 1),\n",
       " (216, 1),\n",
       " (217, 1),\n",
       " (218, 1),\n",
       " (219, 1),\n",
       " (220, 1),\n",
       " (221, 1),\n",
       " (222, 1),\n",
       " (223, 1),\n",
       " (224, 1),\n",
       " (225, 1),\n",
       " (226, 1),\n",
       " (227, 1),\n",
       " (228, 1),\n",
       " (229, 2),\n",
       " (230, 1),\n",
       " (231, 1),\n",
       " (232, 2)]"
      ]
     },
     "execution_count": 94,
     "metadata": {},
     "output_type": "execute_result"
    }
   ],
   "source": [
    "corpus[5]"
   ]
  },
  {
   "cell_type": "code",
   "execution_count": 95,
   "metadata": {
    "colab": {},
    "colab_type": "code",
    "id": "TB6wox963Lz2"
   },
   "outputs": [
    {
     "data": {
      "text/plain": [
       "'give'"
      ]
     },
     "execution_count": 95,
     "metadata": {},
     "output_type": "execute_result"
    }
   ],
   "source": [
    "id2word[105]"
   ]
  },
  {
   "cell_type": "code",
   "execution_count": 96,
   "metadata": {
    "colab": {},
    "colab_type": "code",
    "id": "kk3g75XX3Lz4"
   },
   "outputs": [
    {
     "data": {
      "text/plain": [
       "'weapon'"
      ]
     },
     "execution_count": 96,
     "metadata": {},
     "output_type": "execute_result"
    }
   ],
   "source": [
    "id2word[232]"
   ]
  },
  {
   "cell_type": "code",
   "execution_count": 97,
   "metadata": {
    "colab": {},
    "colab_type": "code",
    "id": "6K2jWxHJLOzK"
   },
   "outputs": [
    {
     "data": {
      "text/plain": [
       "[('give', 1),\n",
       " ('use', 1),\n",
       " ('article', 1),\n",
       " ('understanding', 1),\n",
       " ('allegedly', 1),\n",
       " ('allow', 1),\n",
       " ('analysis', 1),\n",
       " ('argument', 1),\n",
       " ('bill', 1),\n",
       " ('class', 1),\n",
       " ('commonly', 1),\n",
       " ('consider', 1),\n",
       " ('course', 1),\n",
       " ('define', 1),\n",
       " ('destruction', 1),\n",
       " ('doubt', 1),\n",
       " ('evidently', 1),\n",
       " ('later', 1),\n",
       " ('mass', 1),\n",
       " ('point', 1),\n",
       " ('present', 1),\n",
       " ('quote', 1),\n",
       " ('read', 1),\n",
       " ('switch', 1),\n",
       " ('term', 2),\n",
       " ('topic', 1),\n",
       " ('understand', 1),\n",
       " ('weapon', 2)]"
      ]
     },
     "execution_count": 97,
     "metadata": {},
     "output_type": "execute_result"
    }
   ],
   "source": [
    "# Human readable format of corpus (term-frequency)\n",
    "[(id2word[word_id], word_count) for word_id, word_count in corpus[5]]"
   ]
  },
  {
   "cell_type": "markdown",
   "metadata": {
    "colab_type": "text",
    "id": "le-XzI923Lz8"
   },
   "source": [
    "# Part 2: Estimate a LDA Model with Gensim"
   ]
  },
  {
   "cell_type": "markdown",
   "metadata": {
    "colab_type": "text",
    "id": "AlNG4bSI3Lz8"
   },
   "source": [
    " ### Train an LDA model"
   ]
  },
  {
   "cell_type": "code",
   "execution_count": 98,
   "metadata": {
    "colab": {},
    "colab_type": "code",
    "id": "Fasvjf0VLQ2a"
   },
   "outputs": [
    {
     "name": "stdout",
     "output_type": "stream",
     "text": [
      "Wall time: 3min 25s\n"
     ]
    }
   ],
   "source": [
    "%%time\n",
    "lda_model = gensim.models.ldamodel.LdaModel(corpus=corpus,\n",
    "                                            id2word=id2word,\n",
    "                                            num_topics=20, \n",
    "                                            chunksize=100,\n",
    "                                            passes=10,\n",
    "                                            per_word_topics=True)\n",
    "\n",
    "# https://radimrehurek.com/gensim/models/ldamodel.html"
   ]
  },
  {
   "cell_type": "code",
   "execution_count": 99,
   "metadata": {
    "colab": {},
    "colab_type": "code",
    "id": "49CabmIj3Lz_"
   },
   "outputs": [],
   "source": [
    "lda_model.save('lda_model.model')"
   ]
  },
  {
   "cell_type": "raw",
   "metadata": {
    "colab": {},
    "colab_type": "code",
    "id": "XDgUshRE3L0C"
   },
   "source": [
    "%%time\n",
    "lda_multicore = gensim.models.ldamulticore.LdaMulticore(corpus=corpus,\n",
    "                                                        id2word=id2word,\n",
    "                                                        num_topics=20, \n",
    "                                                        chunksize=100,\n",
    "                                                        passes=10,\n",
    "                                                        per_word_topics=True,\n",
    "                                                        workers=12)\n",
    "\n",
    "# https://radimrehurek.com/gensim/models/ldamulticore.html"
   ]
  },
  {
   "cell_type": "raw",
   "metadata": {
    "colab": {},
    "colab_type": "code",
    "id": "Rgb9AaPq3L0E"
   },
   "source": [
    "lda_multicore.save('lda_multicore.model')"
   ]
  },
  {
   "cell_type": "code",
   "execution_count": 100,
   "metadata": {
    "colab": {},
    "colab_type": "code",
    "id": "VLxvJPoK3L0G"
   },
   "outputs": [],
   "source": [
    "from gensim import models\n",
    "lda =  models.LdaModel.load('lda_model.model')"
   ]
  },
  {
   "cell_type": "markdown",
   "metadata": {
    "colab_type": "text",
    "id": "uDH3tzx13L0I"
   },
   "source": [
    "### View the topics in LDA model"
   ]
  },
  {
   "cell_type": "code",
   "execution_count": 101,
   "metadata": {
    "colab": {},
    "colab_type": "code",
    "id": "JawR8yscLVNS"
   },
   "outputs": [
    {
     "name": "stdout",
     "output_type": "stream",
     "text": [
      "[(0,\n",
      "  '0.207*\"v\" + 0.127*\"B\" + 0.111*\"z\" + 0.104*\"g\" + 0.084*\"b\" + 0.079*\"f\" + '\n",
      "  '0.041*\"r\" + 0.034*\"MR\" + 0.018*\"G\" + 0.013*\"d\"'),\n",
      " (1,\n",
      "  '0.041*\"edu\" + 0.031*\"thank\" + 0.030*\"com\" + 0.029*\"mail\" + 0.022*\"e\" + '\n",
      "  '0.021*\"new\" + 0.019*\"offer\" + 0.019*\"send\" + 0.018*\"price\" + 0.018*\"post\"'),\n",
      " (2,\n",
      "  '0.408*\"y\" + 0.069*\"kid\" + 0.052*\"doctor\" + 0.044*\"cop\" + 0.036*\"South\" + '\n",
      "  '0.020*\"diet\" + 0.013*\"partner\" + 0.009*\"wash\" + 0.008*\"till\" + '\n",
      "  '0.004*\"declaration\"'),\n",
      " (3,\n",
      "  '0.037*\"key\" + 0.021*\"s\" + 0.020*\"public\" + 0.015*\"patient\" + 0.013*\"group\" '\n",
      "  '+ 0.010*\"S\" + 0.010*\"issue\" + 0.009*\"message\" + 0.009*\"year\" + '\n",
      "  '0.009*\"government\"'),\n",
      " (4,\n",
      "  '0.050*\"Israel\" + 0.032*\"list\" + 0.032*\"copy\" + 0.028*\"send\" + 0.018*\"day\" + '\n",
      "  '0.017*\"event\" + 0.017*\"package\" + 0.017*\"receive\" + 0.016*\"request\" + '\n",
      "  '0.014*\"address\"'),\n",
      " (5,\n",
      "  '0.206*\"c\" + 0.161*\"C\" + 0.142*\"o\" + 0.069*\"H\" + 0.060*\"w\" + 0.038*\"D\" + '\n",
      "  '0.036*\"k\" + 0.030*\"HP\" + 0.017*\"default\" + 0.016*\"Mail\"'),\n",
      " (6,\n",
      "  '0.103*\"drive\" + 0.056*\"card\" + 0.053*\"chip\" + 0.048*\"system\" + '\n",
      "  '0.037*\"driver\" + 0.036*\"disk\" + 0.025*\"sale\" + 0.024*\"computer\" + '\n",
      "  '0.022*\"power\" + 0.022*\"machine\"'),\n",
      " (7,\n",
      "  '0.061*\"t\" + 0.044*\"s\" + 0.022*\"like\" + 0.021*\"know\" + 0.021*\"don\" + '\n",
      "  '0.020*\"think\" + 0.014*\"good\" + 0.014*\"time\" + 0.013*\"go\" + 0.013*\"m\"'),\n",
      " (8,\n",
      "  '0.027*\"use\" + 0.019*\"number\" + 0.012*\"system\" + 0.010*\"high\" + 0.010*\"bit\" '\n",
      "  '+ 0.009*\"require\" + 0.009*\"source\" + 0.009*\"time\" + 0.008*\"type\" + '\n",
      "  '0.008*\"datum\"'),\n",
      " (9,\n",
      "  '0.732*\"ax\" + 0.071*\"q\" + 0.044*\"F\" + 0.011*\"t\" + 0.011*\"v\" + 0.011*\"p\" + '\n",
      "  '0.008*\"d\" + 0.007*\"SS\" + 0.006*\"g\" + 0.005*\"m\"'),\n",
      " (10,\n",
      "  '0.040*\"God\" + 0.029*\"evidence\" + 0.020*\"believe\" + 0.018*\"reason\" + '\n",
      "  '0.017*\"people\" + 0.017*\"claim\" + 0.016*\"s\" + 0.016*\"sense\" + 0.014*\"Jesus\" '\n",
      "  '+ 0.013*\"faith\"'),\n",
      " (11,\n",
      "  '0.094*\"space\" + 0.076*\"cpu\" + 0.042*\"launch\" + 0.041*\"Space\" + '\n",
      "  '0.033*\"notice\" + 0.030*\"internal\" + 0.030*\"orbit\" + 0.030*\"NASA\" + '\n",
      "  '0.029*\"Earth\" + 0.027*\"satellite\"'),\n",
      " (12,\n",
      "  '0.221*\"x\" + 0.093*\"X\" + 0.039*\"entry\" + 0.027*\"software\" + 0.022*\"mb\" + '\n",
      "  '0.021*\"Mac\" + 0.021*\"s\" + 0.021*\"mode\" + 0.020*\"server\" + '\n",
      "  '0.018*\"application\"'),\n",
      " (13,\n",
      "  '0.015*\"say\" + 0.013*\"people\" + 0.013*\"child\" + 0.012*\"year\" + '\n",
      "  '0.011*\"soldier\" + 0.011*\"village\" + 0.010*\"death\" + 0.010*\"attack\" + '\n",
      "  '0.009*\"man\" + 0.009*\"kill\"'),\n",
      " (14,\n",
      "  '0.078*\"publish\" + 0.066*\"past\" + 0.046*\"fire\" + 0.042*\"DC\" + '\n",
      "  '0.039*\"official\" + 0.035*\"magazine\" + 0.035*\"proof\" + 0.034*\"directory\" + '\n",
      "  '0.033*\"MA\" + 0.030*\"tank\"'),\n",
      " (15,\n",
      "  '0.039*\"right\" + 0.025*\"gun\" + 0.023*\"state\" + 0.022*\"law\" + '\n",
      "  '0.020*\"government\" + 0.018*\"people\" + 0.016*\"video\" + 0.015*\"weapon\" + '\n",
      "  '0.014*\"speak\" + 0.013*\"character\"'),\n",
      " (16,\n",
      "  '0.039*\"win\" + 0.038*\"game\" + 0.037*\"year\" + 0.036*\"team\" + 0.030*\"s\" + '\n",
      "  '0.030*\"play\" + 0.021*\"lose\" + 0.019*\"st\" + 0.016*\"wire\" + 0.015*\"season\"'),\n",
      " (17,\n",
      "  '0.257*\"Q\" + 0.054*\"screen\" + 0.050*\"display\" + 0.047*\"image\" + 0.037*\"port\" '\n",
      "  '+ 0.036*\"format\" + 0.028*\"cd\" + 0.022*\"blind\" + 0.022*\"convert\" + '\n",
      "  '0.022*\"MS\"'),\n",
      " (18,\n",
      "  '0.070*\"file\" + 0.064*\"program\" + 0.036*\"run\" + 0.033*\"window\" + 0.028*\"use\" '\n",
      "  '+ 0.020*\"Windows\" + 0.019*\"set\" + 0.018*\"ftp\" + 0.018*\"user\" + '\n",
      "  '0.018*\"section\"'),\n",
      " (19,\n",
      "  '0.081*\"W\" + 0.072*\"M\" + 0.069*\"S\" + 0.068*\"p\" + 0.064*\"m\" + 0.058*\"t\" + '\n",
      "  '0.043*\"d\" + 0.041*\"c\" + 0.041*\"x\" + 0.040*\"K\"')]\n"
     ]
    }
   ],
   "source": [
    "# View the top 10 words per topic\n",
    "pprint(lda.print_topics())"
   ]
  },
  {
   "cell_type": "code",
   "execution_count": 102,
   "metadata": {},
   "outputs": [
    {
     "data": {
      "text/plain": [
       "[(1, 0.20056535),\n",
       " (7, 0.30486175),\n",
       " (12, 0.176513),\n",
       " (13, 0.16696738),\n",
       " (16, 0.064020984),\n",
       " (18, 0.06706466)]"
      ]
     },
     "execution_count": 102,
     "metadata": {},
     "output_type": "execute_result"
    }
   ],
   "source": [
    "# Extract Document-Topic distributions for each document in corpus\n",
    "doc_lda = lda[corpus]\n",
    "doc_lda[0][0]"
   ]
  },
  {
   "cell_type": "code",
   "execution_count": 103,
   "metadata": {},
   "outputs": [
    {
     "data": {
      "text/plain": [
       "[(6, 0.037423767), (8, 0.19632193), (10, 0.366388), (15, 0.37319547)]"
      ]
     },
     "execution_count": 103,
     "metadata": {},
     "output_type": "execute_result"
    }
   ],
   "source": [
    "doc_lda[5][0]"
   ]
  },
  {
   "cell_type": "markdown",
   "metadata": {
    "colab_type": "text",
    "id": "gKEP0bIC3L0K"
   },
   "source": [
    "### What is topic Perplexity?\n",
    "Perplexity is a statistical measure of how well a probability model predicts a sample. As applied to LDA, for a given value of , you estimate the LDA model. Then given the theoretical word distributions represented by the topics, compare that to the actual topic mixtures, or distribution of words in your documents.\n",
    "\n",
    "### What is topic coherence?\n",
    "Topic Coherence measures score a single topic by measuring the degree of semantic similarity between high scoring words in the topic. These measurements help distinguish between topics that are semantically interpretable topics and topics that are artifacts of statistical inference.\n",
    "A set of statements or facts is said to be coherent, if they support each other. Thus, a coherent fact set can be interpreted in a context that covers all or most of the facts. An example of a coherent fact set is “the game is a team sport”, “the game is played with a ball”, “the game demands great physical efforts”"
   ]
  },
  {
   "cell_type": "code",
   "execution_count": 104,
   "metadata": {
    "colab": {},
    "colab_type": "code",
    "id": "xCjhr8k4LXSy"
   },
   "outputs": [
    {
     "name": "stdout",
     "output_type": "stream",
     "text": [
      "\n",
      "Perplexity:  -14.25614937314385\n",
      "\n",
      "Coherence Score:  0.5449053934648151\n"
     ]
    }
   ],
   "source": [
    "# Compute Perplexity\n",
    "print('\\nPerplexity: ', lda.log_perplexity(corpus))  # a measure of how good the model is. lower the better.\n",
    "\n",
    "# Compute Coherence Score\n",
    "coherence_model_lda = CoherenceModel(model=lda, \n",
    "                                     texts=df['lemmas'], \n",
    "                                     dictionary=id2word, \n",
    "                                     coherence='c_v')\n",
    "coherence_lda = coherence_model_lda.get_coherence()\n",
    "print('\\nCoherence Score: ', coherence_lda)"
   ]
  },
  {
   "cell_type": "markdown",
   "metadata": {
    "colab_type": "text",
    "id": "7UvfgYt93L0X"
   },
   "source": [
    "# Part 3: Interpret LDA results & Select the appropriate number of topics"
   ]
  },
  {
   "cell_type": "code",
   "execution_count": 112,
   "metadata": {
    "colab": {},
    "colab_type": "code",
    "id": "CYXi480VLaHK"
   },
   "outputs": [
    {
     "data": {
      "text/html": [
       "\n",
       "<link rel=\"stylesheet\" type=\"text/css\" href=\"https://cdn.rawgit.com/bmabey/pyLDAvis/files/ldavis.v1.0.0.css\">\n",
       "\n",
       "\n",
       "<div id=\"ldavis_el1133621914253201841396398837\"></div>\n",
       "<script type=\"text/javascript\">\n",
       "\n",
       "var ldavis_el1133621914253201841396398837_data = {\"mdsDat\": {\"x\": [0.26513855527902636, 0.3911229460317542, -0.4829834756712604, -0.3836623502975627, 0.043841398570835015, 0.0969851040292596, -0.1251384596838043, 0.1677158396436511, -0.03892489528034322, 0.2875694795790131, 0.46132748859580897, 0.034873313352474324, 0.39122120995845994, -0.3545895580534708, 0.2723770632955314, -0.15884614858945592, -0.40331075154162266, -0.3214514144400549, 0.06484309589990199, -0.2081084406781411], \"y\": [-0.22394171562491963, 0.01850417122875806, 0.08264039492568526, -0.3248409586483594, -0.4589697787832, -0.3251625886909004, -0.372895016057775, -0.025824927654145142, 0.09260885537967861, -0.3970646159201198, -0.07344672726378464, 0.46031649367762456, 0.22043217598619425, 0.33751711502972914, 0.3649294163870797, 0.41122308220747555, -0.12201142004545057, 0.1433539760329294, 0.2834857176140529, -0.09085364978055309], \"topics\": [1, 2, 3, 4, 5, 6, 7, 8, 9, 10, 11, 12, 13, 14, 15, 16, 17, 18, 19, 20], \"cluster\": [1, 1, 1, 1, 1, 1, 1, 1, 1, 1, 1, 1, 1, 1, 1, 1, 1, 1, 1, 1], \"Freq\": [20.5202324893246, 10.08640861869688, 9.16123076894629, 8.039332045675954, 6.906538310919666, 6.560834974733401, 6.261973266793687, 4.792283268721512, 4.112459954716916, 4.01203354071364, 3.2953032544460035, 3.2472332210925035, 3.1788069166220825, 3.1038535458326373, 2.234990891584619, 1.4863900479310437, 1.1132124303394062, 0.7973168311697143, 0.7058646202063581, 0.38370100153308684]}, \"tinfo\": {\"Term\": [\"ax\", \"x\", \"v\", \"c\", \"t\", \"W\", \"o\", \"Q\", \"g\", \"M\", \"q\", \"p\", \"S\", \"m\", \"B\", \"z\", \"r\", \"s\", \"X\", \"F\", \"b\", \"drive\", \"K\", \"d\", \"y\", \"f\", \"h\", \"use\", \"w\", \"e\", \"don\", \"ve\", \"lot\", \"doesn\", \"physical\", \"didn\", \"belief\", \"maybe\", \"isn\", \"easy\", \"pretty\", \"wouldn\", \"bike\", \"guy\", \"fine\", \"Don\", \"motherboard\", \"put\", \"fit\", \"box\", \"choice\", \"watch\", \"haven\", \"ride\", \"alt\", \"slow\", \"direct\", \"recommend\", \"edge\", \"couldn\", \"get\", \"bad\", \"explain\", \"think\", \"will\", \"go\", \"couple\", \"like\", \"hear\", \"want\", \"sure\", \"see\", \"little\", \"tell\", \"know\", \"let\", \"turn\", \"t\", \"thing\", \"try\", \"s\", \"time\", \"good\", \"look\", \"problem\", \"come\", \"way\", \"work\", \"m\", \"people\", \"say\", \"d\", \"find\", \"serial\", \"function\", \"scan\", \"process\", \"encryption\", \"compare\", \"block\", \"technology\", \"newsgroup\", \"release\", \"author\", \"Dr\", \"avoid\", \"picture\", \"signal\", \"clipper\", \"method\", \"reduce\", \"main\", \"operate\", \"hole\", \"Iran\", \"object\", \"data\", \"following\", \"factor\", \"mirror\", \"proper\", \"flame\", \"surface\", \"produce\", \"value\", \"datum\", \"require\", \"number\", \"current\", \"rate\", \"use\", \"hardware\", \"type\", \"size\", \"code\", \"high\", \"source\", \"low\", \"bit\", \"note\", \"result\", \"system\", \"large\", \"non\", \"memory\", \"case\", \"time\", \"read\", \"allow\", \"problem\", \"etc\", \"need\", \"provide\", \"W\", \"M\", \"K\", \"h\", \"J\", \"SC\", \"MD\", \"P\", \"PS\", \"VW\", \"XT\", \"Director\", \"DE\", \"RT\", \"Militia\", \"FO\", \"n\", \"ee\", \"L\", \"S\", \"p\", \"T\", \"w\", \"o\", \"ST\", \"k\", \"U\", \"c\", \"e\", \"r\", \"m\", \"D\", \"d\", \"g\", \"x\", \"t\", \"F\", \"s\", \"G\", \"C\", \"ax\", \"q\", \"SS\", \"MO\", \"IP\", \"rm\", \"IV\", \"glad\", \"bounce\", \"SR\", \"GT\", \"GN\", \"thanks\", \"be\", \"LX\", \"BK\", \"HQ\", \"publicly\", \"mi\", \"rn\", \"simms\", \"virginia\", \"F\", \"ns\", \"p\", \"v\", \"max\", \"N\", \"EI\", \"AX\", \"d\", \"T\", \"e\", \"g\", \"t\", \"m\", \"God\", \"evidence\", \"Jesus\", \"faith\", \"Bible\", \"argument\", \"Christians\", \"religion\", \"conclusion\", \"pin\", \"Christ\", \"revelation\", \"christian\", \"universe\", \"Christianity\", \"learn\", \"Christian\", \"Lord\", \"moral\", \"interpretation\", \"gift\", \"necessarily\", \"piece\", \"context\", \"scripture\", \"assumption\", \"Church\", \"objective\", \"male\", \"acquire\", \"religious\", \"claim\", \"sense\", \"Law\", \"vs\", \"reject\", \"believe\", \"understand\", \"exist\", \"reason\", \"prove\", \"word\", \"human\", \"statement\", \"life\", \"man\", \"true\", \"fact\", \"people\", \"point\", \"agree\", \"say\", \"s\", \"mean\", \"talk\", \"come\", \"know\", \"thing\", \"soldier\", \"village\", \"woman\", \"war\", \"terrorist\", \"engine\", \"Armenians\", \"turkish\", \"eat\", \"withdraw\", \"Mark\", \"belt\", \"greek\", \"peace\", \"land\", \"destroy\", \"armenian\", \"nation\", \"camp\", \"mark\", \"Turks\", \"town\", \"Turkey\", \"blood\", \"trial\", \"building\", \"Volume\", \"wear\", \"cold\", \"girl\", \"attack\", \"civilian\", \"child\", \"die\", \"kill\", \"death\", \"city\", \"man\", \"say\", \"live\", \"country\", \"year\", \"force\", \"people\", \"million\", \"world\", \"place\", \"old\", \"leave\", \"s\", \"come\", \"key\", \"public\", \"patient\", \"private\", \"security\", \"algorithm\", \"RSA\", \"community\", \"United\", \"wait\", \"enforcement\", \"States\", \"weight\", \"possibly\", \"treatment\", \"Washington\", \"DES\", \"health\", \"digital\", \"disease\", \"Research\", \"pull\", \"zone\", \"trap\", \"anti\", \"procedure\", \"expensive\", \"generate\", \"meeting\", \"Clipper\", \"National\", \"April\", \"license\", \"service\", \"LA\", \"press\", \"job\", \"group\", \"organization\", \"message\", \"product\", \"issue\", \"interest\", \"s\", \"government\", \"order\", \"U\", \"S\", \"year\", \"information\", \"law\", \"mail\", \"offer\", \"model\", \"graphic\", \"gov\", \"network\", \"purchase\", \"plus\", \"tax\", \"market\", \"Robert\", \"privacy\", \"tap\", \"percent\", \"Saturn\", \"Russia\", \"III\", \"spacecraft\", \"reading\", \"London\", \"solar\", \"summary\", \"Motorola\", \"hp\", \"pixel\", \"radar\", \"summer\", \"Illinois\", \"Black\", \"band\", \"edu\", \"reply\", \"com\", \"interested\", \"email\", \"price\", \"hi\", \"sell\", \"anybody\", \"thank\", \"sound\", \"advance\", \"news\", \"net\", \"address\", \"book\", \"send\", \"info\", \"post\", \"new\", \"e\", \"information\", \"look\", \"include\", \"like\", \"good\", \"know\", \"ask\", \"game\", \"team\", \"play\", \"lose\", \"st\", \"wire\", \"season\", \"fan\", \"series\", \"York\", \"insist\", \"average\", \"score\", \"excellent\", \"left\", \"cable\", \"nd\", \"external\", \"Toronto\", \"Division\", \"insert\", \"Computer\", \"sport\", \"division\", \"ring\", \"electronic\", \"wing\", \"regular\", \"hey\", \"Mike\", \"win\", \"round\", \"pick\", \"stuff\", \"New\", \"year\", \"second\", \"hit\", \"close\", \"s\", \"run\", \"good\", \"ground\", \"board\", \"lead\", \"point\", \"gun\", \"video\", \"weapon\", \"speak\", \"character\", \"oh\", \"trade\", \"family\", \"crime\", \"bomb\", \"firearm\", \"mouse\", \"citizen\", \"shoot\", \"wasn\", \"count\", \"font\", \"defense\", \"route\", \"topic\", \"justify\", \"freedom\", \"abuse\", \"link\", \"okay\", \"gang\", \"civil\", \"captain\", \"Northern\", \"yeah\", \"action\", \"right\", \"arm\", \"law\", \"state\", \"government\", \"safety\", \"Mr\", \"self\", \"grant\", \"carry\", \"control\", \"people\", \"person\", \"talk\", \"cut\", \"death\", \"case\", \"file\", \"Windows\", \"ftp\", \"site\", \"bus\", \"telnet\", \"Sun\", \"manual\", \"load\", \"warranty\", \"cool\", \"hot\", \"heat\", \"cycle\", \"resource\", \"map\", \"industry\", \"fuel\", \"nuclear\", \"configuration\", \"everybody\", \"suck\", \"host\", \"utility\", \"thermal\", \"assembly\", \"management\", \"solid\", \"lab\", \"typically\", \"program\", \"window\", \"user\", \"feature\", \"section\", \"run\", \"set\", \"available\", \"use\", \"update\", \"Mac\", \"write\", \"work\", \"need\", \"open\", \"allow\", \"help\", \"try\", \"entry\", \"mb\", \"server\", \"SCSI\", \"controller\", \"IDE\", \"criminal\", \"NSA\", \"printer\", \"motif\", \"MB\", \"door\", \"Apple\", \"Office\", \"bug\", \"BJ\", \"NIST\", \"Quadra\", \"std\", \"mit\", \"extension\", \"warning\", \"swap\", \"introduce\", \"MIT\", \"bj\", \"tar\", \"wow\", \"bolt\", \"contrib\", \"X\", \"mode\", \"software\", \"x\", \"application\", \"Mac\", \"version\", \"FAQ\", \"output\", \"instal\", \"line\", \"build\", \"info\", \"input\", \"r\", \"s\", \"support\", \"bit\", \"machine\", \"Israel\", \"copy\", \"package\", \"review\", \"Paul\", \"advice\", \"St\", \"manager\", \"pub\", \"greatly\", \"son\", \"father\", \"ensure\", \"buyer\", \"Blue\", \"mailing\", \"ATI\", \"June\", \"boy\", \"Code\", \"submit\", \"cap\", \"Sunday\", \"ozone\", \"expand\", \"bible\", \"registration\", \"violence\", \"Man\", \"guilty\", \"Chicago\", \"request\", \"event\", \"list\", \"period\", \"date\", \"send\", \"San\", \"receive\", \"document\", \"address\", \"day\", \"paper\", \"letter\", \"John\", \"complete\", \"return\", \"section\", \"write\", \"appear\", \"th\", \"B\", \"z\", \"b\", \"f\", \"MR\", \"rider\", \"decent\", \"club\", \"travel\", \"specification\", \"automatically\", \"movie\", \"Adobe\", \"park\", \"oo\", \"cylinder\", \"Union\", \"motto\", \"Time\", \"height\", \"television\", \"Dean\", \"explode\", \"ain\", \"emphasis\", \"hr\", \"Type\", \"VR\", \"Stadium\", \"LE\", \"v\", \"ah\", \"V\", \"g\", \"G\", \"O\", \"r\", \"d\", \"drive\", \"card\", \"chip\", \"disk\", \"sale\", \"supply\", \"secure\", \"floppy\", \"upgrade\", \"listen\", \"master\", \"sink\", \"secret\", \"clock\", \"hello\", \"predict\", \"soul\", \"usage\", \"amp\", \"brother\", \"hook\", \"shape\", \"workstation\", \"Power\", \"unable\", \"Mb\", \"adapter\", \"camera\", \"up\", \"Virginia\", \"driver\", \"switch\", \"unit\", \"speed\", \"computer\", \"machine\", \"system\", \"transfer\", \"hard\", \"power\", \"pc\", \"IBM\", \"new\", \"phone\", \"buy\", \"work\", \"use\", \"need\", \"thank\", \"Q\", \"screen\", \"display\", \"port\", \"format\", \"cd\", \"blind\", \"convert\", \"MS\", \"R\", \"BC\", \"System\", \"pointer\", \"capture\", \"Microsoft\", \"Systems\", \"org\", \"enable\", \"rs\", \"cartridge\", \"Graphics\", \"compiler\", \"menu\", \"app\", \"COM\", \"Charles\", \"row\", \"Joe\", \"Macintosh\", \"TC\", \"image\", \"II\", \"X\", \"product\", \"draw\", \"cpu\", \"launch\", \"Space\", \"notice\", \"internal\", \"orbit\", \"NASA\", \"Earth\", \"satellite\", \"Bill\", \"mission\", \"shuttle\", \"rocket\", \"Bay\", \"coverage\", \"Jose\", \"Montreal\", \"flight\", \"Shuttle\", \"lunar\", \"phase\", \"probability\", \"space\", \"crew\", \"Station\", \"SF\", \"Mission\", \"Ken\", \"Area\", \"engineering\", \"vehicle\", \"option\", \"station\", \"International\", \"schedule\", \"mass\", \"H\", \"HP\", \"default\", \"Mail\", \"locate\", \"Thanks\", \"cc\", \"adjust\", \"SALE\", \"ultra\", \"dec\", \"C\", \"tom\", \"c\", \"k\", \"o\", \"D\", \"w\", \"hi\", \"CX\", \"Y\", \"cx\", \"u\", \"Z\", \"l\", \"CK\", \"LK\", \"HZ\", \"GC\", \"MC\", \"N\", \"n\", \"publish\", \"past\", \"DC\", \"official\", \"magazine\", \"proof\", \"directory\", \"MA\", \"tank\", \"air\", \"imply\", \"rational\", \"Koresh\", \"economic\", \"gas\", \"December\", \"writing\", \"Group\", \"historical\", \"peer\", \"BATF\", \"conceal\", \"Avenue\", \"imagination\", \"cooperation\", \"November\", \"definite\", \"developer\", \"Berlin\", \"Massachusetts\", \"fire\", \"Germany\", \"y\", \"kid\", \"doctor\", \"cop\", \"South\", \"diet\", \"partner\", \"wash\", \"till\", \"declaration\", \"alert\", \"vitamin\", \"l\", \"u\", \"Y\", \"N\", \"Z\", \"CX\", \"cx\", \"CK\", \"j\", \"MV\", \"HZ\", \"MC\", \"GC\", \"CJ\", \"WW\", \"QS\", \"YX\", \"MT\", \"LK\"], \"Freq\": [70130.0, 13020.0, 8685.0, 6479.0, 22306.0, 8847.0, 5243.0, 4557.0, 7516.0, 7811.0, 6846.0, 8472.0, 8268.0, 10534.0, 4679.0, 4117.0, 6381.0, 19740.0, 3775.0, 6205.0, 3108.0, 2745.0, 4374.0, 8097.0, 1864.0, 2908.0, 4238.0, 5408.0, 2711.0, 5962.0, 5150.391858892625, 2536.742107724848, 1541.1003312451303, 1437.8744984015484, 1323.9110746525907, 1179.2615353156689, 1004.6233645391007, 891.9545205393214, 836.5420341793425, 769.1132549452745, 706.8053729140518, 595.5927888580798, 570.7723465050296, 513.6848396703906, 485.64189079820784, 457.00045203978294, 452.5961606133425, 446.28804363568247, 440.28089311676746, 415.23685291623525, 415.05354707079374, 400.99283346039874, 393.5846253168563, 378.5397169560528, 374.0407563976993, 346.0507903700077, 330.2118222571255, 326.6053466168522, 318.23969123838026, 310.2407613700061, 2832.733983867585, 1448.282127403208, 906.5142744970236, 4808.385150589008, 1948.4171879184578, 3258.2072816864147, 604.1399289745564, 5368.689373179709, 1501.9566512627403, 2868.497346989517, 1885.9683407897005, 1572.899371115446, 1352.321830317412, 2208.8726564535814, 5222.760847326037, 1507.8283569160387, 860.0623196416889, 14889.035677790818, 2757.8502737022977, 2389.29136369239, 10872.553177521568, 3429.7077981684865, 3453.4063245212155, 2371.132418524162, 2264.7542487073742, 2548.700182070565, 2035.9125223608655, 2262.603065547582, 3065.076333984599, 2289.9032871335626, 1777.2146501407424, 1904.1196600705368, 1512.1172925682756, 799.9320864693027, 665.9168811513762, 651.139444458459, 632.4884112540944, 627.8793472285726, 604.0596770429754, 592.4879522439019, 577.4171341692864, 564.0857924332989, 538.0328655744305, 505.7440738096006, 431.9967556108896, 431.7240183424343, 431.715654399535, 424.1801614430678, 421.14198016468873, 403.88213081387147, 403.0880597533956, 388.2865942078013, 378.46651402548673, 370.9692322596564, 370.3009000732017, 368.8293496378829, 363.7289669063971, 346.9913744583552, 346.74814876099947, 326.3155117999255, 323.3154298199707, 312.65688534179174, 305.052858405046, 657.2384651882888, 659.5929011279138, 909.7266558574231, 1060.7131125365615, 2309.54769308743, 758.6993585206494, 868.6364226416428, 3225.101695382248, 617.9162967714811, 970.6658403067299, 515.4157569448223, 671.7539062651698, 1209.5446370913182, 1060.6639918551864, 792.7696980960823, 1160.6772796857458, 670.8492577254935, 760.2044206736717, 1491.9486094783495, 817.8593448958198, 753.4876430375274, 606.9670842977619, 867.1784671101669, 1029.964908702286, 789.2867172991691, 693.9024103079921, 800.7566201846861, 676.7622576517102, 702.0140922137559, 658.8067464414864, 8845.804291937106, 7810.1735131493415, 4373.10480922547, 4236.556656482854, 4025.216560965642, 977.5303627864273, 737.6181215063783, 286.3352706387706, 200.75548607911787, 128.821842769067, 102.51224799327538, 73.61814829962245, 69.43961985182375, 65.43487043204415, 36.46110005055748, 28.266061816358413, 2954.5894718364293, 19.79568395895207, 1145.7048123061875, 7516.904282077256, 7438.1971884416425, 2159.9240127531216, 2137.2977660733122, 3891.032702419649, 178.4034849241361, 841.2132632958766, 1514.754631869203, 4521.129301284595, 4098.7617206761, 4295.59165163791, 6947.200440165287, 1036.275309126268, 4667.308212935767, 3152.149504651254, 4465.712294153944, 6323.353204210359, 2006.3245670123465, 2868.4431443978287, 394.92227042761397, 452.2151687788121, 70128.5612214301, 6844.522247740766, 659.1549692444538, 374.44276591979013, 347.52650451503985, 335.9173654400509, 331.82617325798344, 316.3465928281638, 288.3125532219499, 274.00359206626854, 236.7769448879506, 226.02182456727735, 225.57443681863234, 207.0396836683364, 130.98498152039676, 104.72700394295357, 104.62053029630479, 103.03960120763878, 60.75471447777992, 45.760416314809795, 15.45322678091607, 11.612140648579176, 4197.253534574531, 92.32073387606633, 1033.2648587022052, 1043.8626820744737, 0.189843912082035, 0.18760462008560633, 0.18737412842745538, 0.18731832357955808, 801.3934159107923, 240.75170834364394, 518.4697825650136, 527.5950121955046, 1092.3857695749275, 520.6487967905979, 3283.384184822264, 2420.7050096991215, 1173.5664277617595, 1030.5409593066724, 868.4307179747897, 761.5787756863658, 749.9017699591838, 739.8378532993742, 576.3015443883614, 561.522709512677, 434.6718415875376, 411.9596869614206, 374.30914307647083, 335.34343435890116, 333.45716826722384, 312.28537425796134, 295.8174656524856, 291.74827341076366, 287.09501252494334, 282.82675081094527, 273.7692526329793, 263.56533801561505, 228.14332640151142, 223.123760831018, 209.1463946292917, 207.38457329479496, 182.51111759649336, 180.381363471373, 172.4698794948647, 170.2073102325595, 471.42880431010656, 1364.2066017523098, 1313.7717868603422, 245.11508591319532, 510.44396914019586, 253.15074648825706, 1609.8463400195044, 538.0932305589608, 970.1925498195948, 1488.7911078859888, 487.1466540812843, 616.2945304981288, 571.8082784320054, 407.33525312801777, 719.8600355774521, 828.0447262427613, 681.2737713172853, 772.0702138145871, 1366.5449449809698, 856.494977480793, 553.6963084377227, 838.3899029940653, 1343.09746109086, 674.1874114364865, 585.8525119028278, 627.289225752741, 644.3809670958824, 601.5540806145007, 893.5362942241622, 893.3433498385554, 673.5669578283288, 672.4850573032267, 580.1868607436211, 544.8752360806819, 475.2547371405818, 455.26064773914334, 444.7158476834346, 441.2591154608, 418.8193049496898, 402.47627500950165, 398.8752166017828, 387.6709776151835, 367.4302672968726, 363.4599871357839, 362.4404241686871, 350.6191052223113, 350.38602170857837, 347.90540175586693, 340.0592029561109, 323.05789859282913, 312.3233201570865, 277.2530215396305, 275.3568025466437, 272.650086126981, 266.5261033817397, 254.8359735168638, 254.51120320955553, 245.23429740864276, 744.3110248381406, 429.4973683664118, 994.1561726733652, 612.0788354790848, 735.8933802279009, 752.3283698931793, 466.26426386684966, 737.4924677783226, 1164.497316377973, 595.2472581272082, 491.71538236826177, 972.4800245409724, 550.8532004654465, 1015.0127984436557, 453.7026454794327, 487.50117421458106, 490.632280944494, 479.19157409337697, 437.92505685640015, 451.92789920601507, 433.59290589740976, 2795.009092347352, 1472.3664922097064, 1139.8178508380977, 562.417743131136, 548.2468845177862, 476.40012563303543, 464.8523165953639, 462.23871444400464, 457.5762021434231, 455.463938678178, 439.3956065701338, 436.0225982227651, 423.9050608721983, 415.6775352182318, 404.9013584551004, 398.3047291574101, 388.41025410877285, 381.84912211863474, 368.42818754379743, 367.09467665450956, 353.0574713087339, 344.13073205561506, 342.7185505189634, 342.6962518189159, 335.6049178720415, 323.70817933175783, 304.4404700313875, 294.5358876280559, 282.95918058658447, 267.42855280164775, 566.4146982817024, 623.6610880783569, 486.72584781530117, 496.41713377472075, 512.7849006072342, 533.0019718521493, 454.7820569346701, 968.7848069496376, 473.23551635153103, 658.4193430766627, 467.2034748564447, 712.5927497144378, 444.10650218717353, 1558.7359567973413, 642.9366818100524, 593.1329867853195, 584.0010786518574, 749.9319576771175, 652.4096697479791, 518.4617606277326, 486.2876193129662, 1633.635541825666, 1091.0053116252038, 866.6741397255652, 610.2179035312851, 556.9046400575363, 477.0995221633579, 420.66088567574525, 410.4143894040088, 372.0227366424393, 319.9546729410498, 302.87878289167645, 216.4745315043753, 210.8383976900425, 203.5015009418908, 200.99525895797228, 195.8742702303792, 173.55615426349434, 166.2538397525897, 159.83181728696675, 157.08478883409924, 156.1183070084381, 153.57734988090337, 151.73674286548805, 148.25645668350504, 147.96589677931763, 143.73769329570428, 133.24509430025367, 130.79891270454402, 125.88574966635625, 124.05799469683562, 2319.2827007914148, 646.5814050999628, 1698.9147910123802, 861.7017403186571, 806.7785022518407, 1048.6405027023775, 574.693838590019, 946.2595368103014, 473.8281647936439, 1783.8782177426028, 763.8093414873159, 649.888700351889, 475.28067192056886, 538.4043392876716, 744.721754053549, 777.1380959467713, 1056.3045218968637, 579.6242395842827, 1016.0881178497158, 1217.2045874163327, 1228.8001896598125, 645.8748216791313, 699.6938736312331, 618.7822836327913, 750.960591670603, 673.024562626744, 626.2199898619265, 548.8448788583348, 1877.8567830249733, 1741.3134367206578, 1451.3007984365768, 1038.9970028145565, 937.9227217592991, 794.9761916463103, 728.3798591921342, 529.4741303875564, 525.4513145117478, 429.8088545186171, 419.13084432258523, 419.047950930209, 400.2996736320463, 348.8585982246472, 346.3555097494094, 317.23248798213893, 315.37605464737277, 305.60083880562456, 291.6965329232133, 260.21349019776164, 255.20471284917633, 250.02314588934993, 247.2640094423391, 246.41406703911096, 245.9347041770343, 241.44390788350665, 237.943087712469, 234.5760968020454, 231.12231190208092, 226.91516429710543, 1910.4126724547816, 375.21075894290317, 506.4680889633167, 559.0447171663333, 684.1693504025087, 1801.8583690472908, 577.2657523424859, 340.0532396358029, 482.295061861045, 1480.4180491448842, 576.1451632412545, 644.6232258854927, 340.30547825245026, 333.9838648265886, 329.8045004224701, 353.1532925659848, 1176.0748591148324, 756.0158371016348, 702.8820128654035, 645.9080842519011, 613.3807120277031, 601.1005762011046, 533.6030676592635, 512.3668422679418, 490.1507963151336, 473.8300077828489, 463.7814060526563, 454.2436551244051, 400.06049046672626, 357.2170742341628, 334.53179148009394, 317.48215709203345, 313.56739230177607, 308.94258584321636, 307.45144715678595, 278.158773487119, 275.7271138783477, 245.20030692003837, 238.9898735146787, 223.3547145871953, 211.75193007221452, 207.0047740009577, 202.28145140281813, 197.96957332798823, 195.75154709169644, 194.6849157191638, 443.7824739436115, 1861.601385813909, 432.23790452263137, 1043.4399567136172, 1122.4715755425775, 977.5123419108321, 491.8498492306344, 411.45471540182393, 461.8732594738412, 413.8203489464133, 458.4488055269005, 549.4589810716424, 848.8203994543463, 488.32610027244334, 492.94632251488525, 376.0702638624286, 403.8239983785729, 379.7249522751685, 2747.6450259534117, 766.4509752202358, 706.0364793397824, 691.98113528023, 605.7278336869186, 604.8354285684708, 504.1690458809875, 481.75268617826094, 473.67424842979443, 443.20701420403606, 341.1867799860875, 333.04444234629517, 318.0159775160937, 294.05454183694906, 287.16161523018604, 281.4095831648043, 275.2867270161219, 255.4877770496263, 238.9466248606925, 222.74348774335172, 211.85093241241606, 211.24768526901826, 191.0041777633843, 184.66889468764552, 181.75549100400872, 178.59794806166494, 177.98515980177055, 168.080694924263, 163.1778222270783, 159.57177369739074, 2501.0850288004585, 1283.5663291750527, 703.1593026540312, 405.291969818634, 694.8090344754165, 1410.397085328339, 752.983524783282, 670.9778112750491, 1109.1844030908233, 263.2160082998652, 355.11275235490643, 380.7753946945955, 440.1122561949601, 415.17784596917403, 325.4651036918058, 336.76631856801134, 350.9303070652185, 340.49133860589114, 1526.8674976802401, 847.0713546413746, 790.0633458178712, 664.9835188762816, 594.3374074412105, 482.52306385267866, 450.6221507539373, 446.9416710303091, 380.537381730444, 322.47005208955864, 317.2699169096759, 313.64516437020416, 297.21701021960587, 294.91908339056465, 175.88014445020252, 175.34821460867258, 159.67289977396726, 131.28776140999864, 129.48901074298234, 128.44201870955482, 127.55913728971551, 119.23530792073257, 117.82299123434896, 112.04519534009424, 111.02795809277742, 110.52238789378563, 105.53736252656644, 96.57516511476953, 84.95188659126975, 83.34760470490558, 3579.4886654760753, 794.7107840446104, 1038.7482285831663, 8552.755488770013, 711.1788689727127, 823.8443219213387, 642.703091809293, 257.65903072224006, 238.7281604459427, 301.6150089591494, 487.7118518683666, 434.3519743448505, 349.7615669786708, 274.48334499420946, 571.2182628378836, 814.6263180024368, 354.43501362619924, 364.11605388973425, 304.49711661913165, 1879.2123010808025, 1199.2055484287557, 647.3368708024343, 510.972875788736, 501.3618695471781, 441.763383228324, 408.4941248561749, 377.67865338431284, 297.0726494069831, 290.09203050254604, 279.94341204857824, 273.4751565720517, 242.46552335793598, 223.32909579099334, 220.70272851173965, 201.24342682346122, 193.16145311806753, 191.72742089676552, 191.38419964043513, 185.79748290595887, 183.50772494575398, 181.68275972869745, 177.0744333935726, 173.60038049115047, 173.0574082015843, 170.07360840880295, 165.21018471743704, 164.4324798384572, 156.13111323814317, 152.02217330202407, 399.202360578406, 618.176993162223, 653.4876298666142, 1202.0657138102872, 375.85784927978557, 469.6300717272481, 1075.6517499182826, 336.3871579561303, 639.1344011520205, 274.25219144138697, 529.8586139576254, 664.7353991424447, 292.2715366125591, 236.43353231916672, 330.800370694323, 331.4104321075066, 417.9919699951371, 327.767765988487, 331.80827678169953, 294.6189506658597, 284.0209320587351, 4677.817749394732, 4115.900817269428, 3106.3859238057134, 2907.071528889636, 1242.3725676097777, 382.69419652266686, 260.78912775023, 257.42191874854416, 214.7917460859556, 201.3818063237851, 163.3154125800241, 136.36982116504575, 118.03913546180439, 115.6160654547089, 113.1076122482686, 111.0083682897822, 103.50585442215609, 100.303549740447, 97.81574723420107, 96.52681299313855, 94.97837201645258, 85.03798230415934, 79.75253931634558, 76.22758788820606, 73.29113407135895, 71.36280284832895, 62.93724400062954, 55.28232039048905, 53.25532805854777, 44.00597499077567, 7639.740568032575, 191.11822755822016, 454.64423159965855, 3835.392310940233, 683.6162341876749, 215.1360678899473, 1501.078479581497, 476.3766187413006, 2743.67825354903, 1486.3091542773561, 1419.913362765287, 962.5200001164383, 671.3586965347863, 479.29094433102483, 346.632354015349, 325.5490675464525, 306.2230501314307, 295.68283252724655, 281.48226583125864, 268.54282406367156, 253.56324340424408, 218.0890252103562, 166.15285600843785, 164.69092795814342, 164.4168722342453, 147.26949059202423, 145.501312367433, 141.4185180364165, 140.21723238875282, 134.92964411994447, 117.00204602614802, 116.90965278824994, 116.57398504337323, 116.26157366697856, 93.01969702647298, 90.69764904749705, 82.34809829586406, 76.45983621126163, 990.7141567876376, 275.3676756446429, 300.90502775568024, 465.8503997240018, 631.2171136176796, 577.3323061933058, 1290.521573207816, 298.9449968878969, 517.4186943338599, 596.7212248949363, 313.71125367267655, 179.69950469746405, 465.0817990598826, 242.0587542829978, 313.4306152559938, 420.0583126599886, 450.35679877526724, 320.1391354074152, 264.8834171275206, 4556.276512588777, 959.579561672443, 886.8919271707775, 653.592531794577, 646.2135422267477, 492.6777018614851, 396.53380837476794, 383.8442508301594, 380.91025213574216, 366.74066888068995, 285.6406749581068, 283.3173323852672, 272.0776255577857, 220.1447966641011, 204.11758805546305, 191.98156850300668, 182.3135830897031, 177.2594201107781, 161.8080427133982, 157.98310672997394, 157.72815277004972, 146.34058847531688, 144.80265316021314, 130.83045228630652, 111.50863732405037, 109.05453644683885, 108.55596476081834, 107.34272391614846, 102.79308517657037, 90.76588522432873, 837.6822842449785, 294.3175190198979, 194.3437758076753, 129.3188005446163, 113.41310811808025, 1007.003293778588, 562.9045095250174, 539.306088356058, 443.95889170203935, 403.7011052173544, 396.6554504495003, 396.3064847255268, 386.43255032120527, 357.4811149814155, 327.00160544129204, 318.3711686167632, 221.15266210057652, 219.64533467695304, 176.98655336185496, 174.82841931166908, 167.87903946716753, 149.34360981961117, 144.03270666579365, 134.90287763687095, 131.838405826976, 107.9387488697483, 106.52336177505762, 1249.8583439437095, 96.8012740174194, 90.36230810243899, 88.7918512011118, 83.30563778409352, 77.44509323871925, 76.92914683540873, 72.288451014232, 293.1771227304437, 280.17741473075745, 173.93312180099502, 109.82508779575937, 130.27860634725644, 101.25842261107056, 655.616319585329, 289.5364628764876, 163.4994952612, 151.03837341042177, 147.75375682688406, 130.7563020619606, 125.20473077630226, 47.610073186162346, 34.50206877941731, 32.07308607710364, 20.93280144752365, 1529.4628777375099, 4.301961153210957, 1956.713168123264, 344.10507867652143, 1350.7974820539027, 356.5963440373458, 572.6822893449524, 41.97953881777601, 0.0677446018639061, 0.06774630347577268, 0.0677256638739697, 0.06776038280238447, 0.06772732661652968, 0.0677557832677705, 0.06770041609992904, 0.06770042041874089, 0.06769691354352347, 0.06769258177524383, 0.06769054761486525, 0.06771192573349359, 0.12441986439314787, 654.1180099391064, 555.9367724698782, 349.74744130692045, 327.44476247978764, 297.4535881768722, 294.86507259402833, 288.1086469452639, 280.50663056056254, 253.73859556520804, 245.30945256053948, 214.6076995181036, 202.9477120785992, 197.09762551678665, 188.55816764113354, 184.2609931025971, 153.5009974415934, 131.61567967518437, 128.4620587822033, 114.71396619037307, 95.98777409791491, 88.82597575210343, 80.49698374118078, 68.51571441947195, 64.90785513151796, 62.37090673939446, 54.63428945500622, 52.521671191975045, 51.37632438163723, 42.75296753628197, 41.44699936087668, 388.01295133175574, 159.08204664272404, 1863.0348197696662, 314.62973898238926, 237.26572909752602, 199.58582322858416, 163.24459770341286, 93.31419250853442, 58.44361694677838, 41.10263696143798, 34.568589281917184, 16.305347926959634, 16.237013509665857, 7.501922613204361, 0.0670668925855772, 0.06704132011974952, 0.06699397447836827, 0.06698275534877318, 0.06696671020603995, 0.06695221553953455, 0.06694057241912113, 0.06692721670834344, 0.06692015850824991, 0.06691975530129521, 0.06692427787002417, 0.06692272323702358, 0.06692180043347778, 0.06691811337606733, 0.06691944770011328, 0.06691866207006754, 0.06691702430161238, 0.06691447619992962, 0.06692085684606836], \"Total\": [70130.0, 13020.0, 8685.0, 6479.0, 22306.0, 8847.0, 5243.0, 4557.0, 7516.0, 7811.0, 6846.0, 8472.0, 8268.0, 10534.0, 4679.0, 4117.0, 6381.0, 19740.0, 3775.0, 6205.0, 3108.0, 2745.0, 4374.0, 8097.0, 1864.0, 2908.0, 4238.0, 5408.0, 2711.0, 5962.0, 5152.060509180413, 2538.4107580126342, 1542.7689815329175, 1439.5431486893356, 1325.5797250901678, 1180.930185603456, 1006.2920148451252, 893.6231708331619, 838.2106844671299, 770.781905248816, 708.4740232018391, 597.2614391458671, 572.440996792817, 515.353489958178, 487.3105410859951, 458.66910233636486, 454.2648109402274, 447.95669394155954, 441.9495436157936, 416.90550322213414, 416.72219738314374, 402.6614837644612, 395.25327570503873, 380.2083672438401, 375.70940672838844, 347.71944070524285, 331.88047265382164, 328.2739969174988, 319.9083415417915, 311.9094116577934, 2999.9485342168514, 1511.0856374717644, 935.6176022555512, 5337.637775461166, 2087.15344923141, 3577.8784445041815, 620.2520394468801, 6302.660881083717, 1627.824902851549, 3241.296080908894, 2091.1915189054025, 1730.6198222370037, 1479.9770455538035, 2535.045062372894, 6494.883514445791, 1683.630061711871, 912.9622535016151, 22306.173218199514, 3361.010749042861, 2917.275378388641, 19740.42772504201, 5005.450990586338, 5085.392437841452, 3215.572226928359, 3224.3925770064316, 3792.3926441921917, 3052.6796991996157, 3781.92760740302, 10534.324137563885, 5724.068947663404, 3781.6199119807216, 8097.225508006845, 3026.4631021333685, 801.5968405217143, 667.5816351977346, 652.8041985324816, 634.1531653004529, 629.544101274931, 605.7244311036513, 594.1527063009897, 579.0818882156449, 565.7505465024465, 539.6976196207889, 507.40882786475356, 433.66150968069644, 433.3887723975873, 433.3804085462885, 425.84491551448474, 422.8067342171002, 405.5468848602298, 404.75281380624347, 389.9513482541596, 380.13126809417463, 372.6339863060147, 371.96565414276205, 370.4941036842412, 365.3937209527554, 348.6561285148228, 348.41290281292675, 327.98026591618276, 324.9801838973459, 314.3216394149835, 306.71761245743426, 701.9413671654407, 707.2649596618027, 1031.5623788656271, 1236.2553203868795, 3068.8464313527247, 873.117106050861, 1047.0035557456463, 5408.501217515241, 702.621289977669, 1236.5176295222195, 566.3803445177214, 804.503223775294, 1803.962421863104, 1532.6601162814952, 1026.7379851664637, 1895.386240167571, 851.4930057672542, 1054.0756102554628, 3271.979984020432, 1278.9135424550025, 1276.4968966491565, 776.0674247195975, 2298.038328249658, 5005.450990586338, 2075.536804174675, 1381.2870555035931, 3224.3925770064316, 1689.4419018797248, 3523.319792869885, 1579.1727874223648, 8847.46576737362, 7811.834988585858, 4374.766284661986, 4238.218131928165, 4026.8780364021577, 979.1918382367203, 739.2795970199521, 287.99674613171425, 202.41696162262977, 130.48331820558346, 104.17372345643898, 75.2796240011009, 71.10109538671229, 67.0963459480984, 38.122575708105174, 29.92753728621439, 3200.2132740223838, 21.457159439487363, 1248.4533683654981, 8268.41550683879, 8472.936408076206, 2473.0713240335244, 2711.573875130033, 5243.424004176394, 251.7086649998634, 1186.9121616900898, 2141.817990214423, 6479.436289110703, 5962.653992379925, 6381.772944428435, 10534.324137563885, 1562.174365714952, 8097.225508006845, 7516.50907185021, 13020.037523788236, 22306.173218199514, 6205.052462528031, 19740.42772504201, 1080.0978631826636, 1983.2718662332472, 70130.11855152268, 6846.079578002169, 660.7123004254032, 376.0000962657861, 349.0838350729534, 337.4746962464687, 333.3835040170306, 317.90392353030296, 289.86988420239146, 275.56092521132894, 238.33427515146988, 227.5791628946218, 227.13176722544148, 208.5970141034752, 132.54231266133718, 106.28433417703776, 106.17786092096622, 104.59693222545943, 62.31204485083957, 47.317747516857374, 17.010556940112433, 13.16947166238719, 6205.052462528031, 163.86039397306283, 8472.936408076206, 8685.058463336693, 1.7474338287349895, 1.7457338940898393, 1.744881396841609, 1.7446821107428168, 8097.225508006845, 2473.0713240335244, 5962.653992379925, 7516.50907185021, 22306.173218199514, 10534.324137563885, 3285.0663738572825, 2422.38719873414, 1175.2486167967784, 1032.2231483416913, 870.1129070098087, 763.2609647301795, 751.5839589942028, 741.5200423432777, 577.9837334233805, 563.2048986951786, 436.3540306225565, 413.64187599643947, 375.9913321114897, 337.02562339392006, 335.13935730224273, 313.96756329298023, 297.4996546875045, 293.4304624513515, 288.77720155996224, 284.50893984596416, 275.45144170527175, 265.2475270884339, 229.825519261235, 224.8059498660369, 210.82858366431063, 209.06676234173642, 184.19330663151229, 182.06355250639191, 174.15206858456887, 171.88949934102004, 477.85498055539983, 1525.482029497313, 1492.2164920125326, 251.90927438007543, 561.4917636316497, 261.59715442381156, 2407.575630821428, 661.8102326674688, 1394.6483079699453, 2388.5496161980554, 591.9454956477152, 834.926151416268, 777.5271949163573, 486.21520011913515, 1168.2205670688656, 1567.13103079798, 1167.2727177767629, 1686.2041976190562, 5724.068947663404, 2664.7591456709565, 1043.2655495196784, 3781.6199119807216, 19740.42772504201, 2187.2315464954645, 1391.0981800315526, 3792.3926441921917, 6494.883514445791, 3361.010749042861, 895.1923865682156, 894.9994421826087, 675.2230501669492, 674.141149641847, 581.8429530876745, 546.5313284391086, 476.9108294792021, 456.9167400777636, 446.37194002673124, 442.91520781168265, 420.47539731107486, 404.1323675054449, 400.5313089404031, 389.3270699538038, 369.086359647576, 365.11607948925194, 364.0965165073074, 352.2751975656079, 352.04211405263163, 349.56149418824486, 341.71529529473116, 324.7139909314494, 313.9794124957068, 278.90911387825076, 277.01289488526396, 274.3061784656013, 268.18219579929024, 256.49206586016044, 256.16729554817584, 246.89038974726301, 861.6398282684077, 480.7670723244991, 1489.7829004597475, 827.8311048669657, 1108.3779169984546, 1157.731294731621, 650.0264145976181, 1567.13103079798, 3781.6199119807216, 1254.50278741036, 825.3159190820404, 4611.568766219497, 1106.0678816564377, 5724.068947663404, 700.2743485165992, 1221.9964326999116, 1628.0998638362053, 1895.3410467205986, 1267.2725819391967, 19740.42772504201, 3792.3926441921917, 2796.6713285919996, 1474.0287284543538, 1141.4800870965214, 564.0799793757836, 549.9091207624338, 478.0623618864776, 466.51455284001145, 463.9009507144753, 459.2384383880706, 457.12617494077443, 441.0578428216107, 437.68483446741266, 425.56729721410034, 417.3397715311616, 406.56359471961855, 399.9669654080876, 390.0724903534204, 383.5113583632823, 370.0904238629651, 368.7569129106628, 354.7197075594114, 345.7929683465083, 344.3807868582653, 344.3584881716659, 337.2671541302498, 325.3704155832347, 306.10270628903515, 296.19812389725223, 284.621416831232, 269.0907890462953, 586.4941218836292, 718.5732196551864, 545.7716283977138, 560.91408316255, 590.1420376226853, 648.6636495845905, 517.9362704954739, 1936.0615841008375, 598.1329049067108, 1110.649810150167, 598.08616003941, 1535.6776491481173, 582.7446825665517, 19740.42772504201, 1723.0194871800977, 1855.421322481358, 2141.817990214423, 8268.41550683879, 4611.568766219497, 1755.7401776727427, 1741.3364132779218, 1635.2953018520868, 1092.6651319338966, 868.3338997998205, 611.877663557706, 558.5644001819272, 478.75928219870354, 422.32064570759906, 412.07414943599855, 373.68249668385846, 321.61443296747063, 304.538542944635, 218.13429155759135, 212.49815774186175, 205.16126109980343, 202.65501901488116, 197.53403027890036, 175.215914652223, 167.91359979789968, 161.49157735295802, 158.74454895111424, 157.77806710378005, 155.23710992485977, 153.39650289190885, 149.9162171365453, 149.62565683150913, 145.397453328155, 134.90485434167275, 132.4586727691112, 127.54550969277705, 125.71775476564716, 2641.198061726391, 702.2678636521407, 1966.900702010193, 964.9836161915919, 901.9227453923525, 1216.4939857313873, 674.2842788819991, 1181.6439621508284, 545.1354123744707, 2480.6527272034086, 996.3849615477081, 887.3277668532025, 630.1432644525019, 787.0166674174745, 1276.1524997621664, 1371.754893028571, 2133.5284035614613, 930.9538320171406, 2235.166571359778, 3226.194052632595, 5962.653992379925, 1755.7401776727427, 3215.572226928359, 2301.0442372019147, 6302.660881083717, 5085.392437841452, 6494.883514445791, 1819.54876013593, 1879.5134812878248, 1742.9701349835093, 1452.9574967137457, 1040.6537010955208, 939.5794200459937, 796.6328899152152, 730.0365574549859, 531.1308286684979, 527.1080127745995, 431.46555282382326, 420.7875427270246, 420.7046492000076, 401.9563718948979, 350.51529650004153, 348.01220801226106, 318.8891862510437, 317.03275291914923, 307.25753713515456, 293.35323118606493, 261.8701884606133, 256.8614111777556, 251.67984416474422, 248.9207077051907, 248.0707653142249, 247.5914024870954, 243.10060619192947, 239.5997859753206, 236.23279507032998, 232.779010177815, 228.57186255995703, 2180.7218895235505, 403.0449921420796, 571.5674434049337, 763.0908780664204, 1030.649842117774, 4611.568766219497, 1210.9711776533143, 468.16749110095327, 1111.346983581993, 19740.42772504201, 2659.385989580521, 5085.392437841452, 610.0208915061828, 732.5478651669267, 662.9010328885686, 2664.7591456709565, 1177.7421378212002, 757.6831158820866, 704.5492915717715, 647.5753629629454, 615.0479907819554, 602.7678551561547, 535.2703463716847, 514.0341209789862, 491.81807502150156, 475.49728653497283, 465.4486847590242, 455.91093386029183, 401.7277691730942, 358.88435294053073, 336.19907019340883, 319.1494357984014, 315.234671008144, 310.60986455515325, 309.118726012979, 279.82605227615335, 277.39439263064855, 246.8675856310826, 240.65715228509265, 225.02199336597684, 213.41920877858243, 208.6720527162101, 203.94873010918604, 199.63685203435614, 197.41882586081388, 196.3521944255317, 520.980786346415, 3064.973670472676, 547.8457346727056, 1741.3364132779218, 1964.2801759980707, 1723.0194871800977, 674.7060108880314, 543.7981965740012, 665.3012800137874, 600.935396892331, 754.1843796366084, 1096.5963536512152, 5724.068947663404, 1184.8061183646605, 1391.0981800315526, 623.2196816647339, 1157.731294731621, 2298.038328249658, 2749.2948569223713, 768.1008061698793, 707.6863102832231, 693.6309662236706, 607.3776646364124, 606.4852595822831, 505.81887734054567, 483.4025171342442, 475.32407937323495, 444.8568452010567, 342.83661099600295, 334.6942732953047, 319.6658084779625, 295.7043728015364, 288.8114461783029, 283.0594141082448, 276.9365579991921, 257.1376080372317, 240.59645582915672, 224.39331869284533, 213.50076341139146, 212.89751621802773, 192.65400870682478, 186.318725631086, 183.405322053755, 180.24777903504418, 179.63499074521104, 169.7305258779488, 164.82765318398975, 161.2216046707213, 2790.686592594777, 1447.119675569344, 891.6598238242237, 498.2220446442046, 1024.1390031326716, 2659.385989580521, 1745.1324515441174, 1575.5325872051278, 5408.501217515241, 421.549267507415, 1180.5151706866147, 1725.3641585064483, 3781.92760740302, 3523.319792869885, 1028.199787495679, 1381.2870555035931, 2055.10843616597, 2917.275378388641, 1528.5202093300265, 848.7240647394553, 791.7160558423802, 666.6362289068437, 595.9901174717727, 484.1757738875596, 452.2748608166494, 448.59438105481814, 382.190091754953, 324.12276211406765, 318.9226269694565, 315.2978744911685, 298.86972025016803, 296.5717936026334, 177.53285448074138, 177.00092771436172, 161.32560982632802, 132.94047143450757, 131.14172119809157, 130.09472873406375, 129.2118473326575, 120.88801804405107, 119.47570127383584, 113.6979054819627, 112.68066811728637, 112.17509916989198, 107.19007258871413, 98.22787517891977, 86.60459670066255, 85.00031472941453, 3775.386799737315, 907.5437552900021, 1235.1070480070641, 13020.037523788236, 949.5259636566159, 1180.5151706866147, 1063.4648170640623, 338.02104495153634, 328.0800893089973, 634.8799821748714, 1591.5742305431477, 1317.8945728826804, 930.9538320171406, 689.6216304347413, 6381.772944428435, 19740.42772504201, 1512.161345618892, 1895.386240167571, 1047.1855721426498, 1880.8691174165237, 1200.8623647365987, 648.9936871102774, 512.6296921030686, 503.01868585502115, 443.4201995697611, 410.1509411640179, 379.33546969215587, 298.72946572375093, 291.7488468233892, 281.60022835642127, 275.13197288457104, 244.12233970821407, 224.98591211770582, 222.35954483892795, 202.9002431313042, 194.81826944968304, 193.38423722134462, 193.04101596410956, 187.4542992260642, 185.16454131025296, 183.3395760421094, 178.73124970141558, 175.25719687059222, 174.71422450942728, 171.73042474526875, 166.86700102528002, 166.0892961853208, 157.78792955744905, 153.6789896418609, 417.0943042691502, 682.0126339493439, 832.9122067457096, 1751.6144607060198, 447.2491416761568, 593.2763628061352, 2133.5284035614613, 466.0420302979894, 1241.2160995955705, 349.28039877277183, 1276.1524997621664, 1947.556206490138, 441.0624922579305, 296.5376622293146, 609.566542431766, 617.0303315769239, 1070.8977608816062, 1024.1390031326716, 1725.3641585064483, 837.9054309602493, 715.7616811781961, 4679.504754973129, 4117.543145013754, 3108.0942236763462, 2908.7138566540075, 1244.0148953454302, 384.3365242784977, 262.43145554195644, 259.06424657328773, 216.43407396868704, 203.02413432570472, 164.95774044382486, 138.0121490635399, 119.68146324662766, 117.25839322002257, 114.74994032927667, 112.65069605835701, 105.14818231686542, 101.9458775884336, 99.45807510762708, 98.16914079989212, 96.62069984649911, 86.68031020476221, 81.39486715080406, 77.86991585868209, 74.93346187871343, 73.00513058213289, 64.57957180154706, 56.924648150222865, 54.897655917914854, 45.64830282820275, 8685.058463336693, 202.90952984208232, 567.3237786426122, 7516.50907185021, 1080.0978631826636, 312.1439348594122, 6381.772944428435, 8097.225508006845, 2745.3498246384192, 1487.9807253667454, 1421.5849338546764, 964.1915712058276, 673.0302676416671, 480.9625154264441, 348.3039251305614, 327.2206386358418, 307.89462122082, 297.3544036506279, 283.15383692064796, 270.21439525644416, 255.23481449906632, 219.7605962997455, 167.82442709782714, 166.36249911731338, 166.0884433598048, 148.94106175024058, 147.1728834568223, 143.09008915174653, 141.8888034781421, 136.60121521536368, 118.6736171155373, 118.58122387763922, 118.24555625003218, 117.93314475636784, 94.69126811586226, 92.36922020765192, 84.01966950121717, 78.13140736961397, 1099.384526412722, 320.53209060069383, 371.7017000145692, 659.8825993575184, 958.9031471727698, 1047.1855721426498, 3271.979984020432, 459.56823034734873, 1082.1212073215022, 1488.5871658682663, 657.851890529955, 245.2233446995407, 3226.194052632595, 592.9892611977942, 1307.993719546742, 3781.92760740302, 5408.501217515241, 3523.319792869885, 2480.6527272034086, 4557.922605581288, 961.2256546563978, 888.5380201486792, 655.2386247812732, 647.8596352134439, 494.3237948393867, 398.1799014584187, 385.49034382845116, 382.5563451136438, 368.38676187702737, 287.28676819763047, 284.96342544184364, 273.72371853568734, 221.79088966031816, 205.76368104834256, 193.6276615400769, 183.95967606760468, 178.90551311857567, 163.45413571474214, 159.6291998148503, 159.3742457479513, 147.9866815700054, 146.44874613811473, 132.4765452642081, 113.15473033458493, 110.70062948927583, 110.20205773871994, 108.9888169333462, 104.43917816052509, 92.41197824031268, 1159.9542586112484, 572.4495868161594, 3775.386799737315, 598.08616003941, 452.6384610317525, 1008.6735540140047, 564.5747697543809, 540.9763485854215, 445.6291519539738, 405.37136549250476, 398.3257106788638, 397.9767449548903, 388.1028105505688, 359.151375210779, 328.67186567608854, 320.04142884612673, 222.82292232993996, 221.3155949063165, 178.65681359678737, 176.49867954103252, 169.54929970209994, 151.0138700545436, 145.7029668951571, 136.5731378662344, 133.50866605633945, 109.60900914391324, 108.1936221292618, 1271.303733468701, 98.47153435623486, 92.03256833180247, 90.46211209571219, 84.97589803809565, 79.11535346808273, 78.59940706477221, 73.95871128131398, 341.4136585552983, 404.87904088530223, 278.1317479662557, 164.45174273453728, 252.72390627158453, 159.41913046653886, 657.2931084733683, 291.2132517395579, 165.1762841242703, 152.71516231832, 149.4305457400894, 132.4330909315205, 126.88151964816718, 49.286862064946504, 36.178857648977186, 33.74987498583107, 22.60959031662388, 1983.2718662332472, 5.9787500223111865, 6479.436289110703, 1186.9121616900898, 5243.424004176394, 1562.174365714952, 2711.573875130033, 674.2842788819991, 1.7451699248013144, 1.745427399403099, 1.745012641510725, 1.7461225015066606, 1.7453764349375374, 1.7461939809633542, 1.7448149533581547, 1.7448302372763524, 1.744783757766264, 1.7447449540703415, 1.7447546876986884, 1.7457338940898393, 3200.2132740223838, 655.782049813488, 557.600812319711, 351.41148119207094, 329.1088023296205, 299.11762802670506, 296.5291124541065, 289.7726868128162, 282.1706707754093, 255.40263541504086, 246.97349241657525, 216.27173937261276, 204.6117520301979, 198.7616653712958, 190.22220749096638, 185.92503295242992, 155.16503730714007, 133.27971952969352, 130.12609866935853, 116.37800604488223, 97.65181396955504, 90.49001560193628, 82.16102359101363, 70.17975427533472, 66.57189498602712, 64.0349465892273, 56.29832931086898, 54.18571104875487, 53.04036423147008, 44.417007390791134, 43.11103921070953, 589.5848470582059, 298.8572982419658, 1864.7123646489888, 316.3072838493718, 238.94327394551476, 201.26336808200588, 164.92214256585507, 94.99173735652317, 60.1211618746049, 42.78018180942673, 36.24613412990593, 17.982892861349853, 17.914558357654606, 9.17946746119311, 1.7461939809633542, 1.7461225015066606, 1.745427399403099, 1.7457338940898393, 1.7453764349375374, 1.7451699248013144, 1.745012641510725, 1.7448149533581547, 1.7446352573606136, 1.7446561918433043, 1.744783757766264, 1.7447546876986884, 1.7447449540703415, 1.7446844630988192, 1.7447217355519982, 1.7447036740841961, 1.7446735371894238, 1.7446075702452086, 1.7448302372763524], \"Category\": [\"Default\", \"Default\", \"Default\", \"Default\", \"Default\", \"Default\", \"Default\", \"Default\", \"Default\", \"Default\", \"Default\", \"Default\", \"Default\", \"Default\", \"Default\", \"Default\", \"Default\", \"Default\", \"Default\", \"Default\", \"Default\", \"Default\", \"Default\", \"Default\", \"Default\", \"Default\", \"Default\", \"Default\", \"Default\", \"Default\", \"Topic1\", \"Topic1\", \"Topic1\", \"Topic1\", \"Topic1\", \"Topic1\", \"Topic1\", \"Topic1\", \"Topic1\", \"Topic1\", \"Topic1\", \"Topic1\", \"Topic1\", \"Topic1\", \"Topic1\", \"Topic1\", \"Topic1\", \"Topic1\", \"Topic1\", \"Topic1\", \"Topic1\", \"Topic1\", \"Topic1\", \"Topic1\", \"Topic1\", \"Topic1\", \"Topic1\", \"Topic1\", \"Topic1\", \"Topic1\", \"Topic1\", \"Topic1\", \"Topic1\", \"Topic1\", \"Topic1\", \"Topic1\", \"Topic1\", \"Topic1\", \"Topic1\", \"Topic1\", \"Topic1\", \"Topic1\", \"Topic1\", \"Topic1\", \"Topic1\", \"Topic1\", \"Topic1\", \"Topic1\", \"Topic1\", \"Topic1\", \"Topic1\", \"Topic1\", \"Topic1\", \"Topic1\", \"Topic1\", \"Topic1\", \"Topic1\", \"Topic1\", \"Topic1\", \"Topic1\", \"Topic1\", \"Topic1\", \"Topic1\", \"Topic2\", \"Topic2\", \"Topic2\", \"Topic2\", \"Topic2\", \"Topic2\", \"Topic2\", \"Topic2\", \"Topic2\", \"Topic2\", \"Topic2\", \"Topic2\", \"Topic2\", \"Topic2\", \"Topic2\", \"Topic2\", \"Topic2\", \"Topic2\", \"Topic2\", \"Topic2\", \"Topic2\", \"Topic2\", \"Topic2\", \"Topic2\", \"Topic2\", \"Topic2\", \"Topic2\", \"Topic2\", \"Topic2\", \"Topic2\", \"Topic2\", \"Topic2\", \"Topic2\", \"Topic2\", \"Topic2\", \"Topic2\", \"Topic2\", \"Topic2\", \"Topic2\", \"Topic2\", \"Topic2\", \"Topic2\", \"Topic2\", \"Topic2\", \"Topic2\", \"Topic2\", \"Topic2\", \"Topic2\", \"Topic2\", \"Topic2\", \"Topic2\", \"Topic2\", \"Topic2\", \"Topic2\", \"Topic2\", \"Topic2\", \"Topic2\", \"Topic2\", \"Topic2\", \"Topic2\", \"Topic3\", \"Topic3\", \"Topic3\", \"Topic3\", \"Topic3\", \"Topic3\", \"Topic3\", \"Topic3\", \"Topic3\", \"Topic3\", \"Topic3\", \"Topic3\", \"Topic3\", \"Topic3\", \"Topic3\", \"Topic3\", \"Topic3\", \"Topic3\", \"Topic3\", \"Topic3\", \"Topic3\", \"Topic3\", \"Topic3\", \"Topic3\", \"Topic3\", \"Topic3\", \"Topic3\", \"Topic3\", \"Topic3\", \"Topic3\", \"Topic3\", \"Topic3\", \"Topic3\", \"Topic3\", \"Topic3\", \"Topic3\", \"Topic3\", \"Topic3\", \"Topic3\", \"Topic3\", \"Topic4\", \"Topic4\", \"Topic4\", \"Topic4\", \"Topic4\", \"Topic4\", \"Topic4\", \"Topic4\", \"Topic4\", \"Topic4\", \"Topic4\", \"Topic4\", \"Topic4\", \"Topic4\", \"Topic4\", \"Topic4\", \"Topic4\", \"Topic4\", \"Topic4\", \"Topic4\", \"Topic4\", \"Topic4\", \"Topic4\", \"Topic4\", \"Topic4\", \"Topic4\", \"Topic4\", \"Topic4\", \"Topic4\", \"Topic4\", \"Topic4\", \"Topic4\", \"Topic4\", \"Topic4\", \"Topic4\", \"Topic4\", \"Topic5\", \"Topic5\", \"Topic5\", \"Topic5\", \"Topic5\", \"Topic5\", \"Topic5\", \"Topic5\", \"Topic5\", \"Topic5\", \"Topic5\", \"Topic5\", \"Topic5\", \"Topic5\", \"Topic5\", \"Topic5\", \"Topic5\", \"Topic5\", \"Topic5\", \"Topic5\", \"Topic5\", \"Topic5\", \"Topic5\", \"Topic5\", \"Topic5\", \"Topic5\", \"Topic5\", \"Topic5\", \"Topic5\", \"Topic5\", \"Topic5\", \"Topic5\", \"Topic5\", \"Topic5\", \"Topic5\", \"Topic5\", \"Topic5\", \"Topic5\", \"Topic5\", \"Topic5\", \"Topic5\", \"Topic5\", \"Topic5\", \"Topic5\", \"Topic5\", \"Topic5\", \"Topic5\", \"Topic5\", \"Topic5\", \"Topic5\", \"Topic5\", \"Topic5\", \"Topic5\", \"Topic5\", \"Topic5\", \"Topic5\", \"Topic5\", \"Topic5\", \"Topic6\", \"Topic6\", \"Topic6\", \"Topic6\", \"Topic6\", \"Topic6\", \"Topic6\", \"Topic6\", \"Topic6\", \"Topic6\", \"Topic6\", \"Topic6\", \"Topic6\", \"Topic6\", \"Topic6\", \"Topic6\", \"Topic6\", \"Topic6\", \"Topic6\", \"Topic6\", \"Topic6\", \"Topic6\", \"Topic6\", \"Topic6\", \"Topic6\", \"Topic6\", \"Topic6\", \"Topic6\", \"Topic6\", \"Topic6\", \"Topic6\", \"Topic6\", \"Topic6\", \"Topic6\", \"Topic6\", \"Topic6\", \"Topic6\", \"Topic6\", \"Topic6\", \"Topic6\", \"Topic6\", \"Topic6\", \"Topic6\", \"Topic6\", \"Topic6\", \"Topic6\", \"Topic6\", \"Topic6\", \"Topic6\", \"Topic6\", \"Topic6\", \"Topic7\", \"Topic7\", \"Topic7\", \"Topic7\", \"Topic7\", \"Topic7\", \"Topic7\", \"Topic7\", \"Topic7\", \"Topic7\", \"Topic7\", \"Topic7\", \"Topic7\", \"Topic7\", \"Topic7\", \"Topic7\", \"Topic7\", \"Topic7\", \"Topic7\", \"Topic7\", \"Topic7\", \"Topic7\", \"Topic7\", \"Topic7\", \"Topic7\", \"Topic7\", \"Topic7\", \"Topic7\", \"Topic7\", \"Topic7\", \"Topic7\", \"Topic7\", \"Topic7\", \"Topic7\", \"Topic7\", \"Topic7\", \"Topic7\", \"Topic7\", \"Topic7\", \"Topic7\", \"Topic7\", \"Topic7\", \"Topic7\", \"Topic7\", \"Topic7\", \"Topic7\", \"Topic7\", \"Topic7\", \"Topic7\", \"Topic7\", \"Topic7\", \"Topic8\", \"Topic8\", \"Topic8\", \"Topic8\", \"Topic8\", \"Topic8\", \"Topic8\", \"Topic8\", \"Topic8\", \"Topic8\", \"Topic8\", \"Topic8\", \"Topic8\", \"Topic8\", \"Topic8\", \"Topic8\", \"Topic8\", \"Topic8\", \"Topic8\", \"Topic8\", \"Topic8\", \"Topic8\", \"Topic8\", \"Topic8\", \"Topic8\", \"Topic8\", \"Topic8\", \"Topic8\", \"Topic8\", \"Topic8\", \"Topic8\", \"Topic8\", \"Topic8\", \"Topic8\", \"Topic8\", \"Topic8\", \"Topic8\", \"Topic8\", \"Topic8\", \"Topic8\", \"Topic8\", \"Topic8\", \"Topic8\", \"Topic8\", \"Topic8\", \"Topic8\", \"Topic8\", \"Topic8\", \"Topic8\", \"Topic8\", \"Topic8\", \"Topic8\", \"Topic8\", \"Topic8\", \"Topic8\", \"Topic8\", \"Topic8\", \"Topic8\", \"Topic9\", \"Topic9\", \"Topic9\", \"Topic9\", \"Topic9\", \"Topic9\", \"Topic9\", \"Topic9\", \"Topic9\", \"Topic9\", \"Topic9\", \"Topic9\", \"Topic9\", \"Topic9\", \"Topic9\", \"Topic9\", \"Topic9\", \"Topic9\", \"Topic9\", \"Topic9\", \"Topic9\", \"Topic9\", \"Topic9\", \"Topic9\", \"Topic9\", \"Topic9\", \"Topic9\", \"Topic9\", \"Topic9\", \"Topic9\", \"Topic9\", \"Topic9\", \"Topic9\", \"Topic9\", \"Topic9\", \"Topic9\", \"Topic9\", \"Topic9\", \"Topic9\", \"Topic9\", \"Topic9\", \"Topic9\", \"Topic9\", \"Topic9\", \"Topic9\", \"Topic9\", \"Topic10\", \"Topic10\", \"Topic10\", \"Topic10\", \"Topic10\", \"Topic10\", \"Topic10\", \"Topic10\", \"Topic10\", \"Topic10\", \"Topic10\", \"Topic10\", \"Topic10\", \"Topic10\", \"Topic10\", \"Topic10\", \"Topic10\", \"Topic10\", \"Topic10\", \"Topic10\", \"Topic10\", \"Topic10\", \"Topic10\", \"Topic10\", \"Topic10\", \"Topic10\", \"Topic10\", \"Topic10\", \"Topic10\", \"Topic10\", \"Topic10\", \"Topic10\", \"Topic10\", \"Topic10\", \"Topic10\", \"Topic10\", \"Topic10\", \"Topic10\", \"Topic10\", \"Topic10\", \"Topic10\", \"Topic10\", \"Topic10\", \"Topic10\", \"Topic10\", \"Topic10\", \"Topic10\", \"Topic10\", \"Topic11\", \"Topic11\", \"Topic11\", \"Topic11\", \"Topic11\", \"Topic11\", \"Topic11\", \"Topic11\", \"Topic11\", \"Topic11\", \"Topic11\", \"Topic11\", \"Topic11\", \"Topic11\", \"Topic11\", \"Topic11\", \"Topic11\", \"Topic11\", \"Topic11\", \"Topic11\", \"Topic11\", \"Topic11\", \"Topic11\", \"Topic11\", \"Topic11\", \"Topic11\", \"Topic11\", \"Topic11\", \"Topic11\", \"Topic11\", \"Topic11\", \"Topic11\", \"Topic11\", \"Topic11\", \"Topic11\", \"Topic11\", \"Topic11\", \"Topic11\", \"Topic11\", \"Topic11\", \"Topic11\", \"Topic11\", \"Topic11\", \"Topic11\", \"Topic11\", \"Topic11\", \"Topic11\", \"Topic11\", \"Topic12\", \"Topic12\", \"Topic12\", \"Topic12\", \"Topic12\", \"Topic12\", \"Topic12\", \"Topic12\", \"Topic12\", \"Topic12\", \"Topic12\", \"Topic12\", \"Topic12\", \"Topic12\", \"Topic12\", \"Topic12\", \"Topic12\", \"Topic12\", \"Topic12\", \"Topic12\", \"Topic12\", \"Topic12\", \"Topic12\", \"Topic12\", \"Topic12\", \"Topic12\", \"Topic12\", \"Topic12\", \"Topic12\", \"Topic12\", \"Topic12\", \"Topic12\", \"Topic12\", \"Topic12\", \"Topic12\", \"Topic12\", \"Topic12\", \"Topic12\", \"Topic12\", \"Topic12\", \"Topic12\", \"Topic12\", \"Topic12\", \"Topic12\", \"Topic12\", \"Topic12\", \"Topic12\", \"Topic12\", \"Topic12\", \"Topic13\", \"Topic13\", \"Topic13\", \"Topic13\", \"Topic13\", \"Topic13\", \"Topic13\", \"Topic13\", \"Topic13\", \"Topic13\", \"Topic13\", \"Topic13\", \"Topic13\", \"Topic13\", \"Topic13\", \"Topic13\", \"Topic13\", \"Topic13\", \"Topic13\", \"Topic13\", \"Topic13\", \"Topic13\", \"Topic13\", \"Topic13\", \"Topic13\", \"Topic13\", \"Topic13\", \"Topic13\", \"Topic13\", \"Topic13\", \"Topic13\", \"Topic13\", \"Topic13\", \"Topic13\", \"Topic13\", \"Topic13\", \"Topic13\", \"Topic13\", \"Topic13\", \"Topic13\", \"Topic13\", \"Topic13\", \"Topic13\", \"Topic13\", \"Topic13\", \"Topic13\", \"Topic13\", \"Topic13\", \"Topic13\", \"Topic13\", \"Topic13\", \"Topic14\", \"Topic14\", \"Topic14\", \"Topic14\", \"Topic14\", \"Topic14\", \"Topic14\", \"Topic14\", \"Topic14\", \"Topic14\", \"Topic14\", \"Topic14\", \"Topic14\", \"Topic14\", \"Topic14\", \"Topic14\", \"Topic14\", \"Topic14\", \"Topic14\", \"Topic14\", \"Topic14\", \"Topic14\", \"Topic14\", \"Topic14\", \"Topic14\", \"Topic14\", \"Topic14\", \"Topic14\", \"Topic14\", \"Topic14\", \"Topic14\", \"Topic14\", \"Topic14\", \"Topic14\", \"Topic14\", \"Topic14\", \"Topic14\", \"Topic14\", \"Topic15\", \"Topic15\", \"Topic15\", \"Topic15\", \"Topic15\", \"Topic15\", \"Topic15\", \"Topic15\", \"Topic15\", \"Topic15\", \"Topic15\", \"Topic15\", \"Topic15\", \"Topic15\", \"Topic15\", \"Topic15\", \"Topic15\", \"Topic15\", \"Topic15\", \"Topic15\", \"Topic15\", \"Topic15\", \"Topic15\", \"Topic15\", \"Topic15\", \"Topic15\", \"Topic15\", \"Topic15\", \"Topic15\", \"Topic15\", \"Topic15\", \"Topic15\", \"Topic15\", \"Topic15\", \"Topic15\", \"Topic15\", \"Topic15\", \"Topic15\", \"Topic15\", \"Topic15\", \"Topic15\", \"Topic15\", \"Topic15\", \"Topic15\", \"Topic15\", \"Topic15\", \"Topic15\", \"Topic15\", \"Topic15\", \"Topic16\", \"Topic16\", \"Topic16\", \"Topic16\", \"Topic16\", \"Topic16\", \"Topic16\", \"Topic16\", \"Topic16\", \"Topic16\", \"Topic16\", \"Topic16\", \"Topic16\", \"Topic16\", \"Topic16\", \"Topic16\", \"Topic16\", \"Topic16\", \"Topic16\", \"Topic16\", \"Topic16\", \"Topic16\", \"Topic16\", \"Topic16\", \"Topic16\", \"Topic16\", \"Topic16\", \"Topic16\", \"Topic16\", \"Topic16\", \"Topic16\", \"Topic16\", \"Topic16\", \"Topic16\", \"Topic16\", \"Topic17\", \"Topic17\", \"Topic17\", \"Topic17\", \"Topic17\", \"Topic17\", \"Topic17\", \"Topic17\", \"Topic17\", \"Topic17\", \"Topic17\", \"Topic17\", \"Topic17\", \"Topic17\", \"Topic17\", \"Topic17\", \"Topic17\", \"Topic17\", \"Topic17\", \"Topic17\", \"Topic17\", \"Topic17\", \"Topic17\", \"Topic17\", \"Topic17\", \"Topic17\", \"Topic17\", \"Topic17\", \"Topic17\", \"Topic17\", \"Topic17\", \"Topic17\", \"Topic17\", \"Topic17\", \"Topic17\", \"Topic17\", \"Topic18\", \"Topic18\", \"Topic18\", \"Topic18\", \"Topic18\", \"Topic18\", \"Topic18\", \"Topic18\", \"Topic18\", \"Topic18\", \"Topic18\", \"Topic18\", \"Topic18\", \"Topic18\", \"Topic18\", \"Topic18\", \"Topic18\", \"Topic18\", \"Topic18\", \"Topic18\", \"Topic18\", \"Topic18\", \"Topic18\", \"Topic18\", \"Topic18\", \"Topic18\", \"Topic18\", \"Topic18\", \"Topic18\", \"Topic18\", \"Topic18\", \"Topic18\", \"Topic19\", \"Topic19\", \"Topic19\", \"Topic19\", \"Topic19\", \"Topic19\", \"Topic19\", \"Topic19\", \"Topic19\", \"Topic19\", \"Topic19\", \"Topic19\", \"Topic19\", \"Topic19\", \"Topic19\", \"Topic19\", \"Topic19\", \"Topic19\", \"Topic19\", \"Topic19\", \"Topic19\", \"Topic19\", \"Topic19\", \"Topic19\", \"Topic19\", \"Topic19\", \"Topic19\", \"Topic19\", \"Topic19\", \"Topic19\", \"Topic19\", \"Topic19\", \"Topic20\", \"Topic20\", \"Topic20\", \"Topic20\", \"Topic20\", \"Topic20\", \"Topic20\", \"Topic20\", \"Topic20\", \"Topic20\", \"Topic20\", \"Topic20\", \"Topic20\", \"Topic20\", \"Topic20\", \"Topic20\", \"Topic20\", \"Topic20\", \"Topic20\", \"Topic20\", \"Topic20\", \"Topic20\", \"Topic20\", \"Topic20\", \"Topic20\", \"Topic20\", \"Topic20\", \"Topic20\", \"Topic20\", \"Topic20\", \"Topic20\"], \"logprob\": [30.0, 29.0, 28.0, 27.0, 26.0, 25.0, 24.0, 23.0, 22.0, 21.0, 20.0, 19.0, 18.0, 17.0, 16.0, 15.0, 14.0, 13.0, 12.0, 11.0, 10.0, 9.0, 8.0, 7.0, 6.0, 5.0, 4.0, 3.0, 2.0, 1.0, -3.859800100326538, -4.567999839782715, -5.066400051116943, -5.135700225830078, -5.218299865722656, -5.334000110626221, -5.49429988861084, -5.6132001876831055, -5.6774001121521, -5.76140022277832, -5.845900058746338, -6.017099857330322, -6.059700012207031, -6.16510009765625, -6.221199989318848, -6.2820000648498535, -6.2916998863220215, -6.305699825286865, -6.319300174713135, -6.377799987792969, -6.378300189971924, -6.412700176239014, -6.431399822235107, -6.470300197601318, -6.4822998046875, -6.560100078582764, -6.606900215148926, -6.6178998947143555, -6.643899917602539, -6.669300079345703, -4.457699775695801, -5.128499984741211, -5.597099781036377, -3.928499937057495, -4.831900119781494, -4.317699909210205, -6.002900123596191, -3.8183000087738037, -5.092100143432617, -4.445099830627441, -4.864500045776367, -5.046000003814697, -5.1971001625061035, -4.706399917602539, -3.845900058746338, -5.088200092315674, -5.649700164794922, -2.79830002784729, -4.484499931335449, -4.627900123596191, -3.1126999855041504, -4.26639986038208, -4.259500026702881, -4.635499954223633, -4.681399822235107, -4.563300132751465, -4.788000106811523, -4.682400226593018, -4.378799915313721, -4.670400142669678, -4.923900127410889, -4.854899883270264, -5.085400104522705, -5.011899948120117, -5.195300102233887, -5.217700004577637, -5.246799945831299, -5.2540998458862305, -5.292799949645996, -5.312099933624268, -5.337900161743164, -5.361199855804443, -5.4085001945495605, -5.470399856567383, -5.627999782562256, -5.628699779510498, -5.628699779510498, -5.646299839019775, -5.653500080108643, -5.695300102233887, -5.697299957275391, -5.7347002029418945, -5.760300159454346, -5.780300140380859, -5.782100200653076, -5.786099910736084, -5.800000190734863, -5.847099781036377, -5.847799777984619, -5.908599853515625, -5.917799949645996, -5.951300144195557, -5.97599983215332, -5.208399772644043, -5.204800128936768, -4.883299827575684, -4.729700088500977, -3.9516000747680664, -5.064799785614014, -4.929500102996826, -3.6177000999450684, -5.270100116729736, -4.81850004196167, -5.451499938964844, -5.186500072479248, -4.598400115966797, -4.729800224304199, -5.020899772644043, -4.639699935913086, -5.187900066375732, -5.062900066375732, -4.388599872589111, -4.989799976348877, -5.071700096130371, -5.288000106811523, -4.93120002746582, -4.759200096130371, -5.025300025939941, -5.154099941253662, -5.010900020599365, -5.179100036621094, -5.142499923706055, -5.205999851226807, -2.512500047683716, -2.6370999813079834, -3.2170000076293945, -3.248699903488159, -3.2999000549316406, -4.715199947357178, -4.996799945831299, -5.9430999755859375, -6.298099994659424, -6.741799831390381, -6.970200061798096, -7.301300048828125, -7.359799861907959, -7.4191999435424805, -8.003999710083008, -8.258600234985352, -3.609100103378296, -8.614800453186035, -4.55649995803833, -2.675299882888794, -2.685800075531006, -3.9223999977111816, -3.9328999519348145, -3.3338000774383545, -6.416200160980225, -4.8653998374938965, -4.277200222015381, -3.1837000846862793, -3.2818000316619873, -3.2348999977111816, -2.7541000843048096, -4.656799793243408, -3.151900053024292, -3.5443999767303467, -3.196000099182129, -2.8482000827789307, -3.9962000846862793, -3.638700008392334, -5.621500015258789, -5.486100196838379, -0.31150001287460327, -2.638400077819824, -4.978600025177002, -5.5441999435424805, -5.618800163269043, -5.652699947357178, -5.664999961853027, -5.712800025939941, -5.805600166320801, -5.856500148773193, -6.002500057220459, -6.048999786376953, -6.050899982452393, -6.13670015335083, -6.5945000648498535, -6.81820011138916, -6.819300174713135, -6.834499835968018, -7.362800121307373, -7.646200180053711, -8.731800079345703, -9.017499923706055, -3.1273999214172363, -6.944300174713135, -4.529099941253662, -4.518899917602539, -13.131199836730957, -13.142999649047852, -13.144200325012207, -13.144499778747559, -4.783199787139893, -5.985799789428711, -5.218699932098389, -5.201300144195557, -4.473499774932861, -5.2144999504089355, -3.221100091934204, -3.525899887084961, -4.249899864196777, -4.379899978637695, -4.551000118255615, -4.682300090789795, -4.697800159454346, -4.711299896240234, -4.961100101470947, -4.987100124359131, -5.243100166320801, -5.296800136566162, -5.392600059509277, -5.502600193023682, -5.508200168609619, -5.573800086975098, -5.627999782562256, -5.6417999267578125, -5.657899856567383, -5.672900199890137, -5.705399990081787, -5.7434000968933105, -5.887700080871582, -5.909999847412109, -5.974699974060059, -5.983099937438965, -6.110899925231934, -6.122600078582764, -6.167500019073486, -6.180699825286865, -5.1620001792907715, -4.099400043487549, -4.1371002197265625, -5.815999984741211, -5.082399845123291, -5.783699989318848, -3.933799982070923, -5.029699802398682, -4.440199851989746, -4.01200008392334, -5.129199981689453, -4.894000053405762, -4.968900203704834, -5.30810022354126, -4.738699913024902, -4.598700046539307, -4.793799877166748, -4.668600082397461, -4.097700119018555, -4.564899921417236, -5.001100063323975, -4.58620023727417, -4.114999771118164, -4.804200172424316, -4.944699764251709, -4.876299858093262, -4.849400043487549, -4.9182000160217285, -4.471199989318848, -4.471399784088135, -4.753799915313721, -4.75540018081665, -4.9029998779296875, -4.965799808502197, -5.102499961853027, -5.145500183105469, -5.168900012969971, -5.176700115203857, -5.228899955749512, -5.268700122833252, -5.277699947357178, -5.30620002746582, -5.359799861907959, -5.370699882507324, -5.373499870300293, -5.406700134277344, -5.407299995422363, -5.414400100708008, -5.43720006942749, -5.488500118255615, -5.522299766540527, -5.64139986038208, -5.6483001708984375, -5.658199787139893, -5.6809000968933105, -5.725800037384033, -5.7270002365112305, -5.764200210571289, -4.653900146484375, -5.203800201416016, -4.364500045776367, -4.8495001792907715, -4.665299892425537, -4.643199920654297, -5.121600151062012, -4.663099765777588, -4.206299781799316, -4.877399921417236, -5.06850004196167, -4.386499881744385, -4.954899787902832, -4.343699932098389, -5.148900032043457, -5.077099800109863, -5.070700168609619, -5.094299793243408, -5.184299945831299, -5.1528000831604, -5.194300174713135, -3.2841999530792236, -3.925100088119507, -4.181099891662598, -4.887499809265137, -4.913000106811523, -5.053500175476074, -5.078000068664551, -5.083700180053711, -5.093800067901611, -5.098400115966797, -5.134300231933594, -5.142099857330322, -5.170199871063232, -5.189799785614014, -5.216100215911865, -5.232500076293945, -5.257699966430664, -5.274700164794922, -5.310500144958496, -5.3140997886657715, -5.353099822998047, -5.378699779510498, -5.382800102233887, -5.382900238037109, -5.403800010681152, -5.439899921417236, -5.501299858093262, -5.534299850463867, -5.574399948120117, -5.630899906158447, -4.88040018081665, -4.78410005569458, -5.0320000648498535, -5.01230001449585, -4.979899883270264, -4.941199779510498, -5.099899768829346, -4.343699932098389, -5.060200214385986, -4.729899883270264, -5.072999954223633, -4.6508002281188965, -5.123700141906738, -3.8680999279022217, -4.753699779510498, -4.8343000411987305, -4.849800109863281, -4.599800109863281, -4.739099979400635, -4.968900203704834, -5.032899856567383, -3.5536999702453613, -3.95740008354187, -4.187600135803223, -4.538400173187256, -4.629899978637695, -4.7845001220703125, -4.910399913787842, -4.935100078582764, -5.033299922943115, -5.184100151062012, -5.238900184631348, -5.57480001449585, -5.601200103759766, -5.636600017547607, -5.64900016784668, -5.674799919128418, -5.79580020904541, -5.838699817657471, -5.8780999183654785, -5.895500183105469, -5.901599884033203, -5.918099880218506, -5.930099964141846, -5.9532999992370605, -5.9552998542785645, -5.984300136566162, -6.060100078582764, -6.07859992980957, -6.1168999671936035, -6.131499767303467, -3.203200101852417, -4.480599880218506, -3.5144999027252197, -4.193399906158447, -4.259200096130371, -3.996999979019165, -4.598400115966797, -4.099699974060059, -4.791399955749512, -3.4656999111175537, -4.313899993896484, -4.475500106811523, -4.788400173187256, -4.663599967956543, -4.339200019836426, -4.296599864959717, -3.9897000789642334, -4.589900016784668, -4.028500080108643, -3.847899913787842, -3.8385000228881836, -4.4816999435424805, -4.401599884033203, -4.524499893188477, -4.330900192260742, -4.440499782562256, -4.512599945068359, -4.644400119781494, -3.261399984359741, -3.336899995803833, -3.5190999507904053, -3.853300094604492, -3.9556000232696533, -4.120999813079834, -4.208499908447266, -4.527400016784668, -4.534999847412109, -4.735899925231934, -4.761099815368652, -4.761300086975098, -4.80709981918335, -4.9446001052856445, -4.9517998695373535, -5.039599895477295, -5.045499801635742, -5.077000141143799, -5.123600006103516, -5.237800121307373, -5.257199764251709, -5.277699947357178, -5.28879976272583, -5.292300224304199, -5.2941999435424805, -5.312600135803223, -5.327199935913086, -5.3414998054504395, -5.356299877166748, -5.37470006942749, -3.2441999912261963, -4.871799945831299, -4.571800231933594, -4.4730000495910645, -4.271100044250488, -3.3027000427246094, -4.440999984741211, -4.970200061798096, -4.620699882507324, -3.4992001056671143, -4.44290018081665, -4.330599784851074, -4.969399929046631, -4.9882001876831055, -5.000800132751465, -4.932400226593018, -3.7046000957489014, -4.146500110626221, -4.219399929046631, -4.303899765014648, -4.355599880218506, -4.375800132751465, -4.494900226593018, -4.5355000495910645, -4.579800128936768, -4.613699913024902, -4.6350998878479, -4.655900001525879, -4.782899856567383, -4.896200180053711, -4.9618000984191895, -5.014100074768066, -5.026500225067139, -5.041399955749512, -5.046199798583984, -5.146399974822998, -5.155099868774414, -5.272500038146973, -5.298099994659424, -5.365799903869629, -5.419099807739258, -5.441800117492676, -5.464900016784668, -5.486400127410889, -5.497700214385986, -5.503200054168701, -4.679200172424316, -3.2453999519348145, -4.705599784851074, -3.8243000507354736, -3.751300096511841, -3.8894999027252197, -4.576399803161621, -4.754899978637695, -4.6392998695373535, -4.749100208282471, -4.646699905395508, -4.46560001373291, -4.030700206756592, -4.583600044250488, -4.57420015335083, -4.844799995422363, -4.773600101470947, -4.835100173950195, -2.6593000888824463, -3.936000108718872, -4.018099784851074, -4.0381999015808105, -4.171299934387207, -4.172800064086914, -4.354800224304199, -4.400300025939941, -4.417200088500977, -4.483699798583984, -4.745299816131592, -4.769499778747559, -4.8155999183654785, -4.894000053405762, -4.917699813842773, -4.937900066375732, -4.95989990234375, -5.034599781036377, -5.101500034332275, -5.1717000007629395, -5.22189998626709, -5.224699974060059, -5.325500011444092, -5.3592000007629395, -5.375100135803223, -5.392600059509277, -5.395999908447266, -5.4532999992370605, -5.482900142669678, -5.505300045013428, -2.7532999515533447, -3.4203999042510986, -4.022200107574463, -4.5731000900268555, -4.03410005569458, -3.3261001110076904, -3.953700065612793, -4.068999767303467, -3.5664000511169434, -5.004799842834473, -4.7052998542785645, -4.635499954223633, -4.490699768066406, -4.548999786376953, -4.792500019073486, -4.758399963378906, -4.717199802398682, -4.747399806976318, -3.232100009918213, -3.8213000297546387, -3.890899896621704, -4.063300132751465, -4.175600051879883, -4.383999824523926, -4.452400207519531, -4.460599899291992, -4.621500015258789, -4.7870001792907715, -4.803299903869629, -4.814799785614014, -4.868599891662598, -4.876399993896484, -5.3933000564575195, -5.396299839019775, -5.4899001121521, -5.685699939727783, -5.69950008392334, -5.707600116729736, -5.7144999504089355, -5.7820000648498535, -5.793900012969971, -5.844200134277344, -5.853300094604492, -5.857800006866455, -5.9039998054504395, -5.992700099945068, -6.120999813079834, -6.139999866485596, -2.3801000118255615, -3.8850998878479004, -3.617300033569336, -1.5089999437332153, -3.9960999488830566, -3.849100112915039, -4.097400188446045, -5.01140022277832, -5.087699890136719, -4.853899955749512, -4.373300075531006, -4.489200115203857, -4.7058000564575195, -4.948200225830078, -4.2153000831604, -3.860300064086914, -4.692500114440918, -4.665599822998047, -4.844399929046631, -3.003200054168701, -3.4523000717163086, -4.068900108337402, -4.3053998947143555, -4.324399948120117, -4.451000213623047, -4.529300212860107, -4.607699871063232, -4.847799777984619, -4.871600151062012, -4.907199859619141, -4.930500030517578, -5.050899982452393, -5.1331000328063965, -5.144899845123291, -5.237199783325195, -5.278200149536133, -5.285699844360352, -5.287499904632568, -5.3171000480651855, -5.329500198364258, -5.3394999504089355, -5.365200042724609, -5.385000228881836, -5.3881001472473145, -5.4054999351501465, -5.434500217437744, -5.439300060272217, -5.491099834442139, -5.5177001953125, -4.552299976348877, -4.114999771118164, -4.0594000816345215, -3.450000047683716, -4.612500190734863, -4.389800071716309, -3.5611000061035156, -4.723499774932861, -4.081600189208984, -4.927700042724609, -4.269100189208984, -4.042399883270264, -4.864099979400635, -5.076099872589111, -4.740200042724609, -4.738399982452393, -4.50629997253418, -4.749499797821045, -4.737199783325195, -4.856100082397461, -4.8927001953125, -2.0673000812530518, -2.1953001022338867, -2.4767000675201416, -2.5429999828338623, -3.3931000232696533, -4.570700168609619, -4.95419979095459, -4.967199802398682, -5.148200035095215, -5.212699890136719, -5.4222002029418945, -5.602499961853027, -5.7469000816345215, -5.767600059509277, -5.789599895477295, -5.808300018310547, -5.878300189971924, -5.9096999168396, -5.934800148010254, -5.9481000900268555, -5.964200019836426, -6.07480001449585, -6.138999938964844, -6.184199810028076, -6.223499774932861, -6.250100135803223, -6.375800132751465, -6.50540018081665, -6.542799949645996, -6.73360013961792, -1.576799988746643, -5.264999866485596, -4.398399829864502, -2.265899896621704, -3.990499973297119, -5.146599769592285, -3.2039999961853027, -4.3516998291015625, -2.27239990234375, -2.8854000568389893, -2.9310998916625977, -3.3199000358581543, -3.6802000999450684, -4.017199993133545, -4.34119987487793, -4.4039998054504395, -4.465199947357178, -4.500199794769287, -4.5493998527526855, -4.596499919891357, -4.653900146484375, -4.804599761962891, -5.076600074768066, -5.085400104522705, -5.087100028991699, -5.197199821472168, -5.2093000411987305, -5.237800121307373, -5.246300220489502, -5.2846999168396, -5.427299976348877, -5.428100109100342, -5.431000232696533, -5.433599948883057, -5.656700134277344, -5.682000160217285, -5.778500080108643, -5.852700233459473, -3.291100025177002, -4.571400165557861, -4.482699871063232, -4.045599937438965, -3.74180006980896, -3.8310999870300293, -3.026700019836426, -4.489200115203857, -3.9405999183654785, -3.7980000972747803, -4.440999984741211, -4.998199939727783, -4.047299861907959, -4.700300216674805, -4.44189977645874, -4.149099826812744, -4.079400062561035, -4.4207000732421875, -4.610199928283691, -1.357300043106079, -2.91510009765625, -2.9939000606536865, -3.299099922180176, -3.310499906539917, -3.581700086593628, -3.798799991607666, -3.831399917602539, -3.8389999866485596, -3.8768999576568604, -4.1269001960754395, -4.135000228881836, -4.17549991607666, -4.38730001449585, -4.462900161743164, -4.524199962615967, -4.575900077819824, -4.604000091552734, -4.695199966430664, -4.719099998474121, -4.720699787139893, -4.7957000732421875, -4.80620002746582, -4.907700061798096, -5.067500114440918, -5.089799880981445, -5.094299793243408, -5.105599880218506, -5.148900032043457, -5.2733001708984375, -3.0510001182556152, -4.09689998626709, -4.51200008392334, -4.919300079345703, -5.050600051879883, -2.5778000354766846, -3.15939998626709, -3.202199935913086, -3.3968000411987305, -3.49180006980896, -3.509399890899658, -3.5102999210357666, -3.5355000495910645, -3.6133999824523926, -3.702500104904175, -3.729300022125244, -4.093599796295166, -4.100500106811523, -4.316400051116943, -4.328700065612793, -4.36929988861084, -4.486299991607666, -4.522500038146973, -4.587900161743164, -4.610899925231934, -4.8109002113342285, -4.824100017547607, -2.3617000579833984, -4.9197998046875, -4.988699913024902, -5.006199836730957, -5.070000171661377, -5.142899990081787, -5.149600028991699, -5.2118000984191895, -3.8117001056671143, -3.857100009918213, -4.333799839019775, -4.793600082397461, -4.622799873352051, -4.874800205230713, -2.6731998920440674, -3.490499973297119, -4.0619001388549805, -4.141200065612793, -4.1631999015808105, -4.285399913787842, -4.328800201416016, -5.2957000732421875, -5.617700099945068, -5.690700054168701, -6.117400169372559, -1.8260999917984009, -7.699699878692627, -1.579699993133545, -3.3178000450134277, -1.9502999782562256, -3.282099962234497, -2.8083999156951904, -5.421599864959717, -11.850799560546875, -11.850700378417969, -11.85099983215332, -11.850500106811523, -11.85099983215332, -11.850600242614746, -11.851400375366211, -11.851400375366211, -11.851499557495117, -11.851499557495117, -11.85159969329834, -11.851200103759766, -11.242799758911133, -2.5536000728607178, -2.7163000106811523, -3.1796998977661133, -3.2455999851226807, -3.3417000770568848, -3.350399971008301, -3.3736000061035156, -3.4003000259399414, -3.5006000995635986, -3.53439998626709, -3.668100118637085, -3.7239999771118164, -3.753200054168701, -3.797499895095825, -3.8206000328063965, -4.003200054168701, -4.1570000648498535, -4.181300163269043, -4.29449987411499, -4.472700119018555, -4.55019998550415, -4.64870023727417, -4.809899806976318, -4.863999843597412, -4.903800010681152, -5.036300182342529, -5.075699806213379, -5.097700119018555, -5.281499862670898, -5.3125, -3.075900077819824, -3.9674999713897705, -0.8974000215530396, -2.6760001182556152, -2.958199977874756, -3.1310999393463135, -3.3320999145507812, -3.891400098800659, -4.359300136566162, -4.711299896240234, -4.884399890899658, -5.635900020599365, -5.640100002288818, -6.412199974060059, -11.129400253295898, -11.129799842834473, -11.130499839782715, -11.13070011138916, -11.130900382995605, -11.131099700927734, -11.13129997253418, -11.131500244140625, -11.131600379943848, -11.131600379943848, -11.131600379943848, -11.131600379943848, -11.131600379943848, -11.131600379943848, -11.131600379943848, -11.131600379943848, -11.131699562072754, -11.131699562072754, -11.131600379943848], \"loglift\": [30.0, 29.0, 28.0, 27.0, 26.0, 25.0, 24.0, 23.0, 22.0, 21.0, 20.0, 19.0, 18.0, 17.0, 16.0, 15.0, 14.0, 13.0, 12.0, 11.0, 10.0, 9.0, 8.0, 7.0, 6.0, 5.0, 4.0, 3.0, 2.0, 1.0, 1.5834, 1.5831, 1.5827, 1.5826, 1.5825, 1.5823, 1.5821, 1.5819, 1.5818, 1.5816, 1.5814, 1.581, 1.5808, 1.5805, 1.5803, 1.5801, 1.5801, 1.58, 1.58, 1.5797, 1.5797, 1.5796, 1.5795, 1.5794, 1.5793, 1.5789, 1.5787, 1.5787, 1.5785, 1.5784, 1.5264, 1.5413, 1.5522, 1.4793, 1.515, 1.4902, 1.5574, 1.4234, 1.5033, 1.4616, 1.4805, 1.4882, 1.4936, 1.446, 1.3658, 1.4735, 1.5241, 1.1795, 1.386, 1.3841, 0.9873, 1.2057, 1.1967, 1.2791, 1.2305, 1.1863, 1.1787, 1.07, 0.3492, 0.6676, 0.8287, 0.1363, 0.8899, 2.2919, 2.2915, 2.2914, 2.2914, 2.2913, 2.2912, 2.2912, 2.2911, 2.291, 2.2909, 2.2907, 2.2901, 2.2901, 2.2901, 2.2901, 2.29, 2.2899, 2.2899, 2.2897, 2.2896, 2.2895, 2.2895, 2.2895, 2.2894, 2.2892, 2.2892, 2.2889, 2.2888, 2.2887, 2.2885, 2.2282, 2.2242, 2.1683, 2.1408, 2.0097, 2.1535, 2.1072, 1.777, 2.1655, 2.0519, 2.1997, 2.1136, 1.8942, 1.9259, 2.0354, 1.8036, 2.0555, 1.9671, 1.5087, 1.8469, 1.7668, 2.0482, 1.3194, 0.713, 1.3271, 1.6055, 0.901, 1.3791, 0.6808, 1.4198, 2.39, 2.39, 2.3898, 2.3898, 2.3898, 2.3885, 2.3879, 2.3844, 2.3819, 2.3774, 2.3741, 2.3679, 2.3665, 2.3651, 2.3456, 2.3331, 2.3103, 2.3096, 2.3043, 2.2949, 2.2599, 2.2548, 2.1522, 2.0919, 2.046, 2.0459, 2.0438, 2.0303, 2.0154, 1.9943, 1.9739, 1.9797, 1.8393, 1.5212, 1.3201, 1.1296, 1.2611, 0.4613, 1.3841, 0.9118, 2.5208, 2.5206, 2.5185, 2.5167, 2.5164, 2.5162, 2.5161, 2.5159, 2.5154, 2.5152, 2.5143, 2.514, 2.5139, 2.5133, 2.509, 2.5061, 2.506, 2.5058, 2.4955, 2.4874, 2.4248, 2.395, 2.1299, 1.9471, 0.4167, 0.4021, 0.3011, 0.2902, 0.2895, 0.2893, 0.2079, 0.1914, 0.0784, -0.1357, -0.4957, -0.4865, 2.6722, 2.672, 2.6713, 2.6711, 2.6708, 2.6705, 2.6705, 2.6704, 2.6698, 2.6697, 2.6688, 2.6686, 2.6682, 2.6677, 2.6677, 2.6673, 2.667, 2.667, 2.6669, 2.6668, 2.6666, 2.6663, 2.6654, 2.6652, 2.6647, 2.6646, 2.6635, 2.6634, 2.663, 2.6629, 2.6592, 2.561, 2.5453, 2.6454, 2.5774, 2.6399, 2.2702, 2.4658, 2.3098, 2.2, 2.4779, 2.3691, 2.3654, 2.4957, 2.1885, 2.0348, 2.1342, 1.8915, 1.2403, 1.5377, 2.0392, 1.1663, -0.015, 1.4958, 1.8079, 0.8734, 0.3622, 0.9522, 2.7222, 2.7222, 2.7216, 2.7216, 2.7212, 2.721, 2.7206, 2.7204, 2.7203, 2.7203, 2.7201, 2.7199, 2.7199, 2.7198, 2.7196, 2.7195, 2.7195, 2.7193, 2.7193, 2.7193, 2.7192, 2.7189, 2.7188, 2.7181, 2.7181, 2.718, 2.7179, 2.7176, 2.7176, 2.7173, 2.5777, 2.6113, 2.3196, 2.4221, 2.3145, 2.293, 2.3918, 1.9703, 1.5462, 1.9785, 2.2062, 1.1676, 2.027, 0.9943, 2.29, 1.8051, 1.5246, 1.349, 1.6615, -1.0528, 0.5554, 2.7701, 2.7695, 2.7692, 2.7677, 2.7676, 2.7672, 2.7671, 2.7671, 2.767, 2.767, 2.7669, 2.7669, 2.7668, 2.7667, 2.7666, 2.7665, 2.7664, 2.7663, 2.7662, 2.7662, 2.766, 2.7659, 2.7658, 2.7658, 2.7657, 2.7656, 2.7652, 2.765, 2.7648, 2.7645, 2.7358, 2.629, 2.6562, 2.6485, 2.6302, 2.5743, 2.6406, 2.0783, 2.5365, 2.2478, 2.5237, 2.0029, 2.499, 0.2319, 1.7849, 1.6302, 1.4712, 0.3705, 0.815, 1.5509, 1.4951, 3.0371, 3.0366, 3.0362, 3.0354, 3.0352, 3.0347, 3.0342, 3.0341, 3.0337, 3.033, 3.0327, 3.0305, 3.0303, 3.03, 3.0299, 3.0297, 3.0286, 3.0282, 3.0278, 3.0277, 3.0276, 3.0274, 3.0273, 3.027, 3.027, 3.0267, 3.0258, 3.0256, 3.0251, 3.0249, 2.9082, 2.9555, 2.8917, 2.925, 2.9267, 2.8897, 2.8783, 2.816, 2.898, 2.7084, 2.7723, 2.7267, 2.7561, 2.6585, 2.4996, 2.4699, 2.3352, 2.5643, 2.2498, 2.0634, 1.4587, 2.0381, 1.513, 1.7248, 0.9108, 1.0158, 0.6991, 1.8396, 3.1903, 3.1902, 3.19, 3.1896, 3.1894, 3.1891, 3.1889, 3.188, 3.188, 3.1873, 3.1872, 3.1872, 3.187, 3.1864, 3.1864, 3.1859, 3.1859, 3.1857, 3.1855, 3.1848, 3.1847, 3.1845, 3.1845, 3.1844, 3.1844, 3.1843, 3.1842, 3.1841, 3.184, 3.1839, 3.0588, 3.1196, 3.0702, 2.88, 2.7814, 2.2514, 2.4503, 2.8714, 2.3564, 0.6008, 1.6617, 1.1257, 2.6075, 2.4057, 2.493, 1.1702, 3.2145, 3.2137, 3.2135, 3.2133, 3.2132, 3.2131, 3.2128, 3.2126, 3.2125, 3.2124, 3.2123, 3.2122, 3.2117, 3.2112, 3.2109, 3.2106, 3.2106, 3.2105, 3.2105, 3.2099, 3.2098, 3.2091, 3.2089, 3.2084, 3.208, 3.2078, 3.2077, 3.2075, 3.2074, 3.2073, 3.0555, 2.7173, 2.9789, 2.7037, 2.6563, 2.649, 2.8998, 2.937, 2.8509, 2.8428, 2.7181, 2.5248, 1.3073, 2.3295, 2.1784, 2.7107, 2.1626, 1.4155, 3.4121, 3.4105, 3.4103, 3.4103, 3.41, 3.4099, 3.4094, 3.4093, 3.4092, 3.409, 3.4078, 3.4077, 3.4075, 3.4071, 3.4069, 3.4068, 3.4067, 3.4062, 3.4058, 3.4053, 3.4049, 3.4049, 3.4041, 3.4038, 3.4036, 3.4035, 3.4034, 3.4029, 3.4026, 3.4024, 3.3031, 3.2927, 3.1752, 3.2062, 3.0247, 2.7784, 2.5721, 2.5591, 1.8283, 2.9417, 2.2114, 1.9017, 1.2617, 1.2742, 2.2624, 2.0013, 1.6452, 1.2647, 3.4263, 3.4254, 3.4253, 3.4249, 3.4246, 3.4239, 3.4237, 3.4237, 3.423, 3.4223, 3.4222, 3.4221, 3.4218, 3.4218, 3.418, 3.418, 3.4171, 3.4149, 3.4147, 3.4146, 3.4145, 3.4136, 3.4134, 3.4127, 3.4126, 3.4125, 3.4118, 3.4104, 3.4081, 3.4077, 3.3741, 3.2946, 3.2542, 3.0071, 3.1383, 3.0676, 2.9238, 3.1559, 3.1094, 2.6831, 2.2446, 2.3174, 2.4484, 2.5061, 1.0139, 0.2397, 1.9766, 1.7777, 2.1922, 3.4478, 3.4473, 3.4461, 3.4454, 3.4454, 3.4449, 3.4446, 3.4443, 3.4431, 3.443, 3.4428, 3.4426, 3.4419, 3.4413, 3.4412, 3.4405, 3.4401, 3.4401, 3.44, 3.4398, 3.4397, 3.4396, 3.4394, 3.4392, 3.4391, 3.439, 3.4387, 3.4386, 3.4381, 3.4378, 3.4048, 3.3504, 3.2061, 3.0722, 3.2748, 3.2149, 2.7638, 3.1227, 2.7849, 3.2068, 2.5697, 2.3737, 3.0372, 3.2222, 2.8374, 2.8271, 2.5079, 2.3094, 1.8, 2.4034, 2.5244, 3.4722, 3.4721, 3.472, 3.472, 3.4712, 3.4682, 3.4662, 3.4662, 3.4649, 3.4644, 3.4625, 3.4606, 3.4587, 3.4584, 3.4581, 3.4578, 3.4568, 3.4563, 3.4559, 3.4557, 3.4554, 3.4534, 3.4521, 3.4512, 3.4504, 3.4498, 3.4468, 3.4433, 3.4422, 3.4359, 3.3443, 3.4127, 3.2511, 2.7997, 3.0151, 3.1003, 2.0253, 0.6395, 3.8003, 3.7998, 3.7998, 3.7992, 3.7984, 3.7975, 3.7961, 3.7958, 3.7955, 3.7953, 3.795, 3.7947, 3.7944, 3.7933, 3.7909, 3.7908, 3.7908, 3.7896, 3.7895, 3.7892, 3.7891, 3.7886, 3.7867, 3.7867, 3.7867, 3.7867, 3.7831, 3.7827, 3.7808, 3.7793, 3.6969, 3.6491, 3.5896, 3.4527, 3.3828, 3.2055, 2.8706, 3.3709, 3.0631, 2.8868, 3.0604, 3.49, 1.8641, 2.9049, 2.3723, 1.6033, 1.3152, 1.4025, 1.5639, 4.2085, 4.2071, 4.207, 4.2063, 4.2063, 4.2055, 4.2047, 4.2045, 4.2045, 4.2043, 4.2031, 4.203, 4.2028, 4.2014, 4.2008, 4.2003, 4.1998, 4.1996, 4.1987, 4.1985, 4.1984, 4.1976, 4.1975, 4.1963, 4.1942, 4.1938, 4.1938, 4.1936, 4.1929, 4.1908, 3.8833, 3.5436, 1.2422, 2.6774, 2.8248, 4.4963, 4.495, 4.4948, 4.4942, 4.4938, 4.4937, 4.4937, 4.4936, 4.4933, 4.4928, 4.4927, 4.4904, 4.4903, 4.4885, 4.4884, 4.488, 4.4868, 4.4864, 4.4856, 4.4853, 4.4826, 4.4824, 4.4809, 4.4808, 4.4796, 4.4793, 4.4781, 4.4766, 4.4764, 4.4751, 4.3456, 4.1298, 4.0285, 4.0942, 3.8353, 4.0441, 4.8291, 4.8259, 4.8215, 4.8206, 4.8204, 4.8189, 4.8184, 4.7971, 4.7842, 4.7807, 4.7546, 4.5718, 4.5025, 3.6343, 3.5935, 3.4754, 3.3544, 3.2767, 2.0552, 1.5828, 1.5827, 1.5826, 1.5825, 1.5824, 1.5824, 1.5824, 1.5824, 1.5823, 1.5823, 1.5823, 1.582, -5.3234, 4.951, 4.9505, 4.9488, 4.9484, 4.9479, 4.9479, 4.9477, 4.9476, 4.947, 4.9467, 4.9458, 4.9453, 4.9451, 4.9447, 4.9445, 4.9427, 4.9409, 4.9406, 4.9391, 4.9363, 4.9349, 4.933, 4.9295, 4.9282, 4.9272, 4.9235, 4.9223, 4.9216, 4.9153, 4.9141, 4.5351, 4.323, 5.5622, 5.5577, 5.556, 5.5547, 5.5528, 5.5452, 5.5348, 5.5231, 5.5157, 5.4651, 5.4647, 5.3613, 2.3036, 2.3032, 2.3029, 2.3026, 2.3025, 2.3024, 2.3024, 2.3023, 2.3023, 2.3022, 2.3022, 2.3022, 2.3022, 2.3022, 2.3022, 2.3022, 2.3022, 2.3022, 2.3022]}, \"token.table\": {\"Topic\": [13, 14, 12, 7, 9, 13, 17, 6, 19, 14, 19, 16, 12, 4, 17, 19, 5, 17, 8, 13, 3, 18, 16, 16, 10, 13, 5, 5, 5, 5, 5, 7, 13, 9, 3, 7, 18, 19, 3, 7, 14, 19, 3, 9, 1, 2, 17, 3, 4, 1, 12, 3, 3, 14, 4, 4, 6, 19, 5, 16, 19, 18, 18, 4, 12, 15, 12, 6, 8, 15, 16, 8, 4, 4, 8, 9, 17, 2, 13, 3, 5, 16, 5, 13, 17, 13, 3, 17, 19, 3, 7, 3, 7, 14, 4, 5, 7, 8, 5, 3, 19, 12, 3, 12, 4, 14, 16, 11, 12, 16, 18, 13, 6, 19, 15, 16, 9, 3, 17, 17, 8, 6, 10, 17, 12, 12, 7, 13, 6, 7, 9, 10, 19, 14, 17, 12, 3, 3, 13, 15, 16, 12, 16, 7, 3, 7, 8, 8, 3, 7, 18, 3, 12, 17, 4, 4, 3, 12, 9, 13, 8, 17, 20, 17, 13, 14, 7, 17, 11, 13, 16, 16, 3, 4, 7, 16, 18, 14, 9, 6, 6, 14, 3, 4, 7, 14, 7, 3, 14, 14, 3, 15, 6, 3, 7, 11, 12, 16, 3, 9, 10, 5, 7, 10, 15, 8, 13, 18, 8, 15, 13, 1, 5, 10, 2, 14, 14, 19, 20, 7, 2, 5, 9, 10, 11, 1, 15, 7, 6, 8, 16, 1, 2, 5, 13, 7, 12, 5, 6, 10, 6, 1, 5, 7, 8, 11, 5, 6, 10, 2, 14, 2, 7, 8, 11, 12, 9, 2, 4, 14, 1, 6, 9, 8, 4, 1, 1, 5, 6, 13, 1, 1, 2, 12, 12, 16, 2, 6, 1, 9, 12, 10, 2, 8, 4, 1, 13, 15, 12, 1, 2, 8, 11, 12, 6, 11, 1, 8, 15, 13, 3, 18, 9, 15, 6, 13, 10, 16, 15, 1, 6, 7, 9, 10, 16, 1, 2, 5, 10, 15, 18, 16, 10, 5, 6, 15, 1, 5, 10, 6, 10, 10, 6, 10, 5, 6, 10, 2, 15, 1, 2, 6, 9, 10, 14, 2, 12, 6, 5, 8, 12, 1, 5, 6, 15, 7, 2, 16, 2, 13, 8, 15, 19, 5, 11, 5, 12, 2, 10, 12, 16, 11, 19, 20, 13, 1, 10, 6, 7, 10, 1, 8, 17, 17, 17, 10, 12, 2, 9, 12, 7, 9, 10, 11, 11, 14, 1, 3, 4, 12, 14, 2, 8, 11, 13, 17, 2, 15, 1, 6, 13, 6, 10, 18, 14, 20, 18, 10, 19, 6, 19, 1, 5, 6, 20, 7, 1, 19, 7, 15, 16, 9, 20, 6, 7, 13, 1, 1, 12, 5, 16, 15, 11, 15, 3, 4, 5, 8, 14, 1, 6, 19, 1, 8, 11, 12, 3, 9, 8, 12, 14, 16, 2, 7, 6, 17, 13, 12, 1, 2, 8, 6, 13, 11, 5, 9, 2, 5, 13, 7, 1, 13, 14, 12, 9, 14, 1, 5, 6, 7, 10, 2, 5, 10, 9, 13, 8, 11, 11, 1, 2, 5, 6, 8, 11, 1, 6, 19, 10, 1, 2, 17, 15, 2, 10, 1, 5, 6, 10, 16, 10, 11, 11, 2, 3, 4, 14, 9, 10, 19, 7, 1, 9, 5, 6, 4, 1, 6, 9, 1, 5, 8, 9, 8, 6, 7, 10, 7, 10, 8, 13, 6, 2, 6, 9, 1, 2, 5, 6, 7, 8, 13, 10, 1, 3, 1, 15, 1, 2, 1, 7, 1, 6, 11, 14, 15, 1, 2, 6, 8, 11, 15, 9, 8, 15, 18, 1, 2, 8, 9, 10, 19, 1, 9, 2, 15, 11, 11, 8, 14, 5, 6, 2, 16, 19, 19, 2, 5, 6, 7, 8, 11, 12, 13, 11, 8, 12, 2, 7, 8, 11, 12, 2, 12, 15, 9, 9, 1, 12, 6, 7, 13, 1, 7, 8, 17, 5, 12, 1, 2, 5, 7, 10, 13, 7, 11, 10, 3, 18, 7, 20, 6, 10, 1, 5, 8, 11, 6, 1, 2, 6, 7, 17, 5, 7, 10, 1, 5, 6, 7, 9, 5, 1, 6, 7, 9, 15, 9, 1, 6, 7, 10, 5, 13, 7, 8, 1, 5, 6, 1, 2, 6, 8, 1, 6, 7, 8, 9, 12, 10, 2, 8, 11, 13, 15, 1, 5, 6, 7, 1, 5, 6, 11, 18, 1, 8, 11, 12, 9, 1, 1, 2, 9, 17, 1, 3, 4, 1, 12, 15, 19, 8, 13, 2, 5, 5, 6, 11, 13, 11, 11, 6, 8, 10, 17, 15, 1, 12, 1, 2, 5, 7, 7, 1, 2, 16, 2, 7, 15, 2, 4, 1, 6, 7, 10, 2, 17, 12, 2, 12, 8, 5, 1, 12, 14, 10, 14, 3, 12, 6, 9, 5, 1, 2, 5, 7, 8, 11, 15, 1, 8, 9, 8, 1, 2, 5, 6, 7, 8, 11, 12, 15, 6, 8, 2, 1, 2, 5, 7, 12, 1, 2, 5, 7, 17, 1, 4, 11, 1, 2, 6, 7, 8, 9, 3, 18, 2, 5, 8, 19, 10, 10, 1, 6, 8, 15, 14, 1, 2, 6, 11, 13, 2, 15, 17, 17, 1, 5, 6, 7, 8, 10, 13, 16, 6, 7, 2, 12, 13, 3, 4, 13, 7, 13, 14, 20, 19, 7, 11, 12, 15, 6, 19, 1, 5, 6, 7, 10, 8, 10, 13, 5, 7, 10, 17, 8, 15, 1, 9, 10, 2, 5, 5, 8, 1, 2, 5, 6, 8, 9, 10, 13, 9, 8, 1, 2, 5, 9, 16, 16, 7, 1, 2, 5, 8, 9, 1, 6, 9, 10, 15, 15, 2, 7, 1, 8, 15, 12, 8, 7, 17, 1, 2, 12, 7, 2, 2, 5, 7, 16, 2, 11, 19, 2, 1, 5, 6, 7, 2, 5, 7, 11, 13, 7, 4, 19, 7, 8, 1, 4, 3, 4, 12, 14, 8, 2, 7, 10, 19, 1, 2, 13, 8, 1, 5, 7, 2, 7, 8, 13, 1, 2, 13, 9, 5, 6, 2, 5, 5, 6, 8, 10, 2, 12, 13, 2, 5, 7, 12, 11, 1, 2, 5, 6, 9, 1, 2, 6, 12, 13, 5, 13, 1, 14, 1, 5, 10, 9, 4, 4, 17, 7, 9, 10, 16, 16, 1, 9, 11, 15, 1, 2, 3, 5, 6, 7, 9, 12, 13, 2, 10, 15, 17, 1, 5, 6, 2, 9, 17, 9, 16, 5, 9, 2, 5, 6, 9, 10, 15, 15, 11, 13, 15, 7, 1, 6, 2, 10, 1, 8, 8, 13, 1, 5, 2, 9, 12, 2, 7, 1, 2, 6, 11, 12, 15, 10, 17, 2, 4, 15, 11, 2, 8, 1, 12, 13, 8, 6, 11, 13, 15, 6, 8, 2, 5, 6, 12, 11, 17, 8, 10, 14, 1, 15, 9, 9, 1, 2, 5, 6, 7, 10, 5, 10, 6, 17, 12, 9, 13, 13, 11, 8, 8, 15, 1, 2, 6, 7, 10, 12, 15, 1, 2, 2, 12, 11, 15, 2, 7, 11, 15, 1, 3, 4, 2, 5, 9, 10, 19, 8, 12, 8, 9, 2, 14, 1, 5, 6, 11, 6, 6, 9, 13, 19, 1, 8, 11, 15, 4, 11, 1, 5, 1, 5, 20, 1, 2, 5, 6, 18, 10, 6, 10, 2, 15, 7, 14, 7, 6, 1, 2, 5, 1, 2, 5, 6, 11, 6, 1, 10, 2, 11, 15, 11, 18, 15, 5, 10, 6, 15, 5, 15, 8, 11, 15, 15, 1, 2, 11, 15, 2, 7, 11, 11, 4, 14, 1, 2, 1, 9, 17, 2, 12, 10, 6, 13, 4, 20, 5, 8, 3, 18, 7, 1, 8, 6, 12, 11, 20, 10, 1, 1, 2, 5, 6, 10, 6, 7, 1, 8, 9, 9, 11, 11, 12, 9, 9, 6, 6, 1, 5, 13, 1, 2, 7, 8, 11, 15, 15, 1, 2, 5, 6, 1, 12, 1, 2, 5, 11, 13, 19, 3, 12, 20, 10, 1, 6, 7, 9, 14, 7], \"Freq\": [0.9906668432338546, 0.985950512293097, 0.9937440291756455, 0.8683874975182512, 0.07654056468510227, 0.0542742185948907, 0.9796511561028168, 0.9959933191676759, 0.9831895353935522, 0.9996784371312948, 0.9835339225877601, 0.995520962536133, 0.9886953828988356, 0.9879160537911594, 0.990726278145055, 0.968097639304603, 0.9975716863951946, 0.9949132680625113, 0.9878826804918514, 0.993885826489199, 0.22790622289140136, 0.7709482628339661, 0.9897951209713414, 0.984637580679335, 0.038360629325868784, 0.9566181938138527, 0.9968969448486023, 0.9949591380565475, 0.9936165142779295, 0.9978925055873697, 0.9935214441103468, 0.9922301723752589, 0.9922418465083569, 0.9933254720086181, 0.6631782102799129, 0.10754241247782372, 0.2285276265153754, 0.9959833947733214, 0.9704491840064541, 0.9946869097291566, 0.9806148570443176, 0.9924916248701443, 0.9830017216732886, 0.9928583376687241, 0.9963609880677317, 0.9961686484882649, 0.9945818208644619, 0.3232849378976444, 0.6763842893102759, 0.23371325892246325, 0.763266086101209, 0.9355931873785593, 0.3657076024908296, 0.6332759496296898, 0.9930610391806696, 0.9944016648439596, 0.46175884213565416, 0.5320264920258624, 0.9993709795717594, 0.9913772407737405, 0.9836612432778701, 0.9980326760516756, 0.9958338031243065, 0.9889067183050243, 0.26098657156159355, 0.7340247325169819, 0.9975715970294857, 0.06987514869644913, 0.37383204552600285, 0.04017821050045825, 0.5135823429189011, 0.9930604782411665, 0.996895201197939, 0.9958501125569791, 0.9889877141404414, 0.3222829938965993, 0.6688892326155835, 0.9947154955817302, 0.9990062480162941, 0.9995336247124496, 0.9989375722047803, 0.9817521009099265, 0.45442126612617845, 0.543008805370993, 0.9908622465275758, 0.9928420369662277, 0.9995962562232916, 0.9732624152537457, 0.9911367950756252, 0.9179357667962943, 0.08090009812079034, 0.1287825559862786, 0.8692822529073806, 0.9638912571534995, 0.9883636204139731, 0.9725723699650262, 0.019848415713571963, 0.9890103379130739, 0.9951250376685459, 0.9997651014661038, 0.9958511961140671, 0.9939714940023976, 0.9982691298054076, 0.9850846809362453, 0.9946805963997086, 0.9983803286013945, 0.995931723173533, 0.3007161693597922, 0.6980003480351232, 0.9862199398169044, 0.9887688799705106, 0.9886687811769652, 0.9964911209537823, 0.9510325139602501, 0.9836081301795061, 0.991428608589442, 0.9931231143573295, 0.9443223426361012, 0.9767475474373941, 0.9866643371644193, 0.9908961230172705, 0.240898187646294, 0.7557950772719605, 0.9950330139136286, 0.9917830167959378, 0.996445829189681, 0.9650565604684856, 0.03239589160583256, 0.15330133818809152, 0.18143892557704505, 0.6636589577256621, 0.992813117722551, 0.976938404269515, 0.688784807229507, 0.3043467752874566, 0.9947001244334807, 0.9930667753766876, 0.9929997881043613, 0.9959868571252183, 0.9866654785139438, 0.9995781838026531, 0.9854034560463889, 0.9962355816751898, 0.996753471395927, 0.9687561830905068, 0.9951519255266544, 0.994947953287756, 0.9922340961872015, 0.9091221883784995, 0.09070661717225949, 0.9674158410302788, 0.9987828347927548, 0.9975455445775475, 0.9838372987116947, 0.9943354624385448, 0.9974084023798244, 0.7071667556621326, 0.2860449798183907, 0.27465333956715493, 0.7209650163637817, 0.991833318400273, 0.9884813522570215, 0.9883451516215445, 0.996346700570941, 0.9947557327116854, 0.9654328425105745, 0.9961505760886991, 0.9779146842400996, 0.9964040935955004, 0.9903136709204028, 0.9931099037050131, 0.9915938584026125, 0.8734078871923062, 0.0974496763024749, 0.02870924073641377, 0.9847208309225791, 0.9891787549362453, 0.9853398016596516, 0.9953870247803522, 0.9936957252070344, 0.9949803379645277, 0.9755406894551565, 0.7073430174374105, 0.019609509394304447, 0.2726655591969952, 0.9890803407955703, 0.9973032780260782, 0.19565546902613593, 0.8020111568188455, 0.9661895468349008, 0.9886321238148894, 0.9727202230016032, 0.9955918184808398, 0.9998343291274406, 0.9950821803343666, 0.9972649342989822, 0.9479823366042973, 0.05138546334206026, 0.988733018101923, 0.9966033144147161, 0.9931140534600463, 0.9890074766157101, 0.1458787003125014, 0.8522387228782977, 0.9821391333169933, 0.583786028816183, 0.4153108661376872, 0.9738903632523658, 0.7325365262772561, 0.26596710800220374, 0.9967971698827904, 0.3115218365541071, 0.5310249152337703, 0.15624018264098294, 0.04928304751276426, 0.9413062074937973, 0.9759866716425428, 0.9920092946118828, 0.8931283529612358, 0.9956859982067207, 0.5024299599672856, 0.05284926091874905, 0.020994911871831817, 0.17954269462807898, 0.24397535520025249, 0.9954501891680763, 0.9920305736405145, 0.9962428771532242, 0.12840846221143087, 0.869508729831689, 0.9888542891780328, 0.15037496517429483, 0.297169574034916, 0.19930650146116857, 0.3520683708445792, 0.24959823013929514, 0.7487946904178854, 0.9983479245127841, 0.20808777505241682, 0.7885431475670532, 0.9942418660650236, 0.46659920228605206, 0.2088429880667842, 0.021983472428082546, 0.30172315907543296, 0.9930774235237507, 0.9901143428128565, 0.8634698346003548, 0.13462701722263595, 0.997223485703467, 0.9881318667523119, 0.28244417387100534, 0.0272923583740522, 0.24436181334907203, 0.4258877318369541, 0.01967588626966554, 0.9959481094319992, 0.9967955505863608, 0.9999840503403419, 0.9993262032854753, 0.9582514478945651, 0.03441234481389322, 0.00595598275625075, 0.9863364186796905, 0.9923440222270727, 0.9987160637011275, 0.33062305076099185, 0.6687225021673328, 0.9947235913851513, 0.9899235982917091, 0.9974827155970827, 0.1946832746698513, 0.6125400593270932, 0.1920452899182273, 0.9895244204944962, 0.9970367628951208, 0.9963768467631969, 0.9931550681449437, 0.5419441088802232, 0.45594290268512483, 0.9814721531905676, 0.9968511144492878, 0.4322929723186699, 0.5664277225828103, 0.9935492291393545, 0.995429412163171, 0.9894270346956264, 0.9853931941468707, 0.9913657982618217, 0.11837062175525567, 0.4567891942093841, 0.009105432442711975, 0.08422525009508577, 0.3293131400114164, 0.9952382462804603, 0.9977317825191397, 0.4243139639786066, 0.3348639931939274, 0.2392977850906376, 0.9911731712487543, 0.6977458837889898, 0.3020324473733805, 0.9940757280820539, 0.9851766616133185, 0.9941992336396255, 0.9926934703841481, 0.9918008523091997, 0.9919253236097254, 0.9986688501181645, 0.09944517816205309, 0.1922606777799693, 0.042429942682475984, 0.057015235479577105, 0.6072785546429376, 0.9897938483890167, 0.2885069373516436, 0.3772783026906109, 0.14490619930331422, 0.16535842563140962, 0.023063148838065026, 0.9851710504935274, 0.9973220086647522, 0.9966701935253026, 0.33159193856202235, 0.667211309576215, 0.9988850938013399, 0.9958672770638126, 0.9947037818656435, 0.9956991542390744, 0.7168939438999031, 0.27998862186648577, 0.9904450000343578, 0.892324006146664, 0.1040004669168606, 0.8941436042019284, 0.06751964166627465, 0.036709708090401756, 0.9957268083242674, 0.991988571521056, 0.3059350545084873, 0.10977669602951604, 0.12777287570648588, 0.43370793021497317, 0.02159541561236381, 0.9920319125445055, 0.835298082270577, 0.16283340591881784, 0.9954432296063479, 0.016269250383253036, 0.8637955125358409, 0.11947730750201449, 0.6721350448518646, 0.16533098200161594, 0.11443962709521742, 0.047727125585793444, 0.9959022487202331, 0.9971531095410674, 0.9865752677948549, 0.46026910747513927, 0.536440403430532, 0.33997176978840715, 0.6580435175965795, 0.9736977036487409, 0.99656783866281, 0.9937907300406188, 0.9919666278089477, 0.9764669726720163, 0.497904263662782, 0.5006400013752149, 0.9966608213568794, 0.996133901011242, 0.9946428971203884, 0.9682213119926355, 0.9937228115873967, 0.9984491438891857, 0.9938783134255396, 0.9932651117084877, 0.5961353569275971, 0.08239269160787928, 0.319877508595296, 0.9737976847905682, 0.02418371733751411, 0.9915088342591022, 0.9983408368273909, 0.9850562462964031, 0.9963033586729766, 0.997181225561935, 0.8692991979426258, 0.08589913023148475, 0.04352222598395228, 0.09948337933485452, 0.24389473643383688, 0.6033185585468597, 0.051346260301860396, 0.9942362272651264, 0.9853467744442351, 0.23514227164814075, 0.5763702635408996, 0.09892277289399198, 0.030504275786287165, 0.05878556791203519, 0.9961857008677617, 0.11293219180871626, 0.028654436727584724, 0.7922108977626364, 0.0657366489632826, 0.8821570257347839, 0.11632839899799349, 0.4508213919958289, 0.20692599199808548, 0.3414535599968408, 0.6495462318605844, 0.3489583479676544, 0.9288093992821969, 0.9945454117190323, 0.8897344895152197, 0.9868244758270929, 0.9948170849066277, 0.9781176434560765, 0.9942043651098247, 0.9615318585942235, 0.9983655379234212, 0.2585068364088473, 0.7392812330944605, 0.9790325199648915, 0.9943515861849505, 0.9943338858150201, 0.993882491713371, 0.9952355797297597, 0.9987641758739527, 0.9982690440771215, 0.9916525217649008, 0.9918672163755575, 0.1059320824472339, 0.1059320824472339, 0.784470015960597, 0.9989280288744797, 0.9996000611451008, 0.9958836560720143, 0.7467328322687306, 0.2496473670010845, 0.9995083232649241, 0.09732718391911488, 0.9014134510639519, 0.6874455578402482, 0.08687406659215627, 0.018615871412604915, 0.20611626996478774, 0.0006708422130668437, 0.9976881848981123, 0.9969264644487978, 0.9935748432999105, 0.9940347240319077, 0.8780106397943553, 0.09654709493210893, 0.024610043806223846, 0.932089825608241, 0.9913591075528991, 0.8947551263372792, 0.10422178671090984, 0.9741976170560102, 0.9893490531098798, 0.9975472706807927, 0.9953343017132494, 0.997198095773426, 0.9735161518179555, 0.9913062454228859, 0.9990054372060329, 0.3681689197526969, 0.4007240493128228, 0.23025355270707248, 0.2137079977438053, 0.7839961939702521, 0.9929706883131857, 0.999427342278367, 0.9956769461556398, 0.3033022716785999, 0.6955158475844961, 0.9901884090191249, 0.993130716436562, 0.9694131425204474, 0.029926756329186913, 0.9828629593040588, 0.9906212366925025, 0.9959072211966556, 0.9994107854060355, 0.16783257947026814, 0.45783304364327565, 0.13699408430258636, 0.12157483671874549, 0.11564435687880668, 0.9959447460139403, 0.998815034962492, 0.9960428288785341, 0.9959881284356253, 0.992251090041558, 0.18264948526110653, 0.8128905662719577, 0.9995290221712265, 0.4995930724991109, 0.15364469491540117, 0.11531612586123657, 0.04130233734284978, 0.0935084917442119, 0.09615184133415428, 0.9973106654268662, 0.33922174390661586, 0.6580901831788347, 0.996887552148151, 0.9955887642742123, 0.9957952643112853, 0.9883120643906826, 0.9962696771177681, 0.9952499658563942, 0.9960833273694311, 0.1871494538743848, 0.02712310925715722, 0.4981611066897876, 0.28569675084205604, 0.9971295708015037, 0.99243486897517, 0.9976171500582678, 0.9916869101585397, 0.997630798820183, 0.41934360350929856, 0.07024537520714139, 0.510210253635203, 0.9991947483735059, 0.9919871746386467, 0.9896461873806823, 0.9959549916066726, 0.9443495338961093, 0.05533428260739645, 0.9947306803105255, 0.992343202385487, 0.9940110096498338, 0.910595496894107, 0.07825866762748618, 0.010620819178015982, 0.6790036446952483, 0.061548838919667746, 0.13233983576018016, 0.12683386933925142, 0.9971992483204842, 0.05861802536272941, 0.37318208225975263, 0.5676082059876175, 0.30951746387694556, 0.688925967984169, 0.9969313088717956, 0.9940056427217075, 0.9961768058920184, 0.28523613276650617, 0.15409308321868723, 0.5573579605782304, 0.15908584857492744, 0.006198149944477693, 0.16631702351015143, 0.041320999629851286, 0.5005006080165737, 0.12654556136641956, 0.9890746962498017, 0.9985207816165743, 0.9973736668431452, 0.9997125839467798, 0.5202744352396105, 0.47776533395893184, 0.11812907064435514, 0.8795634416651985, 0.9968291832552097, 0.9960591561884051, 0.9227036626413967, 0.07617526908624048, 0.9947889063084538, 0.9880905466792738, 0.9891289538157418, 0.5230867535172646, 0.030168724388902706, 0.03552124000628867, 0.1990162625009872, 0.1707939074274976, 0.04087375562367463, 0.992357514638214, 0.852756052615348, 0.08305102425471216, 0.06228826819103412, 0.1402468238438723, 0.6707456792533023, 0.032705781054499866, 0.10199769006827077, 0.053770521394686216, 0.9881592227628407, 0.2712704372132801, 0.7262358161615372, 0.9956150368295369, 0.9866881428848395, 0.9914146156733141, 0.9949378479690634, 0.987218079717153, 0.9725343881156809, 0.7356655866699724, 0.2623702441969832, 0.27673505021164907, 0.7224422806148346, 0.9763880089885222, 0.994119715426981, 0.25336322986512066, 0.01607965609778639, 0.015210485497906044, 0.10951549558492352, 0.2690083006629669, 0.1255951516827099, 0.10516964258552179, 0.10603881318540213, 0.9930072143122479, 0.6230169317239795, 0.37595849328171177, 0.22440678012065107, 0.29503226421953616, 0.367935989740966, 0.07746020836651915, 0.034173621338170215, 0.2871139640373225, 0.3973193239708402, 0.31321523349526087, 0.9927532470945297, 0.9957519114861625, 0.5229334824240117, 0.4756804569037697, 0.13556537256086915, 0.7619117141395684, 0.1012450250771048, 0.05388692525705608, 0.05181435120870777, 0.8932794148381219, 0.9966170143990347, 0.9946963359155564, 0.9850665192576299, 0.9985556322657715, 0.08139729068098435, 0.27544843166445104, 0.4642901460443347, 0.11590974192972171, 0.06251311924299598, 0.8784864585072076, 0.11970584709328984, 0.9949732486751988, 0.7085612795495059, 0.2898276815279786, 0.9994023864817747, 0.9958670447500844, 0.6640334390576155, 0.3347233775684447, 0.8041714664140023, 0.0991549730749794, 0.09638356078406383, 0.9889117320505096, 0.9943472317709922, 0.13996254950619383, 0.639605393832774, 0.20955286741709467, 0.010164877897097876, 0.997210697610405, 0.12059703018826348, 0.2790959841499812, 0.598965249935042, 0.07090047785142091, 0.20515882952751582, 0.15688616375633563, 0.06637491543537277, 0.49781186576529574, 0.9937332274954015, 0.4213773797448268, 0.345624142936768, 0.0197274054187653, 0.13493545306435464, 0.07733142924155997, 0.9942179959037811, 0.8956836981555825, 0.06355315364897038, 0.02910378064298643, 0.010691184725995015, 0.19896292280868827, 0.7958516912347531, 0.892314614135849, 0.10443928748612608, 0.1763365633228545, 0.6163219688954137, 0.20544065629847125, 0.8518624278380693, 0.005235883799339968, 0.023482145524312582, 0.1191560222213429, 0.4310197958947178, 0.016336027249654026, 0.02953051079745151, 0.11121064704572164, 0.10429925090163725, 0.30661466530119863, 0.9910142411604707, 0.04909756223714672, 0.2215099319536387, 0.04281764148588377, 0.6862240675470972, 0.9954451535474174, 0.9135276821094784, 0.014189409263534798, 0.047973717033855744, 0.022973329283818244, 0.3252284523354664, 0.19928213991143773, 0.4742914929892218, 0.9972143650391521, 0.9904266846312828, 0.7373493215746774, 0.21769064744929317, 0.025811891054701906, 0.018970184992009833, 0.9984109016344439, 0.9988533723751953, 0.13343228942463678, 0.7723489453557443, 0.09349999842894256, 0.9886998642042996, 0.2909536444840017, 0.6594632849038694, 0.04945737317330012, 0.1566102554912393, 0.29030193700815093, 0.5510007159661285, 0.9929204171593792, 0.999207909512967, 0.9906345941139436, 0.9949959186885853, 0.987642589593911, 0.5283540327692855, 0.47028613786348233, 0.9908982613107372, 0.9964794494613445, 0.9970986557071346, 0.99272444580325, 0.9955329914358245, 0.9949802222724441, 0.3575480548237212, 0.6335500620560675, 0.9923934037268527, 0.9981836070436171, 0.9979686392655962, 0.5641835232201187, 0.10881335374909906, 0.3081521026340032, 0.01828795861329396, 0.9943032507908798, 0.21647603629375428, 0.7821485358946955, 0.9901074869104824, 0.3358394307469138, 0.5924459663042072, 0.07022915709989083, 0.99618568180899, 0.9789439609311442, 0.1670773750999772, 0.6483173358580312, 0.16279333984100341, 0.019992164541877612, 0.9939622406529519, 0.9936213606673147, 0.983898434975442, 0.12230815247528246, 0.8759908217824284, 0.9984638400042564, 0.9938457691591931, 0.997215696858382, 0.9934507465621295, 0.9809126407613133, 0.9958085368909415, 0.9854204932160463, 0.9233759587172224, 0.07624491841861329, 0.9963801097141662, 0.9935881927011256, 0.9952967437543047, 0.4231804342646742, 0.19924390667592307, 0.005392641348778544, 0.046547009536825334, 0.11636752384206334, 0.11778663998647874, 0.09082343324258602, 0.2223586961306004, 0.6835941629615029, 0.09148472069373273, 0.9963253303609613, 0.22441303535638576, 0.07253128490800313, 0.008678957168479008, 0.013948324020769834, 0.12677476721099692, 0.37722467407281973, 0.026036871505437025, 0.0061992551203421484, 0.14413268154795494, 0.2428019287533504, 0.7537968376329506, 0.9969057979470483, 0.09165709709685044, 0.5898956761874221, 0.238151773653355, 0.013317697868773142, 0.0665884893438657, 0.08103413596195805, 0.7880276120358528, 0.10217347577812101, 0.02818578642155062, 0.9963441530994317, 0.42719291893993233, 0.5614535506067682, 0.993364591246139, 0.07201403033470946, 0.7527258374351985, 0.027045993293126177, 0.014337634998765685, 0.0918912061284528, 0.041383628291891864, 0.7420723551825703, 0.2576560657547295, 0.9959672673076746, 0.9886657572150831, 0.9984760821177211, 0.9935923855129574, 0.9970671044564964, 0.9933501356944171, 0.4326398150975518, 0.252724965160643, 0.21368185989574204, 0.09971820128467962, 0.9847499674138811, 0.3404007706055579, 0.18770671064820765, 0.10406537844227057, 0.31608642984801805, 0.049601255145381294, 0.9943933365311937, 0.30379443631127484, 0.6915645704646908, 0.9966717923465086, 0.3902078688153452, 0.07168183225475264, 0.028025979528173962, 0.3196039588501377, 0.12611690787678284, 0.008084417171588643, 0.05497403676680278, 0.9893472520201411, 0.20563991546190555, 0.7907941464510677, 0.2682271886274651, 0.7284806600223199, 0.9928265606603276, 0.8778538681005881, 0.12191759152297761, 0.9969280331228575, 0.33328610475913095, 0.662037704691607, 0.9892682034482484, 0.9647185482038916, 0.997129106908845, 0.998703361439895, 0.3450624726747117, 0.17481138483520636, 0.4773110855500417, 0.9965913750771009, 0.9830846565730973, 0.40006506227266714, 0.23881613105971003, 0.17732141406408608, 0.03528958191226147, 0.1483210645718316, 0.9943397642733415, 0.15651231825210624, 0.8406947380398849, 0.4270740943660986, 0.1595197704252819, 0.4118817352779765, 0.9853204662967013, 0.5885435417414574, 0.4081018255055378, 0.998808276061962, 0.8852848527999841, 0.11197278770592685, 0.9968147878421203, 0.992056934029332, 0.9978606388226202, 0.9891351732989232, 0.38388308597197823, 0.200847630580539, 0.01904060106421012, 0.3015785523395861, 0.02518273043976177, 0.02026902693932045, 0.011055832875992972, 0.03808120212842024, 0.9986527501883756, 0.9949665625984124, 0.3373663250055726, 0.20827398262301758, 0.3212297822077533, 0.13246975831698235, 0.9937027067113199, 0.9981096584749004, 0.9967897343542261, 0.29259564292881085, 0.07247781980805405, 0.16150921574510813, 0.45455225262335136, 0.01834315192672973, 0.16055492448142636, 0.17331870508873642, 0.20086160008345808, 0.0631471251098497, 0.40105142224021567, 0.9918100586097075, 0.1757459356216531, 0.8216893305819395, 0.9979194393110173, 0.8623141686716309, 0.13645772354574903, 0.9968861260911074, 0.9902156990432297, 0.9963126162036714, 0.9889677218881189, 0.7024578880847244, 0.24841888227631975, 0.04869134146989039, 0.9957881370966742, 0.9966046604854006, 0.9359756109731477, 0.06125867773492443, 0.7808239534739071, 0.21568798714803858, 0.1032004098074725, 0.8961952254461414, 0.9948432973698556, 0.9939067549485682, 0.0878459256508082, 0.8227108806142999, 0.03547623920513408, 0.05236968644567412, 0.41730708966665103, 0.21086989508193443, 0.2640623010485485, 0.10701805486140216, 0.9942105954644921, 0.9986236845895934, 0.9847325137412517, 0.9972825578040831, 0.9948149080211729, 0.996872883859641, 0.9956319573565412, 0.9998423071204667, 0.673167164894294, 0.002037051476635433, 0.08947356870452557, 0.23520109741767578, 0.9903887358673263, 0.8299876301576864, 0.06494724838978443, 0.10410661874244857, 0.9921228765493391, 0.5348014054809233, 0.38014262065265625, 0.08383373383214472, 0.9907637452218452, 0.36298178363991307, 0.6233908602535532, 0.01339725152996219, 0.2707022573341419, 0.08298313245659707, 0.12971149830594297, 0.5148176858229663, 0.9961191049871094, 0.995669421566807, 0.9888114425631873, 0.9947814397659607, 0.9671359023658056, 0.02675870085597091, 0.9968544985950063, 0.9979500994491339, 0.9856546842989217, 0.010463425523343117, 0.921300878891538, 0.07689373641444057, 0.0014662484977870285, 0.08944115836500874, 0.9061415716323835, 0.8582369535671367, 0.07927165075360923, 0.01536899351345485, 0.04610698054036456, 0.9937279280226845, 0.06451150120390292, 0.7210108958083268, 0.08348547214622731, 0.03225575060195146, 0.09676725180585438, 0.13073143404907892, 0.14100318958150657, 0.18956057937116444, 0.14660596532646708, 0.3903267102322499, 0.9960306823566055, 0.9968209174611351, 0.9968218289023999, 0.99652251557146, 0.39054169095534197, 0.0013050683072860217, 0.607509297041643, 0.9935724646691707, 0.9956302020184895, 0.9721510937014085, 0.9940555707026728, 0.06450892706002063, 0.930417217211836, 0.9931459150330154, 0.9890922387169038, 0.9911037080317143, 0.205686576579386, 0.21659134937792748, 0.5301975739980517, 0.0466273043799705, 0.5507986023122942, 0.013474885332021545, 0.14528560576029245, 0.06803297368761253, 0.022897173571705783, 0.07897498583692326, 0.07497304620824018, 0.04128583287818631, 0.004204569483299956, 0.2682649881268617, 0.7292064870630717, 0.9969833932598882, 0.9940098371904704, 0.46990444342917853, 0.221598156214773, 0.3078045988472503, 0.9972362332587054, 0.4787833560548477, 0.514395341215952, 0.9951328750290107, 0.9987249043443021, 0.991326680507316, 0.997210334969956, 0.2411287777846649, 0.06688846233067759, 0.06688846233067759, 0.4764770711703824, 0.046243875191579575, 0.10074558523879835, 0.9951620451877232, 0.6786188182210716, 0.3202690250021748, 0.996256358207641, 0.9965282976943776, 0.9089229071505353, 0.09014111475873077, 0.3036218418155063, 0.6944222322711084, 0.19802919279854245, 0.8005795572112016, 0.4949547417495065, 0.5043288845856714, 0.11861549644266593, 0.8805692786760624, 0.998007925629204, 0.9960007954280503, 0.9978324857381421, 0.11231666647553744, 0.884270897966136, 0.1896704171119657, 0.28479213687204513, 0.05443712877835873, 0.4314858733695171, 0.038965523757140984, 0.9882781773731718, 0.9947494146092154, 0.9918189640864654, 0.9956676352181972, 0.8818053431647874, 0.9955058084329976, 0.9976486542511934, 0.9092829667995059, 0.08651430169548698, 0.9950550918241572, 0.8412226306023456, 0.1578810519417299, 0.988730581275213, 0.9986680108252632, 0.9898042743401786, 0.9943173755015715, 0.9874257153745458, 0.23183810365943527, 0.7667719099385651, 0.6922604618786413, 0.06133127560470526, 0.07046572090753371, 0.1755118418900608, 0.015731881747433247, 0.983242609214578, 0.9886036640260057, 0.9975672901517788, 0.9900300802541167, 0.2909608469551053, 0.7061862222972869, 0.9922838572857285, 0.9983190137924515, 0.04989104975831933, 0.06567291243697136, 0.17207321243175444, 0.038181925835448466, 0.1023275612390019, 0.5712016104983091, 0.8370779027481547, 0.15836608970911034, 0.3703280936216474, 0.6256027989336569, 0.9836686511468271, 0.7325470872046566, 0.26471290092189736, 0.9937107758212642, 0.9910871848026424, 0.9920308364059434, 0.9858800163198848, 0.9959196083613625, 0.11374447607613224, 0.23873113874118454, 0.06282398387925908, 0.14416451037556297, 0.10911534042187104, 0.23410200308692333, 0.09522793345908746, 0.9018781794731042, 0.09755204062169313, 0.9944000201238113, 0.9876485238579721, 0.1372717468554918, 0.8579484178468236, 0.4559930095191815, 0.07182195525268609, 0.07732321139970035, 0.3945623158775223, 0.6674833847274227, 0.2834641306757669, 0.04895505783614384, 0.0977644870449872, 0.4212499221203125, 0.12508103489579245, 0.3543962655380786, 0.9945081404005033, 0.992949784799162, 0.9888975484392065, 0.9954975234355654, 0.9988696679627687, 0.9964048466063066, 0.9832261632437572, 0.8713849046660718, 0.07455488772380604, 0.053253491231290036, 0.9975510376240536, 0.9968325592363121, 0.13551996781991862, 0.41494258188160654, 0.3967801119675968, 0.050296070531103826, 0.1398825382508072, 0.7191655568859944, 0.033458935662296824, 0.10682672229528503, 0.9950171337137612, 0.9923376157353652, 0.8205864860103216, 0.1791127862865169, 0.9007730015146249, 0.09892016322789558, 0.9656202196504655, 0.6852529385365553, 0.2057756637587907, 0.02277517055194382, 0.08610612726217358, 0.6690361672712539, 0.9934743307090247, 0.994721536554268, 0.9976267200671666, 0.34597691811687104, 0.6506106824965059, 0.9960550176100533, 0.9933740841153573, 0.9961541201919546, 0.9927335697275115, 0.3264018718142139, 0.08909657393353869, 0.5834112196994217, 0.8189148058143094, 0.0030850704279316806, 0.029136776263799204, 0.03187906108862736, 0.11654710505519682, 0.9958050561302757, 0.941988561631676, 0.05586211237583195, 0.7852698391167998, 0.14637882685905332, 0.06793271522740596, 0.9924228227772804, 0.948151660219017, 0.9894663589099414, 0.812921851980977, 0.18434287349754497, 0.185632726450526, 0.809789140023309, 0.9939897050748795, 0.9759619442303578, 0.37243570823483496, 0.6238891163424305, 0.9938465270575118, 0.9869675848457724, 0.11500413422958562, 0.596283493392948, 0.20504756408458272, 0.08320234791529507, 0.02803759834415097, 0.18168363727009829, 0.7884172654375252, 0.9929222056096653, 0.12020644471274038, 0.8796716835300158, 0.06503927470406014, 0.9331722022756456, 0.9994442357257661, 0.137662916588873, 0.858196480011485, 0.3939951686946685, 0.6046274307175938, 0.9977786018365645, 0.9977659849957753, 0.9874206451992573, 0.9111982855221693, 0.8715102519640276, 0.9082947124662911, 0.0872675311977417, 0.7881031822883752, 0.21131638907404723, 0.995348822584815, 0.8848312305970463, 0.1144603858268843, 0.9968238852605503, 0.9843820911733114, 0.9958259713858792, 0.9583876988331438, 0.9964334517858154, 0.9958737454873308, 0.6669550036755643, 0.15167002293800896, 0.1356185518279389, 0.0452061839426463, 0.9978010174869167, 0.994182799163176, 0.9963171577694988, 0.9333285967629007, 0.0560572103805233, 0.009582429124875778, 0.8758567560475589, 0.12335364784125305, 0.8872797610846059, 0.11194651191254373, 0.9933230909668451, 0.9979502604827313, 0.9956759041507174, 0.9981886723703423, 0.196424557695085, 0.7377898020742216, 0.06347866803560673, 0.5983721093894656, 0.10497292418365792, 0.02776361974630751, 0.0412488064802283, 0.11634278750833624, 0.11105447898523003, 0.9858973109928223, 0.18330659076073438, 0.08265163244122399, 0.33306152874829864, 0.39934650130017135, 0.9978879615136863, 0.9874997277841628, 0.10954209235666908, 0.2573369788696353, 0.2196637725035851, 0.22082294808407896, 0.19242314636197955, 0.9903982426267905, 0.34300976413012657, 0.6569105491726316, 0.9990817003836884, 0.9931134234099709, 0.2565287562587531, 0.21077426127092816, 0.14138355797185714, 0.3907563979528935, 0.9996252267530887, 0.9959905229590128], \"Term\": [\"ATI\", \"Adobe\", \"Apple\", \"April\", \"April\", \"April\", \"Area\", \"Armenians\", \"Avenue\", \"B\", \"BATF\", \"BC\", \"BJ\", \"BK\", \"Bay\", \"Berlin\", \"Bible\", \"Bill\", \"Black\", \"Blue\", \"C\", \"C\", \"COM\", \"Charles\", \"Chicago\", \"Chicago\", \"Christ\", \"Christian\", \"Christianity\", \"Christians\", \"Church\", \"Clipper\", \"Code\", \"Computer\", \"D\", \"D\", \"D\", \"DC\", \"DE\", \"DES\", \"Dean\", \"December\", \"Director\", \"Division\", \"Don\", \"Dr\", \"Earth\", \"F\", \"F\", \"FAQ\", \"FAQ\", \"FO\", \"G\", \"G\", \"GN\", \"GT\", \"Germany\", \"Germany\", \"God\", \"Graphics\", \"Group\", \"H\", \"HP\", \"HQ\", \"IBM\", \"IBM\", \"IDE\", \"II\", \"II\", \"II\", \"II\", \"III\", \"IP\", \"IV\", \"Illinois\", \"International\", \"International\", \"Iran\", \"Israel\", \"J\", \"Jesus\", \"Joe\", \"John\", \"John\", \"Jose\", \"June\", \"K\", \"Ken\", \"Koresh\", \"L\", \"L\", \"LA\", \"LA\", \"LE\", \"LX\", \"Law\", \"Law\", \"London\", \"Lord\", \"M\", \"MA\", \"MB\", \"MD\", \"MIT\", \"MO\", \"MR\", \"MS\", \"Mac\", \"Mac\", \"Macintosh\", \"Mail\", \"Man\", \"Mark\", \"Massachusetts\", \"Mb\", \"Microsoft\", \"Mike\", \"Militia\", \"Mission\", \"Montreal\", \"Motorola\", \"Mr\", \"Mr\", \"NASA\", \"NIST\", \"NSA\", \"National\", \"National\", \"New\", \"New\", \"New\", \"Northern\", \"November\", \"O\", \"O\", \"Office\", \"P\", \"PS\", \"Paul\", \"Power\", \"Q\", \"Quadra\", \"R\", \"RSA\", \"RT\", \"Research\", \"Robert\", \"Russia\", \"S\", \"S\", \"SALE\", \"SC\", \"SCSI\", \"SF\", \"SR\", \"SS\", \"ST\", \"ST\", \"San\", \"San\", \"Saturn\", \"Shuttle\", \"South\", \"Space\", \"St\", \"Stadium\", \"States\", \"Station\", \"Sun\", \"Sunday\", \"System\", \"Systems\", \"T\", \"T\", \"T\", \"TC\", \"Thanks\", \"Time\", \"Toronto\", \"Turkey\", \"Turks\", \"Type\", \"U\", \"U\", \"U\", \"Union\", \"United\", \"V\", \"V\", \"VR\", \"VW\", \"Virginia\", \"Volume\", \"W\", \"Washington\", \"Windows\", \"X\", \"X\", \"XT\", \"York\", \"abuse\", \"acquire\", \"action\", \"action\", \"adapter\", \"address\", \"address\", \"adjust\", \"advance\", \"advance\", \"advice\", \"agree\", \"agree\", \"agree\", \"ah\", \"ah\", \"ain\", \"air\", \"alert\", \"algorithm\", \"allow\", \"allow\", \"allow\", \"allow\", \"allow\", \"alt\", \"amp\", \"anti\", \"anybody\", \"anybody\", \"app\", \"appear\", \"appear\", \"appear\", \"appear\", \"application\", \"application\", \"argument\", \"arm\", \"arm\", \"armenian\", \"ask\", \"ask\", \"ask\", \"ask\", \"assembly\", \"assumption\", \"attack\", \"attack\", \"author\", \"automatically\", \"available\", \"available\", \"available\", \"available\", \"available\", \"average\", \"avoid\", \"ax\", \"b\", \"bad\", \"bad\", \"bad\", \"band\", \"be\", \"belief\", \"believe\", \"believe\", \"belt\", \"bible\", \"bike\", \"bit\", \"bit\", \"bit\", \"bj\", \"blind\", \"block\", \"blood\", \"board\", \"board\", \"bolt\", \"bomb\", \"book\", \"book\", \"bounce\", \"box\", \"boy\", \"brother\", \"bug\", \"build\", \"build\", \"build\", \"build\", \"build\", \"building\", \"bus\", \"buy\", \"buy\", \"buy\", \"buyer\", \"c\", \"c\", \"cable\", \"camera\", \"camp\", \"cap\", \"captain\", \"capture\", \"card\", \"carry\", \"carry\", \"carry\", \"carry\", \"carry\", \"cartridge\", \"case\", \"case\", \"case\", \"case\", \"case\", \"cc\", \"cd\", \"character\", \"child\", \"child\", \"chip\", \"choice\", \"christian\", \"citizen\", \"city\", \"city\", \"civil\", \"civilian\", \"civilian\", \"claim\", \"claim\", \"claim\", \"clipper\", \"clock\", \"close\", \"close\", \"close\", \"close\", \"close\", \"club\", \"code\", \"code\", \"cold\", \"com\", \"com\", \"com\", \"come\", \"come\", \"come\", \"come\", \"community\", \"compare\", \"compiler\", \"complete\", \"complete\", \"computer\", \"computer\", \"conceal\", \"conclusion\", \"configuration\", \"context\", \"contrib\", \"control\", \"control\", \"controller\", \"convert\", \"cool\", \"cooperation\", \"cop\", \"copy\", \"couldn\", \"count\", \"country\", \"country\", \"country\", \"couple\", \"couple\", \"coverage\", \"cpu\", \"crew\", \"crime\", \"criminal\", \"current\", \"current\", \"current\", \"cut\", \"cut\", \"cut\", \"cut\", \"cycle\", \"cylinder\", \"d\", \"d\", \"d\", \"d\", \"d\", \"data\", \"date\", \"date\", \"date\", \"date\", \"datum\", \"datum\", \"day\", \"day\", \"day\", \"death\", \"death\", \"dec\", \"decent\", \"declaration\", \"default\", \"defense\", \"definite\", \"destroy\", \"developer\", \"didn\", \"die\", \"die\", \"diet\", \"digital\", \"direct\", \"directory\", \"disease\", \"disk\", \"display\", \"division\", \"doctor\", \"document\", \"document\", \"document\", \"doesn\", \"don\", \"door\", \"draw\", \"draw\", \"drive\", \"driver\", \"driver\", \"e\", \"e\", \"e\", \"e\", \"e\", \"easy\", \"eat\", \"economic\", \"edge\", \"edu\", \"edu\", \"edu\", \"ee\", \"electronic\", \"email\", \"email\", \"emphasis\", \"enable\", \"encryption\", \"enforcement\", \"engine\", \"engineering\", \"ensure\", \"entry\", \"etc\", \"etc\", \"etc\", \"event\", \"event\", \"everybody\", \"evidence\", \"excellent\", \"exist\", \"exist\", \"expand\", \"expensive\", \"explain\", \"explain\", \"explode\", \"extension\", \"external\", \"f\", \"fact\", \"fact\", \"fact\", \"fact\", \"fact\", \"factor\", \"faith\", \"family\", \"fan\", \"father\", \"feature\", \"feature\", \"file\", \"find\", \"find\", \"find\", \"find\", \"find\", \"find\", \"fine\", \"fire\", \"fire\", \"firearm\", \"fit\", \"flame\", \"flight\", \"floppy\", \"following\", \"font\", \"force\", \"force\", \"force\", \"force\", \"format\", \"freedom\", \"ftp\", \"fuel\", \"function\", \"g\", \"g\", \"g\", \"game\", \"gang\", \"gas\", \"generate\", \"get\", \"get\", \"gift\", \"girl\", \"glad\", \"go\", \"go\", \"go\", \"good\", \"good\", \"good\", \"good\", \"gov\", \"government\", \"government\", \"government\", \"grant\", \"grant\", \"graphic\", \"greatly\", \"greek\", \"ground\", \"ground\", \"ground\", \"group\", \"group\", \"group\", \"group\", \"group\", \"group\", \"guilty\", \"gun\", \"guy\", \"h\", \"hard\", \"hard\", \"hardware\", \"hardware\", \"haven\", \"health\", \"hear\", \"hear\", \"heat\", \"height\", \"hello\", \"help\", \"help\", \"help\", \"help\", \"help\", \"help\", \"hey\", \"hi\", \"hi\", \"hi\", \"high\", \"high\", \"high\", \"high\", \"high\", \"historical\", \"hit\", \"hit\", \"hole\", \"hook\", \"host\", \"hot\", \"hp\", \"hr\", \"human\", \"human\", \"image\", \"image\", \"imagination\", \"imply\", \"include\", \"include\", \"include\", \"include\", \"include\", \"include\", \"include\", \"include\", \"industry\", \"info\", \"info\", \"information\", \"information\", \"information\", \"information\", \"information\", \"input\", \"input\", \"input\", \"insert\", \"insist\", \"instal\", \"instal\", \"interest\", \"interest\", \"interest\", \"interested\", \"interested\", \"interested\", \"internal\", \"interpretation\", \"introduce\", \"isn\", \"issue\", \"issue\", \"issue\", \"issue\", \"issue\", \"job\", \"job\", \"justify\", \"k\", \"k\", \"key\", \"kid\", \"kill\", \"kill\", \"know\", \"know\", \"know\", \"lab\", \"land\", \"large\", \"large\", \"large\", \"large\", \"launch\", \"law\", \"law\", \"law\", \"lead\", \"lead\", \"lead\", \"lead\", \"lead\", \"learn\", \"leave\", \"leave\", \"leave\", \"leave\", \"leave\", \"left\", \"let\", \"let\", \"let\", \"let\", \"letter\", \"letter\", \"license\", \"license\", \"life\", \"life\", \"life\", \"like\", \"like\", \"like\", \"like\", \"line\", \"line\", \"line\", \"line\", \"line\", \"line\", \"link\", \"list\", \"list\", \"list\", \"list\", \"listen\", \"little\", \"little\", \"little\", \"little\", \"live\", \"live\", \"live\", \"load\", \"locate\", \"look\", \"look\", \"look\", \"look\", \"lose\", \"lot\", \"low\", \"low\", \"low\", \"lunar\", \"m\", \"m\", \"m\", \"machine\", \"machine\", \"machine\", \"magazine\", \"mail\", \"mailing\", \"main\", \"male\", \"man\", \"man\", \"management\", \"manager\", \"manual\", \"map\", \"mark\", \"market\", \"mass\", \"mass\", \"master\", \"maybe\", \"mb\", \"mean\", \"mean\", \"mean\", \"mean\", \"meeting\", \"memory\", \"memory\", \"menu\", \"message\", \"message\", \"message\", \"method\", \"mi\", \"million\", \"million\", \"million\", \"million\", \"mirror\", \"mission\", \"mit\", \"mode\", \"mode\", \"model\", \"moral\", \"motherboard\", \"motif\", \"motto\", \"mouse\", \"movie\", \"n\", \"n\", \"nation\", \"nd\", \"necessarily\", \"need\", \"need\", \"need\", \"need\", \"need\", \"need\", \"need\", \"net\", \"net\", \"net\", \"network\", \"new\", \"new\", \"new\", \"new\", \"new\", \"new\", \"new\", \"new\", \"new\", \"news\", \"news\", \"newsgroup\", \"non\", \"non\", \"non\", \"non\", \"non\", \"note\", \"note\", \"note\", \"note\", \"notice\", \"ns\", \"ns\", \"nuclear\", \"number\", \"number\", \"number\", \"number\", \"number\", \"number\", \"o\", \"o\", \"object\", \"objective\", \"offer\", \"official\", \"oh\", \"okay\", \"old\", \"old\", \"old\", \"old\", \"oo\", \"open\", \"open\", \"open\", \"open\", \"open\", \"operate\", \"option\", \"option\", \"orbit\", \"order\", \"order\", \"order\", \"order\", \"order\", \"order\", \"order\", \"org\", \"organization\", \"organization\", \"output\", \"output\", \"ozone\", \"p\", \"p\", \"package\", \"paper\", \"paper\", \"park\", \"partner\", \"past\", \"patient\", \"pc\", \"pc\", \"pc\", \"peace\", \"peer\", \"people\", \"people\", \"people\", \"people\", \"people\", \"percent\", \"period\", \"period\", \"person\", \"person\", \"person\", \"phase\", \"phone\", \"phone\", \"physical\", \"pick\", \"pick\", \"picture\", \"piece\", \"pin\", \"pixel\", \"place\", \"place\", \"place\", \"place\", \"place\", \"place\", \"place\", \"place\", \"play\", \"plus\", \"point\", \"point\", \"point\", \"point\", \"pointer\", \"port\", \"possibly\", \"post\", \"post\", \"post\", \"post\", \"post\", \"power\", \"power\", \"power\", \"power\", \"power\", \"predict\", \"press\", \"press\", \"pretty\", \"price\", \"price\", \"printer\", \"privacy\", \"private\", \"probability\", \"problem\", \"problem\", \"problem\", \"procedure\", \"process\", \"produce\", \"produce\", \"product\", \"product\", \"program\", \"program\", \"proof\", \"proper\", \"prove\", \"prove\", \"prove\", \"prove\", \"provide\", \"provide\", \"provide\", \"provide\", \"pub\", \"public\", \"publicly\", \"publish\", \"pull\", \"purchase\", \"put\", \"q\", \"r\", \"r\", \"r\", \"r\", \"radar\", \"rate\", \"rate\", \"rate\", \"rational\", \"read\", \"read\", \"read\", \"reading\", \"reason\", \"reason\", \"reason\", \"receive\", \"receive\", \"receive\", \"receive\", \"recommend\", \"reduce\", \"registration\", \"regular\", \"reject\", \"reject\", \"release\", \"religion\", \"religious\", \"religious\", \"reply\", \"reply\", \"request\", \"request\", \"request\", \"require\", \"require\", \"require\", \"require\", \"resource\", \"result\", \"result\", \"result\", \"result\", \"result\", \"return\", \"return\", \"return\", \"return\", \"return\", \"revelation\", \"review\", \"ride\", \"rider\", \"right\", \"right\", \"right\", \"ring\", \"rm\", \"rn\", \"rocket\", \"round\", \"round\", \"route\", \"row\", \"rs\", \"run\", \"run\", \"run\", \"run\", \"s\", \"s\", \"s\", \"s\", \"s\", \"s\", \"s\", \"s\", \"s\", \"safety\", \"safety\", \"sale\", \"satellite\", \"say\", \"say\", \"say\", \"scan\", \"schedule\", \"schedule\", \"score\", \"screen\", \"scripture\", \"season\", \"second\", \"second\", \"second\", \"second\", \"second\", \"second\", \"secret\", \"section\", \"section\", \"secure\", \"security\", \"see\", \"see\", \"self\", \"self\", \"sell\", \"sell\", \"send\", \"send\", \"sense\", \"sense\", \"serial\", \"series\", \"server\", \"service\", \"service\", \"set\", \"set\", \"set\", \"set\", \"set\", \"shape\", \"shoot\", \"shuttle\", \"signal\", \"simms\", \"sink\", \"site\", \"size\", \"size\", \"slow\", \"software\", \"software\", \"solar\", \"soldier\", \"solid\", \"son\", \"soul\", \"sound\", \"sound\", \"source\", \"source\", \"source\", \"source\", \"space\", \"space\", \"spacecraft\", \"speak\", \"specification\", \"speed\", \"speed\", \"sport\", \"st\", \"state\", \"state\", \"state\", \"state\", \"state\", \"state\", \"statement\", \"statement\", \"station\", \"station\", \"std\", \"stuff\", \"stuff\", \"submit\", \"suck\", \"summary\", \"summer\", \"supply\", \"support\", \"support\", \"support\", \"support\", \"support\", \"support\", \"support\", \"sure\", \"sure\", \"surface\", \"swap\", \"switch\", \"switch\", \"system\", \"system\", \"system\", \"system\", \"t\", \"t\", \"t\", \"talk\", \"talk\", \"talk\", \"talk\", \"tank\", \"tap\", \"tar\", \"tax\", \"team\", \"technology\", \"television\", \"tell\", \"tell\", \"tell\", \"telnet\", \"terrorist\", \"th\", \"th\", \"th\", \"th\", \"thank\", \"thank\", \"thank\", \"thank\", \"thanks\", \"thermal\", \"thing\", \"thing\", \"think\", \"think\", \"till\", \"time\", \"time\", \"time\", \"time\", \"tom\", \"topic\", \"town\", \"trade\", \"transfer\", \"transfer\", \"trap\", \"travel\", \"treatment\", \"trial\", \"true\", \"true\", \"true\", \"try\", \"try\", \"try\", \"try\", \"try\", \"turkish\", \"turn\", \"turn\", \"type\", \"type\", \"type\", \"typically\", \"ultra\", \"unable\", \"understand\", \"understand\", \"unit\", \"unit\", \"universe\", \"up\", \"update\", \"update\", \"upgrade\", \"usage\", \"use\", \"use\", \"use\", \"use\", \"user\", \"user\", \"user\", \"utility\", \"v\", \"v\", \"value\", \"value\", \"ve\", \"vehicle\", \"vehicle\", \"version\", \"version\", \"video\", \"village\", \"violence\", \"virginia\", \"vitamin\", \"vs\", \"vs\", \"w\", \"w\", \"wait\", \"want\", \"want\", \"war\", \"warning\", \"warranty\", \"wash\", \"wasn\", \"watch\", \"way\", \"way\", \"way\", \"way\", \"weapon\", \"wear\", \"weight\", \"will\", \"will\", \"will\", \"win\", \"win\", \"window\", \"window\", \"wing\", \"wire\", \"withdraw\", \"woman\", \"word\", \"word\", \"word\", \"work\", \"work\", \"work\", \"work\", \"work\", \"work\", \"workstation\", \"world\", \"world\", \"world\", \"world\", \"wouldn\", \"wow\", \"write\", \"write\", \"write\", \"write\", \"write\", \"writing\", \"x\", \"x\", \"y\", \"yeah\", \"year\", \"year\", \"year\", \"year\", \"z\", \"zone\"]}, \"R\": 30, \"lambda.step\": 0.01, \"plot.opts\": {\"xlab\": \"PC1\", \"ylab\": \"PC2\"}, \"topic.order\": [8, 9, 20, 10, 11, 14, 4, 2, 17, 16, 19, 13, 5, 1, 7, 18, 12, 6, 15, 3]};\n",
       "\n",
       "function LDAvis_load_lib(url, callback){\n",
       "  var s = document.createElement('script');\n",
       "  s.src = url;\n",
       "  s.async = true;\n",
       "  s.onreadystatechange = s.onload = callback;\n",
       "  s.onerror = function(){console.warn(\"failed to load library \" + url);};\n",
       "  document.getElementsByTagName(\"head\")[0].appendChild(s);\n",
       "}\n",
       "\n",
       "if(typeof(LDAvis) !== \"undefined\"){\n",
       "   // already loaded: just create the visualization\n",
       "   !function(LDAvis){\n",
       "       new LDAvis(\"#\" + \"ldavis_el1133621914253201841396398837\", ldavis_el1133621914253201841396398837_data);\n",
       "   }(LDAvis);\n",
       "}else if(typeof define === \"function\" && define.amd){\n",
       "   // require.js is available: use it to load d3/LDAvis\n",
       "   require.config({paths: {d3: \"https://cdnjs.cloudflare.com/ajax/libs/d3/3.5.5/d3.min\"}});\n",
       "   require([\"d3\"], function(d3){\n",
       "      window.d3 = d3;\n",
       "      LDAvis_load_lib(\"https://cdn.rawgit.com/bmabey/pyLDAvis/files/ldavis.v1.0.0.js\", function(){\n",
       "        new LDAvis(\"#\" + \"ldavis_el1133621914253201841396398837\", ldavis_el1133621914253201841396398837_data);\n",
       "      });\n",
       "    });\n",
       "}else{\n",
       "    // require.js not available: dynamically load d3 & LDAvis\n",
       "    LDAvis_load_lib(\"https://cdnjs.cloudflare.com/ajax/libs/d3/3.5.5/d3.min.js\", function(){\n",
       "         LDAvis_load_lib(\"https://cdn.rawgit.com/bmabey/pyLDAvis/files/ldavis.v1.0.0.js\", function(){\n",
       "                 new LDAvis(\"#\" + \"ldavis_el1133621914253201841396398837\", ldavis_el1133621914253201841396398837_data);\n",
       "            })\n",
       "         });\n",
       "}\n",
       "</script>"
      ],
      "text/plain": [
       "<IPython.core.display.HTML object>"
      ]
     },
     "execution_count": 112,
     "metadata": {},
     "output_type": "execute_result"
    }
   ],
   "source": [
    "pyLDAvis.enable_notebook()\n",
    "vis = pyLDAvis.gensim.prepare(lda, corpus, id2word, mds='mmds')\n",
    "pyLDAvis.display(vis)"
   ]
  },
  {
   "cell_type": "code",
   "execution_count": 106,
   "metadata": {
    "colab": {},
    "colab_type": "code",
    "id": "rjtXk8J3LaXC"
   },
   "outputs": [],
   "source": [
    "def compute_coherence_values(dictionary, corpus, texts, limit, start=2, step=3):\n",
    "    \"\"\"\n",
    "    Compute c_v coherence for various number of topics\n",
    "\n",
    "    Parameters:\n",
    "    ----------\n",
    "    dictionary : Gensim dictionary\n",
    "    corpus : Gensim corpus\n",
    "    texts : List of input texts\n",
    "    limit : Max num of topics\n",
    "\n",
    "    Returns:\n",
    "    -------\n",
    "    model_list : List of LDA topic models\n",
    "    coherence_values : Coherence values corresponding to the LDA model with respective number of topics\n",
    "    \"\"\"\n",
    "    coherence_values = []\n",
    "    model_list = []\n",
    "    for num_topics in range(start, limit, step):\n",
    "        model = gensim.models.ldamulticore.LdaMulticore(corpus=corpus,\n",
    "                                                        id2word=id2word,\n",
    "                                                        num_topics=num_topics, \n",
    "                                                        chunksize=100,\n",
    "                                                        passes=10,\n",
    "                                                        per_word_topics=True,\n",
    "                                                        workers=12)\n",
    "        model_list.append(model)\n",
    "        coherencemodel = CoherenceModel(model=model, texts=texts, dictionary=dictionary, coherence='c_v')\n",
    "        coherence_values.append(coherencemodel.get_coherence())\n",
    "\n",
    "    return model_list, coherence_values"
   ]
  },
  {
   "cell_type": "code",
   "execution_count": 107,
   "metadata": {
    "colab": {},
    "colab_type": "code",
    "id": "pRA9EjvQ3L0c"
   },
   "outputs": [
    {
     "name": "stdout",
     "output_type": "stream",
     "text": [
      "Wall time: 10min 29s\n"
     ]
    }
   ],
   "source": [
    "%%time\n",
    "model_list, coherence_values = compute_coherence_values(dictionary=id2word, \n",
    "                                                        corpus=corpus, \n",
    "                                                        texts=df['lemmas'], \n",
    "                                                        start=10, \n",
    "                                                        limit=41, \n",
    "                                                        step=5)"
   ]
  },
  {
   "cell_type": "code",
   "execution_count": 108,
   "metadata": {
    "colab": {},
    "colab_type": "code",
    "id": "2e9X-Ql-3L0e"
   },
   "outputs": [],
   "source": [
    "# coherence_values = [0.5054, 0.5332, 0.5452, 0.564, 0.5678, 0.5518, 0.519]"
   ]
  },
  {
   "cell_type": "code",
   "execution_count": 109,
   "metadata": {
    "colab": {},
    "colab_type": "code",
    "id": "ybEBYQNF3L0g"
   },
   "outputs": [
    {
     "data": {
      "image/png": "[encoded data removed]",
      "text/plain": [
       "<Figure size 432x288 with 1 Axes>"
      ]
     },
     "metadata": {
      "needs_background": "light"
     },
     "output_type": "display_data"
    }
   ],
   "source": [
    "start=10; limit=41; step=5;\n",
    "x = range(start, limit, step)\n",
    "plt.plot(x, coherence_values)\n",
    "plt.xlabel(\"Num Topics\")\n",
    "plt.ylabel(\"Coherence score\")\n",
    "plt.legend((\"coherence_values\"), loc='best')\n",
    "plt.show()"
   ]
  },
  {
   "cell_type": "code",
   "execution_count": 110,
   "metadata": {
    "colab": {},
    "colab_type": "code",
    "id": "DmvQ2zKZ3L0i"
   },
   "outputs": [
    {
     "name": "stdout",
     "output_type": "stream",
     "text": [
      "Num Topics = 10  has Coherence Value of 0.6324\n",
      "Num Topics = 15  has Coherence Value of 0.6181\n",
      "Num Topics = 20  has Coherence Value of 0.6243\n",
      "Num Topics = 25  has Coherence Value of 0.5544\n",
      "Num Topics = 30  has Coherence Value of 0.5839\n",
      "Num Topics = 35  has Coherence Value of 0.5644\n",
      "Num Topics = 40  has Coherence Value of 0.5609\n"
     ]
    }
   ],
   "source": [
    "# Print the coherence scores\n",
    "for m, cv in zip(x, coherence_values):\n",
    "    print(\"Num Topics =\", m, \" has Coherence Value of\", round(cv, 4))"
   ]
  },
  {
   "cell_type": "code",
   "execution_count": 111,
   "metadata": {
    "colab": {},
    "colab_type": "code",
    "id": "Yol5vG3R3L0k"
   },
   "outputs": [],
   "source": [
    "# Select the model and print the topics\n",
    "# optimal_model = model_list[4]\n",
    "# optimal_model =  models.LdaModel.load('optimal_model.model')\n",
    "# model_topics = optimal_model.show_topics(formatted=False)\n",
    "# pprint(optimal_model.print_topics(num_words=10))"
   ]
  },
  {
   "cell_type": "code",
   "execution_count": null,
   "metadata": {
    "colab": {},
    "colab_type": "code",
    "id": "8HwVEUDI3L0m"
   },
   "outputs": [],
   "source": []
  }
 ],
 "metadata": {
  "colab": {
   "collapsed_sections": [],
   "name": "DSPT6_LS_DS_414_Topic_Modeling.ipynb",
   "provenance": []
  },
  "kernelspec": {
   "display_name": "U4-S1-NLP",
   "language": "python",
   "name": "u4-s1-nlp"
  },
  "language_info": {
   "codemirror_mode": {
    "name": "ipython",
    "version": 3
   },
   "file_extension": ".py",
   "mimetype": "text/x-python",
   "name": "python",
   "nbconvert_exporter": "python",
   "pygments_lexer": "ipython3",
   "version": "3.7.0"
  }
 },
 "nbformat": 4,
 "nbformat_minor": 4
}
