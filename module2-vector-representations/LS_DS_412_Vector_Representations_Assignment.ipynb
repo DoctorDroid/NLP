{
 "cells": [
  {
   "cell_type": "markdown",
   "metadata": {},
   "source": [
    "<img align=\"left\" src=\"https://lever-client-logos.s3.amazonaws.com/864372b1-534c-480e-acd5-9711f850815c-1524247202159.png\" width=200>\n",
    "<br></br>\n",
    "\n",
    "# Vector Representations\n",
    "## *Data Science Unit 4 Sprint 2 Assignment 2*"
   ]
  },
  {
   "cell_type": "code",
   "execution_count": 32,
   "metadata": {
    "colab": {
     "base_uri": "https://localhost:8080/",
     "height": 159
    },
    "colab_type": "code",
    "id": "hyj-f9FDcVFp",
    "outputId": "5dd045fe-6e4c-458c-e2fc-253c3da9c805"
   },
   "outputs": [],
   "source": [
    "import re\n",
    "import string\n",
    "import seaborn as sns\n",
    "import matplotlib.pyplot as plt\n",
    "import pandas as pd\n",
    "import numpy as np\n",
    "import spacy\n",
    "from sklearn.feature_extraction.text import CountVectorizer, TfidfVectorizer\n",
    "from sklearn.neighbors import NearestNeighbors\n",
    "from bs4 import BeautifulSoup"
   ]
  },
  {
   "cell_type": "markdown",
   "metadata": {
    "colab_type": "text",
    "id": "M7bcmqfGXrFG"
   },
   "source": [
    "## 1) *Clean:* Job Listings from indeed.com that contain the title \"Data Scientist\" \n",
    "\n",
    "You have `job_listings.csv` in the data folder for this module. The text data in the description column is still messy - full of html tags. Use the [BeautifulSoup](https://www.crummy.com/software/BeautifulSoup/bs4/doc/) library to clean up this column. You will need to read through the documentation to accomplish this task. "
   ]
  },
  {
   "cell_type": "code",
   "execution_count": 33,
   "metadata": {
    "colab": {},
    "colab_type": "code",
    "id": "KcYlc1URXhlC"
   },
   "outputs": [],
   "source": [
    "from bs4 import BeautifulSoup\n",
    "import requests\n",
    "import pandas as pd\n",
    "import re\n",
    "import spacy\n",
    "from sklearn.feature_extraction.text import CountVectorizer"
   ]
  },
  {
   "cell_type": "code",
   "execution_count": 34,
   "metadata": {},
   "outputs": [],
   "source": [
    "nlp = spacy.load(\"en_core_web_lg\")\n",
    "\n",
    "df = pd.read_csv('data/job_listings.csv')"
   ]
  },
  {
   "cell_type": "code",
   "execution_count": 35,
   "metadata": {},
   "outputs": [
    {
     "name": "stderr",
     "output_type": "stream",
     "text": [
      "C:\\Python\\Anaconda3\\envs\\U4-S1-NLP\\lib\\site-packages\\ipykernel_launcher.py:4: SettingWithCopyWarning: \n",
      "A value is trying to be set on a copy of a slice from a DataFrame\n",
      "\n",
      "See the caveats in the documentation: https://pandas.pydata.org/pandas-docs/stable/user_guide/indexing.html#returning-a-view-versus-a-copy\n",
      "  after removing the cwd from sys.path.\n"
     ]
    }
   ],
   "source": [
    "df['parsed']= 'blank'\n",
    "for i in range(len(df)):\n",
    "    soup = BeautifulSoup(df['description'][i], 'html.parser')\n",
    "    df['parsed'][i] = soup.get_text()\n",
    "df['parsed'] = df['parsed'].apply(lambda x : x.replace('b\"', ''))\n",
    "df['parsed'] = df['parsed'].apply(lambda x : x.replace(\"b'\", ''))\n",
    "df['parsed'] = df['parsed'].apply(lambda x : x.replace(\"x99\",\"\"))\n",
    "df['parsed'] = df['parsed'].apply(lambda x : x.replace(\"x9d\",\"\"))\n",
    "df['parsed'] = df['parsed'].apply(lambda x : x.replace(\"xc2\",\"\"))\n",
    "df['parsed'] = df['parsed'].apply(lambda x : x.replace(\"xe2\",\"\"))\n",
    "df['parsed'] = df['parsed'].apply(lambda x : x.replace(\"xef\",\"\"))\n",
    "df['parsed'] = df['parsed'].apply(lambda x : x.replace(\"x98\",\"\"))\n",
    "df['parsed'] = df['parsed'].apply(lambda x : x.replace(\"x93\",\"\"))\n",
    "df['parsed'] = df['parsed'].apply(lambda x : x.replace(\"x80\",\"\"))\n",
    "df['parsed'] = df['parsed'].apply(lambda x : x.replace(\"x83\",\"\"))\n",
    "df['parsed'] = df['parsed'].apply(lambda x : x.replace(\"xaf\",\"\"))\n",
    "df['parsed'] = df['parsed'].apply(lambda x : x.replace(\"\\\\n\",\" \"))\n",
    "df['parsed'] = df['parsed'].apply(lambda x : re.sub('[^a-z A-Z 0-9]', ' ', x))"
   ]
  },
  {
   "cell_type": "code",
   "execution_count": 36,
   "metadata": {},
   "outputs": [
    {
     "name": "stdout",
     "output_type": "stream",
     "text": [
      "b\"<div><div>Job Requirements:</div><ul><li><p>\\nConceptual understanding in Machine Learning models like Nai\\xc2\\xa8ve Bayes, K-Means, SVM, Apriori, Linear/ Logistic Regression, Neural, Random Forests, Decision Trees, K-NN along with hands-on experience in at least 2 of them</p>\\n</li><li><p>Intermediate to expert level coding skills in Python/R. (Ability to write functions, clean and efficient data manipulation are mandatory for this role)</p>\\n</li><li><p>Exposure to packages like NumPy, SciPy, Pandas, Matplotlib etc in Python or GGPlot2, dplyr, tidyR in R</p>\\n</li><li><p>Ability to communicate Model findings to both Technical and Non-Technical stake holders</p>\\n</li><li><p>Hands on experience in SQL/Hive or similar programming language</p>\\n</li><li><p>Must show past work via GitHub, Kaggle or any other published article</p>\\n</li><li><p>Master's degree in Statistics/Mathematics/Computer Science or any other quant specific field.</p></li></ul><div><div><div><div><div><div>\\nApply Now</div></div></div></div></div></div></div><div></div>\"\n"
     ]
    }
   ],
   "source": [
    "print(df['description'][0])"
   ]
  },
  {
   "cell_type": "code",
   "execution_count": 37,
   "metadata": {},
   "outputs": [
    {
     "name": "stdout",
     "output_type": "stream",
     "text": [
      "Job Requirements  Conceptual understanding in Machine Learning models like Nai  xa8ve Bayes  K Means  SVM  Apriori  Linear  Logistic Regression  Neural  Random Forests  Decision Trees  K NN along with hands on experience in at least 2 of them Intermediate to expert level coding skills in Python R   Ability to write functions  clean and efficient data manipulation are mandatory for this role  Exposure to packages like NumPy  SciPy  Pandas  Matplotlib etc in Python or GGPlot2  dplyr  tidyR in R Ability to communicate Model findings to both Technical and Non Technical stake holders Hands on experience in SQL Hive or similar programming language Must show past work via GitHub  Kaggle or any other published article Master s degree in Statistics Mathematics Computer Science or any other quant specific field  Apply Now \n"
     ]
    }
   ],
   "source": [
    "print(df['parsed'][0])"
   ]
  },
  {
   "cell_type": "markdown",
   "metadata": {
    "colab_type": "text",
    "id": "5C4xFZNtX1m2"
   },
   "source": [
    "## 2) Use Spacy to tokenize the listings "
   ]
  },
  {
   "cell_type": "code",
   "execution_count": 38,
   "metadata": {
    "colab": {},
    "colab_type": "code",
    "id": "dhUHuMr-X-II"
   },
   "outputs": [],
   "source": [
    "df['tokens']= df['parsed'].apply(lambda x: nlp.tokenizer(x))"
   ]
  },
  {
   "cell_type": "code",
   "execution_count": 39,
   "metadata": {},
   "outputs": [
    {
     "data": {
      "text/plain": [
       "spacy.tokens.doc.Doc"
      ]
     },
     "execution_count": 39,
     "metadata": {},
     "output_type": "execute_result"
    }
   ],
   "source": [
    "type(df['tokens'][0])"
   ]
  },
  {
   "cell_type": "code",
   "execution_count": 40,
   "metadata": {},
   "outputs": [
    {
     "data": {
      "text/plain": [
       "(426, 5)"
      ]
     },
     "execution_count": 40,
     "metadata": {},
     "output_type": "execute_result"
    }
   ],
   "source": [
    "df.shape"
   ]
  },
  {
   "cell_type": "markdown",
   "metadata": {
    "colab_type": "text",
    "id": "-lgCZNL_YycP"
   },
   "source": [
    "## 3) Use Scikit-Learn's CountVectorizer to get word counts for each listing."
   ]
  },
  {
   "cell_type": "code",
   "execution_count": 41,
   "metadata": {
    "colab": {},
    "colab_type": "code",
    "id": "X2PZ8Pj_YxcF"
   },
   "outputs": [
    {
     "name": "stdout",
     "output_type": "stream",
     "text": [
      "  (0, 4374)\t1\n",
      "  (0, 6605)\t1\n",
      "  (0, 1724)\t1\n",
      "  (0, 8139)\t1\n",
      "  (0, 3999)\t7\n",
      "  (0, 4770)\t1\n",
      "  (0, 4568)\t1\n",
      "  (0, 5094)\t1\n",
      "  (0, 4641)\t2\n",
      "  (0, 5210)\t1\n",
      "  (0, 8679)\t1\n",
      "  (0, 932)\t1\n",
      "  (0, 4916)\t1\n",
      "  (0, 7646)\t1\n",
      "  (0, 674)\t1\n",
      "  (0, 4652)\t1\n",
      "  (0, 4712)\t1\n",
      "  (0, 6481)\t1\n",
      "  (0, 5283)\t1\n",
      "  (0, 6339)\t1\n",
      "  (0, 3316)\t1\n",
      "  (0, 2162)\t1\n",
      "  (0, 8029)\t1\n",
      "  (0, 5326)\t1\n",
      "  (0, 509)\t1\n",
      "  :\t:\n",
      "  (425, 6534)\t1\n",
      "  (425, 8394)\t1\n",
      "  (425, 2750)\t1\n",
      "  (425, 2136)\t1\n",
      "  (425, 6475)\t1\n",
      "  (425, 1026)\t2\n",
      "  (425, 3635)\t1\n",
      "  (425, 5415)\t1\n",
      "  (425, 6893)\t1\n",
      "  (425, 1350)\t8\n",
      "  (425, 6284)\t1\n",
      "  (425, 6063)\t1\n",
      "  (425, 6722)\t1\n",
      "  (425, 858)\t1\n",
      "  (425, 6631)\t1\n",
      "  (425, 4800)\t1\n",
      "  (425, 4329)\t1\n",
      "  (425, 6815)\t1\n",
      "  (425, 1709)\t1\n",
      "  (425, 5397)\t1\n",
      "  (425, 1696)\t1\n",
      "  (425, 3966)\t1\n",
      "  (425, 3272)\t1\n",
      "  (425, 7093)\t1\n",
      "  (425, 4625)\t1\n"
     ]
    }
   ],
   "source": [
    "cv = CountVectorizer()          \n",
    "dtm = cv_fit=cv.fit_transform(list(df['parsed']))\n",
    "print(dtm)\n"
   ]
  },
  {
   "cell_type": "code",
   "execution_count": 42,
   "metadata": {},
   "outputs": [
    {
     "name": "stdout",
     "output_type": "stream",
     "text": [
      "['00', '000', '02115', '03', '0305', '0356', '04', '062', '06366', '08', '10', '100', '1000', '1001', '1008', '100k', '100x', '1026036', '105', '1079302', '1082692', '10b', '10ms', '10x', '11', '110k', '112', '114157802', '12', '120', '125', '126', '130', '1315', '1324b', '138', '14', '140', '15', '150', '15000', '159m', '16', '1605', '165', '169334br', '17', '170', '17b', '18', '180', '180008jq', '18b', '19', '190', '190007ji', '19000bn4', '19000c1k', '19004162', '1901744', '1904', '1904labs', '1905', '19050', '1938', '1944', '1967', '1971', '1975', '1979', '1988', '199', '1994', '1999', '1b', '1st', '1strategy', '1tb', '20', '200', '2000', '200020183', '200041695', '2004', '2008', '2011', '2012', '2013', '2014', '2015', '2016', '2017', '2018', '2019', '2020', '2050', '21', '210', '2145', '2272', '24', '24m', '25', '250', '25256', '26', '260', '27', '28', '2nd', '2x', '30', '300', '30328', '30bn', '30k', '31', '317', '320', '3201', '33', '33051', '338', '35', '350', '3535', '35million', '36', '360', '365', '374', '37m', '380', '3d', '3rd', '3x', '40', '400', '401', '401k', '408', '4111', '41476br', '42', '43', '447618', '45', '450', '45040', '457', '461', '47069', '485', '49', '4901', '4919', '4g', '4th', '50', '500', '5000', '500tm', '503', '508c', '510', '52799', '540', '55', '57', '579', '58', '58490', '59', '5g', '5m', '5pm', '60', '600', '60606', '613', '62', '66', '67', '6890', '695', '70', '700', '72', '725', '734', '75', '755', '756', '771', '78', '7901', '80', '800', '80bn', '82', '83', '832', '844', '85', '85034', '866', '877', '8954', '90', '900', '907', '908', '920', '9226', '93', '941', '95', '95035', '968', '969', '96m', '98', '9966', '9am', 'aa', 'aap', 'ab', 'ab1', 'abernathy', 'abilities', 'ability', 'able', 'abounds', 'about', 'above', 'abroad', 'absence', 'absolutely', 'absorbing', 'abstract', 'abstracting', 'abstraction', 'abstractions', 'abstractly', 'abundant', 'abuse', 'academia', 'academic', 'academics', 'academies', 'accelerate', 'accelerates', 'accelerating', 'acceleration', 'accelerator', 'accelerometer', 'accept', 'acceptable', 'acceptance', 'accepted', 'accepting', 'access', 'accessibility', 'accessible', 'accessing', 'accidental', 'accolade', 'accolades', 'accommodate', 'accommodating', 'accommodation', 'accommodations', 'accomplish', 'accomplished', 'accomplishment', 'accomplishments', 'accordance', 'according', 'account', 'accountabilities', 'accountability', 'accountable', 'accountants', 'accounting', 'accounts', 'accredited', 'accruals', 'accuracy', 'accurate', 'accurately', 'achieve', 'achieved', 'achievement', 'achievements', 'achievers', 'achieves', 'achieving', 'acknowledge', 'acl', 'acquire', 'acquired', 'acquires', 'acquiring', 'acquisition', 'acquisitions', 'acres', 'across', 'act', 'acted', 'acting', 'action', 'actionable', 'actions', 'activate', 'activation', 'active', 'actively', 'activities', 'activity', 'actors', 'acts', 'actual', 'actually', 'actuarial', 'actuary', 'acuity', 'acumen', 'acute', 'ad', 'adaction', 'adam', 'adapt', 'adaptability', 'adaptable', 'adaptations', 'adapting', 'adaption', 'adaptive', 'adapts', 'add', 'added', 'adding', 'addition', 'additional', 'additionally', 'additive', 'additives', 'address', 'addressed', 'addresses', 'addressing', 'adds', 'addt', 'addthis', 'adept', 'adhere', 'adherence', 'adhering', 'adhoc', 'adjacent', 'adjudicates', 'adjust', 'adjusted', 'adjustments', 'admin', 'administration', 'administrative', 'administrators', 'admired', 'admission', 'admitting', 'adobe', 'adopt', 'adopting', 'adoption', 'ads', 'adtech', 'advance', 'advanced', 'advancement', 'advancements', 'advancementwe', 'advances', 'advancing', 'advantage', 'advantages', 'adventures', 'adversarial', 'advertisement', 'advertiser', 'advertisers', 'advertising', 'advice', 'advise', 'advisement', 'advisor', 'advisors', 'advisory', 'advocacy', 'advocate', 'advocates', 'advocating', 'adwords', 'aerial', 'aerospace', 'aetna', 'aetnas', 'afb', 'affairs', 'affect', 'affected', 'affecting', 'affectional', 'affects', 'affiliate', 'affiliates', 'affiliation', 'affinity', 'affirm', 'affirmative', 'afford', 'affordability', 'affordable', 'afni', 'afraid', 'after', 'again', 'against', 'age', 'agencies', 'agency', 'agenda', 'agent', 'agents', 'aggregate', 'aggregated', 'aggregating', 'aggregation', 'aggressive', 'aggressively', 'agile', 'agility', 'ago', 'agree', 'agreed', 'agreement', 'agricultural', 'agronomic', 'agronomy', 'ah1', 'ahead', 'ai', 'aid', 'aide', 'aiding', 'aids', 'aim', 'aimbridge', 'aimed', 'aiming', 'aims', 'air', 'airbnb', 'aircraft', 'airflow', 'airline', 'akraya', 'al', 'album', 'albuquerque', 'alcohol', 'alelo', 'alerting', 'alerts', 'alertsunderstanding', 'alex', 'alexa', 'algebra', 'algorithm', 'algorithmic', 'algorithms', 'alice', 'alienage', 'align', 'aligned', 'aligning', 'alignment', 'alignmentexperience', 'alike', 'alive', 'all', 'allazo', 'allazoengine', 'allazohealth', 'allegiance', 'allen', 'allennlp', 'allentown', 'alliance', 'allianz', 'allocates', 'allocation', 'allow', 'allowance', 'allowed', 'allowing', 'allows', 'almost', 'alone', 'along', 'alongside', 'alpha', 'alpharetta', 'already', 'also', 'altair', 'altering', 'alternate', 'alternately', 'alternating', 'alternative', 'alternatives', 'alteryx', 'alteryxexperience', 'although', 'alto', 'always', 'am', 'amazing', 'amazon', 'ambassador', 'ambiguity', 'ambiguous', 'ambiguously', 'ambition', 'ambitions', 'ambitious', 'amenities', 'america', 'american', 'americans', 'americas', 'amex', 'aml', 'amnesty', 'among', 'amongst', 'amount', 'amounts', 'amp', 'ampl', 'ample', 'amplion', 'amusement', 'an', 'anaheim', 'analyse', 'analyses', 'analysing', 'analysis', 'analysisat', 'analysisexperience', 'analysisrunning', 'analysisuses', 'analyst', 'analysts', 'analytic', 'analytical', 'analytically', 'analytics', 'analyticsidentifying', 'analyticso', 'analytos', 'analyze', 'analyzed', 'analyzes', 'analyzing', 'ancestry', 'anchor', 'ancillary', 'and', 'andover', 'andpython', 'andrew', 'android', 'angeles', 'angles', 'angrist', 'angular', 'ann', 'anna', 'annapolis', 'annotate', 'annotates', 'annotating', 'annotation', 'announced', 'announcements', 'annual', 'annually', 'anomalies', 'anomaly', 'anonymization', 'anonymous', 'anonymously', 'another', 'anova', 'answer', 'answered', 'answering', 'answers', 'anti', 'anticipate', 'anticipated', 'anticipates', 'anticipating', 'antimalware', 'antonio', 'anum', 'anxious', 'any', 'anylogic', 'anyone', 'anything', 'anywhere', 'ap', 'apac', 'apache', 'apart', 'apex', 'api', 'apis', 'app', 'apparel', 'appealing', 'appear', 'appended', 'apple', 'applicability', 'applicable', 'applicant', 'applicants', 'application', 'applications', 'applicationsdrive', 'applicationsstrong', 'applied', 'applies', 'apply', 'applying', 'appointed', 'appointment', 'appreciate', 'appreciates', 'appreciation', 'apprise', 'apprised', 'approach', 'approachability', 'approachable', 'approaches', 'approacheswork', 'approaching', 'appropriate', 'appropriately', 'approval', 'approve', 'approved', 'approximately', 'approximating', 'approximation', 'apps', 'appzen', 'april', 'apriori', 'aptible', 'aptitude', 'ar', 'arbor', 'arcade', 'arcgis', 'architect', 'architecting', 'architects', 'architectural', 'architecture', 'architectures', 'architecturesnatural', 'are', 'area', 'areas', 'aren', 'arise', 'arises', 'arizona', 'arl', 'arlington', 'arm', 'armour', 'arms', 'army', 'around', 'arrange', 'arrangements', 'array', 'arrest', 'arrive', 'art', 'arthur', 'arthurlawrence', 'article', 'articles', 'articulate', 'articulating', 'artifacts', 'artificial', 'artist', 'artists', 'as', 'asap', 'ascensus', 'ascertain', 'asia', 'ask', 'asked', 'asking', 'aspect', 'aspects', 'aspirational', 'aspirations', 'aspire', 'aspires', 'aspiring', 'assault', 'assemble', 'assembled', 'assembly', 'assess', 'assesses', 'assessing', 'assessment', 'assessments', 'asset', 'assets', 'assigned', 'assigning', 'assignment', 'assignments', 'assimilation', 'assist', 'assistance', 'assistancewe', 'assistants', 'assisted', 'assisting', 'assists', 'associate', 'associated', 'associates', 'association', 'assortment', 'assume', 'assuming', 'assumption', 'assumptions', 'assurance', 'assure', 'assured', 'asynchronous', 'at', 'athena', 'athenex', 'athlete', 'athletes', 'athletics', 'atlanta', 'atlantic', 'atlassian', 'atmosphere', 'atomic', 'atos', 'atrium', 'attach', 'attached', 'attack', 'attacking', 'attacks', 'attained', 'attempt', 'attend', 'attendance', 'attendees', 'attending', 'attention', 'attentive', 'attitude', 'attitudeproven', 'attitudinal', 'attn', 'attorneys', 'attract', 'attracting', 'attractions', 'attracts', 'attributes', 'attribution', 'attrition', 'atwww', 'au', 'auburn', 'auctions', 'audience', 'audiences', 'audio', 'audit', 'auditing', 'augment', 'augmentation', 'augmented', 'augmenting', 'august', 'aurora', 'austin', 'australia', 'authentic', 'author', 'authoring', 'authoritative', 'authorities', 'authority', 'authorization', 'authorizations', 'authorized', 'autism', 'auto', 'autodesk', 'autodeskinterns', 'automate', 'automated', 'automates', 'automatic', 'automatically', 'automating', 'automation', 'automobiles', 'automotive', 'autonomous', 'autonomously', 'autonomy', 'availability', 'available', 'avanade', 'avenues', 'average', 'avidly', 'avidxchange', 'avoid', 'avp', 'avro', 'award', 'awarded', 'awards', 'aware', 'awareness', 'away', 'aways', 'awe', 'awesome', 'aws', 'axians', 'axiologic', 'axle', 'az', 'azkaban', 'azure', 'azureml', 'b2b', 'b2c', 'ba', 'baby', 'babylist', 'bachelor', 'bachelors', 'back', 'backbone', 'backed', 'backend', 'background', 'backgrounds', 'backing', 'backup', 'backwards', 'bacteria', 'bacterial', 'bad', 'bagged', 'bagging', 'bain', 'bake', 'bakery', 'balance', 'balances', 'balancing', 'band', 'bandits', 'bangalore', 'bank', 'banking', 'banks', 'banners', 'bar', 'barriers', 'bart', 'base', 'baseball', 'based', 'baseline', 'baselines', 'bases', 'bash', 'basic', 'basically', 'basics', 'basis', 'basketball', 'baskets', 'bat', 'batch', 'batches', 'battery', 'battle', 'bay', 'bayes', 'bayesian', 'baytown', 'bcbs', 'bcbsaz', 'bda', 'be', 'beach', 'bear', 'beats', 'beautiful', 'beauty', 'beaverton', 'because', 'become', 'becomes', 'becoming', 'bed', 'bedrock', 'been', 'before', 'began', 'begets', 'begin', 'beginning', 'beginnings', 'behalf', 'behave', 'behavior', 'behavioral', 'behaviors', 'behaviour', 'behaviours', 'behind', 'beijing', 'being', 'beings', 'belief', 'beliefs', 'believe', 'believes', 'bell', 'bellevue', 'belonging', 'below', 'benchmark', 'benchmarking', 'benchmarks', 'beneficial', 'benefit', 'benefits', 'berkley', 'berlin', 'berman', 'besides', 'best', 'bet', 'bethlehem', 'bets', 'better', 'between', 'beverage', 'beyond', 'bf1', 'bi', 'bias', 'biases', 'bicycles', 'bidding', 'bids', 'big', 'bigdata', 'biggest', 'bigquery', 'bike', 'bill', 'billing', 'billion', 'billions', 'bing', 'bioequivalence', 'bioinformatic', 'bioinformaticians', 'bioinformatics', 'biological', 'biologists', 'biology', 'biomedical', 'biophysical', 'biorxiv', 'bios', 'bioscience', 'biostatistical', 'biostatisticians', 'biostatistics', 'birthday', 'bis', 'bisexual', 'bit', 'bits', 'bitter', 'biz', 'biztalk', 'black', 'blacklists', 'blacksky', 'blackthorn', 'blast', 'bleeding', 'blend', 'blended', 'blending', 'blends', 'blistering', 'block', 'blockchain', 'blockchains', 'blockers', 'blog', 'blogs', 'bloomington', 'bloomnet', 'blow', 'blowouts', 'blue', 'bluekai', 'bluemix', 'blues', 'blueshift', 'bluevine', 'bluntly', 'blurt', 'bmw', 'board', 'boarding', 'boca', 'body', 'bold', 'boldly', 'bolster', 'bonding', 'bonus', 'bonuses', 'book', 'booking', 'bookings', 'books', 'booming', 'boost', 'boosted', 'boosting', 'boot', 'bootcamps', 'bootstrapping', 'booz', 'borders', 'boston', 'bot', 'both', 'botnets', 'bottle', 'bottom', 'bottomline', 'bound', 'boundaries', 'bounded', 'bounds', 'bowery', 'bowl', 'bowling', 'box', 'boxes', 'bpo', 'brains', 'brainstorm', 'brainstorming', 'branch', 'branches', 'branching', 'brand', 'branded', 'brands', 'brass', 'breadth', 'break', 'breakdown', 'breakfast', 'breaking', 'breakroom', 'breakthrough', 'breakthroughs', 'breastfeeding', 'breath', 'breeze', 'brentwood', 'brick', 'bridge', 'bridges', 'bridging', 'briefings', 'brigham', 'bright', 'brighter', 'brightest', 'brilliant', 'bring', 'bringing', 'brings', 'broad', 'broadband', 'broader', 'broadly', 'broadway', 'broken', 'brokerage', 'brokers', 'broomfield', 'brothers', 'brought', 'browse', 'browser', 'browses', 'bruno', 'bs', 'bu', 'buck', 'budd', 'buddy', 'budget', 'budgeting', 'budgets', 'buffalo', 'bug', 'bugs', 'build', 'builder', 'builders', 'building', 'buildings', 'builds', 'built', 'bulgaria', 'bulk', 'bull', 'burden', 'bureau', 'burns', 'burr', 'bus', 'business', 'businesscoordinate', 'businesses', 'businessexperience', 'businesswe', 'bustling', 'but', 'butterflies', 'button', 'buy', 'buyers', 'buying', 'buys', 'buzzwords', 'bwh', 'by', 'byers', 'c3', 'ca', 'caas', 'cable', 'cac', 'caci', 'cadence', 'cafe', 'cafeteria', 'cafeterias', 'caffe', 'caffe2', 'caffeine', 'caj', 'calabasas', 'calculated', 'calculates', 'calculations', 'calculus', 'calendar', 'calendars', 'caliber', 'calibrating', 'calibration', 'california', 'californian', 'call', 'called', 'calls', 'calmhsa', 'caltech', 'caltrain', 'cambia', 'cambridge', 'came', 'camp', 'campaign', 'campaigns', 'camps', 'campus', 'campuses', 'can', 'canada', 'canal', 'cancelling', 'cancer', 'candidacy', 'candidate', 'candidates', 'candy', 'cannot', 'canon', 'canonusa', 'canopy', 'capabilities', 'capability', 'capable', 'capacity', 'capgemini', 'capital', 'capitalist', 'capitalizing', 'capture', 'captured', 'captures', 'car', 'carbon', 'card', 'care', 'career', 'careers', 'careful', 'carefully', 'caregiver', 'caregivers', 'cares', 'caribbean', 'caring', 'carlo', 'carolina', 'carolinas', 'carpool', 'carpooling', 'carrentals', 'carried', 'carrier', 'carries', 'carry', 'carrying', 'cars', 'cart', 'carve', 'casandra', 'case', 'cases', 'casesexperience', 'cash', 'casino', 'cassandra', 'cassandraknowledge', 'castillo', 'casual', 'casualty', 'catalog', 'catalyst', 'catalyze', 'catastrophe', 'catastrophic', 'catch', 'categories', 'categorize', 'category', 'catered', 'caufield', 'causal', 'causality', 'cause', 'caused', 'causes', 'caveats', 'cbs', 'cco', 'ccoteam', 'ccs', 'cd', 'cdas', 'cdc', 'cdisc', 'cdl', 'cela', 'celebrate', 'celebrated', 'celebrates', 'celebrating', 'celebrations', 'celebratory', 'cell', 'cellphone', 'censored', 'census', 'center', 'centered', 'centering', 'centerpiece', 'centers', 'central', 'centralized', 'centrally', 'centric', 'centuries', 'century', 'ceo', 'cerner', 'certain', 'certainly', 'certainty', 'certificate', 'certificates', 'certification', 'certifications', 'certified', 'certifying', 'cfa', 'cfds', 'cfdss', 'cfo', 'cfos', 'cgi', 'chaid', 'chain', 'chains', 'chairman', 'challenge', 'challenged', 'challenger', 'challenges', 'challenging', 'chalupa', 'champion', 'championing', 'champions', 'chan', 'chance', 'change', 'changed', 'changes', 'changing', 'channel', 'channels', 'chantilly', 'chapel', 'character', 'characteristic', 'characteristics', 'characterization', 'characterize', 'charge', 'chargeback', 'charity', 'charles', 'charleston', 'charlotte', 'chart', 'charter', 'chartered', 'charts', 'chase', 'chat', 'chatbot', 'chatbots', 'chatting', 'cheap', 'cheapflights', 'cheaptickets', 'check', 'checkfelix', 'checking', 'checklist', 'checks', 'chemical', 'chemicals', 'chemistry', 'chemometric', 'chen', 'cheryl', 'chesapeake', 'chewse', 'chicago', 'chief', 'chiefs', 'child', 'childbirth', 'children', 'china', 'chinese', 'chip', 'chipotle', 'chipp', 'chocolatesm', 'choice', 'choices', 'choose', 'choosing', 'chops', 'chosen', 'christofaris', 'chrome', 'chronic', 'chrysler', 'chs', 'chuck', 'churn', 'ci', 'cia', 'cic', 'cino', 'cio', 'circa', 'circadian', 'circle', 'circleci', 'circleup', 'circumstances', 'cisco', 'citi', 'cities', 'citizen', 'citizens', 'citizenship', 'city', 'civil', 'civilian', 'civis', 'civisanalytics', 'cjpost', 'claims', 'clara', 'clarification', 'clarify', 'clarity', 'clarivate', 'clarkston', 'class', 'classdojo', 'classes', 'classic', 'classical', 'classically', 'classics', 'classification', 'classifications', 'classified', 'classifier', 'classifiers', 'clayton', 'clean', 'cleanchoice', 'cleanchoiceenergy', 'cleaner', 'cleaning', 'cleanse', 'cleansing', 'clear', 'clearance', 'clearances', 'cleared', 'clearer', 'clearly', 'clearnlp', 'cleartk', 'clearwater', 'cleveland', 'click', 'clicking', 'clickstream', 'client', 'clients', 'clientsshare', 'climate', 'climb', 'clinic', 'clinical', 'clinically', 'clinicaltrials', 'clinicians', 'clinton', 'close', 'closed', 'closely', 'closer', 'closing', 'closure', 'cloth', 'cloud', 'cloudera', 'club', 'cluster', 'clustering', 'clusteroptimizing', 'clusters', 'cmg', 'cnn', 'cnns', 'cntk', 'co', 'coach', 'coaches', 'coaching', 'code', 'codebase', 'coder', 'coders0057', 'codes', 'coding', 'coe', 'coffee', 'cognitive', 'cognos', 'coherent', 'cohesive', 'cohort', 'cohorts', 'cold', 'collaborate', 'collaborates', 'collaborating', 'collaboration', 'collaborations', 'collaborative', 'collaboratively', 'collaborator', 'collaborators', 'colleague', 'colleagues', 'collect', 'collected', 'collecting', 'collection', 'collections', 'collective', 'collectively', 'collects', 'college', 'collegial', 'collisions', 'color', 'colorado', 'colors', 'colour', 'columbia', 'columns', 'com', 'combating', 'combination', 'combinations', 'combinator', 'combinatorics', 'combine', 'combined', 'combines', 'combining', 'come', 'comedy', 'comes', 'comet', 'comfort', 'comfortable', 'comfortably', 'comfy', 'coming', 'comma', 'command', 'commander', 'commands', 'commence', 'commensurate', 'comments', 'commerce', 'commercial', 'commercializable', 'commercialization', 'commercially', 'commissionat', 'commissions', 'commit', 'commitment', 'commitments', 'commits', 'committed', 'committee', 'committing', 'commodities', 'commodity', 'common', 'commonly', 'commonplace', 'communal', 'communicate', 'communicated', 'communicates', 'communicating', 'communication', 'communications', 'communicative', 'communicator', 'communities', 'communitiesdeploy', 'communitiesdevelop', 'community', 'communitybe', 'commute', 'commuter', 'commuters', 'commvault', 'comp', 'compact', 'companies', 'company', 'companywide', 'comparable', 'compare', 'comparison', 'compassion', 'compelling', 'compensation', 'compete', 'competence', 'competences', 'competencies', 'competency', 'competent', 'competing', 'competition', 'competitions', 'competitive', 'competitiveness', 'competitor', 'compilation', 'compile', 'compiled', 'compiling', 'complaint', 'complete', 'completed', 'completely', 'completeness', 'completes', 'completing', 'completion', 'complex', 'complexities', 'complexity', 'compliance', 'complicated', 'complied', 'complies', 'complimentary', 'complimented', 'comply', 'complying', 'component', 'components', 'composed', 'composite', 'composition', 'comprehensive', 'comprise', 'comprised', 'comprises', 'comprising', 'compromise', 'compromises', 'computation', 'computational', 'compute', 'computer', 'computers', 'computing', 'computingfoundation', 'conceive', 'conceiving', 'concentration', 'concept', 'conception', 'concepts', 'conceptshave', 'conceptual', 'conceptualization', 'conceptualize', 'conceptualizing', 'conceptually', 'concern', 'concerned', 'concerning', 'concerns', 'concerts', 'concierge', 'concise', 'concisely', 'conclusions', 'concrete', 'concurrent', 'concurrently', 'condition', 'conditions', 'condo', 'conduct', 'conducted', 'conducting', 'conducts', 'conference', 'conferences', 'confidence', 'confident', 'confidential', 'confidentiality', 'confidentially', 'confidently', 'configuration', 'configure', 'configuring', 'confirm', 'conflict', 'conflicting', 'conflicts', 'confluence', 'conform', 'confront', 'conjunction', 'connect', 'connected', 'connecting', 'connection', 'connections', 'connectivity', 'connects', 'conscientious', 'consensus', 'consent', 'consequence', 'consequences', 'consequently', 'conservancy', 'conservation', 'conserve', 'conshohocken', 'consider', 'considerable', 'consideration', 'considerations', 'considered', 'considering', 'considers', 'consist', 'consistency', 'consistent', 'consistently', 'consisting', 'consists', 'consolidate', 'constant', 'constantly', 'constituents', 'constrained', 'constraint', 'constraints', 'construct', 'construction', 'constructive', 'constructs', 'construed', 'consult', 'consultancy', 'consultant', 'consultants', 'consultation', 'consultations', 'consultative', 'consulting', 'consults', 'consumable', 'consumed', 'consumer', 'consumers', 'consuming', 'consumption', 'contact', 'contacted', 'contacting', 'contacts', 'contain', 'contained', 'container', 'containerization', 'containers', 'contains', 'contamination', 'content', 'contents', 'context', 'contexts', 'contextual', 'contextualize', 'contingencies', 'contingent', 'continual', 'continually', 'continue', 'continued', 'continues', 'continuing', 'continuous', 'continuously', 'contract', 'contract1', 'contract6', 'contractakraya', 'contractdata', 'contractjob', 'contractor', 'contracts', 'contractthe', 'contractwe', 'contribute', 'contributed', 'contributes', 'contributing', 'contribution', 'contributions', 'contributor', 'contributors', 'control', 'controlled', 'controls', 'convenience', 'conveniences', 'convenient', 'convention', 'conventional', 'conventions', 'conversant', 'conversation', 'conversational', 'conversations', 'converse', 'conversely', 'conversion', 'conversions', 'convert', 'converting', 'convex', 'convey', 'convicted', 'conviction', 'convince', 'convnet', 'convolutional', 'coo', 'cooked', 'cookies', 'cool', 'cooperation', 'cooperatively', 'coordinate', 'coordinates', 'coordinating', 'coordination', 'coordinators', 'copiers', 'copious', 'copy', 'cor', 'coral', 'cordell', 'core', 'coreference', 'coremetrics', 'corenlp', 'corner', 'corners', 'corp', 'corporate', 'corporation', 'corporations', 'corpus', 'correct', 'correction', 'corrective', 'correctly', 'correlate', 'correlation', 'correlations', 'corresponding', 'cosine', 'cosmos', 'cost', 'costa', 'costing', 'costs', 'couch', 'couchbase', 'could', 'couldn', 'council', 'counselors', 'count', 'counterintelligence', 'counterpart', 'counterparts', 'counting', 'countries', 'country', 'counts', 'courage', 'course', 'coursera', 'courses', 'coursework', 'court', 'courteous', 'cover', 'coverage', 'covered', 'covering', 'covers', 'coworkers', 'cpa', 'cpg', 'cplex', 'cr', 'crack', 'craft', 'crafted', 'crafting', 'craftsmanship', 'cranford', 'craves', 'crazy', 'cre', 'create', 'created', 'creates', 'creating', 'creation', 'creative', 'creatively', 'creativity', 'creators', 'credential', 'credentials', 'credibility', 'credible', 'credibly', 'credit', 'credits', 'creed', 'crf', 'crime', 'crimes', 'criminal', 'crimson', 'crisp', 'crisply', 'criteo', 'criteos', 'criteria', 'critical', 'critically', 'criticism', 'critics', 'crm', 'cro', 'cross', 'crosscut', 'crosshairs', 'crosswise', 'crouch', 'crucial', 'cruise', 'cruiseshipcenters', 'crunch', 'crunching', 'crux', 'crypto', 'cryptoanalysis', 'cryptoasset', 'cryptoassets', 'cryptocurrency', 'crystallizing', 'cs', 'csc', 'cseo', 'csim', 'css', 'cst', 'csv', 'ct', 'ctakes', 'cto', 'ctr', 'cubes', 'cuda', 'culling', 'cultivate', 'cultivating', 'cultivation', 'cultural', 'culturally', 'culture', 'cultures', 'cumbersome', 'cumulative', 'curate', 'curated', 'curating', 'curation', 'curators', 'cure', 'cures', 'curiosity', 'curious', 'currencies', 'current', 'currently', 'curriculum', 'curve', 'cusa', 'cushman', 'custodian', 'custom', 'customary', 'customer', 'customers', 'customersdesign', 'customize', 'customized', 'cut', 'cuts', 'cutting', 'cv', 'cvs', 'cyber', 'cyberattacks', 'cybersecurity', 'cyberthreat', 'cyberthreats', 'cycle', 'cycles', 'cyclical', 'czi', 'd3', 'dacohp', 'daf', 'daily', 'dallas', 'dan', 'dana', 'dare', 'daring', 'dash', 'dashboard', 'dashboarding', 'dashboards', 'data', 'dataa', 'dataassemble', 'dataat', 'database', 'databases', 'databasesability', 'databricks', 'datacenter', 'datacollaborate', 'datadesigning', 'datadevelop', 'dataframes', 'dataiku', 'datalab', 'datalogix', 'datameer', 'dataminer', 'dataops', 'dataoutstanding', 'datapossessing', 'dataproc', 'datarobot', 'dataset', 'datasets', 'datastrong', 'dataviz', 'dataxpander', 'date', 'dates', 'david', 'davis', 'day', 'daycare', 'days', 'db', 'db2', 'dba', 'dbscan', 'dc', 'ddi', 'de', 'deadline', 'deadlines', 'deal', 'dealer', 'dealing', 'deals', 'dearborn', 'death', 'debate', 'debug', 'debugging', 'dec', 'decade', 'decades', 'december', 'decentralized', 'decide', 'decided', 'deciding', 'decision', 'decisioning', 'decisions', 'decisive', 'decks', 'decompose', 'decomposition', 'decreasing', 'dedicated', 'dedication', 'deductive', 'deemed', 'deep', 'deepen', 'deepening', 'deeper', 'deeply', 'default', 'defaulted', 'defaults', 'defender', 'defending', 'defense', 'defensible', 'defensive', 'defensiveness', 'deferred', 'deficiencies', 'define', 'defined', 'defines', 'defining', 'definition', 'definitions', 'definitive', 'degree', 'degreeability', 'degreedemonstrated', 'degrees', 'delegating', 'delight', 'delightful', 'delimited', 'deliver', 'deliverable', 'deliverables', 'delivered', 'delivering', 'delivers', 'delivery', 'deliveryability', 'dell', 'deloitte', 'delve', 'demand', 'demanding', 'demands', 'demeanor', 'democratize', 'democratizing', 'demographic', 'demonstrable', 'demonstrate', 'demonstrated', 'demonstrates', 'demonstrating', 'demonstrations', 'demos', 'demystify', 'dental', 'dental401', 'denver', 'department', 'departmental', 'departments', 'depend', 'dependable', 'dependencies', 'dependenciesbuilding', 'dependency', 'dependent', 'dependents', 'depending', 'depends', 'deploy', 'deployable', 'deployed', 'deploying', 'deployment', 'deployments', 'deploys', 'deposit', 'depression', 'depth', 'derivation', 'derive', 'derived', 'deriving', 'descent', 'describe', 'described', 'describes', 'describing', 'description', 'descriptions', 'descriptive', 'deserve', 'design', 'designated', 'designed', 'designer', 'designers', 'designing', 'designpac', 'designs', 'desirable', 'desire', 'desired', 'desk', 'desktop', 'desktops', 'destination', 'destinations', 'destiny', 'detail', 'detaila', 'detailed', 'detailing', 'detailpassionate', 'details', 'detect', 'detecting', 'detection', 'detectionexperience', 'detector', 'determination', 'determine', 'determines', 'determining', 'deterministic', 'detroit', 'develop', 'developed', 'developer', 'developers', 'developing', 'development', 'developmentanalyze', 'developmentexperience', 'developments', 'develops', 'device', 'devices', 'devise', 'devises', 'devolve', 'devops', 'devoted', 'dexcom', 'dexterity', 'dhs', 'diabetes', 'diagnose', 'diagnosis', 'diagnostic', 'diagnostics', 'diagnosticsperforming', 'diagrams', 'dialog', 'dialogue', 'dictate', 'did', 'didn', 'die', 'diego', 'dies', 'diesel', 'diets', 'difference', 'differences', 'different', 'differentiate', 'differentiated', 'differentiation', 'differentiators', 'differently', 'differing', 'difficult', 'difficulties', 'dig', 'digest', 'digestible', 'digging', 'digital', 'digitalization', 'digitalocean', 'digitizing', 'dignity', 'dimension', 'dimensional', 'dimensionality', 'dimensions', 'dimly', 'diner', 'diners', 'dining', 'dinners', 'direct', 'directed', 'direction', 'directions', 'directly', 'director', 'directorate', 'directors', 'directs', 'dirichlet', 'dirt', 'dirty', 'disabilities', 'disability', 'disabled', 'disadvantages', 'disambiguation', 'discharge', 'discharging', 'disciplinary', 'discipline', 'disciplined', 'disciplines', 'disciplining', 'disclaimer', 'disclose', 'disclosed', 'disclosure', 'disclosures', 'disco', 'disconnected', 'discount', 'discounting', 'discounts', 'discover', 'discovered', 'discoveries', 'discovering', 'discovery', 'discrete', 'discretion', 'discretionary', 'discriminant', 'discriminate', 'discriminated', 'discriminating', 'discrimination', 'discriminative', 'discriminatory', 'discuss', 'discussed', 'discussing', 'discussion', 'discussions', 'disease', 'diseases', 'dislike', 'disney', 'disorders', 'disparate', 'dispatch', 'dispatches', 'dispatching', 'display', 'displaying', 'displays', 'disposal', 'disposition', 'disprove', 'disqualified', 'disqualifying', 'disrupt', 'disrupted', 'disrupting', 'disruption', 'disruptive', 'disseminates', 'dissemination', 'distance', 'distances', 'distill', 'distilled', 'distilling', 'distinction', 'distinctive', 'distracted', 'distractions', 'distribute', 'distributed', 'distributes', 'distribution', 'distributional', 'distributions', 'distributor', 'dive', 'diverse', 'diversified', 'diversifying', 'diversity', 'dives', 'diving', 'division', 'divisional', 'divisions', 'django', 'dl', 'dli', 'dm', 'dmp', 'dms', 'do', 'doc2vec', 'docker', 'docomo', 'docs', 'doctoral', 'document', 'documentation', 'documented', 'documenting', 'documents', 'dod', 'dodd', 'doers', 'does', 'doesn', 'dog', 'doing', 'dol', 'dollar', 'dollars', 'domain', 'domains', 'domestic', 'domo', 'don', 'done', 'donewe', 'door', 'doors', 'dose', 'dot', 'dots', 'double', 'doubleclick', 'dow', 'down', 'download', 'downstream', 'downtime', 'downtown', 'dozens', 'dplyr', 'dr', 'draft', 'drafting', 'dramatic', 'dramatically', 'draper', 'draw', 'drawbacks', 'drawing', 'draws', 'dream', 'dreams', 'dress', 'drift', 'drink', 'drinks', 'drive', 'driven', 'driver', 'drivers', 'drives', 'drivetime', 'driving', 'drop', 'dropbox', 'dropoff', 'dropped', 'drug', 'drugs', 'dry', 'drybar', 'ds', 'dsa', 'dscout', 'dsit', 'dsr', 'dss', 'dtabase', 'dual', 'dubai', 'dublin', 'due', 'duplication', 'duration', 'durham', 'during', 'duties', 'duty', 'dw', 'dwi', 'dyadic', 'dylan', 'dynamic', 'dynamically', 'dynamics', 'dynamo', 'dynet', 'dyplr', 'e2e', 'each', 'eager', 'ear', 'earliest', 'early', 'earmarked', 'earn', 'earned', 'earners', 'earning', 'earnings', 'ears', 'earth', 'ease', 'easier', 'easily', 'easy', 'eat', 'eat24', 'eaters', 'eating', 'ebookers', 'ec', 'ec2', 'ecd', 'ecdi', 'echo', 'ecl', 'ecolab', 'ecological', 'ecommerce', 'econometric', 'econometrics', 'economic', 'economically', 'economics', 'economics5', 'economies', 'economists', 'economy', 'ecosystem', 'ecosystems', 'ecs', 'ect', 'ed1', 'eda', 'edge', 'edit', 'editions', 'editor', 'editorial', 'eds', 'edu', 'educate', 'educated', 'educating', 'education', 'educational', 'educators', 'edw', 'edward', 'ee', 'eeg', 'eeo', 'eeoc', 'eeopost', 'ef', 'ef1', 'effect', 'effective', 'effectively', 'effectivelyexploring', 'effectiveness', 'effects', 'efficacy', 'efficiencies', 'efficiency', 'efficient', 'efficiently', 'effort', 'efforts', 'eg', 'egencia', 'ego', 'egos', 'ehr', 'eight', 'eighteen', 'either', 'el', 'elastic', 'elasticities', 'elasticity', 'elasticsearch', 'elbow', 'elected', 'election', 'electric', 'electrical', 'electricity', 'electronic', 'elegant', 'elegantly', 'element', 'elemental', 'elements', 'elevate', 'elevating', 'eligibility', 'eligible', 'elite', 'elixir', 'elk', 'elliott', 'elliottdavis', 'else', 'em', 'email', 'emails', 'embed', 'embedded', 'embedding', 'embeddings', 'embeds', 'ember', 'embodied', 'embody', 'embrace', 'embraces', 'embracing', 'emea', 'emergencies', 'emergent', 'emerging', 'emnlp', 'emotion', 'emotional', 'empathetic', 'empathizing', 'empathy', 'emphasis', 'emphasizes', 'emphasizing', 'empire', 'empirical', 'employ', 'employed', 'employee', 'employees', 'employer', 'employers', 'employing', 'employment', 'employs', 'empower', 'empowered', 'empowering', 'empowerment', 'empowers', 'emr', 'en', 'enable', 'enabled', 'enablers', 'enables', 'enabling', 'encode', 'encoded', 'encoders', 'encoding', 'encompass', 'encompasses', 'encounter', 'encountered', 'encourage', 'encouraged', 'encourages', 'encouraging', 'end', 'ended', 'ending', 'endless', 'endogeneity', 'endomondo', 'endpoints', 'ends', 'enduring', 'energetic', 'energized', 'energy', 'enforce', 'eng', 'engage', 'engaged', 'engagement', 'engagements', 'engages', 'engaging', 'engine', 'engineer', 'engineered', 'engineering', 'engineers', 'engines', 'englewood', 'english', 'enhance', 'enhanced', 'enhancement', 'enhancements', 'enhances', 'enhancing', 'enjoy', 'enjoyable', 'enjoyed', 'enjoying', 'enjoyment', 'enjoys', 'enormous', 'enough', 'enquiry', 'enrolled', 'enrollment', 'ensemble', 'ensembling', 'enskill', 'ensure', 'ensures', 'ensuring', 'entails', 'enter', 'enterprise', 'enterprises', 'entertaining', 'entertainment', 'enthusiasm', 'enthusiast', 'enthusiastic', 'entire', 'entirely', 'entities', 'entity', 'entomology', 'entrepreneur', 'entrepreneurial', 'entrepreneurs', 'entries', 'entrust', 'entry', 'envelope', 'environment', 'environmentadvanced', 'environmental', 'environmentproficiency', 'environments', 'environmentsexperience', 'envision', 'envisioned', 'envisioning', 'envisions', 'eo', 'eoe', 'epic', 'epidemiological', 'epidemiologists', 'epidemiology', 'eppac', 'eq', 'equal', 'equally', 'equate', 'equation', 'equations', 'equip', 'equipment', 'equipped', 'equips', 'equitable', 'equities', 'equity', 'equivalent', 'equivalents', 'er', 'era', 'eradicating', 'ericsson', 'erp', 'errant', 'erroneous', 'error', 'errors', 'escalates', 'escalations', 'especially', 'esports', 'espresso', 'esri', 'essbase', 'essential', 'essentials', 'establish', 'established', 'establishes', 'establishing', 'establishment', 'estate', 'estimate', 'estimates', 'estimation', 'estimations', 'et', 'etc', 'etfs', 'ethic', 'ethical', 'ethicon', 'ethics', 'ethnic', 'ethnicity', 'etl', 'eur', 'euronext', 'europaea', 'europe', 'european', 'evaluate', 'evaluated', 'evaluates', 'evaluating', 'evaluation', 'evaluations', 'evangelist', 'evangelists', 'evangelize', 'evangelizing', 'even', 'evening', 'event', 'eventbrite', 'events', 'eventual', 'ever', 'everett', 'every', 'everybody', 'everyday', 'everyone', 'everything', 'everytown', 'everywhere', 'evidence', 'evidenced', 'evms', 'evolution', 'evolve', 'evolving', 'evp', 'ex', 'exact', 'exactly', 'exactness', 'exam', 'examine', 'examines', 'examining', 'example', 'examples', 'examplessharing', 'exams', 'exceed', 'exceeds', 'excel', 'excellence', 'excellent', 'excels', 'except', 'exceptional', 'exceptions', 'excess', 'exchange', 'exchanges', 'excite', 'excited', 'excitement', 'excites', 'exciting', 'exclusive', 'exclusively', 'excursions', 'execute', 'executecrecruiters', 'executed', 'executes', 'executing', 'execution', 'executive', 'executives', 'executors', 'exemplary', 'exemplify', 'exemplifying', 'exempt', 'exercise', 'exercises', 'exercising', 'exert', 'exhaustive', 'exhibit', 'exist', 'existing', 'exits', 'exogenous', 'expand', 'expanded', 'expanding', 'expansion', 'expect', 'expectations', 'expected', 'expecting', 'expedia', 'expedite', 'expense', 'expenses', 'expensive', 'experience', 'experiencea', 'experienced', 'experienceexperience', 'experiencehighly', 'experienceproficiency', 'experiences', 'experiencesbuilding', 'experiencetypically', 'experiment', 'experimental', 'experimentally', 'experimentation', 'experimentations', 'experimenter', 'experimenting', 'experiments', 'expert', 'expertise', 'expertize', 'expertly', 'experts', 'expiration', 'expires', 'explain', 'explainability', 'explained', 'explaining', 'explains', 'explanations', 'explanatory', 'explicit', 'explicitly', 'exploit', 'exploiting', 'exploits', 'exploration', 'explorations', 'exploratory', 'explore', 'explorers', 'explores', 'explorewrangler', 'exploring', 'exponential', 'export', 'expose', 'exposed', 'exposure', 'exposures', 'express', 'expression', 'expressions', 'expressly', 'extant', 'extend', 'extended', 'extending', 'extends', 'extensible', 'extension', 'extensive', 'external', 'externally', 'extra', 'extract', 'extracting', 'extraction', 'extracts', 'extraordinarily', 'extraordinary', 'extreme', 'extremely', 'extremes', 'extrinsic', 'exudes', 'exxonmobil', 'eye', 'eyes', 'eyeview', 'f1', 'fabric', 'face', 'facebook', 'faces', 'faceted', 'facets', 'facilitate', 'facilitation', 'facilities', 'facility', 'facing', 'fact', 'facto', 'factor', 'factorial', 'factoring', 'factorization', 'factors', 'factory', 'facts', 'faculty', 'fail', 'failur', 'failure', 'failures', 'fair', 'fairbank', 'fairness', 'fall', 'falls', 'false', 'familial', 'familiar', 'familiarity', 'families', 'family', 'fanatical', 'fans', 'fantastic', 'fantastically', 'far', 'fares', 'farm', 'farmer', 'farmers', 'farming', 'farmland', 'farms', 'fascinated', 'fascinating', 'fashion', 'fast', 'faster', 'fastest', 'fatal', 'favorite', 'faxes', 'fb', 'fbi', 'fbn', 'fca', 'fearless', 'fearlessly', 'feasibility', 'feasible', 'feature', 'featured', 'features', 'federal', 'federation', 'fedramp', 'fee', 'feed', 'feedback', 'feedbacks', 'feedforward', 'feeding', 'feeds', 'feel', 'feelings', 'feels', 'fees', 'feet', 'fellow', 'felony', 'felt', 'female', 'females', 'ferry', 'fervor', 'festivals', 'few', 'fewer', 'fiat', 'field', 'fieldat', 'fieldexperience', 'fielding', 'fieldprojects', 'fields', 'fifth', 'figaro', 'figure', 'figures', 'file', 'files', 'fill', 'filled', 'filter', 'filtering', 'final', 'finalize', 'finally', 'finance', 'financial', 'financially', 'financials', 'financing', 'find', 'finder', 'finding', 'findings', 'finds', 'fine', 'finely', 'finger', 'fingerprinting', 'fingerprints', 'fingers', 'fingertips', 'finish', 'finisher', 'finishline', 'finite', 'finlocker', 'fintech', 'fips', 'fire', 'firewall', 'firm', 'firmhave', 'firms', 'first', 'fiscal', 'fischbach', 'fish', 'fisma', 'fit', 'fitness', 'fitting', 'five', 'fix', 'fixed', 'fixer', 'fixes', 'fixing', 'flagship', 'flask', 'flat', 'flavor', 'flavors', 'flawless', 'flawlessly', 'flaws', 'fleet', 'fleets', 'flex', 'flexibility', 'flexible', 'flight', 'flights', 'flip', 'floating', 'floodgate', 'floor', 'flopped', 'flops', 'floral', 'florida', 'florists', 'flourishes', 'flow', 'flowers', 'flows', 'flsa', 'flu', 'fluency', 'fluent', 'fluently', 'fluffy', 'fluid', 'fluidity', 'flume', 'flws', 'fly', 'fmri', 'focus', 'focused', 'focusedstrong', 'focuses', 'focusing', 'focussed', 'focusses', 'fold', 'folder', 'follow', 'following', 'follows', 'food', 'football', 'footprint', 'footwear', 'for', 'forbearance', 'forbes', 'forbidden', 'force', 'forced', 'forces', 'ford', 'forecast', 'forecasting', 'forecasts', 'forefront', 'foreign', 'foremost', 'forescout', 'forest', 'foresting', 'forests', 'forge', 'forget', 'form', 'forma', 'formal', 'formalize', 'formalizing', 'formally', 'format', 'formatexperience', 'formation', 'formats', 'formatting', 'formed', 'former', 'formerly', 'forms', 'formsbuilding', 'formulas', 'formulate', 'formulates', 'formulation', 'fortune', 'forums', 'forward', 'forwarded', 'forwarders', 'foster', 'fostering', 'fosters', 'found', 'foundation', 'foundational', 'foundationproven', 'foundations', 'founded', 'founder', 'founders', 'founding', 'foundry', 'four', 'fourier', 'fourth', 'fraank', 'fraction', 'fractional', 'fragmented', 'frame', 'frames', 'framework', 'frameworks', 'frameworksability', 'framing', 'franca', 'france', 'francis', 'francisco', 'frank', 'fraud', 'freakishly', 'free', 'freedom', 'freely', 'freesurfer', 'freight', 'french', 'frequent', 'frequentist', 'frequently', 'fresh', 'freshness', 'friction', 'frictionless', 'friday', 'friendly', 'friends', 'friendships', 'frighten', 'from', 'front', 'frontend', 'frontier', 'frontiers', 'fruitbouquets', 'fsa', 'fsl', 'ftp', 'fuel', 'fueled', 'fuels', 'fulfill', 'fulfilling', 'fulfillment', 'full', 'fullest', 'fullpower', 'fulltime', 'fully', 'fun', 'function', 'functional', 'functionalities', 'functionality', 'functionally', 'functioninformation', 'functions', 'functionsexperience', 'fund', 'fundamental', 'fundamentally', 'fundamentals', 'funded', 'funders', 'funding', 'fundraisers', 'funds', 'funnel', 'funnels', 'furnish', 'furniture', 'furry', 'further', 'furtherance', 'furthermore', 'furthers', 'furthest', 'fused', 'fusion', 'future', 'futures', 'futuristic', 'fuzzy', 'ga', 'gaap', 'gables', 'gadget', 'gain', 'gained', 'gaining', 'gains', 'galvanize', 'galvanizing', 'gambling', 'game', 'gamers', 'games', 'gaming', 'gans', 'gap', 'gaps', 'garage', 'garden', 'garner', 'gartner', 'gas', 'gases', 'gates', 'gather', 'gathered', 'gathering', 'gatherings', 'gatos', 'gauge', 'gaussian', 'gay', 'gbas', 'gbm', 'gcdo', 'gcp', 'gdit', 'ge', 'gear', 'geared', 'geek', 'gelman', 'gen', 'gender', 'general', 'generalist', 'generality', 'generalizable', 'generalize', 'generalized', 'generally', 'generate', 'generated', 'generates', 'generating', 'generation', 'generations', 'generative', 'generosity', 'generous', 'genes', 'genetic', 'geneticists', 'genetics', 'genism', 'genome', 'genomes', 'genomic', 'genomics', 'genre', 'gensim', 'genuine', 'genuinely', 'geo', 'geographic', 'geographical', 'geographically', 'geographies', 'geography', 'geoint', 'georgetown', 'georgia', 'georgian', 'geospatial', 'german', 'germany', 'get', 'gets', 'getting', 'ggplot', 'ggplot2', 'giants', 'gift', 'gifting', 'gifts', 'gillette', 'gis', 'git', 'gitflow', 'github', 'give', 'given', 'givers', 'gives', 'giving', 'glad', 'glance', 'glidepath', 'glm', 'glms', 'glob', 'global', 'globalization', 'globally', 'globe', 'glove', 'gloves', 'glucose', 'gm', 'gmmcb', 'gny', 'go', 'goal', 'goals', 'goes', 'going', 'gold', 'golden', 'good', 'gooders', 'goods', 'google', 'goose', 'got', 'gov', 'govern', 'governance', 'governing', 'government', 'governmental', 'governments', 'governors', 'gpa', 'gpl', 'gpu', 'grad', 'grade', 'grade057', 'gradient', 'grading', 'gradinternships', 'graduate', 'graduated', 'graduates', 'graduating', 'graduation', 'grainger', 'grandkids', 'grant', 'granted', 'grantmaking', 'grants', 'granular', 'granularity', 'grapeshot', 'graph', 'graphical', 'graphics', 'graphlab', 'graphql', 'graphs', 'grasp', 'grasps', 'grasshopper', 'gratitude', 'grease', 'great', 'greater', 'greatest', 'greatness', 'green', 'greenplum', 'greenville', 'grep', 'greylock', 'grid', 'grill', 'gritty', 'groceries', 'grocers', 'grocery', 'ground', 'groundbreaking', 'grounding', 'group', 'groupon', 'groups', 'grow', 'growing', 'grown', 'grows', 'growth', 'grubhub', 'gsd', 'gsv', 'guarantee', 'guaranteed', 'guessing', 'guest', 'guests', 'gui', 'guidance', 'guide', 'guided', 'guidelines', 'guides', 'guiding', 'gun', 'gurobi', 'guru', 'gut', 'gym', 'h1', 'h1b', 'h2o', 'habitat', 'hack', 'hackathons', 'hackday', 'hackers', 'had', 'hadoop', 'hairy', 'half', 'hall', 'hampshire', 'hana', 'hand', 'handicap', 'handle', 'handles', 'handling', 'hands', 'hanover', 'happen', 'happening', 'happens', 'happiness', 'happy', 'haptics', 'harassment', 'harbor', 'hard', 'harder', 'hardest', 'hardship', 'hardware', 'hardworking', 'harm', 'harmonization', 'harmonize', 'harmonizing', 'harness', 'harnessed', 'harnesses', 'harnessing', 'harry', 'harvard', 'harvest', 'has', 'hasn', 'hat', 'hats', 'haul', 'have', 'haven', 'haves', 'having', 'haystack', 'hbase', 'hcdagile', 'hcsc', 'hcss', 'hcv', 'hd', 'hdfs', 'he', 'head', 'header', 'headhunter', 'headphone', 'headquartered', 'headquarters', 'health', 'healthcare', 'healthier', 'healthtech', 'healthy', 'hear', 'heard', 'hearing', 'heart', 'heartfelt', 'heat', 'heavily', 'heavy', 'hedge', 'hedging', 'heights', 'held', 'helio', 'hello', 'help', 'helped', 'helpful', 'helping', 'helps', 'her', 'here', 'heritage', 'herndon', 'heroku', 'hesitate', 'heterogeneous', 'heuristic', 'heuristics', 'hewlett', 'hexagon', 'hi', 'hidden', 'hierarchical', 'high', 'higher', 'highest', 'highlight', 'highlighting', 'highlights', 'highly', 'hilarious', 'hill', 'hills', 'hindering', 'hinge', 'hire', 'hired', 'hires', 'hiring', 'hiroad', 'his', 'histograms', 'historians', 'historical', 'historically', 'histories', 'history', 'hit', 'hitachi', 'hiv', 'hive', 'hm', 'hmh', 'hmm', 'hobbies', 'hobbyists', 'hoc', 'hold', 'holder', 'holders', 'holding', 'holdings', 'holiday', 'holidays', 'holistic', 'hollywood', 'home', 'homeaway', 'homeland', 'homeowners', 'homes', 'homicide', 'honed', 'honest', 'honesty', 'honeywell', 'hong', 'honor', 'hood', 'hope', 'hopefully', 'horizons', 'horizontal', 'horizontally', 'horn', 'horsepower', 'hortonworks', 'hospital', 'hospitality', 'hospitals', 'host', 'hosted', 'hot', 'hotel', 'hotels', 'hotelscombined', 'hottest', 'hotwire', 'hour', 'houras', 'hourinternshipas', 'hourly', 'hourpart', 'hours', 'house', 'housed', 'household', 'housing', 'houston', 'how', 'however', 'hp', 'hpe', 'hq', 'hql', 'hr', 'hra', 'hrd53130', 'hris', 'hrs', 'hsa', 'html', 'http', 'https', 'hubs', 'huge', 'hugoton', 'human', 'humanities', 'humanity', 'humans', 'humble', 'humility', 'humint', 'humor', 'hundreds', 'hunger', 'hungriest', 'hunters', 'huobigroup', 'hurdles', 'hustle', 'hybrid', 'hygiene', 'hype', 'hyper', 'hyperparameter', 'hypotheses', 'hypothesis', 'i4', 'iac', 'iba', 'ibm', 'ic', 'icare', 'icml', 'iconic', 'ict', 'id', 'idea', 'ideal', 'ideally', 'ideals', 'ideas', 'ideate', 'ideating', 'ideation', 'identification', 'identified', 'identifies', 'identify', 'identifying', 'identities', 'identity', 'ideo', 'idf', 'ie', 'if', 'ig', 'ignite', 'ii', 'iii', 'iiot', 'il', 'il150sw', 'illegal', 'illicit', 'illinois', 'illness', 'illustrate', 'illustrated', 'ilog', 'image', 'imageright', 'imagery', 'images', 'imaginable', 'imagine', 'imaging', 'imbedded', 'imit', 'immediate', 'immediately', 'immense', 'immersed', 'immerses', 'immigrants', 'immigration', 'immunization', 'impact', 'impactful', 'impacting', 'impacts', 'impala', 'impeccable', 'imperfect', 'implement', 'implementable', 'implementation', 'implementations', 'implemented', 'implementing', 'implements', 'implications', 'implicitly', 'import', 'importance', 'important', 'importantly', 'imported', 'impossible', 'impressions', 'impressive', 'improper', 'improve', 'improved', 'improvement', 'improvements', 'improves', 'improving', 'imputations', 'in', 'inaccuracies', 'inaccuracy', 'inbox', 'inc', 'inca', 'incarcerated', 'incentive', 'incentives', 'inception', 'incident', 'incidents', 'inclination', 'include', 'included', 'includes', 'including', 'inclusion', 'inclusive', 'income', 'incoming', 'incomplete', 'inconsistencies', 'inconsistent', 'inconsistently', 'incorporate', 'incorporating', 'increase', 'increased', 'increases', 'increasing', 'increasingly', 'incredible', 'incredibly', 'incremental', 'incrementality', 'incrementally', 'incubate', 'incumbent', 'incumbents', 'indemnification', 'independence', 'independent', 'independently', 'index', 'indexed', 'india', 'indicates', 'indications', 'indicators', 'indices', 'indicia', 'individual', 'individuality', 'individualized', 'individually', 'individuals', 'inductive', 'industrial', 'industrialization', 'industrialize', 'industries', 'industry', 'inefficient', 'inextricably', 'infancy', 'infectious', 'infer', 'inference', 'inferences', 'inferential', 'inferred', 'infinitely', 'influence', 'influenced', 'influencer', 'influences', 'influencing', 'influential', 'influx', 'infoemd', 'inform', 'informally', 'informaticians', 'informatics', 'information', 'informative', 'informed', 'informing', 'informs', 'infosys', 'infra', 'infrastructure', 'infrastructures', 'infuse', 'infusing', 'ingenuity', 'ingest', 'ingested', 'ingesting', 'ingestion', 'ingredients', 'inherent', 'inhibit', 'initial', 'initialized', 'initiate', 'initiated', 'initiates', 'initiation', 'initiative', 'initiatives', 'initiativesappropriately', 'initiativesassess', 'initiativesassist', 'initiativesguide', 'initiativewe', 'injury', 'inn', 'innate', 'inner', 'innovate', 'innovating', 'innovation', 'innovations', 'innovative', 'innovatively', 'innovator', 'innovators', 'input', 'inputs', 'inquired', 'inquiries', 'inquiry', 'inquisitive', 'ins', 'insatiable', 'insatiably', 'inscape', 'inside', 'insider', 'insight', 'insightful', 'insights', 'inspect', 'inspection', 'inspiration', 'inspirational', 'inspire', 'inspired', 'inspires', 'inspiring', 'instabilities', 'instagram', 'instance', 'instances', 'instantly', 'instead', 'instinct', 'instincts', 'institute', 'institutes', 'institution', 'institutional', 'institutions', 'instructions', 'instructor', 'instructors', 'instrument', 'instrumental', 'instrumentation', 'insurance', 'insuranceflexible', 'insurer', 'insures', 'insurtech', 'intacct', 'integer', 'integral', 'integrate', 'integrated', 'integrates', 'integrating', 'integration', 'integrations', 'integrator', 'integrators', 'integrity', 'intel', 'intellect', 'intellectual', 'intellectually', 'intelligence', 'intelligent', 'intelligently', 'intelligrated', 'intended', 'intensely', 'intensive', 'intent', 'intention', 'intentionally', 'intentions', 'intently', 'inter', 'interact', 'interacting', 'interaction', 'interactions', 'interactive', 'interacts', 'interdisciplinary', 'interest', 'interested', 'interesting', 'interests', 'interface', 'interfaces', 'interfacing', 'interference', 'interim', 'interleaving', 'interlinked', 'intermedia', 'intermediate', 'intern', 'internal', 'internally', 'international', 'internationally', 'internet', 'interns', 'internship', 'internshipabout', 'internshipat', 'internshipbmw', 'internshipc3', 'internshipdata', 'internshipdescription', 'internshipgreater', 'internshipit', 'internshipjob', 'internshipmongodb', 'internshipour', 'internshipoverview', 'internshipposition', 'internshipresponsibilities', 'internshiprifiniti', 'internships', 'internshipsummary', 'internshipthe', 'internshipwe', 'internshipwhat', 'internshipwho', 'internshipwith', 'interoperably', 'interpersonal', 'interpret', 'interpretable', 'interpretation', 'interpreted', 'interpreting', 'interpretive', 'interprets', 'interrogate', 'interruptions', 'intersecting', 'intersection', 'intervals', 'intervention', 'interventions', 'interview', 'interviewing', 'interviews', 'intimate', 'into', 'intramural', 'intricacies', 'intricate', 'intricately', 'intrinsic', 'introduce', 'introduction', 'introductions', 'introspection', 'intuition', 'intuitive', 'intuitively', 'invaluable', 'invent', 'invention', 'inventions', 'inventive', 'inventors', 'inventory', 'invents', 'invest', 'invested', 'investigate', 'investigated', 'investigates', 'investigating', 'investigation', 'investigations', 'investigative', 'investigator', 'investigators', 'investing', 'investment', 'investments', 'investors', 'invests', 'invitae', 'invite', 'invited', 'involve', 'involved', 'involvement', 'involves', 'involving', 'io', 'ios', 'iot', 'iowa', 'ip', 'ipad', 'ipdp', 'ipo', 'ipython', 'ironpython', 'irregular', 'irs', 'irvine', 'is', 'ish', 'isn', 'isolate', 'issue', 'issued', 'issues', 'issuesgather', 'iswc', 'it', 'itd', 'items', 'iterate', 'iteratenoting', 'iterates', 'iterating', 'iteration', 'iterative', 'iteratively', 'its', 'itself', 'itunes', 'iv', 'j0319', 'janitorial', 'january', 'japan', 'java', 'javaextremely', 'javascript', 'jcp', 'jcpenney', 'jdpac', 'jenkins', 'jersey', 'jessica', 'jet', 'jhujobs', 'jira', 'jl3', 'jmp', 'jo', 'job', 'jobs', 'johnson', 'join', 'joined', 'joining', 'joins', 'joint', 'jones', 'jornaya', 'jose', 'journal', 'journalism', 'journals', 'journey', 'journeys', 'joy', 'jr', 'jreview', 'jrf', 'js', 'json', 'jsp', 'juan', 'judgement', 'judgment', 'juggle', 'juggling', 'julia', 'jump', 'jumping', 'junction', 'june', 'junior', 'junk', 'jupiter', 'jupyter', 'just', 'justice', 'justify', 'juxtaposition', 'jvm', 'jyve', 'jyver', 'jyvers', 'kaban', 'kafka', 'kaggle', 'kagr', 'kai', 'kanban', 'kansas', 'kayak', 'kbr', 'kbrwyle', 'kdd', 'keen', 'keep', 'keeping', 'keeps', 'kegerator', 'kennedy', 'kentucky', 'kenworth', 'kept', 'keras', 'kernel', 'kernels', 'key', 'keyboard', 'keyboarding', 'keynote', 'keysight', 'keyword', 'kibana', 'kid', 'kids', 'kind', 'kindly', 'kinds', 'kinesis', 'king', 'kingdom', 'kitchen', 'kitchens', 'kits', 'kleiner', 'kmeans', 'knack', 'kneel', 'knight', 'knime', 'knit', 'knn', 'knock', 'know', 'knowing', 'knowledge', 'knowledgeable', 'known', 'knows', 'kong', 'kosmix', 'kpi', 'kpis', 'kpisexperience', 'kpit', 'kraft', 'kraken', 'krakenites', 'ksa', 'kubernetes', 'kxen', 'kyosei', 'la', 'lab', 'labor', 'laboratory', 'labs', 'lack', 'lactation', 'ladders', 'lake', 'lakes', 'land', 'landfills', 'landing', 'landscape', 'landscapes', 'language', 'languages', 'languagesexperience', 'languagesknowledge', 'lapack', 'laptop', 'laptops', 'large', 'largely', 'larger', 'largest', 'lark', 'laser', 'last', 'lasting', 'lastminute', 'late', 'latent', 'later', 'lateral', 'latest', 'latex', 'latin', 'latitude', 'latter', 'launch', 'launched', 'launches', 'launching', 'laundering', 'lavender', 'lavish', 'law', 'lawful', 'lawrence', 'laws', 'lawyers', 'lay', 'layer', 'layers', 'layman', 'laymen', 'layoff', 'layout', 'layperson', 'lda', 'le', 'lead', 'leadblog', 'leader', 'leaders', 'leadership', 'leadersinvestigating', 'leadersown', 'leading', 'leads', 'leagues', 'leakage', 'lean', 'leap', 'leapros', 'learn', 'learned', 'learner', 'learners', 'learning', 'learninganalysis', 'learningat', 'learningcontributions', 'learnings', 'learns', 'leased', 'leasing', 'least', 'leave', 'leaves', 'led', 'ledger', 'leed', 'left', 'legacy', 'legal', 'legally', 'legislative', 'lend', 'lending', 'lendingtree', 'lends', 'length', 'lens', 'lerning', 'lesbian', 'less', 'lesser', 'let', 'letter', 'letters', 'lev', 'level', 'level1', 'levels', 'levelup', 'lever', 'leverage', 'leveraged', 'leverages', 'leveraging', 'levers', 'lexington', 'lexisnexis', 'lexisnexisrisk', 'lgbtq', 'li', 'liabilities', 'liaise', 'liaison', 'liberates', 'libraries', 'librariesat', 'library', 'libsvm', 'license', 'licensed', 'licenses', 'lidar', 'lie', 'lies', 'lieu', 'life', 'lifecycle', 'lifelong', 'lifestyle', 'lifestyles', 'lifetime', 'lift', 'light', 'lightgbm', 'lighthouse', 'like', 'likelihood', 'likely', 'likes', 'limit', 'limitations', 'limited', 'limiting', 'limits', 'lincoln', 'line', 'linear', 'lineexperience', 'lines', 'linesquantitative', 'lingpipe', 'lingua', 'linguistic', 'linguistics', 'lining', 'link', 'linkage', 'linked', 'linkedin', 'linking', 'links', 'linting', 'linux', 'list', 'listed', 'listen', 'listeners', 'listening', 'listing', 'listings', 'lists', 'lit', 'literature', 'little', 'littleton', 'live', 'lived', 'livereach', 'livereachmedia', 'lives', 'liveswe', 'living', 'll', 'llc', 'lmi', 'load', 'loading', 'loan', 'loans', 'local', 'locally', 'locals', 'locate', 'located', 'locates', 'location', 'locations', 'locationus', 'locationusa', 'lodging', 'log', 'logging', 'logic', 'logic20', 'logic2020', 'logical', 'logistic', 'logistical', 'logistics', 'logit', 'logs', 'logstash', 'london', 'lone', 'long', 'longer', 'longitudinal', 'longtime', 'longwood', 'look', 'looker', 'looking', 'lookout', 'looks', 'loop', 'loosely', 'los', 'loss', 'lot', 'lots', 'lottery', 'lotterycareers', 'louder', 'louis', 'love', 'loved', 'loveland', 'loves', 'low', 'lower', 'lowering', 'lowest', 'loyal', 'loyalty', 'lrm', 'lrs', 'ls1', 'lsa', 'lsh', 'lsi', 'lstm', 'lte', 'ltv', 'lucene', 'luigi', 'lunch', 'lunches', 'luxury', 'lyft', 'm12', 'm4', 'ma', 'mac', 'macbook', 'machine', 'machines', 'macro', 'macroeconomic', 'macroeconomics', 'made', 'magazine', 'magic', 'magical', 'mahalanobis', 'mail', 'mailbox', 'main', 'mainstream', 'maintain', 'maintainability', 'maintainable', 'maintained', 'maintaining', 'maintains', 'maintenance', 'major', 'majoring', 'majority', 'make', 'makers', 'makes', 'making', 'malicious', 'mallet', 'malvern', 'malware', 'manage', 'manageable', 'managed', 'management', 'managemento', 'manager', 'managers', 'manages', 'managing', 'manahj', 'mandate', 'mandatory', 'manger', 'manhattan', 'manipulate', 'manipulates', 'manipulating', 'manipulation', 'manner', 'manual', 'manually', 'manuals', 'manufacture', 'manufacturer', 'manufacturers', 'manufactures', 'manufacturing', 'many', 'map', 'mapmyfitness', 'mapping', 'mapr', 'mapreduce', 'maps', 'mar', 'marathon', 'marathons', 'march', 'marcoline', 'marginalized', 'marian', 'marital', 'maritime', 'mark', 'market', 'marketable', 'marketers', 'marketing', 'marketo', 'marketplace', 'marketplaces', 'markets', 'markov', 'marks', 'marry', 'maryland', 'marzocco', 'mason', 'mass', 'massachusetts', 'massage', 'massages', 'massaging', 'massive', 'massively', 'massmutual', 'master', 'mastered', 'masters', 'mastery', 'match', 'matched', 'matches', 'matching', 'mateo', 'material', 'materials', 'maternity', 'math', 'mathematica', 'mathematical', 'mathematician', 'mathematicians', 'mathematics', 'matlab', 'matlabexpertise', 'matplotlib', 'matrix', 'matrixed', 'matter', 'matters', 'mature', 'maturity', 'maxar', 'maxent', 'maximization', 'maximize', 'maximizing', 'maximum', 'may', 'maybe', 'mayors', 'mba', 'mckesson', 'mclean', 'mcmc', 'md', 'me', 'meal', 'meals', 'mean', 'meaning', 'meaningful', 'meaningfully', 'means', 'meant', 'measurable', 'measure', 'measured', 'measurement', 'measurements', 'measures', 'measuring', 'mechanical', 'mechanics', 'mechanism', 'mechanisms', 'media', 'mediation', 'medical', 'medically', 'medication', 'medicine', 'medidata', 'medium', 'meet', 'meeting', 'meetings', 'meets', 'member', 'members', 'membership', 'membersmodeling', 'memorable', 'memos', 'men', 'menlo', 'mental', 'mentality', 'mention', 'mentioned', 'mentions', 'mentor', 'mentoring', 'mentors', 'mentorship', 'mentorships', 'menus', 'merch', 'merchandise', 'merchandisers', 'merchandising', 'merchants', 'merge', 'merit', 'meritocracy', 'merits', 'mertado', 'mesa', 'mesos', 'message', 'messages', 'messaging', 'messenger', 'messy', 'met', 'meta', 'metabiota', 'metadata', 'metagenome', 'metagenomic', 'metagenomics', 'metasearch', 'metered', 'method', 'methodical', 'methodically', 'methodist', 'methodolgies', 'methodological', 'methodologically', 'methodologies', 'methodology', 'methods', 'methodsexpertise', 'meticulous', 'metis', 'metric', 'metrics', 'metricsinnovate', 'metro', 'metropolitan', 'mexican', 'mexico', 'mfc', 'mgnt', 'mi', 'miachine', 'michael', 'michigan', 'micro', 'microbial', 'microbiology', 'microbiologyexperience', 'microbiome', 'microservices', 'microsoft', 'microstrategy', 'mid', 'middleware', 'midsize', 'might', 'migrate', 'migrating', 'migration', 'miguelhelft', 'mile', 'military', 'militaryfriendly', 'million', 'millions', 'milpitas', 'mimics', 'min', 'mind', 'minded', 'mindful', 'minds', 'mindset', 'mindsetcustomer', 'mindsets', 'mine', 'miner', 'mines', 'mini', 'minimal', 'minimize', 'minimizes', 'minimum', 'mining', 'miningprogramming', 'minitab', 'minorities', 'minority', 'mintel', 'minute', 'minutes', 'mis', 'misinterpretation', 'miss', 'missed', 'missing', 'mission', 'missions', 'mistake', 'mistakes', 'mitigate', 'mitigating', 'mitigation', 'mix', 'mixed', 'mixes', 'mixture', 'ml', 'mllib', 'mlops', 'mo', 'moat', 'mobile', 'mobility', 'mockups', 'modalities', 'modality', 'mode', 'modeanalytics', 'model', 'modeler', 'modelers', 'modeling', 'modelingmachine', 'modelled', 'modelling', 'models', 'modelscreating', 'modelsexcellent', 'modelsknowledge', 'modelswindows', 'moderate', 'moderately', 'moderation', 'modern', 'modernize', 'modernized', 'modernizing', 'modifications', 'modified', 'modifies', 'modify', 'modifying', 'module', 'modules', 'modus', 'moment', 'moments', 'momentum', 'momondo', 'mon18', 'monday', 'monetization', 'money', 'mongodb', 'monitor', 'monitoring', 'monitors', 'monpost', 'montana', 'monte', 'montgomery', 'month', 'monthcontractunder', 'monthly', 'months', 'moocs', 'moose', 'more', 'morgan', 'morrisville', 'mortar', 'mortgage', 'moses', 'most', 'mostly', 'mothers', 'motiion', 'motion', 'motionx', 'motivate', 'motivated', 'motivates', 'motivation', 'motivator', 'motive', 'motor', 'motors', 'mountain', 'mouse', 'movado', 'move', 'moved', 'movement', 'moves', 'movie', 'movies', 'moving', 'mpc', 'mpp', 'mri', 'mro', 'ms', 'ms1', 'msc', 'msim', 'msja', 'msn', 'mssql', 'mt', 'mtv', 'much', 'mukamel', 'multi', 'multicultural', 'multidisciplinary', 'multimodal', 'multinomial', 'multiple', 'multiplier', 'multisite', 'multitask', 'multivariable', 'multivariate', 'munch', 'mundi', 'munging', 'muni', 'municipal', 'musculoskeletal', 'music', 'must', 'mutual', 'mutually', 'mv1', 'mxnet', 'my', 'myfitnesspal', 'mysql', 'mysqlexperience', 'na', 'naacl', 'nai', 'naive', 'nalco', 'name', 'named', 'nameplates', 'names', 'napco', 'narratives', 'nasa', 'nascent', 'nasdaq', 'nashua', 'nation', 'national', 'nationality', 'nationally', 'nations', 'nationwide', 'native', 'natural', 'naturally', 'nature', 'nauto', 'nauvera', 'navair', 'naval', 'navigate', 'navigation', 'navigators', 'nb', 'nba', 'nbc', 'nc', 'nc3', 'ncaa', 'ncontext', 'ncr', 'ne', 'nea', 'near', 'nearby', 'nearest', 'nearly', 'nebraska', 'necessarily', 'necessary', 'necessaryconsults', 'need', 'needed', 'needle', 'needs', 'negative', 'negatively', 'negotiable', 'negotiate', 'negotiation', 'neighbor', 'neighborhoods', 'neighbors', 'neither', 'neo4j', 'nerds', 'nerdy', 'net', 'netapp', 'netflix', 'network', 'networked', 'networking', 'networks', 'networksimplementing', 'neuberger', 'neural', 'neurobehavioral', 'neuroimaging', 'neuroscience', 'neutral', 'nevada', 'never', 'new', 'newest', 'newly', 'newmark', 'newport', 'news', 'newsfeed', 'newshour', 'newwave', 'next', 'nextdoor', 'nexus', 'nfl', 'nfosys', 'nfs', 'nga', 'ngos', 'ngs', 'nhl', 'nice', 'niche', 'night', 'nights', 'nike', 'nimble', 'nine', 'ninja', 'nips', 'nist', 'nittany', 'nitty', 'nj', 'nlp', 'nltk', 'nlu', 'nmf', 'nn', 'no', 'node', 'nodejs', 'noise', 'noisy', 'nomis', 'non', 'nonconforming', 'nondiscrimination', 'none', 'nonfatal', 'nonlinear', 'nonprofit', 'nonprofits', 'nontechnical', 'norm', 'normal', 'normalising', 'normalization', 'normally', 'norms', 'north', 'northeast', 'northern', 'northwest', 'nosql', 'not', 'notable', 'notch', 'note', 'notebook', 'notebooks', 'notes', 'nothing', 'notice', 'notices', 'notification', 'notifications', 'notify', 'novel', 'november', 'novi', 'now', 'nps', 'nuances', 'nuclear', 'nudges', 'null', 'number', 'numbers', 'numeric', 'numerical', 'numerous', 'numo', 'numpy', 'nurse', 'nurses', 'nurture', 'nut', 'nutanix', 'nvidia', 'ny', 'nyc', 'nyse', 'obama', 'object', 'objective', 'objectively', 'objectives', 'objects', 'obligated', 'obscured', 'observation', 'observational', 'observer', 'observes', 'obsess', 'obsessed', 'obsession', 'obstacle', 'obstacles', 'obtain', 'obtained', 'obtaining', 'occasion', 'occasionally', 'occasions', 'occupation', 'occupational', 'occur', 'occurred', 'occurs', 'ocean', 'ocr', 'odc', 'odds', 'odors', 'oem', 'of', 'ofccp', 'off', 'offense', 'offer', 'offered', 'offering', 'offerings', 'offers', 'office', 'officer', 'officers', 'offices', 'officials', 'offline', 'offs', 'offshore', 'often', 'oh', 'ohio', 'oil', 'oklahoma', 'old', 'oldest', 'olympic', 'olympics', 'omaha', 'omd', 'omg', 'omphalos', 'on', 'onboard', 'onboarding', 'once', 'one', 'ones', 'ongoing', 'online', 'onlineaccommodations', 'onlineapply', 'onlookers', 'only', 'onshore', 'onsite', 'onto', 'ontologies', 'ontology', 'onwatch', 'oop', 'oozie', 'op', 'open', 'opening', 'openings', 'openly', 'openlyfearless', 'openness', 'opennlp', 'openshift', 'opentable', 'openx', 'operandi', 'operate', 'operates', 'operating', 'operation', 'operational', 'operationalization', 'operationalize', 'operationalized', 'operationalizing', 'operations', 'operators', 'opinion', 'opinions', 'opl', 'opportunities', 'opportunity', 'opposing', 'ops', 'optimal', 'optimise', 'optimised', 'optimism', 'optimistic', 'optimization', 'optimizations', 'optimize', 'optimized', 'optimizers', 'optimizes', 'optimizing', 'option', 'optional', 'options', 'or', 'oracle', 'oral', 'orally', 'orbitz', 'orchestra', 'orchestrate', 'orchestrated', 'orcle', 'order', 'ordering', 'orders', 'ordinance', 'ordinances', 'oregon', 'oregonlottery', 'org', 'organisation', 'organising', 'organization', 'organizational', 'organizationally', 'organizationoutstanding', 'organizations', 'organize', 'organized', 'organizers', 'organizes', 'organizing', 'orientation', 'orientationability', 'oriented', 'origin', 'original', 'originate', 'originating', 'orlando', 'ors', 'os', 'osmo', 'oswego', 'osx', 'other', 'otherabout', 'otherdue', 'others', 'otherwise', 'our', 'ours', 'ourselves', 'out', 'outcome', 'outcomes', 'outdoors', 'outings', 'outlast', 'outlets', 'outlier', 'outliers', 'outline', 'outlined', 'outlining', 'outlook', 'outnumber', 'outof', 'outperform', 'output', 'outputs', 'outreach', 'outside', 'outsized', 'outsourcing', 'outstanding', 'outward', 'outwardinc', 'over', 'overall', 'overcome', 'overhead', 'overlooking', 'overlooks', 'oversee', 'overseeing', 'oversight', 'overview', 'overwhelmed', 'owl', 'own', 'owned', 'owner', 'owners', 'ownership', 'owning', 'owns', 'pa', 'paccar', 'pace', 'paced', 'pacific', 'pack', 'package', 'packages', 'packaging', 'packard', 'packs', 'page', 'pages', 'pageviews', 'paid', 'pain', 'painful', 'pains', 'paint', 'pair', 'paired', 'pairing', 'pal', 'palantir', 'palo', 'paloaltonetworks', 'pandas', 'panel', 'panoramic', 'paper', 'papers', 'paradigm', 'parallel', 'parallels', 'paralympic', 'parameter', 'parameters', 'parametersdirectly', 'parametric', 'paramount', 'parent', 'parental', 'parents', 'pareto', 'paris', 'park', 'parking', 'parks', 'parse', 'parsing', 'part', 'participant', 'participants', 'participate', 'participates', 'participating', 'participation', 'particular', 'particularly', 'parties', 'partitioning', 'partly', 'partner', 'partnered', 'partnering', 'partners', 'partnership', 'partnershipphd', 'partnerships', 'parts', 'party', 'pass', 'passed', 'passes', 'passing', 'passion', 'passionate', 'passions', 'passport', 'past', 'patent', 'patented', 'patents', 'paternity', 'path', 'paths', 'patience', 'patient', 'patients', 'pattern', 'patterns', 'paving', 'pay', 'payable', 'payback', 'paycompetitive', 'paying', 'payment', 'payments', 'payors', 'paypal', 'pays', 'pbms', 'pbs', 'pc', 'pca', 'pdf', 'pdfdescribes', 'pearl', 'peel', 'peer', 'peers', 'peership', 'penn', 'penney', 'pennsylvania', 'pension', 'people', 'pepsi', 'pepsico', 'per', 'perceived', 'percent', 'perception', 'perceptually', 'perfect', 'perfection', 'perfectly', 'perform', 'performance', 'performances', 'performant', 'performed', 'performing', 'performs', 'perhaps', 'period', 'periodcross', 'periodic', 'periodically', 'periods', 'peripheral', 'periscope', 'perk', 'perkins', 'perks', 'perl', 'permanent', 'permeates', 'permitted', 'perpetration', 'perpetrator', 'perpetrators', 'pers', 'persistence', 'person', 'personable', 'personal', 'personality', 'personalization', 'personalize', 'personalized', 'personalizing', 'personally', 'personas', 'personify', 'personnel', 'persons', 'perspecta', 'perspective', 'perspectives', 'persuasion', 'persuasive', 'persuasively', 'pertaining', 'pertains', 'pertinent', 'pet', 'petabyte', 'petabytes', 'peterbilt', 'petroleum', 'petrophysicist', 'ph', 'pharma', 'pharmaceutical', 'pharmaceuticals', 'pharmacology', 'pharmacy', 'phase', 'phases', 'phd', 'phdat', 'phds', 'phenomena', 'phenomenal', 'philadelphia', 'philanthropy', 'philosophy', 'phishing', 'phoenix', 'phone', 'phones', 'photo', 'photos', 'php', 'phylogenetics', 'physical', 'physician', 'physicians', 'physics', 'physiological', 'physiology', 'pick', 'pickup', 'picture', 'pictures', 'piece', 'pieces', 'pig', 'pillar', 'pilot', 'piloting', 'pilots', 'pimco', 'ping', 'pinpoint', 'pinterest', 'pioneer', 'pioneered', 'pioneering', 'pipe', 'pipeline', 'pipelines', 'piracy', 'pitfalls', 'pittsford', 'pivot', 'pivotal', 'pivoted', 'pixel', 'pixels', 'pl', 'place', 'placed', 'placement', 'placements', 'places', 'placing', 'plan', 'planet', 'planners', 'planning', 'plano', 'plans', 'plant', 'plants', 'platform', 'platforms', 'platts', 'play', 'playbooks', 'player', 'playful', 'playground', 'playing', 'plays', 'playstation', 'plc', 'pleasant', 'pleasanton', 'please', 'pleased', 'pledge', 'plenty', 'plot', 'plotly', 'plots', 'ploty', 'plug', 'plumber', 'plus', 'plusexperience', 'plusses', 'pm', 'pm18', 'poc', 'pockets', 'pocs', 'point', 'points', 'poised', 'police', 'policies', 'policy', 'policyeasy', 'policymakers', 'polished', 'political', 'politics', 'pollution', 'poly', 'polygraph', 'pong', 'pool', 'pools', 'poor', 'pop', 'popcorn', 'popular', 'population', 'populations', 'pores', 'port', 'portal', 'portfolio', 'portfolios', 'portions', 'portland', 'pos', 'pose', 'posing', 'position', 'positional', 'positioned', 'positioning', 'positions', 'positive', 'positively', 'positives', 'possess', 'possesses', 'possession', 'possibilities', 'possibility', 'possible', 'possibly', 'post', 'posted', 'poster', 'posters', 'postgraduate', 'postgres', 'postgresql', 'postgress', 'postgressql', 'posting', 'postings', 'posts', 'posture', 'potential', 'potentially', 'pounds', 'power', 'powerbi', 'powered', 'powerful', 'powering', 'powerpivot', 'powerpoint', 'powers', 'ppc', 'ppt', 'pr', 'pra', 'practical', 'practicality', 'practically', 'practice', 'practices', 'practicing', 'practitioner', 'practitioners', 'pragmatic', 'pragmatically', 'pre', 'prebuilt', 'precise', 'precisely', 'precision', 'predict', 'predictability', 'predicted', 'predicting', 'prediction', 'predictions', 'predictive', 'prefer', 'preferable', 'preferably', 'prefered', 'preference', 'preferences', 'preferred', 'pregnancy', 'preliminary', 'prem', 'premier', 'premises', 'premium', 'premiums', 'prep', 'preparation', 'preparations', 'prepare', 'prepared', 'prepares', 'preparing', 'preprints', 'preprocess', 'preprocessing', 'presales', 'preschool', 'prescient', 'prescientedge', 'prescreens', 'prescribe', 'prescribed', 'prescription', 'prescriptive', 'presence', 'present', 'presentation', 'presentational', 'presentations', 'presented', 'presenting', 'presents', 'press', 'pressing', 'pressure', 'prestige', 'presto', 'pretty', 'prevent', 'preventing', 'prevention', 'previous', 'previously', 'price', 'prices', 'pricing', 'pride', 'prides', 'primarily', 'primary', 'prime', 'primed', 'principal', 'principals', 'principle', 'principles', 'print', 'printers', 'prior', 'priori', 'priorities', 'prioritise', 'prioritization', 'prioritize', 'prioritizing', 'priority', 'priscilla', 'privacy', 'private', 'privately', 'pro', 'proactive', 'proactively', 'probabilistic', 'probabilities', 'probability', 'probable', 'probably', 'probationary', 'probes', 'problem', 'problems', 'problemsimprove', 'problemsms', 'problemsunderstand', 'procedure', 'procedures', 'proceed', 'proceeding', 'process', 'processed', 'processes', 'processing', 'processingpattern', 'procurement', 'produce', 'produced', 'producers', 'produces', 'producing', 'product', 'production', 'productionize', 'productionized', 'productionizing', 'productive', 'productively', 'productivity', 'productize', 'products', 'productsexperience', 'prof', 'profession', 'professional', 'professionalism', 'professionally', 'professionals', 'professors', 'proficiency', 'proficient', 'proficiently', 'profile', 'profiles', 'profiling', 'profit', 'profitability', 'profitable', 'profitably', 'profits', 'program', 'programing', 'programmatic', 'programmer', 'programmers', 'programming', 'programs', 'programspecific', 'progress', 'progresses', 'progressing', 'progression', 'progressive', 'progressively', 'prohibited', 'prohibits', 'project', 'projected', 'projection', 'projections', 'projectmanager', 'projectors', 'projects', 'prolonged', 'promise', 'promises', 'promising', 'promote', 'promotes', 'promoting', 'promotion', 'promotional', 'promotions', 'prompt', 'prone', 'proof', 'proofpoint', 'proofs', 'propelled', 'propensity', 'proper', 'properly', 'properties', 'property', 'proposal', 'proposals', 'propose', 'proposed', 'proposes', 'proposing', 'proposition', 'propositions', 'proprietary', 'propriety', 'propulsion', 'prospect', 'prospecting', 'prospective', 'prospects', 'prosper', 'protect', 'protected', 'protecting', 'protection', 'protections', 'proteins', 'protocol', 'protocols', 'prototype', 'prototypes', 'prototyping', 'proud', 'proudly', 'prove', 'proven', 'provide', 'provided', 'provider', 'providers', 'provides', 'providing', 'proving', 'prowess', 'proximity', 'psu', 'psychiatry', 'psychological', 'psychology', 'pto', 'public', 'publication', 'publications', 'publicly', 'publish', 'published', 'publishers', 'publishing', 'pubmed', 'puerto', 'pull', 'pulled', 'pulling', 'pulls', 'pulse', 'punctuality', 'purchase', 'purchased', 'purchases', 'purchasing', 'pure', 'purely', 'purpose', 'purposes', 'pursing', 'pursuant', 'pursue', 'pursues', 'pursuing', 'pursuit', 'pursuits', 'push', 'pushed', 'pushes', 'pushing', 'put', 'puts', 'putting', 'puzzle', 'pwerpoint', 'pymc3', 'pyplot', 'pyspark', 'python', 'pythoninfosys', 'pythonmaster', 'pythonsignificant', 'pythonstronger', 'pytorch', 'qa', 'qc', 'qlik', 'qliksense', 'qlikview', 'qm', 'quadrant', 'quadruple', 'quaificaition', 'qualification', 'qualifications', 'qualificationsbasic', 'qualified', 'qualify', 'qualifying', 'qualitative', 'qualities', 'quality', 'qualityconducting', 'qualityefficiently', 'quant', 'quantatative', 'quantifiable', 'quantifind', 'quantify', 'quantifying', 'quantitate', 'quantitative', 'quantitatively', 'quantities', 'quantity', 'quarter', 'quarterly', 'quasi', 'qubole', 'queries', 'query', 'querying', 'quest', 'question', 'questions', 'queues', 'queuing', 'quick', 'quickly', 'quintuple', 'quite', 'quo', 'qxbranch', 'race', 'radiant', 'radical', 'radically', 'rails', 'raise', 'raised', 'raises', 'raleigh', 'rallies', 'ram', 'ramp', 'ramping', 'random', 'range', 'ranges', 'ranging', 'rank', 'ranked', 'ranking', 'ranks', 'ransomware', 'rapid', 'rapidly', 'rapidminer', 'rapport', 'rare', 'rarely', 'rate', 'rated', 'raters', 'rates', 'rather', 'ratings', 'rationalize', 'ratios', 'raton', 'rave', 'raw', 'rays', 'rd', 'rdbms', 'rdbs', 'rdf', 'rds', 're', 'reach', 'react', 'reactively', 'read', 'readability', 'readable', 'readily', 'readiness', 'reading', 'reads', 'ready', 'real', 'realistic', 'reality', 'realization', 'realize', 'realized', 'realizing', 'really', 'realm', 'reason', 'reasonable', 'reasonably', 'reasoned', 'reasoning', 'reasons', 'rebuild', 'recalibrate', 'recalibrating', 'recall', 'receive', 'received', 'recent', 'recently', 'recharge', 'recognition', 'recognizable', 'recognize', 'recognized', 'recognizes', 'recognizing', 'recommend', 'recommendation', 'recommendations', 'recommendationstake', 'recommended', 'recommender', 'recommending', 'recommends', 'reconnaissance', 'record', 'records', 'recoveries', 'recovery', 'recruit', 'recruiter', 'recruiters', 'recruiting', 'recruitment', 'recurrent', 'recycling', 'red', 'redefine', 'redefining', 'redis', 'redjack', 'redmond', 'redshift', 'redtoo', 'reduce', 'reducing', 'reduction', 'reductions', 'redux', 'redwood', 'ref', 'refactoring', 'refereed', 'reference', 'referenced', 'references', 'referral', 'referrals', 'referred', 'refine', 'refinement', 'refiner', 'refineries', 'refining', 'reflect', 'reflected', 'reflection', 'reflects', 'reforming', 'reframe', 'refresh', 'refusing', 'regard', 'regarding', 'regardless', 'regards', 'regence', 'region', 'regional', 'regions', 'registered', 'registrations', 'registries', 'registry', 'regression', 'regressions', 'regs', 'regular', 'regularization', 'regularly', 'regulation', 'regulations', 'regulatory', 'rei', 'reign', 'reimagine', 'reimagining', 'reimbursed', 'reimbursement', 'reimbursements', 'reinforcement', 'reinforces', 'reinforcing', 'reinsurance', 'reinvent', 'reinvented', 'reinventing', 'relate', 'related', 'relates', 'relating', 'relation', 'relational', 'relations', 'relationship', 'relationships', 'relative', 'relatively', 'relax', 'relaxed', 'release', 'released', 'releases', 'relentless', 'relentlessly', 'relevance', 'relevant', 'reliability', 'reliable', 'reliably', 'reliance', 'reliant', 'reliantly', 'religion', 'religious', 'relish', 'relishes', 'relocate', 'relocated', 'relocating', 'relocation', 'relx', 'rely', 'remain', 'remaining', 'remains', 'remarkable', 'remediate', 'remediation', 'remember', 'remind', 'reminder', 'reminders', 'remodeling', 'remote', 'remotely', 'remove', 'removed', 'render', 'rendering', 'renewable', 'renewal', 'rental', 'rentals', 'renton', 'reolve', 'reonomy', 'repair', 'repeat', 'repeatability', 'repeatable', 'repeating', 'replace', 'repo', 'report', 'reported', 'reporter', 'reporting', 'reportingearn', 'reports', 'repositories', 'repository', 'represent', 'representation', 'representations', 'representative', 'representativeness', 'representatives', 'representing', 'represents', 'reproducibility', 'reproducible', 'reproducibly', 'repurchase', 'reputation', 'reputations', 'req', 'req181151', 'req6316', 'reqid', 'request', 'requested', 'requesting', 'requests', 'require', 'required', 'requireddevelop', 'requirement', 'requirements', 'requirementssql', 'requires', 'requiring', 'requisite', 'requisition', 'requisitions', 'research', 'researchbuilding', 'researcher', 'researchers', 'researches', 'researching', 'resembles', 'reserve', 'reserved', 'reserves', 'reserving', 'reservoir', 'reservoirs', 'reset', 'residency', 'resident', 'residential', 'residents', 'resides', 'residing', 'resilience', 'resilient', 'resnets', 'resolution', 'resolutions', 'resolve', 'resolving', 'resonates', 'resort', 'resorts', 'resource', 'resourceful', 'resources', 'resourcing', 'respect', 'respected', 'respectful', 'respecting', 'respective', 'respectively', 'respond', 'responded', 'responders', 'response', 'responses', 'responsib', 'responsibilities', 'responsibilitiesdevelop', 'responsibility', 'responsible', 'responsibly', 'responsive', 'resposibilities', 'rest', 'restaurant', 'restaurants', 'restful', 'resting', 'reston', 'restoration', 'restore', 'restricted', 'result', 'resulting', 'results', 'resultscommunicate', 'resultsfunctionally', 'resume', 'resumes', 'retail', 'retailer', 'retailers', 'retain', 'retaining', 'retargeting', 'retention', 'retirement', 'retrain', 'retraining', 'retrieval', 'retrievalbecome', 'retrieve', 'retrieves', 'retros', 'retrospective', 'return', 'returned', 'returning', 'reusability', 'reusable', 'reveal', 'revenue', 'revenues', 'review', 'reviewed', 'reviewing', 'reviews', 'revise', 'revitalization', 'revolution', 'revolutionary', 'revolutionize', 'revolutionizing', 'reward', 'rewarded', 'rewarding', 'rewards', 'rewrite', 'rf', 'rfp', 'riak', 'rich', 'richard', 'richardson', 'richer', 'richly', 'richness', 'rico', 'riddles', 'ride', 'rider', 'riders', 'rides', 'ridge', 'right', 'rights', 'rigor', 'rigorious', 'rigorous', 'rigorously', 'rise', 'rising', 'risk', 'riskiq', 'risks', 'river', 'rivers', 'rivr', 'rl', 'rmarkdown', 'rnn', 'rnns', 'road', 'roadblocks', 'roadmap', 'roadmaps', 'robot', 'robotic', 'robotics', 'robust', 'roc', 'rochester', 'rock', 'rocky', 'roi', 'role', 'roles', 'roll', 'rolled', 'rolling', 'rollout', 'rollups', 'roof', 'rooftop', 'room', 'rooms', 'root', 'rooted', 'rosa', 'roseville', 'rotate', 'rotation', 'round', 'routed', 'routes', 'routine', 'routinely', 'routines', 'routing', 'rows', 'rpa', 'rpc', 'rsg', 'rsginc', 'rshiny', 'rss', 'rstudio', 'rtb', 'rtf', 'ruby', 'rule', 'rules', 'run', 'running', 'runs', 'rural', 'russian', 'rust', 's3', 'saas', 'sacramento', 'safe', 'safeguard', 'safeguarding', 'safely', 'safer', 'safety', 'sagemaker', 'said', 'salad', 'salaried', 'salaries', 'salary', 'sales', 'salesforce', 'salesperson', 'salon', 'salt', 'same', 'sample', 'sampled', 'samples', 'sampling', 'samsung', 'san', 'sandwich', 'sanity', 'santa', 'sap', 'sapphire', 'sas', 'sat', 'satellite', 'satisfaction', 'satisfactorily', 'satisfactory', 'satisfied', 'save', 'saved', 'savings', 'savviness', 'savvy', 'say', 'saying', 'says', 'sba', 'sc', 'scala', 'scalability', 'scalable', 'scalanlp', 'scale', 'scaled', 'scaling', 'scarce', 'scatter', 'scattered', 'scenario', 'scenarios', 'scenariosexperience', 'scenes', 'schaumburg', 'schedule', 'scheduled', 'schedules', 'scheduling', 'schema', 'schemas', 'schemes', 'schizophrenia', 'scholars', 'school', 'schools', 'schuylkill', 'schwab', 'schwas', 'sci', 'science', 'scienceexpertise', 'sciences', 'scientific', 'scientifically', 'scientist', 'scientistleverage', 'scientists', 'scientistwill', 'scikit', 'scikitlearn', 'scipy', 'scm', 'scoop', 'scooter', 'scooters', 'scope', 'scopes', 'scoping', 'score', 'scorecards', 'scores', 'scoring', 'scot', 'scott', 'scouts', 'scrape', 'scraped', 'scraping', 'scrapping', 'scrappy', 'scratch', 'scratched', 'scratching', 'screen', 'screening', 'screens', 'script', 'scripting', 'scripts', 'scrub', 'scrum', 'sdk', 'sdks', 'sdlc', 'sdtm', 'sdvosb', 'se', 'seaborn', 'seamless', 'seamlessly', 'search', 'searches', 'searching', 'season', 'seasonal', 'seasonality', 'seasoned', 'seattle', 'second', 'secondary', 'seconds', 'secret', 'secrets', 'secrurity', 'section', 'sectional', 'sections', 'sector', 'sectors', 'secure', 'secured', 'securely', 'securing', 'securities', 'security', 'see', 'seed', 'seeing', 'seek', 'seekers', 'seeking', 'seeks', 'seemingly', 'seems', 'seen', 'segment', 'segmentation', 'segmentationdevelop', 'segmentationo', 'segmented', 'segments', 'segundo', 'seize', 'select', 'selected', 'selecting', 'selection', 'self', 'selfless', 'sell', 'seller', 'sellers', 'selling', 'sem', 'semantic', 'semantics', 'semester', 'semi', 'seminar', 'seminars', 'send', 'sending', 'senior', 'seniority', 'sense', 'sensing', 'sensitive', 'sensitivity', 'sensor', 'sensors', 'sensory', 'sentiment', 'seo', 'separated', 'separating', 'sequence', 'sequencing', 'sequential', 'serializing', 'series', 'serious', 'seriously', 'serta', 'serve', 'served', 'serveng', 'server', 'servers', 'serves', 'service', 'servicenow', 'services', 'servicing', 'serving', 'sessions', 'set', 'sets', 'setsprovide', 'setting', 'settings', 'settle', 'setup', 'seven', 'seventh', 'several', 'sex', 'sexual', 'sf', 'sf1', 'sfarm', 'sfdc', 'shake', 'shaking', 'shape', 'shapes', 'shaping', 'share', 'shared', 'shareholders', 'sharepoint', 'shares', 'sharing', 'sharp', 'sharpen', 'sharpening', 'shaw', 'she', 'sheets', 'shell', 'shepherding', 'shield', 'shift', 'shining', 'shiny', 'ship', 'shipped', 'shipping', 'ships', 'shirt', 'shirts', 'shocks', 'shogun', 'shooting', 'shop', 'shopper', 'shoppers', 'shopping', 'shops', 'shorelines', 'shorenstein', 'short', 'shortlist', 'shorts', 'shot', 'should', 'shoulders', 'shouldn', 'show', 'showcase', 'shower', 'showing', 'shown', 'shows', 'shy', 'siamese', 'sick', 'side', 'sided', 'sierra', 'sifts', 'sightseeing', 'sigir', 'sign', 'signal', 'signalfire', 'signals', 'signed', 'significance', 'significanceexperience', 'significanceprovide', 'significant', 'significantly', 'signs', 'silicon', 'silos', 'silverrail', 'similar', 'similarities', 'similarity', 'similarly', 'similiar', 'simmons', 'simple', 'simplerleading', 'simplest', 'simplicity', 'simplified', 'simplify', 'simplifying', 'simply', 'simulate', 'simulation', 'simulations', 'simultaneous', 'simultaneousl', 'simultaneously', 'since', 'sincere', 'sincerely', 'singapore', 'single', 'singular', 'singularly', 'sisense', 'sister', 'sit', 'site', 'sites', 'sits', 'sitting', 'situation', 'situations', 'six', 'sixleaf', 'sizable', 'size', 'sizeable', 'sized', 'sizes', 'sizing', 'skepticism', 'skill', 'skilled', 'skillful', 'skills', 'skillset', 'skillsexcellent', 'skillsproficiency', 'skillsstrong', 'skillssuperior', 'sklearn', 'sky', 'skype', 'skyrocketed', 'sl', 'slack', 'sleep', 'sleeptracker', 'sleeves', 'sleuth', 'slide', 'slides', 'slowing', 'slq', 'slync', 'sm', 'small', 'smaller', 'smart', 'smartbed', 'smarter', 'smartest', 'smartview', 'sme', 'smes', 'smile', 'smiles', 'smoke', 'smooth', 'smoothly', 'sms', 'sn1', 'snacks', 'snag', 'snapchat', 'snc', 'sne', 'snowflake', 'so', 'soak', 'soap', 'social', 'socialize', 'socializing', 'socials', 'societal', 'societas', 'societies', 'society', 'socioeconomic', 'sociology', 'sociotechnical', 'sockeye', 'socure', 'sofia', 'soft', 'softbank', 'softly', 'softvision', 'software', 'soho', 'soil', 'sojern', 'sold', 'sole', 'solely', 'solicit', 'solid', 'solidifying', 'solo', 'solopreneurs', 'solr', 'solution', 'solutioning', 'solutions', 'solutionsdemonstrated', 'solvable', 'solve', 'solved', 'solver', 'solvers', 'solves', 'solving', 'som', 'some', 'somebody', 'someone', 'something', 'sometimes', 'sonoma', 'sony', 'soon', 'sophisticated', 'sophistication', 'sops', 'sorry', 'sought', 'sound', 'soundcloud', 'sounds', 'source', 'sourced', 'sources', 'sourcescleanses', 'sourcessupport', 'sourcing', 'south', 'southeast', 'space', 'spaceflight', 'spaces', 'spacy', 'spam', 'span', 'spanish', 'spanning', 'spans', 'sparing', 'spark', 'sparkexperience', 'sparkfund', 'sparkml', 'sparkr', 'sparql', 'sparse', 'spatial', 'speak', 'speaker', 'speaking', 'speaks', 'spearhead', 'special', 'specialist', 'specialists', 'specialities', 'specialization', 'specializations', 'specialize', 'specialized', 'specializes', 'specializing', 'specially', 'specialty', 'specific', 'specifically', 'specification', 'specifications', 'specified', 'specify', 'specifying', 'specs', 'spectral', 'spectrum', 'speech', 'speed', 'spend', 'spending', 'spends', 'spent', 'speyer', 'spglobal', 'spicy', 'spin', 'spinoff', 'spirit', 'spirt', 'split', 'splunk', 'spoc', 'spoken', 'spokesperson', 'sponsor', 'sponsored', 'sponsoring', 'sponsors', 'sponsorship', 'sport', 'sporting', 'sports', 'spot', 'spotfire', 'spotify', 'spreading', 'spreadsheet', 'spring', 'springfield', 'springs', 'sprint', 'sps', 'spss', 'sql', 'sqlproficient', 'sqoop', 'square', 'squarely', 'squares', 'squarespace', 'squareup', 'sr', 'srilm', 'ssa', 'ssas', 'ssh', 'ssis', 'ssu', 'st', 'stability', 'stable', 'stack', 'stacked', 'stackoverflow', 'stacks', 'stadium', 'staff', 'staffed', 'staffing', 'stage', 'stages', 'stake', 'stakeholder', 'stakeholders', 'stalking', 'stan', 'stand', 'standalone', 'standard', 'standardize', 'standardized', 'standards', 'standing', 'standpoint', 'stanford', 'stanley', 'stanza', 'staples', 'star', 'stardog', 'start', 'started', 'starter', 'starters', 'starting', 'starts', 'startup', 'startups', 'stat', 'stata', 'state', 'stated', 'statement', 'statements', 'states', 'statewide', 'static', 'station', 'stationless', 'stations', 'statistic', 'statistica', 'statistical', 'statistically', 'statisticians', 'statistics', 'stats', 'statsmodels', 'status', 'statusfull', 'stay', 'staying', 'stays', 'steaks', 'stellar', 'stem', 'step', 'stephanie', 'steps', 'stereotypes', 'steward', 'stewarding', 'stewardship', 'sticks', 'still', 'stimulating', 'stipend', 'stitch', 'stitching', 'stochastic', 'stock', 'stocked', 'stone', 'stoop', 'stop', 'storage', 'storages', 'store', 'stored', 'stores', 'stories', 'storing', 'storm', 'story', 'storycapacity', 'storyteller', 'storytelling', 'straight', 'strain', 'strategic', 'strategically', 'strategics', 'strategies', 'strategiesdevelop', 'strategiesdocumenting', 'strategists', 'strategize', 'strategizes', 'strategy', 'stream', 'streaming', 'streamline', 'streamlined', 'streamlines', 'streams', 'streeam', 'street', 'streets', 'strength', 'strengthen', 'strengthening', 'strengths', 'stress', 'stretch', 'strict', 'strides', 'strings', 'strive', 'strives', 'striving', 'strong', 'stronger', 'strongest', 'strongly', 'structural', 'structure', 'structured', 'structures', 'structuring', 'struggle', 'student', 'students', 'studies', 'studio', 'studios', 'study', 'studying', 'stuff', 'stunning', 'stupid', 'style', 'styles', 'styling', 'stylish', 'stylist', 'stylists', 'sub', 'subcontractor', 'subcontracts', 'subcultures', 'subgroups', 'subject', 'subjective', 'submission', 'submissions', 'submit', 'submitted', 'subordinate', 'subordinates', 'subscriber', 'subscribers', 'subscription', 'subscriptions', 'subsequent', 'subsequently', 'subsidiaries', 'subsidiary', 'substance', 'substances', 'substantial', 'substantive', 'substitute', 'substituted', 'subsurface', 'subtle', 'suburban', 'succeed', 'succeeding', 'success', 'successes', 'successful', 'successfully', 'succinctly', 'such', 'sudden', 'suffering', 'sufficient', 'sugar', 'suggest', 'suggestion', 'suggestions', 'suitability', 'suitable', 'suite', 'suited', 'suites', 'sum', 'summaries', 'summarization', 'summarizations', 'summarize', 'summarizes', 'summarizing', 'summary', 'summer', 'summit', 'sunny', 'sunnyvale', 'superb', 'superficially', 'superior', 'supervise', 'supervised', 'supervision', 'supervisor', 'supervisors', 'supervisory', 'supplement', 'supplementary', 'suppliers', 'supplies', 'supply', 'support', 'supported', 'supporting', 'supportive', 'supports', 'sure', 'surface', 'surfaces', 'surfacing', 'surgeons', 'surgeries', 'surgery', 'surgical', 'surprised', 'surprising', 'surrounded', 'surrounding', 'surroundings', 'survey', 'surveys', 'survival', 'sustain', 'sustainability', 'sustainable', 'sustainably', 'sustained', 'svb', 'svm', 'svms', 'svn', 'svp', 'sw', 'swagger', 'swapnil', 'sweat', 'sweden', 'swells', 'swift', 'switch', 'switching', 'swoodoo', 'sycamore', 'sydney', 'symbol', 'sync', 'syndicated', 'synergies', 'synergy', 'syntactic', 'synthesis', 'synthesize', 'synthesized', 'synthesizes', 'synthesizing', 'synthetic', 'system', 'systematic', 'systematically', 'systemic', 'systems', 'systemsbuild', 'systemsproficiency', 't2t', 'table', 'tableau', 'tables', 'tabulate', 'tackle', 'tackles', 'tackling', 'taco', 'tactic', 'tactical', 'tactically', 'tactics', 'tag', 'tagging', 'tagline', 'tail', 'tailor', 'tailored', 'take', 'takecareof', 'taken', 'takes', 'taking', 'talent', 'talentacquisition', 'talented', 'talents', 'talk', 'talking', 'talks', 'talksa', 'tangible', 'tank', 'tap', 'tapingo', 'tapping', 'target', 'targeted', 'targeting', 'task', 'tasked', 'tasking', 'tasks', 'taught', 'tax', 'taxa', 'taxes', 'taxonomy', 'tb', 'tcs', 'teach', 'teacher', 'teachers', 'teaching', 'team', 'teamed', 'teamextremely', 'teammate', 'teammates', 'teams', 'teamsexperience', 'teamsto', 'teamstrong', 'teamwork', 'tech', 'techcrunch', 'technical', 'technically', 'technics', 'technique', 'techniques', 'techniquesrecommend', 'technological', 'technologically', 'technologies', 'technologiesstay', 'technologist', 'technologists', 'technology', 'technologymanage', 'telco', 'telecom', 'telecommunication', 'telecommunications', 'telecommute', 'telecommuter', 'telecommuters', 'telecommuting', 'telemetry', 'telephone', 'television', 'telework', 'tell', 'telling', 'tells', 'temp', 'tempe', 'templates', 'temporal', 'temporary', 'ten', 'tennis', 'tens', 'tensor', 'tensorflow', 'tenure', 'terabyte', 'terabytes', 'teradata', 'teradataexcellent', 'term', 'termimpact', 'terminal', 'termination', 'terminology', 'terminologyability', 'terminologyworks', 'terms', 'territories', 'territory', 'test', 'testable', 'tested', 'testing', 'tests', 'texas', 'text', 'textbooks', 'textio', 'texts', 'textual', 'tf', 'th', 'than', 'thank', 'thanks', 'that', 'the', 'theano', 'theft', 'their', 'them', 'theme', 'themselves', 'themwe', 'then', 'theorem', 'theoretical', 'theories', 'theorist', 'theory', 'therapeutic', 'therapeutics', 'therapies', 'therapist', 'there', 'thereafter', 'thereby', 'therefore', 'these', 'thesis', 'they', 'thing', 'things', 'think', 'thinker', 'thinkers', 'thinkerswe', 'thinking', 'thinks', 'third', 'this', 'thorough', 'thoroughly', 'those', 'though', 'thought', 'thoughtful', 'thousand', 'thousands', 'threat', 'threats', 'three', 'thresholds', 'thrill', 'thrilled', 'thrilling', 'thrive', 'thrives', 'thriving', 'through', 'throughout', 'throughput', 'thru', 'thursday', 'thus', 'tibco', 'tick', 'ticker', 'ticket', 'tickets', 'tide', 'tidy', 'tidyr', 'tidyverse', 'tie', 'tied', 'tier', 'ties', 'tight', 'tightly', 'time', 'timeabout', 'timecontractor', 'timeframe', 'timeline', 'timelines', 'timeliness', 'timely', 'timeqxbranch', 'times', 'timethe', 'tinker', 'tinton', 'tiny', 'tips', 'tirelessly', 'tishman', 'titan', 'title', 'tl1', 'tm', 'tmus', 'tn', 'to', 'tobacco', 'today', 'together', 'tokenization', 'tokyo', 'tolerance', 'tolerate', 'tolerated', 'tomorrow', 'tonnes', 'tons', 'too', 'took', 'tool', 'toolbox', 'toolboxes', 'tooling', 'toolkit', 'toolkits', 'tools', 'toolset', 'toolssolid', 'toomey', 'top', 'topic', 'topics', 'topline', 'torch', 'total', 'totaling', 'touch', 'touches', 'touching', 'touchpoint', 'touchpoints', 'tough', 'toughest', 'tour', 'tournaments', 'tours', 'toward', 'towards', 'towers', 'town', 'toxic', 'toyota', 'track', 'tracked', 'tracking', 'traction', 'trade', 'traded', 'trademark', 'trademarks', 'tradeoffs', 'trading', 'traditional', 'traditionally', 'traffic', 'trail', 'trailblazers', 'train', 'trained', 'training', 'trainingexecuting', 'trainings', 'traits', 'transacting', 'transaction', 'transactional', 'transactions', 'transfer', 'transferable', 'transferring', 'transfers', 'transform', 'transformation', 'transformational', 'transformations', 'transformationsas', 'transformative', 'transforming', 'transforms', 'transgender', 'transit', 'transition', 'transitioning', 'translate', 'translates', 'translating', 'translation', 'transliteration', 'transmission', 'transparency', 'transparent', 'transparently', 'transportation', 'travel', 'traveldoo', 'traveler', 'travelers', 'traveling', 'travelocity', 'travelu', 'traversing', 'treading', 'treat', 'treated', 'treating', 'treatment', 'treatments', 'tree', 'trees', 'tremendous', 'tremendously', 'trend', 'trending', 'trends', 'trendsanalyzing', 'tri', 'triage', 'trial', 'trials', 'tribe', 'tries', 'triggers', 'trillion', 'trilogy', 'trip', 'triple', 'trips', 'trivago', 'trivally', 'trivial', 'trouble', 'troubleshoot', 'troubleshooting', 'troves', 'truck', 'trucking', 'trucks', 'true', 'truly', 'trust', 'trusted', 'trusting', 'truth', 'try', 'trying', 'ts', 'tsql', 'tuesday', 'tuition', 'tune', 'tuning', 'turn', 'turnaround', 'turned', 'turning', 'turns', 'tv', 'tvs', 'tweak', 'twelve', 'twenty', 'twice', 'twilio', 'twitter', 'two', 'tx', 'type', 'types', 'typescript', 'typical', 'typically', 'uber', 'uberpool', 'uberx', 'uc', 'udacity', 'ui', 'uild', 'ukraine', 'ulta', 'ultimate', 'ultimately', 'un', 'unable', 'unaided', 'unanticipated', 'unapproved', 'unasked', 'unassailable', 'unauthorized', 'unavailable', 'unbelievably', 'unbiased', 'unbounded', 'uncertainty', 'uncharted', 'uncleansed', 'uncommon', 'uncommongoods', 'unconventional', 'uncover', 'uncovering', 'uncovers', 'undefined', 'under', 'underbelly', 'undergoing', 'undergradinternships', 'undergraduate', 'underlies', 'underlying', 'underneath', 'underperforming', 'underpin', 'underpinnings', 'underrepresented', 'understand', 'understandable', 'understanding', 'understands', 'understood', 'undertake', 'undertaken', 'undertaking', 'underwriting', 'undue', 'unearth', 'unemployment', 'unexpected', 'unfamiliar', 'unfurnished', 'unicorns', 'unified', 'uniformed', 'uniformity', 'unify', 'unifying', 'unimagined', 'union', 'unions', 'unique', 'uniquely', 'uniqueness', 'unison', 'unit', 'united', 'unitedhealth', 'unitedhealthcare', 'unites', 'units', 'univariate', 'universal', 'universally', 'universe', 'universities', 'university', 'unix', 'unknown', 'unknowns', 'unl', 'unlawful', 'unleashing', 'unless', 'unlikely', 'unlimited', 'unlock', 'unlocking', 'unlocks', 'unmatched', 'unmet', 'unnecessary', 'unparalleled', 'unprecedented', 'unpredictable', 'unquestioned', 'unrelated', 'unrivaled', 'unsecured', 'unseen', 'unsolicited', 'unsolved', 'unstructured', 'unsupervised', 'untapped', 'until', 'unusually', 'unwavering', 'unwilling', 'unwind', 'up', 'upbeat', 'upcoming', 'update', 'updated', 'updates', 'updating', 'upfront', 'upgrade', 'upgrades', 'upholding', 'uploaded', 'upon', 'upper', 'upside', 'upstream', 'uptick', 'urban', 'urgency', 'urgent', 'urgently', 'urt1', 'us', 'usa', 'usaa', 'usable', 'usage', 'usd', 'use', 'used', 'useful', 'usemploymentcompliance', 'user', 'users', 'uses', 'usher', 'usinfosys', 'using', 'usingprogramming', 'usstratcom', 'ustranscom', 'usually', 'utah', 'utica', 'utilities', 'utility', 'utilization', 'utilize', 'utilized', 'utilizes', 'utilizing', 'utilizingapplicable', 'utm', 'ux', 'v1', 'va', 'vacancies', 'vacation', 'vacations', 'vague', 'valid', 'validate', 'validated', 'validating', 'validation', 'validationexperience', 'validity', 'valley', 'valuable', 'value', 'valued', 'values', 'valuing', 'vanishing', 'variable', 'variables', 'variance', 'variancecollaborate', 'variation', 'variational', 'varied', 'varies', 'variety', 'various', 'vary', 'varying', 'vast', 'vastly', 'vba', 'vc', 'vcs', 've', 'vector', 'vectorizing', 'vectors', 'vehicle', 'vehicles', 'velocity', 'vendor', 'vendors', 'venrock', 'venture', 'ventures', 'verb', 'verbal', 'verbally', 'verification', 'verified', 'verifies', 'verify', 'verifying', 'verily', 'verizon', 'vermont', 'versa', 'versant', 'versatile', 'versatility', 'versed', 'version', 'versioning', 'versus', 'vertica', 'vertical', 'verticals', 'very', 'vet', 'veteran', 'veterans', 'vets', 'vh1', 'via', 'viability', 'viable', 'viacom', 'viagogo', 'vibrant', 'vice', 'victim', 'victories', 'video', 'videoiq', 'videos', 'view', 'viewability', 'viewable', 'viewer', 'viewers', 'viewing', 'viewpoints', 'views', 'vigilant', 'village', 'violate', 'violations', 'violence', 'virginia', 'virtual', 'virtualization', 'virtually', 'virtue', 'virtues', 'viruses', 'visa', 'visas', 'visibility', 'visible', 'vision', 'visionaries', 'visionary', 'visionpush', 'visit', 'visitation', 'visiting', 'visits', 'visual', 'visualisations', 'visualization', 'visualizations', 'visualizationsexperience', 'visualizationstrong', 'visualize', 'visualizes', 'visualizing', 'visually', 'visuals', 'vital', 'vitamin', 'vitamins', 'vizio', 'vlookup', 'vms', 'vmware', 'voice', 'voices', 'voiding', 'volume', 'volumes', 'volunteer', 'volunteering', 'volunteerism', 'vosb', 'voscal', 'vowpal', 'vp', 'vps', 'vr', 'vs', 'vudu', 'w2', 'wa', 'wabbit', 'wacker', 'wages', 'wagging', 'wait', 'waiting', 'waitr', 'waitrapp', 'wakefield', 'walk', 'walking', 'wall', 'walled', 'wallet', 'walls', 'walmart', 'walmartlabs', 'want', 'wanted', 'wants', 'warehouse', 'warehouses', 'warehousing', 'warehousingdata', 'warn', 'warner', 'warning', 'warrant', 'warranties', 'warranty', 'warrior', 'was', 'washington', 'waste', 'water', 'waterfall', 'waterfront', 'waters', 'watershed', 'watson', 'waukesha', 'wave', 'way', 'ways', 'wdatpeppres', 'wdatpred', 'we', 'weaklings', 'wealth', 'wear', 'wearable', 'weather', 'web', 'webrtc', 'webscraping', 'website', 'websites', 'websockets', 'wednesday', 'wednesdays', 'week', 'weekday', 'weekends', 'weekly', 'weeks', 'weighted', 'weka', 'welcome', 'welcomed', 'welcomes', 'welcoming', 'welding', 'well', 'wellbeing', 'wellness', 'were', 'west', 'westlake', 'westrock', 'wetlands', 'wework', 'wfh', 'wfs', 'what', 'whatever', 'whatsapp', 'whd', 'when', 'whenever', 'where', 'wherever', 'whether', 'which', 'while', 'whilst', 'white', 'whiz', 'who', 'whole', 'wholesome', 'wholly', 'whom', 'whose', 'why', 'wide', 'widely', 'wider', 'widespread', 'wild', 'wildlife', 'will', 'williams', 'willing', 'willingness', 'win', 'windowing', 'windows', 'winners', 'winning', 'wipro', 'wire', 'wireless', 'wireline', 'wisconsin', 'wisdom', 'wish', 'with', 'withdraw', 'within', 'without', 'wizard', 'wm', 'wolferman', 'women', 'won', 'worcester', 'word', 'word2vec', 'words', 'work', 'workday', 'worked', 'worker', 'workers', 'workersdevelop', 'workflow', 'workflows', 'workforce', 'working', 'workings', 'workload', 'workplace', 'works', 'workshops', 'workspace', 'world', 'worldgrid', 'worldline', 'worldwide', 'worth', 'wotif', 'would', 'wrangle', 'wrangler', 'wrangles', 'wrangling', 'wrapped', 'write', 'writers', 'writing', 'written', 'writtenproven', 'wrk', 'wwe', 'www', 'x81ciency', 'x81eld', 'x81nd', 'x81ndings', 'x81table', 'x82', 'x84', 'x8bthis', 'x8bwe', 'x90if', 'x90paced', 'x94', 'x9414', 'x94a', 'x94and', 'x94by', 'x94combined', 'x94cryptocurrencies', 'x94e', 'x94have', 'x94how', 'x94including', 'x94is', 'x94it', 'x94no', 'x94not', 'x94stands', 'x94such', 'x94supporting', 'x94the', 'x94to', 'x94typically', 'x94unlocking', 'x94we', 'x94you', 'x9c', 'x9cbang', 'x9cbest', 'x9cbig', 'x9cchristmas', 'x9ccustomer', 'x9cget', 'x9chave', 'x9chr', 'x9cinnovate', 'x9clive', 'x9cmachine', 'x9cmake', 'x9cpassion', 'x9cpeople', 'x9cplant', 'x9cpragmatism', 'x9cprovide', 'x9cquality', 'x9creasonable', 'x9crivr', 'x9cscientific', 'x9cscorecards', 'x9cstem', 'x9cstorytelling', 'x9csubject', 'x9csurge', 'x9cteam', 'x9cthe', 'x9ctop', 'x9ctraditional', 'x9cvirtual', 'x9cwe', 'x9cwhole', 'x9cwhy', 'x9cwin', 'x9cwork', 'x9cwow', 'x9cwowing', 'xa0', 'xa2', 'xa6', 'xa6and', 'xa6apple', 'xa6curious', 'xa6protect', 'xa6rapidly', 'xa7', 'xa8ve', 'xa9', 'xa9al', 'xa9cor', 'xac', 'xae', 'xb7', 'xb7experience', 'xb7identify', 'xb7knowledge', 'xbb', 'xbf', 'xbox', 'xc3', 'xgboost', 'xp', 'xpo', 'yards', 'year', 'yeara', 'yearas', 'yearcollects', 'yeardescription', 'yearjob', 'yearlrs', 'years', 'yearsexperience', 'yearsummary', 'yearthe', 'yeartitle', 'yearworking', 'yes', 'yet', 'yeti', 'yield', 'york', 'you', 'young', 'your', 'yours', 'yourself', 'youtube', 'yrs', 'zenreach', 'zero', 'zeus', 'zf', 'zheng', 'zillow', 'zogsports', 'zones', 'zoom', 'zuckerberg', 'zurich']\n"
     ]
    }
   ],
   "source": [
    "print(cv.get_feature_names())"
   ]
  },
  {
   "cell_type": "markdown",
   "metadata": {
    "colab_type": "text",
    "id": "Zo1iH_UeY7_n"
   },
   "source": [
    "## 4) Visualize the most common word counts"
   ]
  },
  {
   "cell_type": "code",
   "execution_count": 43,
   "metadata": {
    "colab": {},
    "colab_type": "code",
    "id": "M5LB00uyZKV5"
   },
   "outputs": [
    {
     "data": {
      "text/plain": [
       "<AxesSubplot:>"
      ]
     },
     "execution_count": 43,
     "metadata": {},
     "output_type": "execute_result"
    },
    {
     "data": {
      "image/png": "[encoded data removed]",
      "text/plain": [
       "<Figure size 432x288 with 1 Axes>"
      ]
     },
     "metadata": {
      "needs_background": "light"
     },
     "output_type": "display_data"
    }
   ],
   "source": [
    "vect = CountVectorizer(stop_words='english', max_features=10)\n",
    "data = list(df['parsed'])\n",
    "#Learn our Vocab\n",
    "vect.fit(data)\n",
    "\n",
    "# Get sparse dtm\n",
    "dtm = vect.transform(data)\n",
    "\n",
    "dtm = pd.DataFrame(dtm.todense(), columns=vect.get_feature_names())\n",
    "doc_len = [len(doc) for doc in data]\n",
    "sns.distplot(doc_len)"
   ]
  },
  {
   "cell_type": "markdown",
   "metadata": {
    "colab_type": "text",
    "id": "bwFsTqrVZMYi"
   },
   "source": [
    "## 5) Use Scikit-Learn's tfidfVectorizer to get a TF-IDF feature matrix"
   ]
  },
  {
   "cell_type": "code",
   "execution_count": 81,
   "metadata": {
    "colab": {},
    "colab_type": "code",
    "id": "-gx2gZCbl5Np"
   },
   "outputs": [
    {
     "data": {
      "text/html": [
       "<div>\n",
       "<style scoped>\n",
       "    .dataframe tbody tr th:only-of-type {\n",
       "        vertical-align: middle;\n",
       "    }\n",
       "\n",
       "    .dataframe tbody tr th {\n",
       "        vertical-align: top;\n",
       "    }\n",
       "\n",
       "    .dataframe thead th {\n",
       "        text-align: right;\n",
       "    }\n",
       "</style>\n",
       "<table border=\"1\" class=\"dataframe\">\n",
       "  <thead>\n",
       "    <tr style=\"text-align: right;\">\n",
       "      <th></th>\n",
       "      <th>ability</th>\n",
       "      <th>able</th>\n",
       "      <th>access</th>\n",
       "      <th>achieve</th>\n",
       "      <th>action</th>\n",
       "      <th>actionable</th>\n",
       "      <th>ad</th>\n",
       "      <th>additional</th>\n",
       "      <th>address</th>\n",
       "      <th>advanced</th>\n",
       "      <th>...</th>\n",
       "      <th>work</th>\n",
       "      <th>working</th>\n",
       "      <th>workplace</th>\n",
       "      <th>works</th>\n",
       "      <th>world</th>\n",
       "      <th>writing</th>\n",
       "      <th>written</th>\n",
       "      <th>www</th>\n",
       "      <th>year</th>\n",
       "      <th>years</th>\n",
       "    </tr>\n",
       "  </thead>\n",
       "  <tbody>\n",
       "    <tr>\n",
       "      <th>211</th>\n",
       "      <td>0.000000</td>\n",
       "      <td>0.000000</td>\n",
       "      <td>0.000000</td>\n",
       "      <td>0.000000</td>\n",
       "      <td>0.064630</td>\n",
       "      <td>0.000000</td>\n",
       "      <td>0.000000</td>\n",
       "      <td>0.000000</td>\n",
       "      <td>0.000000</td>\n",
       "      <td>0.040648</td>\n",
       "      <td>...</td>\n",
       "      <td>0.076868</td>\n",
       "      <td>0.033771</td>\n",
       "      <td>0.066118</td>\n",
       "      <td>0.0</td>\n",
       "      <td>0.000000</td>\n",
       "      <td>0.000000</td>\n",
       "      <td>0.048370</td>\n",
       "      <td>0.0</td>\n",
       "      <td>0.000000</td>\n",
       "      <td>0.030963</td>\n",
       "    </tr>\n",
       "    <tr>\n",
       "      <th>328</th>\n",
       "      <td>0.000000</td>\n",
       "      <td>0.000000</td>\n",
       "      <td>0.096145</td>\n",
       "      <td>0.000000</td>\n",
       "      <td>0.000000</td>\n",
       "      <td>0.000000</td>\n",
       "      <td>0.000000</td>\n",
       "      <td>0.000000</td>\n",
       "      <td>0.000000</td>\n",
       "      <td>0.120938</td>\n",
       "      <td>...</td>\n",
       "      <td>0.038117</td>\n",
       "      <td>0.050239</td>\n",
       "      <td>0.000000</td>\n",
       "      <td>0.0</td>\n",
       "      <td>0.000000</td>\n",
       "      <td>0.000000</td>\n",
       "      <td>0.000000</td>\n",
       "      <td>0.0</td>\n",
       "      <td>0.000000</td>\n",
       "      <td>0.046062</td>\n",
       "    </tr>\n",
       "    <tr>\n",
       "      <th>15</th>\n",
       "      <td>0.000000</td>\n",
       "      <td>0.000000</td>\n",
       "      <td>0.000000</td>\n",
       "      <td>0.000000</td>\n",
       "      <td>0.071822</td>\n",
       "      <td>0.000000</td>\n",
       "      <td>0.000000</td>\n",
       "      <td>0.000000</td>\n",
       "      <td>0.000000</td>\n",
       "      <td>0.000000</td>\n",
       "      <td>...</td>\n",
       "      <td>0.113895</td>\n",
       "      <td>0.000000</td>\n",
       "      <td>0.000000</td>\n",
       "      <td>0.0</td>\n",
       "      <td>0.000000</td>\n",
       "      <td>0.150499</td>\n",
       "      <td>0.000000</td>\n",
       "      <td>0.0</td>\n",
       "      <td>0.000000</td>\n",
       "      <td>0.034409</td>\n",
       "    </tr>\n",
       "    <tr>\n",
       "      <th>178</th>\n",
       "      <td>0.042962</td>\n",
       "      <td>0.000000</td>\n",
       "      <td>0.000000</td>\n",
       "      <td>0.000000</td>\n",
       "      <td>0.000000</td>\n",
       "      <td>0.000000</td>\n",
       "      <td>0.000000</td>\n",
       "      <td>0.000000</td>\n",
       "      <td>0.000000</td>\n",
       "      <td>0.051172</td>\n",
       "      <td>...</td>\n",
       "      <td>0.064513</td>\n",
       "      <td>0.000000</td>\n",
       "      <td>0.000000</td>\n",
       "      <td>0.0</td>\n",
       "      <td>0.000000</td>\n",
       "      <td>0.000000</td>\n",
       "      <td>0.000000</td>\n",
       "      <td>0.0</td>\n",
       "      <td>0.000000</td>\n",
       "      <td>0.077960</td>\n",
       "    </tr>\n",
       "    <tr>\n",
       "      <th>292</th>\n",
       "      <td>0.000000</td>\n",
       "      <td>0.000000</td>\n",
       "      <td>0.000000</td>\n",
       "      <td>0.080266</td>\n",
       "      <td>0.000000</td>\n",
       "      <td>0.000000</td>\n",
       "      <td>0.000000</td>\n",
       "      <td>0.000000</td>\n",
       "      <td>0.000000</td>\n",
       "      <td>0.000000</td>\n",
       "      <td>...</td>\n",
       "      <td>0.064347</td>\n",
       "      <td>0.000000</td>\n",
       "      <td>0.000000</td>\n",
       "      <td>0.0</td>\n",
       "      <td>0.000000</td>\n",
       "      <td>0.000000</td>\n",
       "      <td>0.000000</td>\n",
       "      <td>0.0</td>\n",
       "      <td>0.000000</td>\n",
       "      <td>0.116639</td>\n",
       "    </tr>\n",
       "    <tr>\n",
       "      <th>92</th>\n",
       "      <td>0.048557</td>\n",
       "      <td>0.155608</td>\n",
       "      <td>0.045980</td>\n",
       "      <td>0.000000</td>\n",
       "      <td>0.045980</td>\n",
       "      <td>0.000000</td>\n",
       "      <td>0.046767</td>\n",
       "      <td>0.043392</td>\n",
       "      <td>0.048471</td>\n",
       "      <td>0.057837</td>\n",
       "      <td>...</td>\n",
       "      <td>0.109373</td>\n",
       "      <td>0.000000</td>\n",
       "      <td>0.000000</td>\n",
       "      <td>0.0</td>\n",
       "      <td>0.000000</td>\n",
       "      <td>0.000000</td>\n",
       "      <td>0.034412</td>\n",
       "      <td>0.0</td>\n",
       "      <td>0.000000</td>\n",
       "      <td>0.022028</td>\n",
       "    </tr>\n",
       "    <tr>\n",
       "      <th>289</th>\n",
       "      <td>0.000000</td>\n",
       "      <td>0.000000</td>\n",
       "      <td>0.000000</td>\n",
       "      <td>0.000000</td>\n",
       "      <td>0.000000</td>\n",
       "      <td>0.000000</td>\n",
       "      <td>0.000000</td>\n",
       "      <td>0.000000</td>\n",
       "      <td>0.000000</td>\n",
       "      <td>0.000000</td>\n",
       "      <td>...</td>\n",
       "      <td>0.050006</td>\n",
       "      <td>0.065910</td>\n",
       "      <td>0.000000</td>\n",
       "      <td>0.0</td>\n",
       "      <td>0.146407</td>\n",
       "      <td>0.000000</td>\n",
       "      <td>0.000000</td>\n",
       "      <td>0.0</td>\n",
       "      <td>0.000000</td>\n",
       "      <td>0.060429</td>\n",
       "    </tr>\n",
       "    <tr>\n",
       "      <th>213</th>\n",
       "      <td>0.020341</td>\n",
       "      <td>0.000000</td>\n",
       "      <td>0.000000</td>\n",
       "      <td>0.000000</td>\n",
       "      <td>0.000000</td>\n",
       "      <td>0.000000</td>\n",
       "      <td>0.000000</td>\n",
       "      <td>0.000000</td>\n",
       "      <td>0.081220</td>\n",
       "      <td>0.072684</td>\n",
       "      <td>...</td>\n",
       "      <td>0.015272</td>\n",
       "      <td>0.020129</td>\n",
       "      <td>0.000000</td>\n",
       "      <td>0.0</td>\n",
       "      <td>0.000000</td>\n",
       "      <td>0.040361</td>\n",
       "      <td>0.028831</td>\n",
       "      <td>0.0</td>\n",
       "      <td>0.000000</td>\n",
       "      <td>0.018455</td>\n",
       "    </tr>\n",
       "    <tr>\n",
       "      <th>160</th>\n",
       "      <td>0.054538</td>\n",
       "      <td>0.000000</td>\n",
       "      <td>0.000000</td>\n",
       "      <td>0.000000</td>\n",
       "      <td>0.000000</td>\n",
       "      <td>0.000000</td>\n",
       "      <td>0.000000</td>\n",
       "      <td>0.000000</td>\n",
       "      <td>0.000000</td>\n",
       "      <td>0.000000</td>\n",
       "      <td>...</td>\n",
       "      <td>0.122844</td>\n",
       "      <td>0.053970</td>\n",
       "      <td>0.000000</td>\n",
       "      <td>0.0</td>\n",
       "      <td>0.059943</td>\n",
       "      <td>0.000000</td>\n",
       "      <td>0.000000</td>\n",
       "      <td>0.0</td>\n",
       "      <td>0.000000</td>\n",
       "      <td>0.049483</td>\n",
       "    </tr>\n",
       "    <tr>\n",
       "      <th>222</th>\n",
       "      <td>0.000000</td>\n",
       "      <td>0.000000</td>\n",
       "      <td>0.000000</td>\n",
       "      <td>0.000000</td>\n",
       "      <td>0.000000</td>\n",
       "      <td>0.000000</td>\n",
       "      <td>0.000000</td>\n",
       "      <td>0.000000</td>\n",
       "      <td>0.000000</td>\n",
       "      <td>0.000000</td>\n",
       "      <td>...</td>\n",
       "      <td>0.046970</td>\n",
       "      <td>0.030954</td>\n",
       "      <td>0.000000</td>\n",
       "      <td>0.0</td>\n",
       "      <td>0.034379</td>\n",
       "      <td>0.000000</td>\n",
       "      <td>0.000000</td>\n",
       "      <td>0.0</td>\n",
       "      <td>0.000000</td>\n",
       "      <td>0.028380</td>\n",
       "    </tr>\n",
       "    <tr>\n",
       "      <th>412</th>\n",
       "      <td>0.042907</td>\n",
       "      <td>0.000000</td>\n",
       "      <td>0.000000</td>\n",
       "      <td>0.000000</td>\n",
       "      <td>0.000000</td>\n",
       "      <td>0.000000</td>\n",
       "      <td>0.000000</td>\n",
       "      <td>0.000000</td>\n",
       "      <td>0.000000</td>\n",
       "      <td>0.051106</td>\n",
       "      <td>...</td>\n",
       "      <td>0.161074</td>\n",
       "      <td>0.000000</td>\n",
       "      <td>0.000000</td>\n",
       "      <td>0.0</td>\n",
       "      <td>0.094317</td>\n",
       "      <td>0.000000</td>\n",
       "      <td>0.060814</td>\n",
       "      <td>0.0</td>\n",
       "      <td>0.083129</td>\n",
       "      <td>0.038929</td>\n",
       "    </tr>\n",
       "    <tr>\n",
       "      <th>113</th>\n",
       "      <td>0.152583</td>\n",
       "      <td>0.000000</td>\n",
       "      <td>0.000000</td>\n",
       "      <td>0.000000</td>\n",
       "      <td>0.000000</td>\n",
       "      <td>0.000000</td>\n",
       "      <td>0.097971</td>\n",
       "      <td>0.090901</td>\n",
       "      <td>0.000000</td>\n",
       "      <td>0.060580</td>\n",
       "      <td>...</td>\n",
       "      <td>0.000000</td>\n",
       "      <td>0.000000</td>\n",
       "      <td>0.000000</td>\n",
       "      <td>0.0</td>\n",
       "      <td>0.000000</td>\n",
       "      <td>0.000000</td>\n",
       "      <td>0.072089</td>\n",
       "      <td>0.0</td>\n",
       "      <td>0.000000</td>\n",
       "      <td>0.046146</td>\n",
       "    </tr>\n",
       "    <tr>\n",
       "      <th>83</th>\n",
       "      <td>0.000000</td>\n",
       "      <td>0.000000</td>\n",
       "      <td>0.000000</td>\n",
       "      <td>0.000000</td>\n",
       "      <td>0.059311</td>\n",
       "      <td>0.000000</td>\n",
       "      <td>0.000000</td>\n",
       "      <td>0.000000</td>\n",
       "      <td>0.000000</td>\n",
       "      <td>0.074605</td>\n",
       "      <td>...</td>\n",
       "      <td>0.070541</td>\n",
       "      <td>0.000000</td>\n",
       "      <td>0.000000</td>\n",
       "      <td>0.0</td>\n",
       "      <td>0.034421</td>\n",
       "      <td>0.000000</td>\n",
       "      <td>0.044389</td>\n",
       "      <td>0.0</td>\n",
       "      <td>0.060676</td>\n",
       "      <td>0.000000</td>\n",
       "    </tr>\n",
       "    <tr>\n",
       "      <th>54</th>\n",
       "      <td>0.000000</td>\n",
       "      <td>0.000000</td>\n",
       "      <td>0.000000</td>\n",
       "      <td>0.000000</td>\n",
       "      <td>0.000000</td>\n",
       "      <td>0.000000</td>\n",
       "      <td>0.000000</td>\n",
       "      <td>0.000000</td>\n",
       "      <td>0.000000</td>\n",
       "      <td>0.000000</td>\n",
       "      <td>...</td>\n",
       "      <td>0.084256</td>\n",
       "      <td>0.000000</td>\n",
       "      <td>0.000000</td>\n",
       "      <td>0.0</td>\n",
       "      <td>0.123341</td>\n",
       "      <td>0.074223</td>\n",
       "      <td>0.000000</td>\n",
       "      <td>0.0</td>\n",
       "      <td>0.000000</td>\n",
       "      <td>0.033939</td>\n",
       "    </tr>\n",
       "    <tr>\n",
       "      <th>260</th>\n",
       "      <td>0.000000</td>\n",
       "      <td>0.000000</td>\n",
       "      <td>0.000000</td>\n",
       "      <td>0.000000</td>\n",
       "      <td>0.000000</td>\n",
       "      <td>0.000000</td>\n",
       "      <td>0.000000</td>\n",
       "      <td>0.000000</td>\n",
       "      <td>0.118625</td>\n",
       "      <td>0.000000</td>\n",
       "      <td>...</td>\n",
       "      <td>0.000000</td>\n",
       "      <td>0.000000</td>\n",
       "      <td>0.000000</td>\n",
       "      <td>0.0</td>\n",
       "      <td>0.000000</td>\n",
       "      <td>0.000000</td>\n",
       "      <td>0.084217</td>\n",
       "      <td>0.0</td>\n",
       "      <td>0.000000</td>\n",
       "      <td>0.053910</td>\n",
       "    </tr>\n",
       "    <tr>\n",
       "      <th>379</th>\n",
       "      <td>0.067349</td>\n",
       "      <td>0.000000</td>\n",
       "      <td>0.000000</td>\n",
       "      <td>0.063076</td>\n",
       "      <td>0.063774</td>\n",
       "      <td>0.114215</td>\n",
       "      <td>0.000000</td>\n",
       "      <td>0.000000</td>\n",
       "      <td>0.000000</td>\n",
       "      <td>0.000000</td>\n",
       "      <td>...</td>\n",
       "      <td>0.126417</td>\n",
       "      <td>0.033324</td>\n",
       "      <td>0.000000</td>\n",
       "      <td>0.0</td>\n",
       "      <td>0.074024</td>\n",
       "      <td>0.000000</td>\n",
       "      <td>0.000000</td>\n",
       "      <td>0.0</td>\n",
       "      <td>0.000000</td>\n",
       "      <td>0.030553</td>\n",
       "    </tr>\n",
       "    <tr>\n",
       "      <th>268</th>\n",
       "      <td>0.063260</td>\n",
       "      <td>0.000000</td>\n",
       "      <td>0.000000</td>\n",
       "      <td>0.000000</td>\n",
       "      <td>0.000000</td>\n",
       "      <td>0.000000</td>\n",
       "      <td>0.000000</td>\n",
       "      <td>0.000000</td>\n",
       "      <td>0.042099</td>\n",
       "      <td>0.025116</td>\n",
       "      <td>...</td>\n",
       "      <td>0.047497</td>\n",
       "      <td>0.020867</td>\n",
       "      <td>0.000000</td>\n",
       "      <td>0.0</td>\n",
       "      <td>0.069529</td>\n",
       "      <td>0.000000</td>\n",
       "      <td>0.000000</td>\n",
       "      <td>0.0</td>\n",
       "      <td>0.040854</td>\n",
       "      <td>0.000000</td>\n",
       "    </tr>\n",
       "  </tbody>\n",
       "</table>\n",
       "<p>17 rows × 500 columns</p>\n",
       "</div>"
      ],
      "text/plain": [
       "      ability      able    access   achieve    action  actionable        ad  \\\n",
       "211  0.000000  0.000000  0.000000  0.000000  0.064630    0.000000  0.000000   \n",
       "328  0.000000  0.000000  0.096145  0.000000  0.000000    0.000000  0.000000   \n",
       "15   0.000000  0.000000  0.000000  0.000000  0.071822    0.000000  0.000000   \n",
       "178  0.042962  0.000000  0.000000  0.000000  0.000000    0.000000  0.000000   \n",
       "292  0.000000  0.000000  0.000000  0.080266  0.000000    0.000000  0.000000   \n",
       "92   0.048557  0.155608  0.045980  0.000000  0.045980    0.000000  0.046767   \n",
       "289  0.000000  0.000000  0.000000  0.000000  0.000000    0.000000  0.000000   \n",
       "213  0.020341  0.000000  0.000000  0.000000  0.000000    0.000000  0.000000   \n",
       "160  0.054538  0.000000  0.000000  0.000000  0.000000    0.000000  0.000000   \n",
       "222  0.000000  0.000000  0.000000  0.000000  0.000000    0.000000  0.000000   \n",
       "412  0.042907  0.000000  0.000000  0.000000  0.000000    0.000000  0.000000   \n",
       "113  0.152583  0.000000  0.000000  0.000000  0.000000    0.000000  0.097971   \n",
       "83   0.000000  0.000000  0.000000  0.000000  0.059311    0.000000  0.000000   \n",
       "54   0.000000  0.000000  0.000000  0.000000  0.000000    0.000000  0.000000   \n",
       "260  0.000000  0.000000  0.000000  0.000000  0.000000    0.000000  0.000000   \n",
       "379  0.067349  0.000000  0.000000  0.063076  0.063774    0.114215  0.000000   \n",
       "268  0.063260  0.000000  0.000000  0.000000  0.000000    0.000000  0.000000   \n",
       "\n",
       "     additional   address  advanced  ...      work   working  workplace  \\\n",
       "211    0.000000  0.000000  0.040648  ...  0.076868  0.033771   0.066118   \n",
       "328    0.000000  0.000000  0.120938  ...  0.038117  0.050239   0.000000   \n",
       "15     0.000000  0.000000  0.000000  ...  0.113895  0.000000   0.000000   \n",
       "178    0.000000  0.000000  0.051172  ...  0.064513  0.000000   0.000000   \n",
       "292    0.000000  0.000000  0.000000  ...  0.064347  0.000000   0.000000   \n",
       "92     0.043392  0.048471  0.057837  ...  0.109373  0.000000   0.000000   \n",
       "289    0.000000  0.000000  0.000000  ...  0.050006  0.065910   0.000000   \n",
       "213    0.000000  0.081220  0.072684  ...  0.015272  0.020129   0.000000   \n",
       "160    0.000000  0.000000  0.000000  ...  0.122844  0.053970   0.000000   \n",
       "222    0.000000  0.000000  0.000000  ...  0.046970  0.030954   0.000000   \n",
       "412    0.000000  0.000000  0.051106  ...  0.161074  0.000000   0.000000   \n",
       "113    0.090901  0.000000  0.060580  ...  0.000000  0.000000   0.000000   \n",
       "83     0.000000  0.000000  0.074605  ...  0.070541  0.000000   0.000000   \n",
       "54     0.000000  0.000000  0.000000  ...  0.084256  0.000000   0.000000   \n",
       "260    0.000000  0.118625  0.000000  ...  0.000000  0.000000   0.000000   \n",
       "379    0.000000  0.000000  0.000000  ...  0.126417  0.033324   0.000000   \n",
       "268    0.000000  0.042099  0.025116  ...  0.047497  0.020867   0.000000   \n",
       "\n",
       "     works     world   writing   written  www      year     years  \n",
       "211    0.0  0.000000  0.000000  0.048370  0.0  0.000000  0.030963  \n",
       "328    0.0  0.000000  0.000000  0.000000  0.0  0.000000  0.046062  \n",
       "15     0.0  0.000000  0.150499  0.000000  0.0  0.000000  0.034409  \n",
       "178    0.0  0.000000  0.000000  0.000000  0.0  0.000000  0.077960  \n",
       "292    0.0  0.000000  0.000000  0.000000  0.0  0.000000  0.116639  \n",
       "92     0.0  0.000000  0.000000  0.034412  0.0  0.000000  0.022028  \n",
       "289    0.0  0.146407  0.000000  0.000000  0.0  0.000000  0.060429  \n",
       "213    0.0  0.000000  0.040361  0.028831  0.0  0.000000  0.018455  \n",
       "160    0.0  0.059943  0.000000  0.000000  0.0  0.000000  0.049483  \n",
       "222    0.0  0.034379  0.000000  0.000000  0.0  0.000000  0.028380  \n",
       "412    0.0  0.094317  0.000000  0.060814  0.0  0.083129  0.038929  \n",
       "113    0.0  0.000000  0.000000  0.072089  0.0  0.000000  0.046146  \n",
       "83     0.0  0.034421  0.000000  0.044389  0.0  0.060676  0.000000  \n",
       "54     0.0  0.123341  0.074223  0.000000  0.0  0.000000  0.033939  \n",
       "260    0.0  0.000000  0.000000  0.084217  0.0  0.000000  0.053910  \n",
       "379    0.0  0.074024  0.000000  0.000000  0.0  0.000000  0.030553  \n",
       "268    0.0  0.069529  0.000000  0.000000  0.0  0.040854  0.000000  \n",
       "\n",
       "[17 rows x 500 columns]"
      ]
     },
     "execution_count": 81,
     "metadata": {},
     "output_type": "execute_result"
    }
   ],
   "source": [
    "##data = list(df['parsed'])\n",
    "tfidf = TfidfVectorizer(stop_words='english', max_features=500)\n",
    "dtm2 = tfidf.fit_transform(data)\n",
    "dtm2 = pd.DataFrame(dtm2.todense(), columns=tfidf.get_feature_names())\n",
    "dtm2.sample(17)"
   ]
  },
  {
   "cell_type": "markdown",
   "metadata": {},
   "source": [
    "## 6) Create a NearestNeighbor Model. Write the description of your ideal datascience job and query your job listings. "
   ]
  },
  {
   "cell_type": "code",
   "execution_count": 82,
   "metadata": {
    "collapsed": false,
    "inputHidden": false,
    "jupyter": {
     "outputs_hidden": false
    },
    "outputHidden": false
   },
   "outputs": [
    {
     "data": {
      "text/plain": [
       "'Job Requirements  Conceptual understanding in Machine Learning models like Nai  xa8ve Bayes  K Means  SVM  Apriori  Linear  Logistic Regression  Neural  Random Forests  Decision Trees  K NN along with'"
      ]
     },
     "execution_count": 82,
     "metadata": {},
     "output_type": "execute_result"
    }
   ],
   "source": [
    "data[0][:200]"
   ]
  },
  {
   "cell_type": "code",
   "execution_count": 83,
   "metadata": {},
   "outputs": [
    {
     "data": {
      "text/plain": [
       "NearestNeighbors(algorithm='kd_tree', leaf_size=30, metric='minkowski',\n",
       "                 metric_params=None, n_jobs=None, n_neighbors=5, p=2,\n",
       "                 radius=1.0)"
      ]
     },
     "execution_count": 83,
     "metadata": {},
     "output_type": "execute_result"
    }
   ],
   "source": [
    "nn = NearestNeighbors(n_neighbors= 5, algorithm='kd_tree')\n",
    "nn.fit(dtm2)"
   ]
  },
  {
   "cell_type": "code",
   "execution_count": 84,
   "metadata": {},
   "outputs": [
    {
     "data": {
      "text/plain": [
       "(array([[0.        , 1.08360511, 1.10283871, 1.10558001, 1.10764876]]),\n",
       " array([[  1, 399, 222, 201, 121]], dtype=int64))"
      ]
     },
     "execution_count": 84,
     "metadata": {},
     "output_type": "execute_result"
    }
   ],
   "source": [
    "nn.kneighbors([dtm2.iloc[1].values]) #returns minkowski dist and doc numbers"
   ]
  },
  {
   "cell_type": "code",
   "execution_count": 85,
   "metadata": {},
   "outputs": [
    {
     "name": "stdout",
     "output_type": "stream",
     "text": [
      "Job Description  As a Data Scientist 1  you will help us build machine learning models  data pipelines  and micro services to help our clients navigate their healthcare journey  You will do so by empo\n",
      " 82 000 a yearThe Innovation Center at Clearwater Analytics solves significant problems with new technology and techniques  The Innovation Center explores and uses machine learning  RPA  blockchain an\n",
      "About the Role     Logic2020 is looking to secure a Data Analyst for a pilot program with a client of ours  The program involves using true machine learning to improve customer care process  at the enterprise level   You will be part of the team proving the value of machine learning in order to bring artificial intelligence into customer care and ultimately  change the way customers are served   About You     This is ideal for someone who has recently moved into the data science space and understands some of the basics  Someone who is excited to learn more and grow as an individual  within a team of experts  You are personable and highly communicative  You will need to be very hands on   You have Python or R  however  this is not required  You are proficient at assessing business requirements  modeling  and gaining an understanding of business metrics You are comfortable communicating technical issues to non technical users You are excellent at communicating over written  verbal  organizational  and presentational channels You excel at being flexible and juggling multiple projects in a fast paced environment You are comfortable working under pressure independently handling multiple projects and deadlines Qualifications 3  years of experience working with SQL queries and accessing data 2  years of consulting experience  preferably at a  Big 4  or similar firm Demonstrated expertise in business analysis and data analysis Experience writing requirements and specifications for IT systems An undergraduate degree in technology or business Come be part of the future   About Us   xa6 Logic20 20 is one of Seattle   s fastest growing full service consulting firms  Our core competency is creating simplicity and efficiency in complex solutions  Although we make it look like magic  we succeed by combining methodical and structured approaches with our substantial experience to design elegant solutions for even the most intricate challenges  Our rapid growth is in response to our ability to deliver co\n"
     ]
    }
   ],
   "source": [
    "print(data[1][:200])\n",
    "print(data[355][:200])\n",
    "print(data[417][:2021])"
   ]
  },
  {
   "cell_type": "code",
   "execution_count": 86,
   "metadata": {},
   "outputs": [
    {
     "data": {
      "text/plain": [
       "<1x500 sparse matrix of type '<class 'numpy.float64'>'\n",
       "\twith 16 stored elements in Compressed Sparse Row format>"
      ]
     },
     "execution_count": 86,
     "metadata": {},
     "output_type": "execute_result"
    }
   ],
   "source": [
    "text = [''' Machine learning models Python coding \n",
    "            language highly self motivated team environment \n",
    "            renewable energy mission to mars make a real \n",
    "            impact on society fast paced remote diversity\n",
    "            8 9 000 logic pandas seaborn github medium post\n",
    "            articles podcast ''']\n",
    "model_food = tfidf.transform(text)\n",
    "model_food"
   ]
  },
  {
   "cell_type": "code",
   "execution_count": 87,
   "metadata": {},
   "outputs": [
    {
     "data": {
      "text/plain": [
       "(array([[1.23326167, 1.23357277, 1.23440999, 1.23853695, 1.24701715]]),\n",
       " array([[311, 302, 417,  56, 121]], dtype=int64))"
      ]
     },
     "execution_count": 87,
     "metadata": {},
     "output_type": "execute_result"
    }
   ],
   "source": [
    "nn.kneighbors(model_food.todense())"
   ]
  },
  {
   "cell_type": "code",
   "execution_count": 88,
   "metadata": {},
   "outputs": [
    {
     "data": {
      "text/plain": [
       "(426, 500)"
      ]
     },
     "execution_count": 88,
     "metadata": {},
     "output_type": "execute_result"
    }
   ],
   "source": [
    "dtm2.shape"
   ]
  },
  {
   "cell_type": "code",
   "execution_count": 89,
   "metadata": {},
   "outputs": [
    {
     "data": {
      "text/plain": [
       "(1, 500)"
      ]
     },
     "execution_count": 89,
     "metadata": {},
     "output_type": "execute_result"
    }
   ],
   "source": [
    "model_food.todense().shape"
   ]
  },
  {
   "cell_type": "code",
   "execution_count": 91,
   "metadata": {},
   "outputs": [
    {
     "name": "stdout",
     "output_type": "stream",
     "text": [
      "  (0, 447)\t0.14075681550646085\n",
      "  (0, 402)\t0.2939626576394262\n",
      "  (0, 369)\t0.2710233421635791\n",
      "  (0, 361)\t0.14211124759950422\n",
      "  (0, 285)\t0.3654394081897132\n",
      "  (0, 284)\t0.17773734644450528\n",
      "  (0, 280)\t0.2939626576394262\n",
      "  (0, 256)\t0.23025706021914746\n",
      "  (0, 254)\t0.1654329690751887\n",
      "  (0, 241)\t0.15206507621546766\n",
      "  (0, 232)\t0.26396220711846424\n",
      "  (0, 201)\t0.23397004934084914\n",
      "  (0, 195)\t0.2774396601207811\n",
      "  (0, 165)\t0.30740386389464286\n",
      "  (0, 149)\t0.21714557903490933\n",
      "  (0, 126)\t0.3194109334185439\n"
     ]
    }
   ],
   "source": [
    "print(model_food)"
   ]
  },
  {
   "cell_type": "code",
   "execution_count": 96,
   "metadata": {},
   "outputs": [
    {
     "name": "stdout",
     "output_type": "stream",
     "text": [
      "The company   AppZen delivers the world   s leading AI platform for modern finance teams  Starting with business spend  we automate manual process  uncover problems  and optimize decision making for enterprises around the globe  including one fourth of the Fortune 500  Our platform combines patented deep learning  computer vision  and semantic analysis with intelligence from thousands of online data sources to understand financial transactions in business context and make decisions before those transactions happen  AppZen is a must have for CFOs and their teams to reduce spend  achieve compliance  and streamline process   We   ve taken off this year  Since we released our platform in 2016  nearly 1 000 enterprises have standardized on AppZen  including three of the top ten banks  four of the top ten media companies  three of the top ten pharmaceutical manufacturers  two of the top five aerospace companies  and five of the top ten software providers  We were a Gartner Cool Vendor last year  have been recognized as one of the fastest growing technology companies in the market  and we just announced  35million in Series B funding   We are looking for a Data Scientist to come and work on our growing AI stack  You will be working with a team of highly skilled and motivated data scientists and machine learning engineers  If you are excited about natural language understanding and machine translation  AppZen is the right place for you to apply and grow your skills  Requirements  Expertise in machine translation transliteration  translation transliteration from multiple languages such as Chinese  German  Spanish and or French to English and vice versa a big plus MS OR PHd in computer science Proven background in machine learning and deep learning including neural machine translation  sequence to sequence models  etc  Hands on experience with deep learning toolkits including Tensorflow  PyTorch  CNTK  Dynet  etc  Ability to formulate a research problem  design  experiment an\n",
      "\n",
      "\n",
      "Fullpower is the technology leader for cloud based IoT and wearable solutions powered by AI  Machine Learning and Data Science  With an extensive IP portfolio  Fullpower s core technology platform lends itself to innovative solutions including the the IoT Smartbed powered by the Sleeptracker  xae platform and distributed by Simmons and Serta and the MotionX  xae sensor fusion solutions distributed by Nike  Movado and others  Fast growing with endless opportunities  come join the the Fullpower world class team   Fullpower is looking for a passionate  team oriented  and self motivated Data Scientist Applied Mathematician  Responsibilities  Work with health data and time series sensor data Design machine learning and statistical models and inference algorithms Develop visualizations and tools for understanding and annotating data Optimize algorithms for running on embedded devices and in the cloud Collaborate with an interdisciplinary team of scientists  engineers  mathematicians for quick deployment of solutions Software skills  Expertise in Python and packages such as Pandas  Scikit learn  etc  Experience working with databases including familiarity with SQL Experience with a deep learning framework such as Tensorflow  pyTorch  or equivalent Experience with Amazon Web Services  AWS  or Google Cloud is a plus Leadership qualities  Self starter Strong interpersonal and communication skills Education  Bachelor   s degree or higher in Mathematics  Statistics  Physics  Computer Science  or equivalent Experience  Experience applying data science and machine learning to real world problems Other requirements  Fullpower does not sponsor work visas   must already be authorized to work in the United States \n",
      "\n",
      "\n",
      "About the Role     Logic2020 is looking to secure a Data Analyst for a pilot program with a client of ours  The program involves using true machine learning to improve customer care process  at the enterprise level   You will be part of the team proving the value of machine learning in order to bring artificial intelligence into customer care and ultimately  change the way customers are served   About You     This is ideal for someone who has recently moved into the data science space and understands some of the basics  Someone who is excited to learn more and grow as an individual  within a team of experts  You are personable and highly communicative  You will need to be very hands on   You have Python or R  however  this is not required  You are proficient at assessing business requirements  modeling  and gaining an understanding of business metrics You are comfortable communicating technical issues to non technical users You are excellent at communicating over written  verbal  organizational  and presentational channels You excel at being flexible and juggling multiple projects in a fast paced environment You are comfortable working under pressure independently handling multiple projects and deadlines Qualifications 3  years of experience working with SQL queries and accessing data 2  years of consulting experience  preferably at a  Big 4  or similar firm Demonstrated expertise in business analysis and data analysis Experience writing requirements and specifications for IT systems An undergraduate degree in technology or business Come be part of the future   About Us   xa6 Logic20 20 is one of Seattle   s fastest growing full service consulting firms  Our core competency is creating simplicity and efficiency in complex solutions  Although we make it look like magic  we succeed by combining methodical and structured approaches with our substantial experience to design elegant solutions for even the most intricate challenges  Our rapid growth is in response to our \n"
     ]
    }
   ],
   "source": [
    "print(data[311][:2000])\n",
    "print(\"\\n\")\n",
    "print(data[302][:2000])\n",
    "print(\"\\n\")\n",
    "print(data[417][:2000])"
   ]
  },
  {
   "cell_type": "markdown",
   "metadata": {
    "colab_type": "text",
    "id": "FiDfTWceoRkH"
   },
   "source": [
    "## Stretch Goals\n",
    "\n",
    " - Try different visualizations for words and frequencies - what story do you want to tell with the data?\n",
    " - Scrape Job Listings for the job title \"Data Analyst\". How do these differ from Data Scientist Job Listings\n",
    " - Try and identify requirements for experience specific technologies that are asked for in the job listings. How are those distributed among the job listings?\n",
    " - Use a clustering algorithm to cluster documents by their most important terms. Do the clusters reveal any common themes?\n",
    "  - **Hint:** K-means might not be the best algorithm for this. Do a little bit of research to see what might be good for this. Also, remember that algorithms that depend on Euclidean distance break down with high dimensional data.\n",
    " - Create a labeled dataset - which jobs will you apply for? Train a model to select the jobs you are most likely to apply for. :) "
   ]
  }
 ],
 "metadata": {
  "colab": {
   "collapsed_sections": [],
   "name": "LS_DS_422_BOW_Assignment.ipynb",
   "provenance": [],
   "version": "0.3.2"
  },
  "kernel_info": {
   "name": "python3"
  },
  "kernelspec": {
   "display_name": "U4-S1-NLP",
   "language": "python",
   "name": "u4-s1-nlp"
  },
  "language_info": {
   "codemirror_mode": {
    "name": "ipython",
    "version": 3
   },
   "file_extension": ".py",
   "mimetype": "text/x-python",
   "name": "python",
   "nbconvert_exporter": "python",
   "pygments_lexer": "ipython3",
   "version": "3.7.0"
  },
  "nteract": {
   "version": "0.14.3"
  }
 },
 "nbformat": 4,
 "nbformat_minor": 4
}
